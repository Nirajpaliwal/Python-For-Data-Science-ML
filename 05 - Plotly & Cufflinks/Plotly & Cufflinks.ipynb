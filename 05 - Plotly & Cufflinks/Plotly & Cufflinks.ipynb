{
 "cells": [
  {
   "cell_type": "markdown",
   "metadata": {},
   "source": [
    "# Plotyly & Cufflinks"
   ]
  },
  {
   "cell_type": "code",
   "execution_count": 17,
   "metadata": {},
   "outputs": [],
   "source": [
    "import numpy as np\n",
    "import pandas as pd\n",
    "%matplotlib inline"
   ]
  },
  {
   "cell_type": "code",
   "execution_count": 4,
   "metadata": {},
   "outputs": [],
   "source": [
    "from plotly import __version__"
   ]
  },
  {
   "cell_type": "code",
   "execution_count": 5,
   "metadata": {},
   "outputs": [
    {
     "name": "stdout",
     "output_type": "stream",
     "text": [
      "4.5.2\n"
     ]
    }
   ],
   "source": [
    "print(__version__)"
   ]
  },
  {
   "cell_type": "code",
   "execution_count": 6,
   "metadata": {},
   "outputs": [],
   "source": [
    "import cufflinks as cf"
   ]
  },
  {
   "cell_type": "code",
   "execution_count": 7,
   "metadata": {},
   "outputs": [],
   "source": [
    "from plotly.offline import download_plotlyjs, init_notebook_mode, plot, iplot"
   ]
  },
  {
   "cell_type": "code",
   "execution_count": 8,
   "metadata": {},
   "outputs": [
    {
     "data": {
      "text/html": [
       "        <script type=\"text/javascript\">\n",
       "        window.PlotlyConfig = {MathJaxConfig: 'local'};\n",
       "        if (window.MathJax) {MathJax.Hub.Config({SVG: {font: \"STIX-Web\"}});}\n",
       "        if (typeof require !== 'undefined') {\n",
       "        require.undef(\"plotly\");\n",
       "        requirejs.config({\n",
       "            paths: {\n",
       "                'plotly': ['https://cdn.plot.ly/plotly-latest.min']\n",
       "            }\n",
       "        });\n",
       "        require(['plotly'], function(Plotly) {\n",
       "            window._Plotly = Plotly;\n",
       "        });\n",
       "        }\n",
       "        </script>\n",
       "        "
      ]
     },
     "metadata": {},
     "output_type": "display_data"
    }
   ],
   "source": [
    "init_notebook_mode(connected=True)"
   ]
  },
  {
   "cell_type": "code",
   "execution_count": 10,
   "metadata": {},
   "outputs": [
    {
     "data": {
      "text/html": [
       "        <script type=\"text/javascript\">\n",
       "        window.PlotlyConfig = {MathJaxConfig: 'local'};\n",
       "        if (window.MathJax) {MathJax.Hub.Config({SVG: {font: \"STIX-Web\"}});}\n",
       "        if (typeof require !== 'undefined') {\n",
       "        require.undef(\"plotly\");\n",
       "        requirejs.config({\n",
       "            paths: {\n",
       "                'plotly': ['https://cdn.plot.ly/plotly-latest.min']\n",
       "            }\n",
       "        });\n",
       "        require(['plotly'], function(Plotly) {\n",
       "            window._Plotly = Plotly;\n",
       "        });\n",
       "        }\n",
       "        </script>\n",
       "        "
      ]
     },
     "metadata": {},
     "output_type": "display_data"
    }
   ],
   "source": [
    "cf.go_offline()"
   ]
  },
  {
   "cell_type": "code",
   "execution_count": 11,
   "metadata": {},
   "outputs": [],
   "source": [
    "df = pd.DataFrame(np.random.randn(100,4), columns='A B C D'.split())"
   ]
  },
  {
   "cell_type": "code",
   "execution_count": 12,
   "metadata": {},
   "outputs": [
    {
     "data": {
      "text/html": [
       "<div>\n",
       "<style scoped>\n",
       "    .dataframe tbody tr th:only-of-type {\n",
       "        vertical-align: middle;\n",
       "    }\n",
       "\n",
       "    .dataframe tbody tr th {\n",
       "        vertical-align: top;\n",
       "    }\n",
       "\n",
       "    .dataframe thead th {\n",
       "        text-align: right;\n",
       "    }\n",
       "</style>\n",
       "<table border=\"1\" class=\"dataframe\">\n",
       "  <thead>\n",
       "    <tr style=\"text-align: right;\">\n",
       "      <th></th>\n",
       "      <th>A</th>\n",
       "      <th>B</th>\n",
       "      <th>C</th>\n",
       "      <th>D</th>\n",
       "    </tr>\n",
       "  </thead>\n",
       "  <tbody>\n",
       "    <tr>\n",
       "      <th>0</th>\n",
       "      <td>-2.255593</td>\n",
       "      <td>1.314189</td>\n",
       "      <td>-0.385211</td>\n",
       "      <td>0.977234</td>\n",
       "    </tr>\n",
       "    <tr>\n",
       "      <th>1</th>\n",
       "      <td>-0.033823</td>\n",
       "      <td>-1.111566</td>\n",
       "      <td>-0.783054</td>\n",
       "      <td>-0.076475</td>\n",
       "    </tr>\n",
       "    <tr>\n",
       "      <th>2</th>\n",
       "      <td>-0.320048</td>\n",
       "      <td>-0.257290</td>\n",
       "      <td>0.637550</td>\n",
       "      <td>0.741364</td>\n",
       "    </tr>\n",
       "    <tr>\n",
       "      <th>3</th>\n",
       "      <td>0.050458</td>\n",
       "      <td>-1.403635</td>\n",
       "      <td>-1.293525</td>\n",
       "      <td>-0.159123</td>\n",
       "    </tr>\n",
       "    <tr>\n",
       "      <th>4</th>\n",
       "      <td>0.223397</td>\n",
       "      <td>-0.956243</td>\n",
       "      <td>-0.850449</td>\n",
       "      <td>-0.151776</td>\n",
       "    </tr>\n",
       "  </tbody>\n",
       "</table>\n",
       "</div>"
      ],
      "text/plain": [
       "          A         B         C         D\n",
       "0 -2.255593  1.314189 -0.385211  0.977234\n",
       "1 -0.033823 -1.111566 -0.783054 -0.076475\n",
       "2 -0.320048 -0.257290  0.637550  0.741364\n",
       "3  0.050458 -1.403635 -1.293525 -0.159123\n",
       "4  0.223397 -0.956243 -0.850449 -0.151776"
      ]
     },
     "execution_count": 12,
     "metadata": {},
     "output_type": "execute_result"
    }
   ],
   "source": [
    "df.head()"
   ]
  },
  {
   "cell_type": "code",
   "execution_count": 13,
   "metadata": {},
   "outputs": [],
   "source": [
    "df2 = pd.DataFrame({'Category':['A','B','C'], 'Values' : [32,43,50]})"
   ]
  },
  {
   "cell_type": "code",
   "execution_count": 14,
   "metadata": {},
   "outputs": [
    {
     "data": {
      "text/html": [
       "<div>\n",
       "<style scoped>\n",
       "    .dataframe tbody tr th:only-of-type {\n",
       "        vertical-align: middle;\n",
       "    }\n",
       "\n",
       "    .dataframe tbody tr th {\n",
       "        vertical-align: top;\n",
       "    }\n",
       "\n",
       "    .dataframe thead th {\n",
       "        text-align: right;\n",
       "    }\n",
       "</style>\n",
       "<table border=\"1\" class=\"dataframe\">\n",
       "  <thead>\n",
       "    <tr style=\"text-align: right;\">\n",
       "      <th></th>\n",
       "      <th>Category</th>\n",
       "      <th>Values</th>\n",
       "    </tr>\n",
       "  </thead>\n",
       "  <tbody>\n",
       "    <tr>\n",
       "      <th>0</th>\n",
       "      <td>A</td>\n",
       "      <td>32</td>\n",
       "    </tr>\n",
       "    <tr>\n",
       "      <th>1</th>\n",
       "      <td>B</td>\n",
       "      <td>43</td>\n",
       "    </tr>\n",
       "    <tr>\n",
       "      <th>2</th>\n",
       "      <td>C</td>\n",
       "      <td>50</td>\n",
       "    </tr>\n",
       "  </tbody>\n",
       "</table>\n",
       "</div>"
      ],
      "text/plain": [
       "  Category  Values\n",
       "0        A      32\n",
       "1        B      43\n",
       "2        C      50"
      ]
     },
     "execution_count": 14,
     "metadata": {},
     "output_type": "execute_result"
    }
   ],
   "source": [
    "df2"
   ]
  },
  {
   "cell_type": "code",
   "execution_count": 16,
   "metadata": {},
   "outputs": [
    {
     "data": {
      "text/html": [
       "<div>\n",
       "<style scoped>\n",
       "    .dataframe tbody tr th:only-of-type {\n",
       "        vertical-align: middle;\n",
       "    }\n",
       "\n",
       "    .dataframe tbody tr th {\n",
       "        vertical-align: top;\n",
       "    }\n",
       "\n",
       "    .dataframe thead th {\n",
       "        text-align: right;\n",
       "    }\n",
       "</style>\n",
       "<table border=\"1\" class=\"dataframe\">\n",
       "  <thead>\n",
       "    <tr style=\"text-align: right;\">\n",
       "      <th></th>\n",
       "      <th>A</th>\n",
       "      <th>B</th>\n",
       "      <th>C</th>\n",
       "      <th>D</th>\n",
       "    </tr>\n",
       "  </thead>\n",
       "  <tbody>\n",
       "    <tr>\n",
       "      <th>0</th>\n",
       "      <td>-2.255593</td>\n",
       "      <td>1.314189</td>\n",
       "      <td>-0.385211</td>\n",
       "      <td>0.977234</td>\n",
       "    </tr>\n",
       "    <tr>\n",
       "      <th>1</th>\n",
       "      <td>-0.033823</td>\n",
       "      <td>-1.111566</td>\n",
       "      <td>-0.783054</td>\n",
       "      <td>-0.076475</td>\n",
       "    </tr>\n",
       "    <tr>\n",
       "      <th>2</th>\n",
       "      <td>-0.320048</td>\n",
       "      <td>-0.257290</td>\n",
       "      <td>0.637550</td>\n",
       "      <td>0.741364</td>\n",
       "    </tr>\n",
       "    <tr>\n",
       "      <th>3</th>\n",
       "      <td>0.050458</td>\n",
       "      <td>-1.403635</td>\n",
       "      <td>-1.293525</td>\n",
       "      <td>-0.159123</td>\n",
       "    </tr>\n",
       "    <tr>\n",
       "      <th>4</th>\n",
       "      <td>0.223397</td>\n",
       "      <td>-0.956243</td>\n",
       "      <td>-0.850449</td>\n",
       "      <td>-0.151776</td>\n",
       "    </tr>\n",
       "  </tbody>\n",
       "</table>\n",
       "</div>"
      ],
      "text/plain": [
       "          A         B         C         D\n",
       "0 -2.255593  1.314189 -0.385211  0.977234\n",
       "1 -0.033823 -1.111566 -0.783054 -0.076475\n",
       "2 -0.320048 -0.257290  0.637550  0.741364\n",
       "3  0.050458 -1.403635 -1.293525 -0.159123\n",
       "4  0.223397 -0.956243 -0.850449 -0.151776"
      ]
     },
     "execution_count": 16,
     "metadata": {},
     "output_type": "execute_result"
    }
   ],
   "source": [
    "df.head()"
   ]
  },
  {
   "cell_type": "code",
   "execution_count": 20,
   "metadata": {},
   "outputs": [
    {
     "data": {
      "text/plain": [
       "<matplotlib.axes._subplots.AxesSubplot at 0x1c23137048>"
      ]
     },
     "execution_count": 20,
     "metadata": {},
     "output_type": "execute_result"
    },
    {
     "data": {
      "image/png": "[encoded data removed]",
      "text/plain": [
       "<Figure size 432x288 with 1 Axes>"
      ]
     },
     "metadata": {
      "needs_background": "light"
     },
     "output_type": "display_data"
    }
   ],
   "source": [
    "df.plot()"
   ]
  },
  {
   "cell_type": "code",
   "execution_count": 21,
   "metadata": {},
   "outputs": [
    {
     "data": {
      "application/vnd.plotly.v1+json": {
       "config": {
        "linkText": "Export to plot.ly",
        "plotlyServerURL": "https://plot.ly",
        "showLink": true
       },
       "data": [
        {
         "line": {
          "color": "rgba(255, 153, 51, 1.0)",
          "dash": "solid",
          "shape": "linear",
          "width": 1.3
         },
         "mode": "lines",
         "name": "A",
         "text": "",
         "type": "scatter",
         "x": [
          0,
          1,
          2,
          3,
          4,
          5,
          6,
          7,
          8,
          9,
          10,
          11,
          12,
          13,
          14,
          15,
          16,
          17,
          18,
          19,
          20,
          21,
          22,
          23,
          24,
          25,
          26,
          27,
          28,
          29,
          30,
          31,
          32,
          33,
          34,
          35,
          36,
          37,
          38,
          39,
          40,
          41,
          42,
          43,
          44,
          45,
          46,
          47,
          48,
          49,
          50,
          51,
          52,
          53,
          54,
          55,
          56,
          57,
          58,
          59,
          60,
          61,
          62,
          63,
          64,
          65,
          66,
          67,
          68,
          69,
          70,
          71,
          72,
          73,
          74,
          75,
          76,
          77,
          78,
          79,
          80,
          81,
          82,
          83,
          84,
          85,
          86,
          87,
          88,
          89,
          90,
          91,
          92,
          93,
          94,
          95,
          96,
          97,
          98,
          99
         ],
         "y": [
          -2.2555933768724947,
          -0.03382340070021499,
          -0.3200478984174772,
          0.05045835842384177,
          0.2233965386018236,
          0.2536608574004414,
          -0.6692398991913475,
          -0.4786089224325477,
          0.6512291566816155,
          -0.9992360969851862,
          -0.22169793134556703,
          -1.1712641861345396,
          0.3252298075551189,
          0.8914928115672888,
          -0.0369001928301434,
          -0.12612875726858397,
          -0.6321662033550624,
          -0.7177849850115586,
          -0.7380476067025662,
          -0.6496181734346335,
          -0.7764825074228829,
          0.9825053624790435,
          0.2583656046298789,
          -0.037818224865744765,
          0.1633648933126579,
          0.09045583256205675,
          0.6019746573813641,
          0.8630717855557517,
          -0.6891220161380268,
          0.008139132913083826,
          1.4462942945255972,
          1.0974328278372718,
          1.7026391999584558,
          0.13232510434415812,
          -1.4930236346176566,
          0.5717283572309633,
          1.6027573821880863,
          -0.26316261913033745,
          0.1428706155553884,
          -1.9689781776908595,
          0.7573252641608401,
          1.2815546026772953,
          0.4347619600899514,
          -0.5353942165407267,
          0.9427327554963698,
          1.1790481704431377,
          -0.4103179505335398,
          1.467563169562042,
          1.38742208689959,
          -0.1878420460340362,
          0.9561618545448747,
          -0.6783596081109666,
          -0.7343973073358498,
          0.3220750471063588,
          0.27574581367708095,
          1.4552279064325093,
          -0.291105920009326,
          0.645407625337804,
          -1.0554341317842224,
          0.33279221486126165,
          0.7025265688025414,
          -0.6610919221931417,
          -0.1667434397585901,
          0.6232829145291728,
          -0.2529836861465784,
          -1.3053816199792052,
          -0.9162982736073634,
          -1.3142225958928595,
          -1.6120659876274441,
          -0.053151427170382286,
          1.872649441601502,
          -1.2683624163519756,
          0.30392219244159846,
          0.8663928886363615,
          -0.847758950848025,
          1.2074149868658006,
          -0.8219780807135773,
          -0.3972774418375647,
          -0.3138094858687506,
          -0.7321270120897498,
          0.19089113734580437,
          -1.467169892336397,
          -0.2704977443472076,
          1.391089216049597,
          -1.4580084882448272,
          -1.6768288954001633,
          -1.2244219128686558,
          -0.5830634268948321,
          2.596545053416106,
          0.5547182458617995,
          -0.009938487125128776,
          0.16661419271903802,
          -2.0051511664441923,
          -0.44142932606142177,
          1.4768445874934977,
          -2.2891089768253154,
          0.9969522087565932,
          -0.48862992958038,
          -0.8483077863746056,
          -0.3957040767842185
         ]
        },
        {
         "line": {
          "color": "rgba(55, 128, 191, 1.0)",
          "dash": "solid",
          "shape": "linear",
          "width": 1.3
         },
         "mode": "lines",
         "name": "B",
         "text": "",
         "type": "scatter",
         "x": [
          0,
          1,
          2,
          3,
          4,
          5,
          6,
          7,
          8,
          9,
          10,
          11,
          12,
          13,
          14,
          15,
          16,
          17,
          18,
          19,
          20,
          21,
          22,
          23,
          24,
          25,
          26,
          27,
          28,
          29,
          30,
          31,
          32,
          33,
          34,
          35,
          36,
          37,
          38,
          39,
          40,
          41,
          42,
          43,
          44,
          45,
          46,
          47,
          48,
          49,
          50,
          51,
          52,
          53,
          54,
          55,
          56,
          57,
          58,
          59,
          60,
          61,
          62,
          63,
          64,
          65,
          66,
          67,
          68,
          69,
          70,
          71,
          72,
          73,
          74,
          75,
          76,
          77,
          78,
          79,
          80,
          81,
          82,
          83,
          84,
          85,
          86,
          87,
          88,
          89,
          90,
          91,
          92,
          93,
          94,
          95,
          96,
          97,
          98,
          99
         ],
         "y": [
          1.3141888702618962,
          -1.1115662109910567,
          -0.257289607344004,
          -1.4036350331162621,
          -0.9562431416001994,
          0.5284258714874434,
          1.3839270580400518,
          -0.47647239611666187,
          -0.48621055726856166,
          0.21230749228133775,
          -0.4377454130191507,
          1.139461784412099,
          -0.479066908076587,
          -0.5112289603822745,
          1.0655062855344546,
          0.2532285620560627,
          -0.5080625366400148,
          -0.14940661484256632,
          -1.0552401005092436,
          1.3130463314943268,
          -0.09855391494815084,
          1.682056997549952,
          0.025030245632123346,
          -1.0314746214259058,
          -0.24440905168767216,
          -0.9640162206376627,
          1.1659827817820045,
          -0.5949615891396036,
          0.895109825347487,
          -1.1787502459426134,
          0.3606252712904561,
          -2.8874455317853673,
          0.05554922902958001,
          -0.6327253205975053,
          -0.14423079659187038,
          -0.4659585833517143,
          -0.42134027774967997,
          -0.9945211011510153,
          0.5262417418954314,
          0.6521486589933997,
          -0.3002767827572908,
          1.0961571575291982,
          0.02388240668584011,
          -0.251739361646199,
          -0.09132557319225461,
          -0.16222783106006364,
          -0.5800636263739349,
          0.6539517205968917,
          0.2676653096775852,
          -0.12788683168886808,
          0.9301801207771702,
          -0.09177425164037127,
          -1.186280702243975,
          -1.5581869431240989,
          -0.42664764573524705,
          -0.2770735434883226,
          -0.8136201732195788,
          -1.1114664557447358,
          1.6999503007281884,
          -0.7126876105880869,
          -0.0930941715055807,
          -2.3656191409182625,
          0.735568121854511,
          0.541493368025285,
          -0.6301134451738287,
          -0.05449659496425838,
          0.7566045980698098,
          -0.05331049966966534,
          0.7515301988470119,
          1.1756364535626789,
          0.6255519982890726,
          0.4994986012724347,
          -0.33739521345218193,
          0.7932359839780525,
          -0.8486742318118738,
          -0.6162281748236087,
          0.6588315502975075,
          0.47797298287983786,
          0.8313530055118066,
          -1.6412026289064061,
          -0.5091519178754833,
          1.2236901049372901,
          1.2990342992990034,
          -0.4823964312713267,
          0.8897377549146316,
          0.8330977892920045,
          1.2780894780540542,
          0.2073916928678156,
          2.1898409925479587,
          1.2450021823566144,
          0.9417074276447647,
          -0.11353886292187075,
          1.5655409294812892,
          -0.04614353427259727,
          -0.34656495757651096,
          -0.18561680250884616,
          -2.262169847144289,
          0.948170877714612,
          -1.1482499665528605,
          -0.8927910449284819
         ]
        },
        {
         "line": {
          "color": "rgba(50, 171, 96, 1.0)",
          "dash": "solid",
          "shape": "linear",
          "width": 1.3
         },
         "mode": "lines",
         "name": "C",
         "text": "",
         "type": "scatter",
         "x": [
          0,
          1,
          2,
          3,
          4,
          5,
          6,
          7,
          8,
          9,
          10,
          11,
          12,
          13,
          14,
          15,
          16,
          17,
          18,
          19,
          20,
          21,
          22,
          23,
          24,
          25,
          26,
          27,
          28,
          29,
          30,
          31,
          32,
          33,
          34,
          35,
          36,
          37,
          38,
          39,
          40,
          41,
          42,
          43,
          44,
          45,
          46,
          47,
          48,
          49,
          50,
          51,
          52,
          53,
          54,
          55,
          56,
          57,
          58,
          59,
          60,
          61,
          62,
          63,
          64,
          65,
          66,
          67,
          68,
          69,
          70,
          71,
          72,
          73,
          74,
          75,
          76,
          77,
          78,
          79,
          80,
          81,
          82,
          83,
          84,
          85,
          86,
          87,
          88,
          89,
          90,
          91,
          92,
          93,
          94,
          95,
          96,
          97,
          98,
          99
         ],
         "y": [
          -0.3852111653161519,
          -0.7830544747937033,
          0.6375500080290681,
          -1.2935251103472951,
          -0.8504493153928624,
          0.09800862044555947,
          -1.3269601219003204,
          0.327204119642585,
          -0.690840086360732,
          0.0599524931219146,
          -0.2664804729565175,
          0.5677036432202524,
          0.44254035862817687,
          -0.534473786392977,
          -1.948328679109903,
          0.3667213673256576,
          -0.8857969564564154,
          0.000480655223030059,
          0.6901565806311147,
          0.4849220911931928,
          -0.3433584734411604,
          -0.044481892108771924,
          0.5219215703694158,
          0.6597640523271316,
          -0.815710202783354,
          0.15440045099651611,
          0.8626151498285916,
          1.2557704479510896,
          -0.8866797361107176,
          0.3116903849033211,
          -0.04586726700738958,
          -2.3210995766552003,
          -1.1141141767156846,
          -0.718790088777296,
          -1.215022691367036,
          0.15990037633325638,
          0.207339989867234,
          -0.1339251170432215,
          -0.31336335779366836,
          0.4727293268665891,
          -1.364271403162109,
          0.38485826485645513,
          -0.564525378196018,
          0.08053092875359465,
          0.8170016869020079,
          -0.16585723881699452,
          -0.7806192924820001,
          0.2757423040683799,
          -0.8052577423922532,
          0.4394975078426791,
          0.05475969001130771,
          0.13002452405704323,
          0.5504028250944053,
          -0.07172476042858046,
          -0.3103852929550721,
          0.6345882181965192,
          0.45129839073710004,
          0.24133569488877202,
          0.4660206009407888,
          0.32051436624277957,
          -1.4713410106320284,
          -0.6439436638461494,
          0.0282498419594593,
          -1.9532860898921842,
          -0.2281728072186295,
          -1.6461248416327923,
          -0.8361741257415685,
          1.103069631310339,
          1.9773169265966584,
          0.48488610606642524,
          -0.3119955389235842,
          -0.02493730005691768,
          -0.9557993486325946,
          -0.8739418396473461,
          -0.594468085245611,
          -0.12311748015716892,
          0.16163289632042396,
          0.2591893055592278,
          -0.5245824774930369,
          0.9712195427151722,
          -1.0285584635996985,
          1.3835410963227326,
          -1.1643694982378814,
          1.267446133373859,
          0.4221341686342332,
          1.1078361853210785,
          0.7270842106888753,
          0.21856045988541378,
          0.797581282367628,
          -0.6429999476331801,
          -0.8820815237633904,
          0.2584226877120125,
          -0.8029529727740128,
          1.4766089511557463,
          -0.48802675784715516,
          1.001168054874638,
          -1.0613223170663308,
          0.7350981512413484,
          1.2784722523026892,
          0.1117515228145326
         ]
        },
        {
         "line": {
          "color": "rgba(128, 0, 128, 1.0)",
          "dash": "solid",
          "shape": "linear",
          "width": 1.3
         },
         "mode": "lines",
         "name": "D",
         "text": "",
         "type": "scatter",
         "x": [
          0,
          1,
          2,
          3,
          4,
          5,
          6,
          7,
          8,
          9,
          10,
          11,
          12,
          13,
          14,
          15,
          16,
          17,
          18,
          19,
          20,
          21,
          22,
          23,
          24,
          25,
          26,
          27,
          28,
          29,
          30,
          31,
          32,
          33,
          34,
          35,
          36,
          37,
          38,
          39,
          40,
          41,
          42,
          43,
          44,
          45,
          46,
          47,
          48,
          49,
          50,
          51,
          52,
          53,
          54,
          55,
          56,
          57,
          58,
          59,
          60,
          61,
          62,
          63,
          64,
          65,
          66,
          67,
          68,
          69,
          70,
          71,
          72,
          73,
          74,
          75,
          76,
          77,
          78,
          79,
          80,
          81,
          82,
          83,
          84,
          85,
          86,
          87,
          88,
          89,
          90,
          91,
          92,
          93,
          94,
          95,
          96,
          97,
          98,
          99
         ],
         "y": [
          0.9772336509828237,
          -0.07647478318063784,
          0.7413636391750652,
          -0.15912297894377248,
          -0.15177625272150932,
          0.1199900295795598,
          0.2716635668621539,
          0.3709292464448456,
          0.5828024998577414,
          1.1233734325816407,
          0.5350414757703158,
          -0.27835449335894125,
          -0.5384981463868941,
          1.7604427122046729,
          -0.1798211998472201,
          -0.07259583442974381,
          0.6927847927489181,
          1.713753068511354,
          0.5580318332801198,
          1.8777101613687104,
          2.096919796229778,
          2.006680204819293,
          1.0358068816393418,
          -1.0471118960905113,
          0.11421243302452166,
          0.905838606468195,
          -1.3557540465958646,
          0.052203996643662834,
          1.065635124475401,
          -0.5948064543443344,
          0.5824474335176656,
          0.03769772664088032,
          -0.9295819904348213,
          0.08773160196539075,
          -1.4326929160965838,
          0.708051413119108,
          -0.07046148088440911,
          -0.14346819164193475,
          0.3763987464634078,
          1.489497426963874,
          -1.1875085365888707,
          -0.6972667620976027,
          -0.37526823498872225,
          -0.07039635195846435,
          -1.1069599873901415,
          0.351561602957237,
          1.7233931104452467,
          0.5680461134761515,
          -0.7651406350372749,
          -0.8855202646912165,
          0.24331003393244538,
          -1.9622170655863536,
          0.25109763454148615,
          -1.7649926672975669,
          -0.4234854127409118,
          -0.7143020036904693,
          0.20749639433841285,
          0.010268364756173215,
          0.0952854975447978,
          -0.5550510334752385,
          -0.4934942677949766,
          1.6175409619083556,
          0.3332748338333687,
          -0.5344727243038119,
          1.0015841881282095,
          0.10562661347557104,
          -0.1852368746866717,
          -0.07930200523712144,
          -0.9472604504862842,
          -0.6793917614321774,
          0.3478046849795794,
          -0.06819282824824709,
          -0.24348051996278372,
          0.4653730332137223,
          0.8868921917777485,
          -0.8744287471716156,
          0.8505394053147777,
          -0.7165134712897009,
          0.31470910612493974,
          2.2048428931352952,
          -0.37326042759452166,
          -0.6869832077121661,
          0.4538698980652648,
          0.3835572135228256,
          0.5864267829588884,
          0.1366552671255307,
          -0.29731483868073927,
          0.2921796384197413,
          1.204393005274402,
          0.03240134226909766,
          0.4841180429521735,
          -0.6875951590864127,
          1.320895128089415,
          -1.5772719223289127,
          1.083135276429853,
          1.5582687187488196,
          0.0402198571728886,
          0.782586581086116,
          -0.826500765488446,
          0.6466110743888642
         ]
        }
       ],
       "layout": {
        "legend": {
         "bgcolor": "#F5F6F9",
         "font": {
          "color": "#4D5663"
         }
        },
        "paper_bgcolor": "#F5F6F9",
        "plot_bgcolor": "#F5F6F9",
        "template": {
         "data": {
          "bar": [
           {
            "error_x": {
             "color": "#2a3f5f"
            },
            "error_y": {
             "color": "#2a3f5f"
            },
            "marker": {
             "line": {
              "color": "#E5ECF6",
              "width": 0.5
             }
            },
            "type": "bar"
           }
          ],
          "barpolar": [
           {
            "marker": {
             "line": {
              "color": "#E5ECF6",
              "width": 0.5
             }
            },
            "type": "barpolar"
           }
          ],
          "carpet": [
           {
            "aaxis": {
             "endlinecolor": "#2a3f5f",
             "gridcolor": "white",
             "linecolor": "white",
             "minorgridcolor": "white",
             "startlinecolor": "#2a3f5f"
            },
            "baxis": {
             "endlinecolor": "#2a3f5f",
             "gridcolor": "white",
             "linecolor": "white",
             "minorgridcolor": "white",
             "startlinecolor": "#2a3f5f"
            },
            "type": "carpet"
           }
          ],
          "choropleth": [
           {
            "colorbar": {
             "outlinewidth": 0,
             "ticks": ""
            },
            "type": "choropleth"
           }
          ],
          "contour": [
           {
            "colorbar": {
             "outlinewidth": 0,
             "ticks": ""
            },
            "colorscale": [
             [
              0,
              "#0d0887"
             ],
             [
              0.1111111111111111,
              "#46039f"
             ],
             [
              0.2222222222222222,
              "#7201a8"
             ],
             [
              0.3333333333333333,
              "#9c179e"
             ],
             [
              0.4444444444444444,
              "#bd3786"
             ],
             [
              0.5555555555555556,
              "#d8576b"
             ],
             [
              0.6666666666666666,
              "#ed7953"
             ],
             [
              0.7777777777777778,
              "#fb9f3a"
             ],
             [
              0.8888888888888888,
              "#fdca26"
             ],
             [
              1,
              "#f0f921"
             ]
            ],
            "type": "contour"
           }
          ],
          "contourcarpet": [
           {
            "colorbar": {
             "outlinewidth": 0,
             "ticks": ""
            },
            "type": "contourcarpet"
           }
          ],
          "heatmap": [
           {
            "colorbar": {
             "outlinewidth": 0,
             "ticks": ""
            },
            "colorscale": [
             [
              0,
              "#0d0887"
             ],
             [
              0.1111111111111111,
              "#46039f"
             ],
             [
              0.2222222222222222,
              "#7201a8"
             ],
             [
              0.3333333333333333,
              "#9c179e"
             ],
             [
              0.4444444444444444,
              "#bd3786"
             ],
             [
              0.5555555555555556,
              "#d8576b"
             ],
             [
              0.6666666666666666,
              "#ed7953"
             ],
             [
              0.7777777777777778,
              "#fb9f3a"
             ],
             [
              0.8888888888888888,
              "#fdca26"
             ],
             [
              1,
              "#f0f921"
             ]
            ],
            "type": "heatmap"
           }
          ],
          "heatmapgl": [
           {
            "colorbar": {
             "outlinewidth": 0,
             "ticks": ""
            },
            "colorscale": [
             [
              0,
              "#0d0887"
             ],
             [
              0.1111111111111111,
              "#46039f"
             ],
             [
              0.2222222222222222,
              "#7201a8"
             ],
             [
              0.3333333333333333,
              "#9c179e"
             ],
             [
              0.4444444444444444,
              "#bd3786"
             ],
             [
              0.5555555555555556,
              "#d8576b"
             ],
             [
              0.6666666666666666,
              "#ed7953"
             ],
             [
              0.7777777777777778,
              "#fb9f3a"
             ],
             [
              0.8888888888888888,
              "#fdca26"
             ],
             [
              1,
              "#f0f921"
             ]
            ],
            "type": "heatmapgl"
           }
          ],
          "histogram": [
           {
            "marker": {
             "colorbar": {
              "outlinewidth": 0,
              "ticks": ""
             }
            },
            "type": "histogram"
           }
          ],
          "histogram2d": [
           {
            "colorbar": {
             "outlinewidth": 0,
             "ticks": ""
            },
            "colorscale": [
             [
              0,
              "#0d0887"
             ],
             [
              0.1111111111111111,
              "#46039f"
             ],
             [
              0.2222222222222222,
              "#7201a8"
             ],
             [
              0.3333333333333333,
              "#9c179e"
             ],
             [
              0.4444444444444444,
              "#bd3786"
             ],
             [
              0.5555555555555556,
              "#d8576b"
             ],
             [
              0.6666666666666666,
              "#ed7953"
             ],
             [
              0.7777777777777778,
              "#fb9f3a"
             ],
             [
              0.8888888888888888,
              "#fdca26"
             ],
             [
              1,
              "#f0f921"
             ]
            ],
            "type": "histogram2d"
           }
          ],
          "histogram2dcontour": [
           {
            "colorbar": {
             "outlinewidth": 0,
             "ticks": ""
            },
            "colorscale": [
             [
              0,
              "#0d0887"
             ],
             [
              0.1111111111111111,
              "#46039f"
             ],
             [
              0.2222222222222222,
              "#7201a8"
             ],
             [
              0.3333333333333333,
              "#9c179e"
             ],
             [
              0.4444444444444444,
              "#bd3786"
             ],
             [
              0.5555555555555556,
              "#d8576b"
             ],
             [
              0.6666666666666666,
              "#ed7953"
             ],
             [
              0.7777777777777778,
              "#fb9f3a"
             ],
             [
              0.8888888888888888,
              "#fdca26"
             ],
             [
              1,
              "#f0f921"
             ]
            ],
            "type": "histogram2dcontour"
           }
          ],
          "mesh3d": [
           {
            "colorbar": {
             "outlinewidth": 0,
             "ticks": ""
            },
            "type": "mesh3d"
           }
          ],
          "parcoords": [
           {
            "line": {
             "colorbar": {
              "outlinewidth": 0,
              "ticks": ""
             }
            },
            "type": "parcoords"
           }
          ],
          "pie": [
           {
            "automargin": true,
            "type": "pie"
           }
          ],
          "scatter": [
           {
            "marker": {
             "colorbar": {
              "outlinewidth": 0,
              "ticks": ""
             }
            },
            "type": "scatter"
           }
          ],
          "scatter3d": [
           {
            "line": {
             "colorbar": {
              "outlinewidth": 0,
              "ticks": ""
             }
            },
            "marker": {
             "colorbar": {
              "outlinewidth": 0,
              "ticks": ""
             }
            },
            "type": "scatter3d"
           }
          ],
          "scattercarpet": [
           {
            "marker": {
             "colorbar": {
              "outlinewidth": 0,
              "ticks": ""
             }
            },
            "type": "scattercarpet"
           }
          ],
          "scattergeo": [
           {
            "marker": {
             "colorbar": {
              "outlinewidth": 0,
              "ticks": ""
             }
            },
            "type": "scattergeo"
           }
          ],
          "scattergl": [
           {
            "marker": {
             "colorbar": {
              "outlinewidth": 0,
              "ticks": ""
             }
            },
            "type": "scattergl"
           }
          ],
          "scattermapbox": [
           {
            "marker": {
             "colorbar": {
              "outlinewidth": 0,
              "ticks": ""
             }
            },
            "type": "scattermapbox"
           }
          ],
          "scatterpolar": [
           {
            "marker": {
             "colorbar": {
              "outlinewidth": 0,
              "ticks": ""
             }
            },
            "type": "scatterpolar"
           }
          ],
          "scatterpolargl": [
           {
            "marker": {
             "colorbar": {
              "outlinewidth": 0,
              "ticks": ""
             }
            },
            "type": "scatterpolargl"
           }
          ],
          "scatterternary": [
           {
            "marker": {
             "colorbar": {
              "outlinewidth": 0,
              "ticks": ""
             }
            },
            "type": "scatterternary"
           }
          ],
          "surface": [
           {
            "colorbar": {
             "outlinewidth": 0,
             "ticks": ""
            },
            "colorscale": [
             [
              0,
              "#0d0887"
             ],
             [
              0.1111111111111111,
              "#46039f"
             ],
             [
              0.2222222222222222,
              "#7201a8"
             ],
             [
              0.3333333333333333,
              "#9c179e"
             ],
             [
              0.4444444444444444,
              "#bd3786"
             ],
             [
              0.5555555555555556,
              "#d8576b"
             ],
             [
              0.6666666666666666,
              "#ed7953"
             ],
             [
              0.7777777777777778,
              "#fb9f3a"
             ],
             [
              0.8888888888888888,
              "#fdca26"
             ],
             [
              1,
              "#f0f921"
             ]
            ],
            "type": "surface"
           }
          ],
          "table": [
           {
            "cells": {
             "fill": {
              "color": "#EBF0F8"
             },
             "line": {
              "color": "white"
             }
            },
            "header": {
             "fill": {
              "color": "#C8D4E3"
             },
             "line": {
              "color": "white"
             }
            },
            "type": "table"
           }
          ]
         },
         "layout": {
          "annotationdefaults": {
           "arrowcolor": "#2a3f5f",
           "arrowhead": 0,
           "arrowwidth": 1
          },
          "coloraxis": {
           "colorbar": {
            "outlinewidth": 0,
            "ticks": ""
           }
          },
          "colorscale": {
           "diverging": [
            [
             0,
             "#8e0152"
            ],
            [
             0.1,
             "#c51b7d"
            ],
            [
             0.2,
             "#de77ae"
            ],
            [
             0.3,
             "#f1b6da"
            ],
            [
             0.4,
             "#fde0ef"
            ],
            [
             0.5,
             "#f7f7f7"
            ],
            [
             0.6,
             "#e6f5d0"
            ],
            [
             0.7,
             "#b8e186"
            ],
            [
             0.8,
             "#7fbc41"
            ],
            [
             0.9,
             "#4d9221"
            ],
            [
             1,
             "#276419"
            ]
           ],
           "sequential": [
            [
             0,
             "#0d0887"
            ],
            [
             0.1111111111111111,
             "#46039f"
            ],
            [
             0.2222222222222222,
             "#7201a8"
            ],
            [
             0.3333333333333333,
             "#9c179e"
            ],
            [
             0.4444444444444444,
             "#bd3786"
            ],
            [
             0.5555555555555556,
             "#d8576b"
            ],
            [
             0.6666666666666666,
             "#ed7953"
            ],
            [
             0.7777777777777778,
             "#fb9f3a"
            ],
            [
             0.8888888888888888,
             "#fdca26"
            ],
            [
             1,
             "#f0f921"
            ]
           ],
           "sequentialminus": [
            [
             0,
             "#0d0887"
            ],
            [
             0.1111111111111111,
             "#46039f"
            ],
            [
             0.2222222222222222,
             "#7201a8"
            ],
            [
             0.3333333333333333,
             "#9c179e"
            ],
            [
             0.4444444444444444,
             "#bd3786"
            ],
            [
             0.5555555555555556,
             "#d8576b"
            ],
            [
             0.6666666666666666,
             "#ed7953"
            ],
            [
             0.7777777777777778,
             "#fb9f3a"
            ],
            [
             0.8888888888888888,
             "#fdca26"
            ],
            [
             1,
             "#f0f921"
            ]
           ]
          },
          "colorway": [
           "#636efa",
           "#EF553B",
           "#00cc96",
           "#ab63fa",
           "#FFA15A",
           "#19d3f3",
           "#FF6692",
           "#B6E880",
           "#FF97FF",
           "#FECB52"
          ],
          "font": {
           "color": "#2a3f5f"
          },
          "geo": {
           "bgcolor": "white",
           "lakecolor": "white",
           "landcolor": "#E5ECF6",
           "showlakes": true,
           "showland": true,
           "subunitcolor": "white"
          },
          "hoverlabel": {
           "align": "left"
          },
          "hovermode": "closest",
          "mapbox": {
           "style": "light"
          },
          "paper_bgcolor": "white",
          "plot_bgcolor": "#E5ECF6",
          "polar": {
           "angularaxis": {
            "gridcolor": "white",
            "linecolor": "white",
            "ticks": ""
           },
           "bgcolor": "#E5ECF6",
           "radialaxis": {
            "gridcolor": "white",
            "linecolor": "white",
            "ticks": ""
           }
          },
          "scene": {
           "xaxis": {
            "backgroundcolor": "#E5ECF6",
            "gridcolor": "white",
            "gridwidth": 2,
            "linecolor": "white",
            "showbackground": true,
            "ticks": "",
            "zerolinecolor": "white"
           },
           "yaxis": {
            "backgroundcolor": "#E5ECF6",
            "gridcolor": "white",
            "gridwidth": 2,
            "linecolor": "white",
            "showbackground": true,
            "ticks": "",
            "zerolinecolor": "white"
           },
           "zaxis": {
            "backgroundcolor": "#E5ECF6",
            "gridcolor": "white",
            "gridwidth": 2,
            "linecolor": "white",
            "showbackground": true,
            "ticks": "",
            "zerolinecolor": "white"
           }
          },
          "shapedefaults": {
           "line": {
            "color": "#2a3f5f"
           }
          },
          "ternary": {
           "aaxis": {
            "gridcolor": "white",
            "linecolor": "white",
            "ticks": ""
           },
           "baxis": {
            "gridcolor": "white",
            "linecolor": "white",
            "ticks": ""
           },
           "bgcolor": "#E5ECF6",
           "caxis": {
            "gridcolor": "white",
            "linecolor": "white",
            "ticks": ""
           }
          },
          "title": {
           "x": 0.05
          },
          "xaxis": {
           "automargin": true,
           "gridcolor": "white",
           "linecolor": "white",
           "ticks": "",
           "title": {
            "standoff": 15
           },
           "zerolinecolor": "white",
           "zerolinewidth": 2
          },
          "yaxis": {
           "automargin": true,
           "gridcolor": "white",
           "linecolor": "white",
           "ticks": "",
           "title": {
            "standoff": 15
           },
           "zerolinecolor": "white",
           "zerolinewidth": 2
          }
         }
        },
        "title": {
         "font": {
          "color": "#4D5663"
         }
        },
        "xaxis": {
         "gridcolor": "#E1E5ED",
         "showgrid": true,
         "tickfont": {
          "color": "#4D5663"
         },
         "title": {
          "font": {
           "color": "#4D5663"
          },
          "text": ""
         },
         "zerolinecolor": "#E1E5ED"
        },
        "yaxis": {
         "gridcolor": "#E1E5ED",
         "showgrid": true,
         "tickfont": {
          "color": "#4D5663"
         },
         "title": {
          "font": {
           "color": "#4D5663"
          },
          "text": ""
         },
         "zerolinecolor": "#E1E5ED"
        }
       }
      },
      "text/html": [
       "<div>\n",
       "        \n",
       "        \n",
       "            <div id=\"3bc56970-41ab-4d36-a188-158e2b6b56df\" class=\"plotly-graph-div\" style=\"height:525px; width:100%;\"></div>\n",
       "            <script type=\"text/javascript\">\n",
       "                require([\"plotly\"], function(Plotly) {\n",
       "                    window.PLOTLYENV=window.PLOTLYENV || {};\n",
       "                    window.PLOTLYENV.BASE_URL='https://plot.ly';\n",
       "                    \n",
       "                if (document.getElementById(\"3bc56970-41ab-4d36-a188-158e2b6b56df\")) {\n",
       "                    Plotly.newPlot(\n",
       "                        '3bc56970-41ab-4d36-a188-158e2b6b56df',\n",
       "                        [{\"line\": {\"color\": \"rgba(255, 153, 51, 1.0)\", \"dash\": \"solid\", \"shape\": \"linear\", \"width\": 1.3}, \"mode\": \"lines\", \"name\": \"A\", \"text\": \"\", \"type\": \"scatter\", \"x\": [0, 1, 2, 3, 4, 5, 6, 7, 8, 9, 10, 11, 12, 13, 14, 15, 16, 17, 18, 19, 20, 21, 22, 23, 24, 25, 26, 27, 28, 29, 30, 31, 32, 33, 34, 35, 36, 37, 38, 39, 40, 41, 42, 43, 44, 45, 46, 47, 48, 49, 50, 51, 52, 53, 54, 55, 56, 57, 58, 59, 60, 61, 62, 63, 64, 65, 66, 67, 68, 69, 70, 71, 72, 73, 74, 75, 76, 77, 78, 79, 80, 81, 82, 83, 84, 85, 86, 87, 88, 89, 90, 91, 92, 93, 94, 95, 96, 97, 98, 99], \"y\": [-2.2555933768724947, -0.03382340070021499, -0.3200478984174772, 0.05045835842384177, 0.2233965386018236, 0.2536608574004414, -0.6692398991913475, -0.4786089224325477, 0.6512291566816155, -0.9992360969851862, -0.22169793134556703, -1.1712641861345396, 0.3252298075551189, 0.8914928115672888, -0.0369001928301434, -0.12612875726858397, -0.6321662033550624, -0.7177849850115586, -0.7380476067025662, -0.6496181734346335, -0.7764825074228829, 0.9825053624790435, 0.2583656046298789, -0.037818224865744765, 0.1633648933126579, 0.09045583256205675, 0.6019746573813641, 0.8630717855557517, -0.6891220161380268, 0.008139132913083826, 1.4462942945255972, 1.0974328278372718, 1.7026391999584558, 0.13232510434415812, -1.4930236346176566, 0.5717283572309633, 1.6027573821880863, -0.26316261913033745, 0.1428706155553884, -1.9689781776908595, 0.7573252641608401, 1.2815546026772953, 0.4347619600899514, -0.5353942165407267, 0.9427327554963698, 1.1790481704431377, -0.4103179505335398, 1.467563169562042, 1.38742208689959, -0.1878420460340362, 0.9561618545448747, -0.6783596081109666, -0.7343973073358498, 0.3220750471063588, 0.27574581367708095, 1.4552279064325093, -0.291105920009326, 0.645407625337804, -1.0554341317842224, 0.33279221486126165, 0.7025265688025414, -0.6610919221931417, -0.1667434397585901, 0.6232829145291728, -0.2529836861465784, -1.3053816199792052, -0.9162982736073634, -1.3142225958928595, -1.6120659876274441, -0.053151427170382286, 1.872649441601502, -1.2683624163519756, 0.30392219244159846, 0.8663928886363615, -0.847758950848025, 1.2074149868658006, -0.8219780807135773, -0.3972774418375647, -0.3138094858687506, -0.7321270120897498, 0.19089113734580437, -1.467169892336397, -0.2704977443472076, 1.391089216049597, -1.4580084882448272, -1.6768288954001633, -1.2244219128686558, -0.5830634268948321, 2.596545053416106, 0.5547182458617995, -0.009938487125128776, 0.16661419271903802, -2.0051511664441923, -0.44142932606142177, 1.4768445874934977, -2.2891089768253154, 0.9969522087565932, -0.48862992958038, -0.8483077863746056, -0.3957040767842185]}, {\"line\": {\"color\": \"rgba(55, 128, 191, 1.0)\", \"dash\": \"solid\", \"shape\": \"linear\", \"width\": 1.3}, \"mode\": \"lines\", \"name\": \"B\", \"text\": \"\", \"type\": \"scatter\", \"x\": [0, 1, 2, 3, 4, 5, 6, 7, 8, 9, 10, 11, 12, 13, 14, 15, 16, 17, 18, 19, 20, 21, 22, 23, 24, 25, 26, 27, 28, 29, 30, 31, 32, 33, 34, 35, 36, 37, 38, 39, 40, 41, 42, 43, 44, 45, 46, 47, 48, 49, 50, 51, 52, 53, 54, 55, 56, 57, 58, 59, 60, 61, 62, 63, 64, 65, 66, 67, 68, 69, 70, 71, 72, 73, 74, 75, 76, 77, 78, 79, 80, 81, 82, 83, 84, 85, 86, 87, 88, 89, 90, 91, 92, 93, 94, 95, 96, 97, 98, 99], \"y\": [1.3141888702618962, -1.1115662109910567, -0.257289607344004, -1.4036350331162621, -0.9562431416001994, 0.5284258714874434, 1.3839270580400518, -0.47647239611666187, -0.48621055726856166, 0.21230749228133775, -0.4377454130191507, 1.139461784412099, -0.479066908076587, -0.5112289603822745, 1.0655062855344546, 0.2532285620560627, -0.5080625366400148, -0.14940661484256632, -1.0552401005092436, 1.3130463314943268, -0.09855391494815084, 1.682056997549952, 0.025030245632123346, -1.0314746214259058, -0.24440905168767216, -0.9640162206376627, 1.1659827817820045, -0.5949615891396036, 0.895109825347487, -1.1787502459426134, 0.3606252712904561, -2.8874455317853673, 0.05554922902958001, -0.6327253205975053, -0.14423079659187038, -0.4659585833517143, -0.42134027774967997, -0.9945211011510153, 0.5262417418954314, 0.6521486589933997, -0.3002767827572908, 1.0961571575291982, 0.02388240668584011, -0.251739361646199, -0.09132557319225461, -0.16222783106006364, -0.5800636263739349, 0.6539517205968917, 0.2676653096775852, -0.12788683168886808, 0.9301801207771702, -0.09177425164037127, -1.186280702243975, -1.5581869431240989, -0.42664764573524705, -0.2770735434883226, -0.8136201732195788, -1.1114664557447358, 1.6999503007281884, -0.7126876105880869, -0.0930941715055807, -2.3656191409182625, 0.735568121854511, 0.541493368025285, -0.6301134451738287, -0.05449659496425838, 0.7566045980698098, -0.05331049966966534, 0.7515301988470119, 1.1756364535626789, 0.6255519982890726, 0.4994986012724347, -0.33739521345218193, 0.7932359839780525, -0.8486742318118738, -0.6162281748236087, 0.6588315502975075, 0.47797298287983786, 0.8313530055118066, -1.6412026289064061, -0.5091519178754833, 1.2236901049372901, 1.2990342992990034, -0.4823964312713267, 0.8897377549146316, 0.8330977892920045, 1.2780894780540542, 0.2073916928678156, 2.1898409925479587, 1.2450021823566144, 0.9417074276447647, -0.11353886292187075, 1.5655409294812892, -0.04614353427259727, -0.34656495757651096, -0.18561680250884616, -2.262169847144289, 0.948170877714612, -1.1482499665528605, -0.8927910449284819]}, {\"line\": {\"color\": \"rgba(50, 171, 96, 1.0)\", \"dash\": \"solid\", \"shape\": \"linear\", \"width\": 1.3}, \"mode\": \"lines\", \"name\": \"C\", \"text\": \"\", \"type\": \"scatter\", \"x\": [0, 1, 2, 3, 4, 5, 6, 7, 8, 9, 10, 11, 12, 13, 14, 15, 16, 17, 18, 19, 20, 21, 22, 23, 24, 25, 26, 27, 28, 29, 30, 31, 32, 33, 34, 35, 36, 37, 38, 39, 40, 41, 42, 43, 44, 45, 46, 47, 48, 49, 50, 51, 52, 53, 54, 55, 56, 57, 58, 59, 60, 61, 62, 63, 64, 65, 66, 67, 68, 69, 70, 71, 72, 73, 74, 75, 76, 77, 78, 79, 80, 81, 82, 83, 84, 85, 86, 87, 88, 89, 90, 91, 92, 93, 94, 95, 96, 97, 98, 99], \"y\": [-0.3852111653161519, -0.7830544747937033, 0.6375500080290681, -1.2935251103472951, -0.8504493153928624, 0.09800862044555947, -1.3269601219003204, 0.327204119642585, -0.690840086360732, 0.0599524931219146, -0.2664804729565175, 0.5677036432202524, 0.44254035862817687, -0.534473786392977, -1.948328679109903, 0.3667213673256576, -0.8857969564564154, 0.000480655223030059, 0.6901565806311147, 0.4849220911931928, -0.3433584734411604, -0.044481892108771924, 0.5219215703694158, 0.6597640523271316, -0.815710202783354, 0.15440045099651611, 0.8626151498285916, 1.2557704479510896, -0.8866797361107176, 0.3116903849033211, -0.04586726700738958, -2.3210995766552003, -1.1141141767156846, -0.718790088777296, -1.215022691367036, 0.15990037633325638, 0.207339989867234, -0.1339251170432215, -0.31336335779366836, 0.4727293268665891, -1.364271403162109, 0.38485826485645513, -0.564525378196018, 0.08053092875359465, 0.8170016869020079, -0.16585723881699452, -0.7806192924820001, 0.2757423040683799, -0.8052577423922532, 0.4394975078426791, 0.05475969001130771, 0.13002452405704323, 0.5504028250944053, -0.07172476042858046, -0.3103852929550721, 0.6345882181965192, 0.45129839073710004, 0.24133569488877202, 0.4660206009407888, 0.32051436624277957, -1.4713410106320284, -0.6439436638461494, 0.0282498419594593, -1.9532860898921842, -0.2281728072186295, -1.6461248416327923, -0.8361741257415685, 1.103069631310339, 1.9773169265966584, 0.48488610606642524, -0.3119955389235842, -0.02493730005691768, -0.9557993486325946, -0.8739418396473461, -0.594468085245611, -0.12311748015716892, 0.16163289632042396, 0.2591893055592278, -0.5245824774930369, 0.9712195427151722, -1.0285584635996985, 1.3835410963227326, -1.1643694982378814, 1.267446133373859, 0.4221341686342332, 1.1078361853210785, 0.7270842106888753, 0.21856045988541378, 0.797581282367628, -0.6429999476331801, -0.8820815237633904, 0.2584226877120125, -0.8029529727740128, 1.4766089511557463, -0.48802675784715516, 1.001168054874638, -1.0613223170663308, 0.7350981512413484, 1.2784722523026892, 0.1117515228145326]}, {\"line\": {\"color\": \"rgba(128, 0, 128, 1.0)\", \"dash\": \"solid\", \"shape\": \"linear\", \"width\": 1.3}, \"mode\": \"lines\", \"name\": \"D\", \"text\": \"\", \"type\": \"scatter\", \"x\": [0, 1, 2, 3, 4, 5, 6, 7, 8, 9, 10, 11, 12, 13, 14, 15, 16, 17, 18, 19, 20, 21, 22, 23, 24, 25, 26, 27, 28, 29, 30, 31, 32, 33, 34, 35, 36, 37, 38, 39, 40, 41, 42, 43, 44, 45, 46, 47, 48, 49, 50, 51, 52, 53, 54, 55, 56, 57, 58, 59, 60, 61, 62, 63, 64, 65, 66, 67, 68, 69, 70, 71, 72, 73, 74, 75, 76, 77, 78, 79, 80, 81, 82, 83, 84, 85, 86, 87, 88, 89, 90, 91, 92, 93, 94, 95, 96, 97, 98, 99], \"y\": [0.9772336509828237, -0.07647478318063784, 0.7413636391750652, -0.15912297894377248, -0.15177625272150932, 0.1199900295795598, 0.2716635668621539, 0.3709292464448456, 0.5828024998577414, 1.1233734325816407, 0.5350414757703158, -0.27835449335894125, -0.5384981463868941, 1.7604427122046729, -0.1798211998472201, -0.07259583442974381, 0.6927847927489181, 1.713753068511354, 0.5580318332801198, 1.8777101613687104, 2.096919796229778, 2.006680204819293, 1.0358068816393418, -1.0471118960905113, 0.11421243302452166, 0.905838606468195, -1.3557540465958646, 0.052203996643662834, 1.065635124475401, -0.5948064543443344, 0.5824474335176656, 0.03769772664088032, -0.9295819904348213, 0.08773160196539075, -1.4326929160965838, 0.708051413119108, -0.07046148088440911, -0.14346819164193475, 0.3763987464634078, 1.489497426963874, -1.1875085365888707, -0.6972667620976027, -0.37526823498872225, -0.07039635195846435, -1.1069599873901415, 0.351561602957237, 1.7233931104452467, 0.5680461134761515, -0.7651406350372749, -0.8855202646912165, 0.24331003393244538, -1.9622170655863536, 0.25109763454148615, -1.7649926672975669, -0.4234854127409118, -0.7143020036904693, 0.20749639433841285, 0.010268364756173215, 0.0952854975447978, -0.5550510334752385, -0.4934942677949766, 1.6175409619083556, 0.3332748338333687, -0.5344727243038119, 1.0015841881282095, 0.10562661347557104, -0.1852368746866717, -0.07930200523712144, -0.9472604504862842, -0.6793917614321774, 0.3478046849795794, -0.06819282824824709, -0.24348051996278372, 0.4653730332137223, 0.8868921917777485, -0.8744287471716156, 0.8505394053147777, -0.7165134712897009, 0.31470910612493974, 2.2048428931352952, -0.37326042759452166, -0.6869832077121661, 0.4538698980652648, 0.3835572135228256, 0.5864267829588884, 0.1366552671255307, -0.29731483868073927, 0.2921796384197413, 1.204393005274402, 0.03240134226909766, 0.4841180429521735, -0.6875951590864127, 1.320895128089415, -1.5772719223289127, 1.083135276429853, 1.5582687187488196, 0.0402198571728886, 0.782586581086116, -0.826500765488446, 0.6466110743888642]}],\n",
       "                        {\"legend\": {\"bgcolor\": \"#F5F6F9\", \"font\": {\"color\": \"#4D5663\"}}, \"paper_bgcolor\": \"#F5F6F9\", \"plot_bgcolor\": \"#F5F6F9\", \"template\": {\"data\": {\"bar\": [{\"error_x\": {\"color\": \"#2a3f5f\"}, \"error_y\": {\"color\": \"#2a3f5f\"}, \"marker\": {\"line\": {\"color\": \"#E5ECF6\", \"width\": 0.5}}, \"type\": \"bar\"}], \"barpolar\": [{\"marker\": {\"line\": {\"color\": \"#E5ECF6\", \"width\": 0.5}}, \"type\": \"barpolar\"}], \"carpet\": [{\"aaxis\": {\"endlinecolor\": \"#2a3f5f\", \"gridcolor\": \"white\", \"linecolor\": \"white\", \"minorgridcolor\": \"white\", \"startlinecolor\": \"#2a3f5f\"}, \"baxis\": {\"endlinecolor\": \"#2a3f5f\", \"gridcolor\": \"white\", \"linecolor\": \"white\", \"minorgridcolor\": \"white\", \"startlinecolor\": \"#2a3f5f\"}, \"type\": \"carpet\"}], \"choropleth\": [{\"colorbar\": {\"outlinewidth\": 0, \"ticks\": \"\"}, \"type\": \"choropleth\"}], \"contour\": [{\"colorbar\": {\"outlinewidth\": 0, \"ticks\": \"\"}, \"colorscale\": [[0.0, \"#0d0887\"], [0.1111111111111111, \"#46039f\"], [0.2222222222222222, \"#7201a8\"], [0.3333333333333333, \"#9c179e\"], [0.4444444444444444, \"#bd3786\"], [0.5555555555555556, \"#d8576b\"], [0.6666666666666666, \"#ed7953\"], [0.7777777777777778, \"#fb9f3a\"], [0.8888888888888888, \"#fdca26\"], [1.0, \"#f0f921\"]], \"type\": \"contour\"}], \"contourcarpet\": [{\"colorbar\": {\"outlinewidth\": 0, \"ticks\": \"\"}, \"type\": \"contourcarpet\"}], \"heatmap\": [{\"colorbar\": {\"outlinewidth\": 0, \"ticks\": \"\"}, \"colorscale\": [[0.0, \"#0d0887\"], [0.1111111111111111, \"#46039f\"], [0.2222222222222222, \"#7201a8\"], [0.3333333333333333, \"#9c179e\"], [0.4444444444444444, \"#bd3786\"], [0.5555555555555556, \"#d8576b\"], [0.6666666666666666, \"#ed7953\"], [0.7777777777777778, \"#fb9f3a\"], [0.8888888888888888, \"#fdca26\"], [1.0, \"#f0f921\"]], \"type\": \"heatmap\"}], \"heatmapgl\": [{\"colorbar\": {\"outlinewidth\": 0, \"ticks\": \"\"}, \"colorscale\": [[0.0, \"#0d0887\"], [0.1111111111111111, \"#46039f\"], [0.2222222222222222, \"#7201a8\"], [0.3333333333333333, \"#9c179e\"], [0.4444444444444444, \"#bd3786\"], [0.5555555555555556, \"#d8576b\"], [0.6666666666666666, \"#ed7953\"], [0.7777777777777778, \"#fb9f3a\"], [0.8888888888888888, \"#fdca26\"], [1.0, \"#f0f921\"]], \"type\": \"heatmapgl\"}], \"histogram\": [{\"marker\": {\"colorbar\": {\"outlinewidth\": 0, \"ticks\": \"\"}}, \"type\": \"histogram\"}], \"histogram2d\": [{\"colorbar\": {\"outlinewidth\": 0, \"ticks\": \"\"}, \"colorscale\": [[0.0, \"#0d0887\"], [0.1111111111111111, \"#46039f\"], [0.2222222222222222, \"#7201a8\"], [0.3333333333333333, \"#9c179e\"], [0.4444444444444444, \"#bd3786\"], [0.5555555555555556, \"#d8576b\"], [0.6666666666666666, \"#ed7953\"], [0.7777777777777778, \"#fb9f3a\"], [0.8888888888888888, \"#fdca26\"], [1.0, \"#f0f921\"]], \"type\": \"histogram2d\"}], \"histogram2dcontour\": [{\"colorbar\": {\"outlinewidth\": 0, \"ticks\": \"\"}, \"colorscale\": [[0.0, \"#0d0887\"], [0.1111111111111111, \"#46039f\"], [0.2222222222222222, \"#7201a8\"], [0.3333333333333333, \"#9c179e\"], [0.4444444444444444, \"#bd3786\"], [0.5555555555555556, \"#d8576b\"], [0.6666666666666666, \"#ed7953\"], [0.7777777777777778, \"#fb9f3a\"], [0.8888888888888888, \"#fdca26\"], [1.0, \"#f0f921\"]], \"type\": \"histogram2dcontour\"}], \"mesh3d\": [{\"colorbar\": {\"outlinewidth\": 0, \"ticks\": \"\"}, \"type\": \"mesh3d\"}], \"parcoords\": [{\"line\": {\"colorbar\": {\"outlinewidth\": 0, \"ticks\": \"\"}}, \"type\": \"parcoords\"}], \"pie\": [{\"automargin\": true, \"type\": \"pie\"}], \"scatter\": [{\"marker\": {\"colorbar\": {\"outlinewidth\": 0, \"ticks\": \"\"}}, \"type\": \"scatter\"}], \"scatter3d\": [{\"line\": {\"colorbar\": {\"outlinewidth\": 0, \"ticks\": \"\"}}, \"marker\": {\"colorbar\": {\"outlinewidth\": 0, \"ticks\": \"\"}}, \"type\": \"scatter3d\"}], \"scattercarpet\": [{\"marker\": {\"colorbar\": {\"outlinewidth\": 0, \"ticks\": \"\"}}, \"type\": \"scattercarpet\"}], \"scattergeo\": [{\"marker\": {\"colorbar\": {\"outlinewidth\": 0, \"ticks\": \"\"}}, \"type\": \"scattergeo\"}], \"scattergl\": [{\"marker\": {\"colorbar\": {\"outlinewidth\": 0, \"ticks\": \"\"}}, \"type\": \"scattergl\"}], \"scattermapbox\": [{\"marker\": {\"colorbar\": {\"outlinewidth\": 0, \"ticks\": \"\"}}, \"type\": \"scattermapbox\"}], \"scatterpolar\": [{\"marker\": {\"colorbar\": {\"outlinewidth\": 0, \"ticks\": \"\"}}, \"type\": \"scatterpolar\"}], \"scatterpolargl\": [{\"marker\": {\"colorbar\": {\"outlinewidth\": 0, \"ticks\": \"\"}}, \"type\": \"scatterpolargl\"}], \"scatterternary\": [{\"marker\": {\"colorbar\": {\"outlinewidth\": 0, \"ticks\": \"\"}}, \"type\": \"scatterternary\"}], \"surface\": [{\"colorbar\": {\"outlinewidth\": 0, \"ticks\": \"\"}, \"colorscale\": [[0.0, \"#0d0887\"], [0.1111111111111111, \"#46039f\"], [0.2222222222222222, \"#7201a8\"], [0.3333333333333333, \"#9c179e\"], [0.4444444444444444, \"#bd3786\"], [0.5555555555555556, \"#d8576b\"], [0.6666666666666666, \"#ed7953\"], [0.7777777777777778, \"#fb9f3a\"], [0.8888888888888888, \"#fdca26\"], [1.0, \"#f0f921\"]], \"type\": \"surface\"}], \"table\": [{\"cells\": {\"fill\": {\"color\": \"#EBF0F8\"}, \"line\": {\"color\": \"white\"}}, \"header\": {\"fill\": {\"color\": \"#C8D4E3\"}, \"line\": {\"color\": \"white\"}}, \"type\": \"table\"}]}, \"layout\": {\"annotationdefaults\": {\"arrowcolor\": \"#2a3f5f\", \"arrowhead\": 0, \"arrowwidth\": 1}, \"coloraxis\": {\"colorbar\": {\"outlinewidth\": 0, \"ticks\": \"\"}}, \"colorscale\": {\"diverging\": [[0, \"#8e0152\"], [0.1, \"#c51b7d\"], [0.2, \"#de77ae\"], [0.3, \"#f1b6da\"], [0.4, \"#fde0ef\"], [0.5, \"#f7f7f7\"], [0.6, \"#e6f5d0\"], [0.7, \"#b8e186\"], [0.8, \"#7fbc41\"], [0.9, \"#4d9221\"], [1, \"#276419\"]], \"sequential\": [[0.0, \"#0d0887\"], [0.1111111111111111, \"#46039f\"], [0.2222222222222222, \"#7201a8\"], [0.3333333333333333, \"#9c179e\"], [0.4444444444444444, \"#bd3786\"], [0.5555555555555556, \"#d8576b\"], [0.6666666666666666, \"#ed7953\"], [0.7777777777777778, \"#fb9f3a\"], [0.8888888888888888, \"#fdca26\"], [1.0, \"#f0f921\"]], \"sequentialminus\": [[0.0, \"#0d0887\"], [0.1111111111111111, \"#46039f\"], [0.2222222222222222, \"#7201a8\"], [0.3333333333333333, \"#9c179e\"], [0.4444444444444444, \"#bd3786\"], [0.5555555555555556, \"#d8576b\"], [0.6666666666666666, \"#ed7953\"], [0.7777777777777778, \"#fb9f3a\"], [0.8888888888888888, \"#fdca26\"], [1.0, \"#f0f921\"]]}, \"colorway\": [\"#636efa\", \"#EF553B\", \"#00cc96\", \"#ab63fa\", \"#FFA15A\", \"#19d3f3\", \"#FF6692\", \"#B6E880\", \"#FF97FF\", \"#FECB52\"], \"font\": {\"color\": \"#2a3f5f\"}, \"geo\": {\"bgcolor\": \"white\", \"lakecolor\": \"white\", \"landcolor\": \"#E5ECF6\", \"showlakes\": true, \"showland\": true, \"subunitcolor\": \"white\"}, \"hoverlabel\": {\"align\": \"left\"}, \"hovermode\": \"closest\", \"mapbox\": {\"style\": \"light\"}, \"paper_bgcolor\": \"white\", \"plot_bgcolor\": \"#E5ECF6\", \"polar\": {\"angularaxis\": {\"gridcolor\": \"white\", \"linecolor\": \"white\", \"ticks\": \"\"}, \"bgcolor\": \"#E5ECF6\", \"radialaxis\": {\"gridcolor\": \"white\", \"linecolor\": \"white\", \"ticks\": \"\"}}, \"scene\": {\"xaxis\": {\"backgroundcolor\": \"#E5ECF6\", \"gridcolor\": \"white\", \"gridwidth\": 2, \"linecolor\": \"white\", \"showbackground\": true, \"ticks\": \"\", \"zerolinecolor\": \"white\"}, \"yaxis\": {\"backgroundcolor\": \"#E5ECF6\", \"gridcolor\": \"white\", \"gridwidth\": 2, \"linecolor\": \"white\", \"showbackground\": true, \"ticks\": \"\", \"zerolinecolor\": \"white\"}, \"zaxis\": {\"backgroundcolor\": \"#E5ECF6\", \"gridcolor\": \"white\", \"gridwidth\": 2, \"linecolor\": \"white\", \"showbackground\": true, \"ticks\": \"\", \"zerolinecolor\": \"white\"}}, \"shapedefaults\": {\"line\": {\"color\": \"#2a3f5f\"}}, \"ternary\": {\"aaxis\": {\"gridcolor\": \"white\", \"linecolor\": \"white\", \"ticks\": \"\"}, \"baxis\": {\"gridcolor\": \"white\", \"linecolor\": \"white\", \"ticks\": \"\"}, \"bgcolor\": \"#E5ECF6\", \"caxis\": {\"gridcolor\": \"white\", \"linecolor\": \"white\", \"ticks\": \"\"}}, \"title\": {\"x\": 0.05}, \"xaxis\": {\"automargin\": true, \"gridcolor\": \"white\", \"linecolor\": \"white\", \"ticks\": \"\", \"title\": {\"standoff\": 15}, \"zerolinecolor\": \"white\", \"zerolinewidth\": 2}, \"yaxis\": {\"automargin\": true, \"gridcolor\": \"white\", \"linecolor\": \"white\", \"ticks\": \"\", \"title\": {\"standoff\": 15}, \"zerolinecolor\": \"white\", \"zerolinewidth\": 2}}}, \"title\": {\"font\": {\"color\": \"#4D5663\"}}, \"xaxis\": {\"gridcolor\": \"#E1E5ED\", \"showgrid\": true, \"tickfont\": {\"color\": \"#4D5663\"}, \"title\": {\"font\": {\"color\": \"#4D5663\"}, \"text\": \"\"}, \"zerolinecolor\": \"#E1E5ED\"}, \"yaxis\": {\"gridcolor\": \"#E1E5ED\", \"showgrid\": true, \"tickfont\": {\"color\": \"#4D5663\"}, \"title\": {\"font\": {\"color\": \"#4D5663\"}, \"text\": \"\"}, \"zerolinecolor\": \"#E1E5ED\"}},\n",
       "                        {\"showLink\": true, \"linkText\": \"Export to plot.ly\", \"plotlyServerURL\": \"https://plot.ly\", \"responsive\": true}\n",
       "                    ).then(function(){\n",
       "                            \n",
       "var gd = document.getElementById('3bc56970-41ab-4d36-a188-158e2b6b56df');\n",
       "var x = new MutationObserver(function (mutations, observer) {{\n",
       "        var display = window.getComputedStyle(gd).display;\n",
       "        if (!display || display === 'none') {{\n",
       "            console.log([gd, 'removed!']);\n",
       "            Plotly.purge(gd);\n",
       "            observer.disconnect();\n",
       "        }}\n",
       "}});\n",
       "\n",
       "// Listen for the removal of the full notebook cells\n",
       "var notebookContainer = gd.closest('#notebook-container');\n",
       "if (notebookContainer) {{\n",
       "    x.observe(notebookContainer, {childList: true});\n",
       "}}\n",
       "\n",
       "// Listen for the clearing of the current output cell\n",
       "var outputEl = gd.closest('.output');\n",
       "if (outputEl) {{\n",
       "    x.observe(outputEl, {childList: true});\n",
       "}}\n",
       "\n",
       "                        })\n",
       "                };\n",
       "                });\n",
       "            </script>\n",
       "        </div>"
      ]
     },
     "metadata": {},
     "output_type": "display_data"
    }
   ],
   "source": [
    "df.iplot()"
   ]
  },
  {
   "cell_type": "code",
   "execution_count": 28,
   "metadata": {},
   "outputs": [
    {
     "data": {
      "application/vnd.plotly.v1+json": {
       "config": {
        "linkText": "Export to plot.ly",
        "plotlyServerURL": "https://plot.ly",
        "showLink": true
       },
       "data": [
        {
         "line": {
          "color": "rgba(255, 153, 51, 1.0)",
          "dash": "solid",
          "shape": "linear",
          "width": 1.3
         },
         "marker": {
          "size": 11,
          "symbol": "circle"
         },
         "mode": "markers",
         "name": "B",
         "text": "",
         "type": "scatter",
         "x": [
          -2.2555933768724947,
          -0.03382340070021499,
          -0.3200478984174772,
          0.05045835842384177,
          0.2233965386018236,
          0.2536608574004414,
          -0.6692398991913475,
          -0.4786089224325477,
          0.6512291566816155,
          -0.9992360969851862,
          -0.22169793134556703,
          -1.1712641861345396,
          0.3252298075551189,
          0.8914928115672888,
          -0.0369001928301434,
          -0.12612875726858397,
          -0.6321662033550624,
          -0.7177849850115586,
          -0.7380476067025662,
          -0.6496181734346335,
          -0.7764825074228829,
          0.9825053624790435,
          0.2583656046298789,
          -0.037818224865744765,
          0.1633648933126579,
          0.09045583256205675,
          0.6019746573813641,
          0.8630717855557517,
          -0.6891220161380268,
          0.008139132913083826,
          1.4462942945255972,
          1.0974328278372718,
          1.7026391999584558,
          0.13232510434415812,
          -1.4930236346176566,
          0.5717283572309633,
          1.6027573821880863,
          -0.26316261913033745,
          0.1428706155553884,
          -1.9689781776908595,
          0.7573252641608401,
          1.2815546026772953,
          0.4347619600899514,
          -0.5353942165407267,
          0.9427327554963698,
          1.1790481704431377,
          -0.4103179505335398,
          1.467563169562042,
          1.38742208689959,
          -0.1878420460340362,
          0.9561618545448747,
          -0.6783596081109666,
          -0.7343973073358498,
          0.3220750471063588,
          0.27574581367708095,
          1.4552279064325093,
          -0.291105920009326,
          0.645407625337804,
          -1.0554341317842224,
          0.33279221486126165,
          0.7025265688025414,
          -0.6610919221931417,
          -0.1667434397585901,
          0.6232829145291728,
          -0.2529836861465784,
          -1.3053816199792052,
          -0.9162982736073634,
          -1.3142225958928595,
          -1.6120659876274441,
          -0.053151427170382286,
          1.872649441601502,
          -1.2683624163519756,
          0.30392219244159846,
          0.8663928886363615,
          -0.847758950848025,
          1.2074149868658006,
          -0.8219780807135773,
          -0.3972774418375647,
          -0.3138094858687506,
          -0.7321270120897498,
          0.19089113734580437,
          -1.467169892336397,
          -0.2704977443472076,
          1.391089216049597,
          -1.4580084882448272,
          -1.6768288954001633,
          -1.2244219128686558,
          -0.5830634268948321,
          2.596545053416106,
          0.5547182458617995,
          -0.009938487125128776,
          0.16661419271903802,
          -2.0051511664441923,
          -0.44142932606142177,
          1.4768445874934977,
          -2.2891089768253154,
          0.9969522087565932,
          -0.48862992958038,
          -0.8483077863746056,
          -0.3957040767842185
         ],
         "y": [
          1.3141888702618962,
          -1.1115662109910567,
          -0.257289607344004,
          -1.4036350331162621,
          -0.9562431416001994,
          0.5284258714874434,
          1.3839270580400518,
          -0.47647239611666187,
          -0.48621055726856166,
          0.21230749228133775,
          -0.4377454130191507,
          1.139461784412099,
          -0.479066908076587,
          -0.5112289603822745,
          1.0655062855344546,
          0.2532285620560627,
          -0.5080625366400148,
          -0.14940661484256632,
          -1.0552401005092436,
          1.3130463314943268,
          -0.09855391494815084,
          1.682056997549952,
          0.025030245632123346,
          -1.0314746214259058,
          -0.24440905168767216,
          -0.9640162206376627,
          1.1659827817820045,
          -0.5949615891396036,
          0.895109825347487,
          -1.1787502459426134,
          0.3606252712904561,
          -2.8874455317853673,
          0.05554922902958001,
          -0.6327253205975053,
          -0.14423079659187038,
          -0.4659585833517143,
          -0.42134027774967997,
          -0.9945211011510153,
          0.5262417418954314,
          0.6521486589933997,
          -0.3002767827572908,
          1.0961571575291982,
          0.02388240668584011,
          -0.251739361646199,
          -0.09132557319225461,
          -0.16222783106006364,
          -0.5800636263739349,
          0.6539517205968917,
          0.2676653096775852,
          -0.12788683168886808,
          0.9301801207771702,
          -0.09177425164037127,
          -1.186280702243975,
          -1.5581869431240989,
          -0.42664764573524705,
          -0.2770735434883226,
          -0.8136201732195788,
          -1.1114664557447358,
          1.6999503007281884,
          -0.7126876105880869,
          -0.0930941715055807,
          -2.3656191409182625,
          0.735568121854511,
          0.541493368025285,
          -0.6301134451738287,
          -0.05449659496425838,
          0.7566045980698098,
          -0.05331049966966534,
          0.7515301988470119,
          1.1756364535626789,
          0.6255519982890726,
          0.4994986012724347,
          -0.33739521345218193,
          0.7932359839780525,
          -0.8486742318118738,
          -0.6162281748236087,
          0.6588315502975075,
          0.47797298287983786,
          0.8313530055118066,
          -1.6412026289064061,
          -0.5091519178754833,
          1.2236901049372901,
          1.2990342992990034,
          -0.4823964312713267,
          0.8897377549146316,
          0.8330977892920045,
          1.2780894780540542,
          0.2073916928678156,
          2.1898409925479587,
          1.2450021823566144,
          0.9417074276447647,
          -0.11353886292187075,
          1.5655409294812892,
          -0.04614353427259727,
          -0.34656495757651096,
          -0.18561680250884616,
          -2.262169847144289,
          0.948170877714612,
          -1.1482499665528605,
          -0.8927910449284819
         ]
        }
       ],
       "layout": {
        "legend": {
         "bgcolor": "#F5F6F9",
         "font": {
          "color": "#4D5663"
         }
        },
        "paper_bgcolor": "#F5F6F9",
        "plot_bgcolor": "#F5F6F9",
        "template": {
         "data": {
          "bar": [
           {
            "error_x": {
             "color": "#2a3f5f"
            },
            "error_y": {
             "color": "#2a3f5f"
            },
            "marker": {
             "line": {
              "color": "#E5ECF6",
              "width": 0.5
             }
            },
            "type": "bar"
           }
          ],
          "barpolar": [
           {
            "marker": {
             "line": {
              "color": "#E5ECF6",
              "width": 0.5
             }
            },
            "type": "barpolar"
           }
          ],
          "carpet": [
           {
            "aaxis": {
             "endlinecolor": "#2a3f5f",
             "gridcolor": "white",
             "linecolor": "white",
             "minorgridcolor": "white",
             "startlinecolor": "#2a3f5f"
            },
            "baxis": {
             "endlinecolor": "#2a3f5f",
             "gridcolor": "white",
             "linecolor": "white",
             "minorgridcolor": "white",
             "startlinecolor": "#2a3f5f"
            },
            "type": "carpet"
           }
          ],
          "choropleth": [
           {
            "colorbar": {
             "outlinewidth": 0,
             "ticks": ""
            },
            "type": "choropleth"
           }
          ],
          "contour": [
           {
            "colorbar": {
             "outlinewidth": 0,
             "ticks": ""
            },
            "colorscale": [
             [
              0,
              "#0d0887"
             ],
             [
              0.1111111111111111,
              "#46039f"
             ],
             [
              0.2222222222222222,
              "#7201a8"
             ],
             [
              0.3333333333333333,
              "#9c179e"
             ],
             [
              0.4444444444444444,
              "#bd3786"
             ],
             [
              0.5555555555555556,
              "#d8576b"
             ],
             [
              0.6666666666666666,
              "#ed7953"
             ],
             [
              0.7777777777777778,
              "#fb9f3a"
             ],
             [
              0.8888888888888888,
              "#fdca26"
             ],
             [
              1,
              "#f0f921"
             ]
            ],
            "type": "contour"
           }
          ],
          "contourcarpet": [
           {
            "colorbar": {
             "outlinewidth": 0,
             "ticks": ""
            },
            "type": "contourcarpet"
           }
          ],
          "heatmap": [
           {
            "colorbar": {
             "outlinewidth": 0,
             "ticks": ""
            },
            "colorscale": [
             [
              0,
              "#0d0887"
             ],
             [
              0.1111111111111111,
              "#46039f"
             ],
             [
              0.2222222222222222,
              "#7201a8"
             ],
             [
              0.3333333333333333,
              "#9c179e"
             ],
             [
              0.4444444444444444,
              "#bd3786"
             ],
             [
              0.5555555555555556,
              "#d8576b"
             ],
             [
              0.6666666666666666,
              "#ed7953"
             ],
             [
              0.7777777777777778,
              "#fb9f3a"
             ],
             [
              0.8888888888888888,
              "#fdca26"
             ],
             [
              1,
              "#f0f921"
             ]
            ],
            "type": "heatmap"
           }
          ],
          "heatmapgl": [
           {
            "colorbar": {
             "outlinewidth": 0,
             "ticks": ""
            },
            "colorscale": [
             [
              0,
              "#0d0887"
             ],
             [
              0.1111111111111111,
              "#46039f"
             ],
             [
              0.2222222222222222,
              "#7201a8"
             ],
             [
              0.3333333333333333,
              "#9c179e"
             ],
             [
              0.4444444444444444,
              "#bd3786"
             ],
             [
              0.5555555555555556,
              "#d8576b"
             ],
             [
              0.6666666666666666,
              "#ed7953"
             ],
             [
              0.7777777777777778,
              "#fb9f3a"
             ],
             [
              0.8888888888888888,
              "#fdca26"
             ],
             [
              1,
              "#f0f921"
             ]
            ],
            "type": "heatmapgl"
           }
          ],
          "histogram": [
           {
            "marker": {
             "colorbar": {
              "outlinewidth": 0,
              "ticks": ""
             }
            },
            "type": "histogram"
           }
          ],
          "histogram2d": [
           {
            "colorbar": {
             "outlinewidth": 0,
             "ticks": ""
            },
            "colorscale": [
             [
              0,
              "#0d0887"
             ],
             [
              0.1111111111111111,
              "#46039f"
             ],
             [
              0.2222222222222222,
              "#7201a8"
             ],
             [
              0.3333333333333333,
              "#9c179e"
             ],
             [
              0.4444444444444444,
              "#bd3786"
             ],
             [
              0.5555555555555556,
              "#d8576b"
             ],
             [
              0.6666666666666666,
              "#ed7953"
             ],
             [
              0.7777777777777778,
              "#fb9f3a"
             ],
             [
              0.8888888888888888,
              "#fdca26"
             ],
             [
              1,
              "#f0f921"
             ]
            ],
            "type": "histogram2d"
           }
          ],
          "histogram2dcontour": [
           {
            "colorbar": {
             "outlinewidth": 0,
             "ticks": ""
            },
            "colorscale": [
             [
              0,
              "#0d0887"
             ],
             [
              0.1111111111111111,
              "#46039f"
             ],
             [
              0.2222222222222222,
              "#7201a8"
             ],
             [
              0.3333333333333333,
              "#9c179e"
             ],
             [
              0.4444444444444444,
              "#bd3786"
             ],
             [
              0.5555555555555556,
              "#d8576b"
             ],
             [
              0.6666666666666666,
              "#ed7953"
             ],
             [
              0.7777777777777778,
              "#fb9f3a"
             ],
             [
              0.8888888888888888,
              "#fdca26"
             ],
             [
              1,
              "#f0f921"
             ]
            ],
            "type": "histogram2dcontour"
           }
          ],
          "mesh3d": [
           {
            "colorbar": {
             "outlinewidth": 0,
             "ticks": ""
            },
            "type": "mesh3d"
           }
          ],
          "parcoords": [
           {
            "line": {
             "colorbar": {
              "outlinewidth": 0,
              "ticks": ""
             }
            },
            "type": "parcoords"
           }
          ],
          "pie": [
           {
            "automargin": true,
            "type": "pie"
           }
          ],
          "scatter": [
           {
            "marker": {
             "colorbar": {
              "outlinewidth": 0,
              "ticks": ""
             }
            },
            "type": "scatter"
           }
          ],
          "scatter3d": [
           {
            "line": {
             "colorbar": {
              "outlinewidth": 0,
              "ticks": ""
             }
            },
            "marker": {
             "colorbar": {
              "outlinewidth": 0,
              "ticks": ""
             }
            },
            "type": "scatter3d"
           }
          ],
          "scattercarpet": [
           {
            "marker": {
             "colorbar": {
              "outlinewidth": 0,
              "ticks": ""
             }
            },
            "type": "scattercarpet"
           }
          ],
          "scattergeo": [
           {
            "marker": {
             "colorbar": {
              "outlinewidth": 0,
              "ticks": ""
             }
            },
            "type": "scattergeo"
           }
          ],
          "scattergl": [
           {
            "marker": {
             "colorbar": {
              "outlinewidth": 0,
              "ticks": ""
             }
            },
            "type": "scattergl"
           }
          ],
          "scattermapbox": [
           {
            "marker": {
             "colorbar": {
              "outlinewidth": 0,
              "ticks": ""
             }
            },
            "type": "scattermapbox"
           }
          ],
          "scatterpolar": [
           {
            "marker": {
             "colorbar": {
              "outlinewidth": 0,
              "ticks": ""
             }
            },
            "type": "scatterpolar"
           }
          ],
          "scatterpolargl": [
           {
            "marker": {
             "colorbar": {
              "outlinewidth": 0,
              "ticks": ""
             }
            },
            "type": "scatterpolargl"
           }
          ],
          "scatterternary": [
           {
            "marker": {
             "colorbar": {
              "outlinewidth": 0,
              "ticks": ""
             }
            },
            "type": "scatterternary"
           }
          ],
          "surface": [
           {
            "colorbar": {
             "outlinewidth": 0,
             "ticks": ""
            },
            "colorscale": [
             [
              0,
              "#0d0887"
             ],
             [
              0.1111111111111111,
              "#46039f"
             ],
             [
              0.2222222222222222,
              "#7201a8"
             ],
             [
              0.3333333333333333,
              "#9c179e"
             ],
             [
              0.4444444444444444,
              "#bd3786"
             ],
             [
              0.5555555555555556,
              "#d8576b"
             ],
             [
              0.6666666666666666,
              "#ed7953"
             ],
             [
              0.7777777777777778,
              "#fb9f3a"
             ],
             [
              0.8888888888888888,
              "#fdca26"
             ],
             [
              1,
              "#f0f921"
             ]
            ],
            "type": "surface"
           }
          ],
          "table": [
           {
            "cells": {
             "fill": {
              "color": "#EBF0F8"
             },
             "line": {
              "color": "white"
             }
            },
            "header": {
             "fill": {
              "color": "#C8D4E3"
             },
             "line": {
              "color": "white"
             }
            },
            "type": "table"
           }
          ]
         },
         "layout": {
          "annotationdefaults": {
           "arrowcolor": "#2a3f5f",
           "arrowhead": 0,
           "arrowwidth": 1
          },
          "coloraxis": {
           "colorbar": {
            "outlinewidth": 0,
            "ticks": ""
           }
          },
          "colorscale": {
           "diverging": [
            [
             0,
             "#8e0152"
            ],
            [
             0.1,
             "#c51b7d"
            ],
            [
             0.2,
             "#de77ae"
            ],
            [
             0.3,
             "#f1b6da"
            ],
            [
             0.4,
             "#fde0ef"
            ],
            [
             0.5,
             "#f7f7f7"
            ],
            [
             0.6,
             "#e6f5d0"
            ],
            [
             0.7,
             "#b8e186"
            ],
            [
             0.8,
             "#7fbc41"
            ],
            [
             0.9,
             "#4d9221"
            ],
            [
             1,
             "#276419"
            ]
           ],
           "sequential": [
            [
             0,
             "#0d0887"
            ],
            [
             0.1111111111111111,
             "#46039f"
            ],
            [
             0.2222222222222222,
             "#7201a8"
            ],
            [
             0.3333333333333333,
             "#9c179e"
            ],
            [
             0.4444444444444444,
             "#bd3786"
            ],
            [
             0.5555555555555556,
             "#d8576b"
            ],
            [
             0.6666666666666666,
             "#ed7953"
            ],
            [
             0.7777777777777778,
             "#fb9f3a"
            ],
            [
             0.8888888888888888,
             "#fdca26"
            ],
            [
             1,
             "#f0f921"
            ]
           ],
           "sequentialminus": [
            [
             0,
             "#0d0887"
            ],
            [
             0.1111111111111111,
             "#46039f"
            ],
            [
             0.2222222222222222,
             "#7201a8"
            ],
            [
             0.3333333333333333,
             "#9c179e"
            ],
            [
             0.4444444444444444,
             "#bd3786"
            ],
            [
             0.5555555555555556,
             "#d8576b"
            ],
            [
             0.6666666666666666,
             "#ed7953"
            ],
            [
             0.7777777777777778,
             "#fb9f3a"
            ],
            [
             0.8888888888888888,
             "#fdca26"
            ],
            [
             1,
             "#f0f921"
            ]
           ]
          },
          "colorway": [
           "#636efa",
           "#EF553B",
           "#00cc96",
           "#ab63fa",
           "#FFA15A",
           "#19d3f3",
           "#FF6692",
           "#B6E880",
           "#FF97FF",
           "#FECB52"
          ],
          "font": {
           "color": "#2a3f5f"
          },
          "geo": {
           "bgcolor": "white",
           "lakecolor": "white",
           "landcolor": "#E5ECF6",
           "showlakes": true,
           "showland": true,
           "subunitcolor": "white"
          },
          "hoverlabel": {
           "align": "left"
          },
          "hovermode": "closest",
          "mapbox": {
           "style": "light"
          },
          "paper_bgcolor": "white",
          "plot_bgcolor": "#E5ECF6",
          "polar": {
           "angularaxis": {
            "gridcolor": "white",
            "linecolor": "white",
            "ticks": ""
           },
           "bgcolor": "#E5ECF6",
           "radialaxis": {
            "gridcolor": "white",
            "linecolor": "white",
            "ticks": ""
           }
          },
          "scene": {
           "xaxis": {
            "backgroundcolor": "#E5ECF6",
            "gridcolor": "white",
            "gridwidth": 2,
            "linecolor": "white",
            "showbackground": true,
            "ticks": "",
            "zerolinecolor": "white"
           },
           "yaxis": {
            "backgroundcolor": "#E5ECF6",
            "gridcolor": "white",
            "gridwidth": 2,
            "linecolor": "white",
            "showbackground": true,
            "ticks": "",
            "zerolinecolor": "white"
           },
           "zaxis": {
            "backgroundcolor": "#E5ECF6",
            "gridcolor": "white",
            "gridwidth": 2,
            "linecolor": "white",
            "showbackground": true,
            "ticks": "",
            "zerolinecolor": "white"
           }
          },
          "shapedefaults": {
           "line": {
            "color": "#2a3f5f"
           }
          },
          "ternary": {
           "aaxis": {
            "gridcolor": "white",
            "linecolor": "white",
            "ticks": ""
           },
           "baxis": {
            "gridcolor": "white",
            "linecolor": "white",
            "ticks": ""
           },
           "bgcolor": "#E5ECF6",
           "caxis": {
            "gridcolor": "white",
            "linecolor": "white",
            "ticks": ""
           }
          },
          "title": {
           "x": 0.05
          },
          "xaxis": {
           "automargin": true,
           "gridcolor": "white",
           "linecolor": "white",
           "ticks": "",
           "title": {
            "standoff": 15
           },
           "zerolinecolor": "white",
           "zerolinewidth": 2
          },
          "yaxis": {
           "automargin": true,
           "gridcolor": "white",
           "linecolor": "white",
           "ticks": "",
           "title": {
            "standoff": 15
           },
           "zerolinecolor": "white",
           "zerolinewidth": 2
          }
         }
        },
        "title": {
         "font": {
          "color": "#4D5663"
         }
        },
        "xaxis": {
         "gridcolor": "#E1E5ED",
         "showgrid": true,
         "tickfont": {
          "color": "#4D5663"
         },
         "title": {
          "font": {
           "color": "#4D5663"
          },
          "text": ""
         },
         "zerolinecolor": "#E1E5ED"
        },
        "yaxis": {
         "gridcolor": "#E1E5ED",
         "showgrid": true,
         "tickfont": {
          "color": "#4D5663"
         },
         "title": {
          "font": {
           "color": "#4D5663"
          },
          "text": ""
         },
         "zerolinecolor": "#E1E5ED"
        }
       }
      },
      "text/html": [
       "<div>\n",
       "        \n",
       "        \n",
       "            <div id=\"b10521b7-7c22-44fa-ab7c-b12b01035653\" class=\"plotly-graph-div\" style=\"height:525px; width:100%;\"></div>\n",
       "            <script type=\"text/javascript\">\n",
       "                require([\"plotly\"], function(Plotly) {\n",
       "                    window.PLOTLYENV=window.PLOTLYENV || {};\n",
       "                    window.PLOTLYENV.BASE_URL='https://plot.ly';\n",
       "                    \n",
       "                if (document.getElementById(\"b10521b7-7c22-44fa-ab7c-b12b01035653\")) {\n",
       "                    Plotly.newPlot(\n",
       "                        'b10521b7-7c22-44fa-ab7c-b12b01035653',\n",
       "                        [{\"line\": {\"color\": \"rgba(255, 153, 51, 1.0)\", \"dash\": \"solid\", \"shape\": \"linear\", \"width\": 1.3}, \"marker\": {\"size\": 11, \"symbol\": \"circle\"}, \"mode\": \"markers\", \"name\": \"B\", \"text\": \"\", \"type\": \"scatter\", \"x\": [-2.2555933768724947, -0.03382340070021499, -0.3200478984174772, 0.05045835842384177, 0.2233965386018236, 0.2536608574004414, -0.6692398991913475, -0.4786089224325477, 0.6512291566816155, -0.9992360969851862, -0.22169793134556703, -1.1712641861345396, 0.3252298075551189, 0.8914928115672888, -0.0369001928301434, -0.12612875726858397, -0.6321662033550624, -0.7177849850115586, -0.7380476067025662, -0.6496181734346335, -0.7764825074228829, 0.9825053624790435, 0.2583656046298789, -0.037818224865744765, 0.1633648933126579, 0.09045583256205675, 0.6019746573813641, 0.8630717855557517, -0.6891220161380268, 0.008139132913083826, 1.4462942945255972, 1.0974328278372718, 1.7026391999584558, 0.13232510434415812, -1.4930236346176566, 0.5717283572309633, 1.6027573821880863, -0.26316261913033745, 0.1428706155553884, -1.9689781776908595, 0.7573252641608401, 1.2815546026772953, 0.4347619600899514, -0.5353942165407267, 0.9427327554963698, 1.1790481704431377, -0.4103179505335398, 1.467563169562042, 1.38742208689959, -0.1878420460340362, 0.9561618545448747, -0.6783596081109666, -0.7343973073358498, 0.3220750471063588, 0.27574581367708095, 1.4552279064325093, -0.291105920009326, 0.645407625337804, -1.0554341317842224, 0.33279221486126165, 0.7025265688025414, -0.6610919221931417, -0.1667434397585901, 0.6232829145291728, -0.2529836861465784, -1.3053816199792052, -0.9162982736073634, -1.3142225958928595, -1.6120659876274441, -0.053151427170382286, 1.872649441601502, -1.2683624163519756, 0.30392219244159846, 0.8663928886363615, -0.847758950848025, 1.2074149868658006, -0.8219780807135773, -0.3972774418375647, -0.3138094858687506, -0.7321270120897498, 0.19089113734580437, -1.467169892336397, -0.2704977443472076, 1.391089216049597, -1.4580084882448272, -1.6768288954001633, -1.2244219128686558, -0.5830634268948321, 2.596545053416106, 0.5547182458617995, -0.009938487125128776, 0.16661419271903802, -2.0051511664441923, -0.44142932606142177, 1.4768445874934977, -2.2891089768253154, 0.9969522087565932, -0.48862992958038, -0.8483077863746056, -0.3957040767842185], \"y\": [1.3141888702618962, -1.1115662109910567, -0.257289607344004, -1.4036350331162621, -0.9562431416001994, 0.5284258714874434, 1.3839270580400518, -0.47647239611666187, -0.48621055726856166, 0.21230749228133775, -0.4377454130191507, 1.139461784412099, -0.479066908076587, -0.5112289603822745, 1.0655062855344546, 0.2532285620560627, -0.5080625366400148, -0.14940661484256632, -1.0552401005092436, 1.3130463314943268, -0.09855391494815084, 1.682056997549952, 0.025030245632123346, -1.0314746214259058, -0.24440905168767216, -0.9640162206376627, 1.1659827817820045, -0.5949615891396036, 0.895109825347487, -1.1787502459426134, 0.3606252712904561, -2.8874455317853673, 0.05554922902958001, -0.6327253205975053, -0.14423079659187038, -0.4659585833517143, -0.42134027774967997, -0.9945211011510153, 0.5262417418954314, 0.6521486589933997, -0.3002767827572908, 1.0961571575291982, 0.02388240668584011, -0.251739361646199, -0.09132557319225461, -0.16222783106006364, -0.5800636263739349, 0.6539517205968917, 0.2676653096775852, -0.12788683168886808, 0.9301801207771702, -0.09177425164037127, -1.186280702243975, -1.5581869431240989, -0.42664764573524705, -0.2770735434883226, -0.8136201732195788, -1.1114664557447358, 1.6999503007281884, -0.7126876105880869, -0.0930941715055807, -2.3656191409182625, 0.735568121854511, 0.541493368025285, -0.6301134451738287, -0.05449659496425838, 0.7566045980698098, -0.05331049966966534, 0.7515301988470119, 1.1756364535626789, 0.6255519982890726, 0.4994986012724347, -0.33739521345218193, 0.7932359839780525, -0.8486742318118738, -0.6162281748236087, 0.6588315502975075, 0.47797298287983786, 0.8313530055118066, -1.6412026289064061, -0.5091519178754833, 1.2236901049372901, 1.2990342992990034, -0.4823964312713267, 0.8897377549146316, 0.8330977892920045, 1.2780894780540542, 0.2073916928678156, 2.1898409925479587, 1.2450021823566144, 0.9417074276447647, -0.11353886292187075, 1.5655409294812892, -0.04614353427259727, -0.34656495757651096, -0.18561680250884616, -2.262169847144289, 0.948170877714612, -1.1482499665528605, -0.8927910449284819]}],\n",
       "                        {\"legend\": {\"bgcolor\": \"#F5F6F9\", \"font\": {\"color\": \"#4D5663\"}}, \"paper_bgcolor\": \"#F5F6F9\", \"plot_bgcolor\": \"#F5F6F9\", \"template\": {\"data\": {\"bar\": [{\"error_x\": {\"color\": \"#2a3f5f\"}, \"error_y\": {\"color\": \"#2a3f5f\"}, \"marker\": {\"line\": {\"color\": \"#E5ECF6\", \"width\": 0.5}}, \"type\": \"bar\"}], \"barpolar\": [{\"marker\": {\"line\": {\"color\": \"#E5ECF6\", \"width\": 0.5}}, \"type\": \"barpolar\"}], \"carpet\": [{\"aaxis\": {\"endlinecolor\": \"#2a3f5f\", \"gridcolor\": \"white\", \"linecolor\": \"white\", \"minorgridcolor\": \"white\", \"startlinecolor\": \"#2a3f5f\"}, \"baxis\": {\"endlinecolor\": \"#2a3f5f\", \"gridcolor\": \"white\", \"linecolor\": \"white\", \"minorgridcolor\": \"white\", \"startlinecolor\": \"#2a3f5f\"}, \"type\": \"carpet\"}], \"choropleth\": [{\"colorbar\": {\"outlinewidth\": 0, \"ticks\": \"\"}, \"type\": \"choropleth\"}], \"contour\": [{\"colorbar\": {\"outlinewidth\": 0, \"ticks\": \"\"}, \"colorscale\": [[0.0, \"#0d0887\"], [0.1111111111111111, \"#46039f\"], [0.2222222222222222, \"#7201a8\"], [0.3333333333333333, \"#9c179e\"], [0.4444444444444444, \"#bd3786\"], [0.5555555555555556, \"#d8576b\"], [0.6666666666666666, \"#ed7953\"], [0.7777777777777778, \"#fb9f3a\"], [0.8888888888888888, \"#fdca26\"], [1.0, \"#f0f921\"]], \"type\": \"contour\"}], \"contourcarpet\": [{\"colorbar\": {\"outlinewidth\": 0, \"ticks\": \"\"}, \"type\": \"contourcarpet\"}], \"heatmap\": [{\"colorbar\": {\"outlinewidth\": 0, \"ticks\": \"\"}, \"colorscale\": [[0.0, \"#0d0887\"], [0.1111111111111111, \"#46039f\"], [0.2222222222222222, \"#7201a8\"], [0.3333333333333333, \"#9c179e\"], [0.4444444444444444, \"#bd3786\"], [0.5555555555555556, \"#d8576b\"], [0.6666666666666666, \"#ed7953\"], [0.7777777777777778, \"#fb9f3a\"], [0.8888888888888888, \"#fdca26\"], [1.0, \"#f0f921\"]], \"type\": \"heatmap\"}], \"heatmapgl\": [{\"colorbar\": {\"outlinewidth\": 0, \"ticks\": \"\"}, \"colorscale\": [[0.0, \"#0d0887\"], [0.1111111111111111, \"#46039f\"], [0.2222222222222222, \"#7201a8\"], [0.3333333333333333, \"#9c179e\"], [0.4444444444444444, \"#bd3786\"], [0.5555555555555556, \"#d8576b\"], [0.6666666666666666, \"#ed7953\"], [0.7777777777777778, \"#fb9f3a\"], [0.8888888888888888, \"#fdca26\"], [1.0, \"#f0f921\"]], \"type\": \"heatmapgl\"}], \"histogram\": [{\"marker\": {\"colorbar\": {\"outlinewidth\": 0, \"ticks\": \"\"}}, \"type\": \"histogram\"}], \"histogram2d\": [{\"colorbar\": {\"outlinewidth\": 0, \"ticks\": \"\"}, \"colorscale\": [[0.0, \"#0d0887\"], [0.1111111111111111, \"#46039f\"], [0.2222222222222222, \"#7201a8\"], [0.3333333333333333, \"#9c179e\"], [0.4444444444444444, \"#bd3786\"], [0.5555555555555556, \"#d8576b\"], [0.6666666666666666, \"#ed7953\"], [0.7777777777777778, \"#fb9f3a\"], [0.8888888888888888, \"#fdca26\"], [1.0, \"#f0f921\"]], \"type\": \"histogram2d\"}], \"histogram2dcontour\": [{\"colorbar\": {\"outlinewidth\": 0, \"ticks\": \"\"}, \"colorscale\": [[0.0, \"#0d0887\"], [0.1111111111111111, \"#46039f\"], [0.2222222222222222, \"#7201a8\"], [0.3333333333333333, \"#9c179e\"], [0.4444444444444444, \"#bd3786\"], [0.5555555555555556, \"#d8576b\"], [0.6666666666666666, \"#ed7953\"], [0.7777777777777778, \"#fb9f3a\"], [0.8888888888888888, \"#fdca26\"], [1.0, \"#f0f921\"]], \"type\": \"histogram2dcontour\"}], \"mesh3d\": [{\"colorbar\": {\"outlinewidth\": 0, \"ticks\": \"\"}, \"type\": \"mesh3d\"}], \"parcoords\": [{\"line\": {\"colorbar\": {\"outlinewidth\": 0, \"ticks\": \"\"}}, \"type\": \"parcoords\"}], \"pie\": [{\"automargin\": true, \"type\": \"pie\"}], \"scatter\": [{\"marker\": {\"colorbar\": {\"outlinewidth\": 0, \"ticks\": \"\"}}, \"type\": \"scatter\"}], \"scatter3d\": [{\"line\": {\"colorbar\": {\"outlinewidth\": 0, \"ticks\": \"\"}}, \"marker\": {\"colorbar\": {\"outlinewidth\": 0, \"ticks\": \"\"}}, \"type\": \"scatter3d\"}], \"scattercarpet\": [{\"marker\": {\"colorbar\": {\"outlinewidth\": 0, \"ticks\": \"\"}}, \"type\": \"scattercarpet\"}], \"scattergeo\": [{\"marker\": {\"colorbar\": {\"outlinewidth\": 0, \"ticks\": \"\"}}, \"type\": \"scattergeo\"}], \"scattergl\": [{\"marker\": {\"colorbar\": {\"outlinewidth\": 0, \"ticks\": \"\"}}, \"type\": \"scattergl\"}], \"scattermapbox\": [{\"marker\": {\"colorbar\": {\"outlinewidth\": 0, \"ticks\": \"\"}}, \"type\": \"scattermapbox\"}], \"scatterpolar\": [{\"marker\": {\"colorbar\": {\"outlinewidth\": 0, \"ticks\": \"\"}}, \"type\": \"scatterpolar\"}], \"scatterpolargl\": [{\"marker\": {\"colorbar\": {\"outlinewidth\": 0, \"ticks\": \"\"}}, \"type\": \"scatterpolargl\"}], \"scatterternary\": [{\"marker\": {\"colorbar\": {\"outlinewidth\": 0, \"ticks\": \"\"}}, \"type\": \"scatterternary\"}], \"surface\": [{\"colorbar\": {\"outlinewidth\": 0, \"ticks\": \"\"}, \"colorscale\": [[0.0, \"#0d0887\"], [0.1111111111111111, \"#46039f\"], [0.2222222222222222, \"#7201a8\"], [0.3333333333333333, \"#9c179e\"], [0.4444444444444444, \"#bd3786\"], [0.5555555555555556, \"#d8576b\"], [0.6666666666666666, \"#ed7953\"], [0.7777777777777778, \"#fb9f3a\"], [0.8888888888888888, \"#fdca26\"], [1.0, \"#f0f921\"]], \"type\": \"surface\"}], \"table\": [{\"cells\": {\"fill\": {\"color\": \"#EBF0F8\"}, \"line\": {\"color\": \"white\"}}, \"header\": {\"fill\": {\"color\": \"#C8D4E3\"}, \"line\": {\"color\": \"white\"}}, \"type\": \"table\"}]}, \"layout\": {\"annotationdefaults\": {\"arrowcolor\": \"#2a3f5f\", \"arrowhead\": 0, \"arrowwidth\": 1}, \"coloraxis\": {\"colorbar\": {\"outlinewidth\": 0, \"ticks\": \"\"}}, \"colorscale\": {\"diverging\": [[0, \"#8e0152\"], [0.1, \"#c51b7d\"], [0.2, \"#de77ae\"], [0.3, \"#f1b6da\"], [0.4, \"#fde0ef\"], [0.5, \"#f7f7f7\"], [0.6, \"#e6f5d0\"], [0.7, \"#b8e186\"], [0.8, \"#7fbc41\"], [0.9, \"#4d9221\"], [1, \"#276419\"]], \"sequential\": [[0.0, \"#0d0887\"], [0.1111111111111111, \"#46039f\"], [0.2222222222222222, \"#7201a8\"], [0.3333333333333333, \"#9c179e\"], [0.4444444444444444, \"#bd3786\"], [0.5555555555555556, \"#d8576b\"], [0.6666666666666666, \"#ed7953\"], [0.7777777777777778, \"#fb9f3a\"], [0.8888888888888888, \"#fdca26\"], [1.0, \"#f0f921\"]], \"sequentialminus\": [[0.0, \"#0d0887\"], [0.1111111111111111, \"#46039f\"], [0.2222222222222222, \"#7201a8\"], [0.3333333333333333, \"#9c179e\"], [0.4444444444444444, \"#bd3786\"], [0.5555555555555556, \"#d8576b\"], [0.6666666666666666, \"#ed7953\"], [0.7777777777777778, \"#fb9f3a\"], [0.8888888888888888, \"#fdca26\"], [1.0, \"#f0f921\"]]}, \"colorway\": [\"#636efa\", \"#EF553B\", \"#00cc96\", \"#ab63fa\", \"#FFA15A\", \"#19d3f3\", \"#FF6692\", \"#B6E880\", \"#FF97FF\", \"#FECB52\"], \"font\": {\"color\": \"#2a3f5f\"}, \"geo\": {\"bgcolor\": \"white\", \"lakecolor\": \"white\", \"landcolor\": \"#E5ECF6\", \"showlakes\": true, \"showland\": true, \"subunitcolor\": \"white\"}, \"hoverlabel\": {\"align\": \"left\"}, \"hovermode\": \"closest\", \"mapbox\": {\"style\": \"light\"}, \"paper_bgcolor\": \"white\", \"plot_bgcolor\": \"#E5ECF6\", \"polar\": {\"angularaxis\": {\"gridcolor\": \"white\", \"linecolor\": \"white\", \"ticks\": \"\"}, \"bgcolor\": \"#E5ECF6\", \"radialaxis\": {\"gridcolor\": \"white\", \"linecolor\": \"white\", \"ticks\": \"\"}}, \"scene\": {\"xaxis\": {\"backgroundcolor\": \"#E5ECF6\", \"gridcolor\": \"white\", \"gridwidth\": 2, \"linecolor\": \"white\", \"showbackground\": true, \"ticks\": \"\", \"zerolinecolor\": \"white\"}, \"yaxis\": {\"backgroundcolor\": \"#E5ECF6\", \"gridcolor\": \"white\", \"gridwidth\": 2, \"linecolor\": \"white\", \"showbackground\": true, \"ticks\": \"\", \"zerolinecolor\": \"white\"}, \"zaxis\": {\"backgroundcolor\": \"#E5ECF6\", \"gridcolor\": \"white\", \"gridwidth\": 2, \"linecolor\": \"white\", \"showbackground\": true, \"ticks\": \"\", \"zerolinecolor\": \"white\"}}, \"shapedefaults\": {\"line\": {\"color\": \"#2a3f5f\"}}, \"ternary\": {\"aaxis\": {\"gridcolor\": \"white\", \"linecolor\": \"white\", \"ticks\": \"\"}, \"baxis\": {\"gridcolor\": \"white\", \"linecolor\": \"white\", \"ticks\": \"\"}, \"bgcolor\": \"#E5ECF6\", \"caxis\": {\"gridcolor\": \"white\", \"linecolor\": \"white\", \"ticks\": \"\"}}, \"title\": {\"x\": 0.05}, \"xaxis\": {\"automargin\": true, \"gridcolor\": \"white\", \"linecolor\": \"white\", \"ticks\": \"\", \"title\": {\"standoff\": 15}, \"zerolinecolor\": \"white\", \"zerolinewidth\": 2}, \"yaxis\": {\"automargin\": true, \"gridcolor\": \"white\", \"linecolor\": \"white\", \"ticks\": \"\", \"title\": {\"standoff\": 15}, \"zerolinecolor\": \"white\", \"zerolinewidth\": 2}}}, \"title\": {\"font\": {\"color\": \"#4D5663\"}}, \"xaxis\": {\"gridcolor\": \"#E1E5ED\", \"showgrid\": true, \"tickfont\": {\"color\": \"#4D5663\"}, \"title\": {\"font\": {\"color\": \"#4D5663\"}, \"text\": \"\"}, \"zerolinecolor\": \"#E1E5ED\"}, \"yaxis\": {\"gridcolor\": \"#E1E5ED\", \"showgrid\": true, \"tickfont\": {\"color\": \"#4D5663\"}, \"title\": {\"font\": {\"color\": \"#4D5663\"}, \"text\": \"\"}, \"zerolinecolor\": \"#E1E5ED\"}},\n",
       "                        {\"showLink\": true, \"linkText\": \"Export to plot.ly\", \"plotlyServerURL\": \"https://plot.ly\", \"responsive\": true}\n",
       "                    ).then(function(){\n",
       "                            \n",
       "var gd = document.getElementById('b10521b7-7c22-44fa-ab7c-b12b01035653');\n",
       "var x = new MutationObserver(function (mutations, observer) {{\n",
       "        var display = window.getComputedStyle(gd).display;\n",
       "        if (!display || display === 'none') {{\n",
       "            console.log([gd, 'removed!']);\n",
       "            Plotly.purge(gd);\n",
       "            observer.disconnect();\n",
       "        }}\n",
       "}});\n",
       "\n",
       "// Listen for the removal of the full notebook cells\n",
       "var notebookContainer = gd.closest('#notebook-container');\n",
       "if (notebookContainer) {{\n",
       "    x.observe(notebookContainer, {childList: true});\n",
       "}}\n",
       "\n",
       "// Listen for the clearing of the current output cell\n",
       "var outputEl = gd.closest('.output');\n",
       "if (outputEl) {{\n",
       "    x.observe(outputEl, {childList: true});\n",
       "}}\n",
       "\n",
       "                        })\n",
       "                };\n",
       "                });\n",
       "            </script>\n",
       "        </div>"
      ]
     },
     "metadata": {},
     "output_type": "display_data"
    }
   ],
   "source": [
    "df.iplot(kind='scatter',x='A', y='B', mode='markers', size=11)"
   ]
  },
  {
   "cell_type": "code",
   "execution_count": 31,
   "metadata": {},
   "outputs": [
    {
     "data": {
      "application/vnd.plotly.v1+json": {
       "config": {
        "linkText": "Export to plot.ly",
        "plotlyServerURL": "https://plot.ly",
        "showLink": true
       },
       "data": [
        {
         "marker": {
          "color": "rgba(255, 153, 51, 0.6)",
          "line": {
           "color": "rgba(255, 153, 51, 1.0)",
           "width": 1
          }
         },
         "name": "Values",
         "orientation": "v",
         "text": "",
         "type": "bar",
         "x": [
          "A",
          "B",
          "C"
         ],
         "y": [
          32,
          43,
          50
         ]
        }
       ],
       "layout": {
        "legend": {
         "bgcolor": "#F5F6F9",
         "font": {
          "color": "#4D5663"
         }
        },
        "paper_bgcolor": "#F5F6F9",
        "plot_bgcolor": "#F5F6F9",
        "template": {
         "data": {
          "bar": [
           {
            "error_x": {
             "color": "#2a3f5f"
            },
            "error_y": {
             "color": "#2a3f5f"
            },
            "marker": {
             "line": {
              "color": "#E5ECF6",
              "width": 0.5
             }
            },
            "type": "bar"
           }
          ],
          "barpolar": [
           {
            "marker": {
             "line": {
              "color": "#E5ECF6",
              "width": 0.5
             }
            },
            "type": "barpolar"
           }
          ],
          "carpet": [
           {
            "aaxis": {
             "endlinecolor": "#2a3f5f",
             "gridcolor": "white",
             "linecolor": "white",
             "minorgridcolor": "white",
             "startlinecolor": "#2a3f5f"
            },
            "baxis": {
             "endlinecolor": "#2a3f5f",
             "gridcolor": "white",
             "linecolor": "white",
             "minorgridcolor": "white",
             "startlinecolor": "#2a3f5f"
            },
            "type": "carpet"
           }
          ],
          "choropleth": [
           {
            "colorbar": {
             "outlinewidth": 0,
             "ticks": ""
            },
            "type": "choropleth"
           }
          ],
          "contour": [
           {
            "colorbar": {
             "outlinewidth": 0,
             "ticks": ""
            },
            "colorscale": [
             [
              0,
              "#0d0887"
             ],
             [
              0.1111111111111111,
              "#46039f"
             ],
             [
              0.2222222222222222,
              "#7201a8"
             ],
             [
              0.3333333333333333,
              "#9c179e"
             ],
             [
              0.4444444444444444,
              "#bd3786"
             ],
             [
              0.5555555555555556,
              "#d8576b"
             ],
             [
              0.6666666666666666,
              "#ed7953"
             ],
             [
              0.7777777777777778,
              "#fb9f3a"
             ],
             [
              0.8888888888888888,
              "#fdca26"
             ],
             [
              1,
              "#f0f921"
             ]
            ],
            "type": "contour"
           }
          ],
          "contourcarpet": [
           {
            "colorbar": {
             "outlinewidth": 0,
             "ticks": ""
            },
            "type": "contourcarpet"
           }
          ],
          "heatmap": [
           {
            "colorbar": {
             "outlinewidth": 0,
             "ticks": ""
            },
            "colorscale": [
             [
              0,
              "#0d0887"
             ],
             [
              0.1111111111111111,
              "#46039f"
             ],
             [
              0.2222222222222222,
              "#7201a8"
             ],
             [
              0.3333333333333333,
              "#9c179e"
             ],
             [
              0.4444444444444444,
              "#bd3786"
             ],
             [
              0.5555555555555556,
              "#d8576b"
             ],
             [
              0.6666666666666666,
              "#ed7953"
             ],
             [
              0.7777777777777778,
              "#fb9f3a"
             ],
             [
              0.8888888888888888,
              "#fdca26"
             ],
             [
              1,
              "#f0f921"
             ]
            ],
            "type": "heatmap"
           }
          ],
          "heatmapgl": [
           {
            "colorbar": {
             "outlinewidth": 0,
             "ticks": ""
            },
            "colorscale": [
             [
              0,
              "#0d0887"
             ],
             [
              0.1111111111111111,
              "#46039f"
             ],
             [
              0.2222222222222222,
              "#7201a8"
             ],
             [
              0.3333333333333333,
              "#9c179e"
             ],
             [
              0.4444444444444444,
              "#bd3786"
             ],
             [
              0.5555555555555556,
              "#d8576b"
             ],
             [
              0.6666666666666666,
              "#ed7953"
             ],
             [
              0.7777777777777778,
              "#fb9f3a"
             ],
             [
              0.8888888888888888,
              "#fdca26"
             ],
             [
              1,
              "#f0f921"
             ]
            ],
            "type": "heatmapgl"
           }
          ],
          "histogram": [
           {
            "marker": {
             "colorbar": {
              "outlinewidth": 0,
              "ticks": ""
             }
            },
            "type": "histogram"
           }
          ],
          "histogram2d": [
           {
            "colorbar": {
             "outlinewidth": 0,
             "ticks": ""
            },
            "colorscale": [
             [
              0,
              "#0d0887"
             ],
             [
              0.1111111111111111,
              "#46039f"
             ],
             [
              0.2222222222222222,
              "#7201a8"
             ],
             [
              0.3333333333333333,
              "#9c179e"
             ],
             [
              0.4444444444444444,
              "#bd3786"
             ],
             [
              0.5555555555555556,
              "#d8576b"
             ],
             [
              0.6666666666666666,
              "#ed7953"
             ],
             [
              0.7777777777777778,
              "#fb9f3a"
             ],
             [
              0.8888888888888888,
              "#fdca26"
             ],
             [
              1,
              "#f0f921"
             ]
            ],
            "type": "histogram2d"
           }
          ],
          "histogram2dcontour": [
           {
            "colorbar": {
             "outlinewidth": 0,
             "ticks": ""
            },
            "colorscale": [
             [
              0,
              "#0d0887"
             ],
             [
              0.1111111111111111,
              "#46039f"
             ],
             [
              0.2222222222222222,
              "#7201a8"
             ],
             [
              0.3333333333333333,
              "#9c179e"
             ],
             [
              0.4444444444444444,
              "#bd3786"
             ],
             [
              0.5555555555555556,
              "#d8576b"
             ],
             [
              0.6666666666666666,
              "#ed7953"
             ],
             [
              0.7777777777777778,
              "#fb9f3a"
             ],
             [
              0.8888888888888888,
              "#fdca26"
             ],
             [
              1,
              "#f0f921"
             ]
            ],
            "type": "histogram2dcontour"
           }
          ],
          "mesh3d": [
           {
            "colorbar": {
             "outlinewidth": 0,
             "ticks": ""
            },
            "type": "mesh3d"
           }
          ],
          "parcoords": [
           {
            "line": {
             "colorbar": {
              "outlinewidth": 0,
              "ticks": ""
             }
            },
            "type": "parcoords"
           }
          ],
          "pie": [
           {
            "automargin": true,
            "type": "pie"
           }
          ],
          "scatter": [
           {
            "marker": {
             "colorbar": {
              "outlinewidth": 0,
              "ticks": ""
             }
            },
            "type": "scatter"
           }
          ],
          "scatter3d": [
           {
            "line": {
             "colorbar": {
              "outlinewidth": 0,
              "ticks": ""
             }
            },
            "marker": {
             "colorbar": {
              "outlinewidth": 0,
              "ticks": ""
             }
            },
            "type": "scatter3d"
           }
          ],
          "scattercarpet": [
           {
            "marker": {
             "colorbar": {
              "outlinewidth": 0,
              "ticks": ""
             }
            },
            "type": "scattercarpet"
           }
          ],
          "scattergeo": [
           {
            "marker": {
             "colorbar": {
              "outlinewidth": 0,
              "ticks": ""
             }
            },
            "type": "scattergeo"
           }
          ],
          "scattergl": [
           {
            "marker": {
             "colorbar": {
              "outlinewidth": 0,
              "ticks": ""
             }
            },
            "type": "scattergl"
           }
          ],
          "scattermapbox": [
           {
            "marker": {
             "colorbar": {
              "outlinewidth": 0,
              "ticks": ""
             }
            },
            "type": "scattermapbox"
           }
          ],
          "scatterpolar": [
           {
            "marker": {
             "colorbar": {
              "outlinewidth": 0,
              "ticks": ""
             }
            },
            "type": "scatterpolar"
           }
          ],
          "scatterpolargl": [
           {
            "marker": {
             "colorbar": {
              "outlinewidth": 0,
              "ticks": ""
             }
            },
            "type": "scatterpolargl"
           }
          ],
          "scatterternary": [
           {
            "marker": {
             "colorbar": {
              "outlinewidth": 0,
              "ticks": ""
             }
            },
            "type": "scatterternary"
           }
          ],
          "surface": [
           {
            "colorbar": {
             "outlinewidth": 0,
             "ticks": ""
            },
            "colorscale": [
             [
              0,
              "#0d0887"
             ],
             [
              0.1111111111111111,
              "#46039f"
             ],
             [
              0.2222222222222222,
              "#7201a8"
             ],
             [
              0.3333333333333333,
              "#9c179e"
             ],
             [
              0.4444444444444444,
              "#bd3786"
             ],
             [
              0.5555555555555556,
              "#d8576b"
             ],
             [
              0.6666666666666666,
              "#ed7953"
             ],
             [
              0.7777777777777778,
              "#fb9f3a"
             ],
             [
              0.8888888888888888,
              "#fdca26"
             ],
             [
              1,
              "#f0f921"
             ]
            ],
            "type": "surface"
           }
          ],
          "table": [
           {
            "cells": {
             "fill": {
              "color": "#EBF0F8"
             },
             "line": {
              "color": "white"
             }
            },
            "header": {
             "fill": {
              "color": "#C8D4E3"
             },
             "line": {
              "color": "white"
             }
            },
            "type": "table"
           }
          ]
         },
         "layout": {
          "annotationdefaults": {
           "arrowcolor": "#2a3f5f",
           "arrowhead": 0,
           "arrowwidth": 1
          },
          "coloraxis": {
           "colorbar": {
            "outlinewidth": 0,
            "ticks": ""
           }
          },
          "colorscale": {
           "diverging": [
            [
             0,
             "#8e0152"
            ],
            [
             0.1,
             "#c51b7d"
            ],
            [
             0.2,
             "#de77ae"
            ],
            [
             0.3,
             "#f1b6da"
            ],
            [
             0.4,
             "#fde0ef"
            ],
            [
             0.5,
             "#f7f7f7"
            ],
            [
             0.6,
             "#e6f5d0"
            ],
            [
             0.7,
             "#b8e186"
            ],
            [
             0.8,
             "#7fbc41"
            ],
            [
             0.9,
             "#4d9221"
            ],
            [
             1,
             "#276419"
            ]
           ],
           "sequential": [
            [
             0,
             "#0d0887"
            ],
            [
             0.1111111111111111,
             "#46039f"
            ],
            [
             0.2222222222222222,
             "#7201a8"
            ],
            [
             0.3333333333333333,
             "#9c179e"
            ],
            [
             0.4444444444444444,
             "#bd3786"
            ],
            [
             0.5555555555555556,
             "#d8576b"
            ],
            [
             0.6666666666666666,
             "#ed7953"
            ],
            [
             0.7777777777777778,
             "#fb9f3a"
            ],
            [
             0.8888888888888888,
             "#fdca26"
            ],
            [
             1,
             "#f0f921"
            ]
           ],
           "sequentialminus": [
            [
             0,
             "#0d0887"
            ],
            [
             0.1111111111111111,
             "#46039f"
            ],
            [
             0.2222222222222222,
             "#7201a8"
            ],
            [
             0.3333333333333333,
             "#9c179e"
            ],
            [
             0.4444444444444444,
             "#bd3786"
            ],
            [
             0.5555555555555556,
             "#d8576b"
            ],
            [
             0.6666666666666666,
             "#ed7953"
            ],
            [
             0.7777777777777778,
             "#fb9f3a"
            ],
            [
             0.8888888888888888,
             "#fdca26"
            ],
            [
             1,
             "#f0f921"
            ]
           ]
          },
          "colorway": [
           "#636efa",
           "#EF553B",
           "#00cc96",
           "#ab63fa",
           "#FFA15A",
           "#19d3f3",
           "#FF6692",
           "#B6E880",
           "#FF97FF",
           "#FECB52"
          ],
          "font": {
           "color": "#2a3f5f"
          },
          "geo": {
           "bgcolor": "white",
           "lakecolor": "white",
           "landcolor": "#E5ECF6",
           "showlakes": true,
           "showland": true,
           "subunitcolor": "white"
          },
          "hoverlabel": {
           "align": "left"
          },
          "hovermode": "closest",
          "mapbox": {
           "style": "light"
          },
          "paper_bgcolor": "white",
          "plot_bgcolor": "#E5ECF6",
          "polar": {
           "angularaxis": {
            "gridcolor": "white",
            "linecolor": "white",
            "ticks": ""
           },
           "bgcolor": "#E5ECF6",
           "radialaxis": {
            "gridcolor": "white",
            "linecolor": "white",
            "ticks": ""
           }
          },
          "scene": {
           "xaxis": {
            "backgroundcolor": "#E5ECF6",
            "gridcolor": "white",
            "gridwidth": 2,
            "linecolor": "white",
            "showbackground": true,
            "ticks": "",
            "zerolinecolor": "white"
           },
           "yaxis": {
            "backgroundcolor": "#E5ECF6",
            "gridcolor": "white",
            "gridwidth": 2,
            "linecolor": "white",
            "showbackground": true,
            "ticks": "",
            "zerolinecolor": "white"
           },
           "zaxis": {
            "backgroundcolor": "#E5ECF6",
            "gridcolor": "white",
            "gridwidth": 2,
            "linecolor": "white",
            "showbackground": true,
            "ticks": "",
            "zerolinecolor": "white"
           }
          },
          "shapedefaults": {
           "line": {
            "color": "#2a3f5f"
           }
          },
          "ternary": {
           "aaxis": {
            "gridcolor": "white",
            "linecolor": "white",
            "ticks": ""
           },
           "baxis": {
            "gridcolor": "white",
            "linecolor": "white",
            "ticks": ""
           },
           "bgcolor": "#E5ECF6",
           "caxis": {
            "gridcolor": "white",
            "linecolor": "white",
            "ticks": ""
           }
          },
          "title": {
           "x": 0.05
          },
          "xaxis": {
           "automargin": true,
           "gridcolor": "white",
           "linecolor": "white",
           "ticks": "",
           "title": {
            "standoff": 15
           },
           "zerolinecolor": "white",
           "zerolinewidth": 2
          },
          "yaxis": {
           "automargin": true,
           "gridcolor": "white",
           "linecolor": "white",
           "ticks": "",
           "title": {
            "standoff": 15
           },
           "zerolinecolor": "white",
           "zerolinewidth": 2
          }
         }
        },
        "title": {
         "font": {
          "color": "#4D5663"
         }
        },
        "xaxis": {
         "gridcolor": "#E1E5ED",
         "showgrid": true,
         "tickfont": {
          "color": "#4D5663"
         },
         "title": {
          "font": {
           "color": "#4D5663"
          },
          "text": ""
         },
         "zerolinecolor": "#E1E5ED"
        },
        "yaxis": {
         "gridcolor": "#E1E5ED",
         "showgrid": true,
         "tickfont": {
          "color": "#4D5663"
         },
         "title": {
          "font": {
           "color": "#4D5663"
          },
          "text": ""
         },
         "zerolinecolor": "#E1E5ED"
        }
       }
      },
      "text/html": [
       "<div>\n",
       "        \n",
       "        \n",
       "            <div id=\"baabd823-b740-44ea-8274-86c66352e17b\" class=\"plotly-graph-div\" style=\"height:525px; width:100%;\"></div>\n",
       "            <script type=\"text/javascript\">\n",
       "                require([\"plotly\"], function(Plotly) {\n",
       "                    window.PLOTLYENV=window.PLOTLYENV || {};\n",
       "                    window.PLOTLYENV.BASE_URL='https://plot.ly';\n",
       "                    \n",
       "                if (document.getElementById(\"baabd823-b740-44ea-8274-86c66352e17b\")) {\n",
       "                    Plotly.newPlot(\n",
       "                        'baabd823-b740-44ea-8274-86c66352e17b',\n",
       "                        [{\"marker\": {\"color\": \"rgba(255, 153, 51, 0.6)\", \"line\": {\"color\": \"rgba(255, 153, 51, 1.0)\", \"width\": 1}}, \"name\": \"Values\", \"orientation\": \"v\", \"text\": \"\", \"type\": \"bar\", \"x\": [\"A\", \"B\", \"C\"], \"y\": [32, 43, 50]}],\n",
       "                        {\"legend\": {\"bgcolor\": \"#F5F6F9\", \"font\": {\"color\": \"#4D5663\"}}, \"paper_bgcolor\": \"#F5F6F9\", \"plot_bgcolor\": \"#F5F6F9\", \"template\": {\"data\": {\"bar\": [{\"error_x\": {\"color\": \"#2a3f5f\"}, \"error_y\": {\"color\": \"#2a3f5f\"}, \"marker\": {\"line\": {\"color\": \"#E5ECF6\", \"width\": 0.5}}, \"type\": \"bar\"}], \"barpolar\": [{\"marker\": {\"line\": {\"color\": \"#E5ECF6\", \"width\": 0.5}}, \"type\": \"barpolar\"}], \"carpet\": [{\"aaxis\": {\"endlinecolor\": \"#2a3f5f\", \"gridcolor\": \"white\", \"linecolor\": \"white\", \"minorgridcolor\": \"white\", \"startlinecolor\": \"#2a3f5f\"}, \"baxis\": {\"endlinecolor\": \"#2a3f5f\", \"gridcolor\": \"white\", \"linecolor\": \"white\", \"minorgridcolor\": \"white\", \"startlinecolor\": \"#2a3f5f\"}, \"type\": \"carpet\"}], \"choropleth\": [{\"colorbar\": {\"outlinewidth\": 0, \"ticks\": \"\"}, \"type\": \"choropleth\"}], \"contour\": [{\"colorbar\": {\"outlinewidth\": 0, \"ticks\": \"\"}, \"colorscale\": [[0.0, \"#0d0887\"], [0.1111111111111111, \"#46039f\"], [0.2222222222222222, \"#7201a8\"], [0.3333333333333333, \"#9c179e\"], [0.4444444444444444, \"#bd3786\"], [0.5555555555555556, \"#d8576b\"], [0.6666666666666666, \"#ed7953\"], [0.7777777777777778, \"#fb9f3a\"], [0.8888888888888888, \"#fdca26\"], [1.0, \"#f0f921\"]], \"type\": \"contour\"}], \"contourcarpet\": [{\"colorbar\": {\"outlinewidth\": 0, \"ticks\": \"\"}, \"type\": \"contourcarpet\"}], \"heatmap\": [{\"colorbar\": {\"outlinewidth\": 0, \"ticks\": \"\"}, \"colorscale\": [[0.0, \"#0d0887\"], [0.1111111111111111, \"#46039f\"], [0.2222222222222222, \"#7201a8\"], [0.3333333333333333, \"#9c179e\"], [0.4444444444444444, \"#bd3786\"], [0.5555555555555556, \"#d8576b\"], [0.6666666666666666, \"#ed7953\"], [0.7777777777777778, \"#fb9f3a\"], [0.8888888888888888, \"#fdca26\"], [1.0, \"#f0f921\"]], \"type\": \"heatmap\"}], \"heatmapgl\": [{\"colorbar\": {\"outlinewidth\": 0, \"ticks\": \"\"}, \"colorscale\": [[0.0, \"#0d0887\"], [0.1111111111111111, \"#46039f\"], [0.2222222222222222, \"#7201a8\"], [0.3333333333333333, \"#9c179e\"], [0.4444444444444444, \"#bd3786\"], [0.5555555555555556, \"#d8576b\"], [0.6666666666666666, \"#ed7953\"], [0.7777777777777778, \"#fb9f3a\"], [0.8888888888888888, \"#fdca26\"], [1.0, \"#f0f921\"]], \"type\": \"heatmapgl\"}], \"histogram\": [{\"marker\": {\"colorbar\": {\"outlinewidth\": 0, \"ticks\": \"\"}}, \"type\": \"histogram\"}], \"histogram2d\": [{\"colorbar\": {\"outlinewidth\": 0, \"ticks\": \"\"}, \"colorscale\": [[0.0, \"#0d0887\"], [0.1111111111111111, \"#46039f\"], [0.2222222222222222, \"#7201a8\"], [0.3333333333333333, \"#9c179e\"], [0.4444444444444444, \"#bd3786\"], [0.5555555555555556, \"#d8576b\"], [0.6666666666666666, \"#ed7953\"], [0.7777777777777778, \"#fb9f3a\"], [0.8888888888888888, \"#fdca26\"], [1.0, \"#f0f921\"]], \"type\": \"histogram2d\"}], \"histogram2dcontour\": [{\"colorbar\": {\"outlinewidth\": 0, \"ticks\": \"\"}, \"colorscale\": [[0.0, \"#0d0887\"], [0.1111111111111111, \"#46039f\"], [0.2222222222222222, \"#7201a8\"], [0.3333333333333333, \"#9c179e\"], [0.4444444444444444, \"#bd3786\"], [0.5555555555555556, \"#d8576b\"], [0.6666666666666666, \"#ed7953\"], [0.7777777777777778, \"#fb9f3a\"], [0.8888888888888888, \"#fdca26\"], [1.0, \"#f0f921\"]], \"type\": \"histogram2dcontour\"}], \"mesh3d\": [{\"colorbar\": {\"outlinewidth\": 0, \"ticks\": \"\"}, \"type\": \"mesh3d\"}], \"parcoords\": [{\"line\": {\"colorbar\": {\"outlinewidth\": 0, \"ticks\": \"\"}}, \"type\": \"parcoords\"}], \"pie\": [{\"automargin\": true, \"type\": \"pie\"}], \"scatter\": [{\"marker\": {\"colorbar\": {\"outlinewidth\": 0, \"ticks\": \"\"}}, \"type\": \"scatter\"}], \"scatter3d\": [{\"line\": {\"colorbar\": {\"outlinewidth\": 0, \"ticks\": \"\"}}, \"marker\": {\"colorbar\": {\"outlinewidth\": 0, \"ticks\": \"\"}}, \"type\": \"scatter3d\"}], \"scattercarpet\": [{\"marker\": {\"colorbar\": {\"outlinewidth\": 0, \"ticks\": \"\"}}, \"type\": \"scattercarpet\"}], \"scattergeo\": [{\"marker\": {\"colorbar\": {\"outlinewidth\": 0, \"ticks\": \"\"}}, \"type\": \"scattergeo\"}], \"scattergl\": [{\"marker\": {\"colorbar\": {\"outlinewidth\": 0, \"ticks\": \"\"}}, \"type\": \"scattergl\"}], \"scattermapbox\": [{\"marker\": {\"colorbar\": {\"outlinewidth\": 0, \"ticks\": \"\"}}, \"type\": \"scattermapbox\"}], \"scatterpolar\": [{\"marker\": {\"colorbar\": {\"outlinewidth\": 0, \"ticks\": \"\"}}, \"type\": \"scatterpolar\"}], \"scatterpolargl\": [{\"marker\": {\"colorbar\": {\"outlinewidth\": 0, \"ticks\": \"\"}}, \"type\": \"scatterpolargl\"}], \"scatterternary\": [{\"marker\": {\"colorbar\": {\"outlinewidth\": 0, \"ticks\": \"\"}}, \"type\": \"scatterternary\"}], \"surface\": [{\"colorbar\": {\"outlinewidth\": 0, \"ticks\": \"\"}, \"colorscale\": [[0.0, \"#0d0887\"], [0.1111111111111111, \"#46039f\"], [0.2222222222222222, \"#7201a8\"], [0.3333333333333333, \"#9c179e\"], [0.4444444444444444, \"#bd3786\"], [0.5555555555555556, \"#d8576b\"], [0.6666666666666666, \"#ed7953\"], [0.7777777777777778, \"#fb9f3a\"], [0.8888888888888888, \"#fdca26\"], [1.0, \"#f0f921\"]], \"type\": \"surface\"}], \"table\": [{\"cells\": {\"fill\": {\"color\": \"#EBF0F8\"}, \"line\": {\"color\": \"white\"}}, \"header\": {\"fill\": {\"color\": \"#C8D4E3\"}, \"line\": {\"color\": \"white\"}}, \"type\": \"table\"}]}, \"layout\": {\"annotationdefaults\": {\"arrowcolor\": \"#2a3f5f\", \"arrowhead\": 0, \"arrowwidth\": 1}, \"coloraxis\": {\"colorbar\": {\"outlinewidth\": 0, \"ticks\": \"\"}}, \"colorscale\": {\"diverging\": [[0, \"#8e0152\"], [0.1, \"#c51b7d\"], [0.2, \"#de77ae\"], [0.3, \"#f1b6da\"], [0.4, \"#fde0ef\"], [0.5, \"#f7f7f7\"], [0.6, \"#e6f5d0\"], [0.7, \"#b8e186\"], [0.8, \"#7fbc41\"], [0.9, \"#4d9221\"], [1, \"#276419\"]], \"sequential\": [[0.0, \"#0d0887\"], [0.1111111111111111, \"#46039f\"], [0.2222222222222222, \"#7201a8\"], [0.3333333333333333, \"#9c179e\"], [0.4444444444444444, \"#bd3786\"], [0.5555555555555556, \"#d8576b\"], [0.6666666666666666, \"#ed7953\"], [0.7777777777777778, \"#fb9f3a\"], [0.8888888888888888, \"#fdca26\"], [1.0, \"#f0f921\"]], \"sequentialminus\": [[0.0, \"#0d0887\"], [0.1111111111111111, \"#46039f\"], [0.2222222222222222, \"#7201a8\"], [0.3333333333333333, \"#9c179e\"], [0.4444444444444444, \"#bd3786\"], [0.5555555555555556, \"#d8576b\"], [0.6666666666666666, \"#ed7953\"], [0.7777777777777778, \"#fb9f3a\"], [0.8888888888888888, \"#fdca26\"], [1.0, \"#f0f921\"]]}, \"colorway\": [\"#636efa\", \"#EF553B\", \"#00cc96\", \"#ab63fa\", \"#FFA15A\", \"#19d3f3\", \"#FF6692\", \"#B6E880\", \"#FF97FF\", \"#FECB52\"], \"font\": {\"color\": \"#2a3f5f\"}, \"geo\": {\"bgcolor\": \"white\", \"lakecolor\": \"white\", \"landcolor\": \"#E5ECF6\", \"showlakes\": true, \"showland\": true, \"subunitcolor\": \"white\"}, \"hoverlabel\": {\"align\": \"left\"}, \"hovermode\": \"closest\", \"mapbox\": {\"style\": \"light\"}, \"paper_bgcolor\": \"white\", \"plot_bgcolor\": \"#E5ECF6\", \"polar\": {\"angularaxis\": {\"gridcolor\": \"white\", \"linecolor\": \"white\", \"ticks\": \"\"}, \"bgcolor\": \"#E5ECF6\", \"radialaxis\": {\"gridcolor\": \"white\", \"linecolor\": \"white\", \"ticks\": \"\"}}, \"scene\": {\"xaxis\": {\"backgroundcolor\": \"#E5ECF6\", \"gridcolor\": \"white\", \"gridwidth\": 2, \"linecolor\": \"white\", \"showbackground\": true, \"ticks\": \"\", \"zerolinecolor\": \"white\"}, \"yaxis\": {\"backgroundcolor\": \"#E5ECF6\", \"gridcolor\": \"white\", \"gridwidth\": 2, \"linecolor\": \"white\", \"showbackground\": true, \"ticks\": \"\", \"zerolinecolor\": \"white\"}, \"zaxis\": {\"backgroundcolor\": \"#E5ECF6\", \"gridcolor\": \"white\", \"gridwidth\": 2, \"linecolor\": \"white\", \"showbackground\": true, \"ticks\": \"\", \"zerolinecolor\": \"white\"}}, \"shapedefaults\": {\"line\": {\"color\": \"#2a3f5f\"}}, \"ternary\": {\"aaxis\": {\"gridcolor\": \"white\", \"linecolor\": \"white\", \"ticks\": \"\"}, \"baxis\": {\"gridcolor\": \"white\", \"linecolor\": \"white\", \"ticks\": \"\"}, \"bgcolor\": \"#E5ECF6\", \"caxis\": {\"gridcolor\": \"white\", \"linecolor\": \"white\", \"ticks\": \"\"}}, \"title\": {\"x\": 0.05}, \"xaxis\": {\"automargin\": true, \"gridcolor\": \"white\", \"linecolor\": \"white\", \"ticks\": \"\", \"title\": {\"standoff\": 15}, \"zerolinecolor\": \"white\", \"zerolinewidth\": 2}, \"yaxis\": {\"automargin\": true, \"gridcolor\": \"white\", \"linecolor\": \"white\", \"ticks\": \"\", \"title\": {\"standoff\": 15}, \"zerolinecolor\": \"white\", \"zerolinewidth\": 2}}}, \"title\": {\"font\": {\"color\": \"#4D5663\"}}, \"xaxis\": {\"gridcolor\": \"#E1E5ED\", \"showgrid\": true, \"tickfont\": {\"color\": \"#4D5663\"}, \"title\": {\"font\": {\"color\": \"#4D5663\"}, \"text\": \"\"}, \"zerolinecolor\": \"#E1E5ED\"}, \"yaxis\": {\"gridcolor\": \"#E1E5ED\", \"showgrid\": true, \"tickfont\": {\"color\": \"#4D5663\"}, \"title\": {\"font\": {\"color\": \"#4D5663\"}, \"text\": \"\"}, \"zerolinecolor\": \"#E1E5ED\"}},\n",
       "                        {\"showLink\": true, \"linkText\": \"Export to plot.ly\", \"plotlyServerURL\": \"https://plot.ly\", \"responsive\": true}\n",
       "                    ).then(function(){\n",
       "                            \n",
       "var gd = document.getElementById('baabd823-b740-44ea-8274-86c66352e17b');\n",
       "var x = new MutationObserver(function (mutations, observer) {{\n",
       "        var display = window.getComputedStyle(gd).display;\n",
       "        if (!display || display === 'none') {{\n",
       "            console.log([gd, 'removed!']);\n",
       "            Plotly.purge(gd);\n",
       "            observer.disconnect();\n",
       "        }}\n",
       "}});\n",
       "\n",
       "// Listen for the removal of the full notebook cells\n",
       "var notebookContainer = gd.closest('#notebook-container');\n",
       "if (notebookContainer) {{\n",
       "    x.observe(notebookContainer, {childList: true});\n",
       "}}\n",
       "\n",
       "// Listen for the clearing of the current output cell\n",
       "var outputEl = gd.closest('.output');\n",
       "if (outputEl) {{\n",
       "    x.observe(outputEl, {childList: true});\n",
       "}}\n",
       "\n",
       "                        })\n",
       "                };\n",
       "                });\n",
       "            </script>\n",
       "        </div>"
      ]
     },
     "metadata": {},
     "output_type": "display_data"
    }
   ],
   "source": [
    "df2.iplot(kind='bar',x='Category', y='Values')"
   ]
  },
  {
   "cell_type": "code",
   "execution_count": 33,
   "metadata": {},
   "outputs": [
    {
     "data": {
      "application/vnd.plotly.v1+json": {
       "config": {
        "linkText": "Export to plot.ly",
        "plotlyServerURL": "https://plot.ly",
        "showLink": true
       },
       "data": [
        {
         "marker": {
          "color": "rgba(255, 153, 51, 0.6)",
          "line": {
           "color": "rgba(255, 153, 51, 1.0)",
           "width": 1
          }
         },
         "name": "None",
         "orientation": "v",
         "text": "",
         "type": "bar",
         "x": [
          "A",
          "B",
          "C",
          "D"
         ],
         "y": [
          -5.546053753756233,
          -0.09536511891527244,
          -8.339153850586637,
          15.65887639972125
         ]
        }
       ],
       "layout": {
        "legend": {
         "bgcolor": "#F5F6F9",
         "font": {
          "color": "#4D5663"
         }
        },
        "paper_bgcolor": "#F5F6F9",
        "plot_bgcolor": "#F5F6F9",
        "template": {
         "data": {
          "bar": [
           {
            "error_x": {
             "color": "#2a3f5f"
            },
            "error_y": {
             "color": "#2a3f5f"
            },
            "marker": {
             "line": {
              "color": "#E5ECF6",
              "width": 0.5
             }
            },
            "type": "bar"
           }
          ],
          "barpolar": [
           {
            "marker": {
             "line": {
              "color": "#E5ECF6",
              "width": 0.5
             }
            },
            "type": "barpolar"
           }
          ],
          "carpet": [
           {
            "aaxis": {
             "endlinecolor": "#2a3f5f",
             "gridcolor": "white",
             "linecolor": "white",
             "minorgridcolor": "white",
             "startlinecolor": "#2a3f5f"
            },
            "baxis": {
             "endlinecolor": "#2a3f5f",
             "gridcolor": "white",
             "linecolor": "white",
             "minorgridcolor": "white",
             "startlinecolor": "#2a3f5f"
            },
            "type": "carpet"
           }
          ],
          "choropleth": [
           {
            "colorbar": {
             "outlinewidth": 0,
             "ticks": ""
            },
            "type": "choropleth"
           }
          ],
          "contour": [
           {
            "colorbar": {
             "outlinewidth": 0,
             "ticks": ""
            },
            "colorscale": [
             [
              0,
              "#0d0887"
             ],
             [
              0.1111111111111111,
              "#46039f"
             ],
             [
              0.2222222222222222,
              "#7201a8"
             ],
             [
              0.3333333333333333,
              "#9c179e"
             ],
             [
              0.4444444444444444,
              "#bd3786"
             ],
             [
              0.5555555555555556,
              "#d8576b"
             ],
             [
              0.6666666666666666,
              "#ed7953"
             ],
             [
              0.7777777777777778,
              "#fb9f3a"
             ],
             [
              0.8888888888888888,
              "#fdca26"
             ],
             [
              1,
              "#f0f921"
             ]
            ],
            "type": "contour"
           }
          ],
          "contourcarpet": [
           {
            "colorbar": {
             "outlinewidth": 0,
             "ticks": ""
            },
            "type": "contourcarpet"
           }
          ],
          "heatmap": [
           {
            "colorbar": {
             "outlinewidth": 0,
             "ticks": ""
            },
            "colorscale": [
             [
              0,
              "#0d0887"
             ],
             [
              0.1111111111111111,
              "#46039f"
             ],
             [
              0.2222222222222222,
              "#7201a8"
             ],
             [
              0.3333333333333333,
              "#9c179e"
             ],
             [
              0.4444444444444444,
              "#bd3786"
             ],
             [
              0.5555555555555556,
              "#d8576b"
             ],
             [
              0.6666666666666666,
              "#ed7953"
             ],
             [
              0.7777777777777778,
              "#fb9f3a"
             ],
             [
              0.8888888888888888,
              "#fdca26"
             ],
             [
              1,
              "#f0f921"
             ]
            ],
            "type": "heatmap"
           }
          ],
          "heatmapgl": [
           {
            "colorbar": {
             "outlinewidth": 0,
             "ticks": ""
            },
            "colorscale": [
             [
              0,
              "#0d0887"
             ],
             [
              0.1111111111111111,
              "#46039f"
             ],
             [
              0.2222222222222222,
              "#7201a8"
             ],
             [
              0.3333333333333333,
              "#9c179e"
             ],
             [
              0.4444444444444444,
              "#bd3786"
             ],
             [
              0.5555555555555556,
              "#d8576b"
             ],
             [
              0.6666666666666666,
              "#ed7953"
             ],
             [
              0.7777777777777778,
              "#fb9f3a"
             ],
             [
              0.8888888888888888,
              "#fdca26"
             ],
             [
              1,
              "#f0f921"
             ]
            ],
            "type": "heatmapgl"
           }
          ],
          "histogram": [
           {
            "marker": {
             "colorbar": {
              "outlinewidth": 0,
              "ticks": ""
             }
            },
            "type": "histogram"
           }
          ],
          "histogram2d": [
           {
            "colorbar": {
             "outlinewidth": 0,
             "ticks": ""
            },
            "colorscale": [
             [
              0,
              "#0d0887"
             ],
             [
              0.1111111111111111,
              "#46039f"
             ],
             [
              0.2222222222222222,
              "#7201a8"
             ],
             [
              0.3333333333333333,
              "#9c179e"
             ],
             [
              0.4444444444444444,
              "#bd3786"
             ],
             [
              0.5555555555555556,
              "#d8576b"
             ],
             [
              0.6666666666666666,
              "#ed7953"
             ],
             [
              0.7777777777777778,
              "#fb9f3a"
             ],
             [
              0.8888888888888888,
              "#fdca26"
             ],
             [
              1,
              "#f0f921"
             ]
            ],
            "type": "histogram2d"
           }
          ],
          "histogram2dcontour": [
           {
            "colorbar": {
             "outlinewidth": 0,
             "ticks": ""
            },
            "colorscale": [
             [
              0,
              "#0d0887"
             ],
             [
              0.1111111111111111,
              "#46039f"
             ],
             [
              0.2222222222222222,
              "#7201a8"
             ],
             [
              0.3333333333333333,
              "#9c179e"
             ],
             [
              0.4444444444444444,
              "#bd3786"
             ],
             [
              0.5555555555555556,
              "#d8576b"
             ],
             [
              0.6666666666666666,
              "#ed7953"
             ],
             [
              0.7777777777777778,
              "#fb9f3a"
             ],
             [
              0.8888888888888888,
              "#fdca26"
             ],
             [
              1,
              "#f0f921"
             ]
            ],
            "type": "histogram2dcontour"
           }
          ],
          "mesh3d": [
           {
            "colorbar": {
             "outlinewidth": 0,
             "ticks": ""
            },
            "type": "mesh3d"
           }
          ],
          "parcoords": [
           {
            "line": {
             "colorbar": {
              "outlinewidth": 0,
              "ticks": ""
             }
            },
            "type": "parcoords"
           }
          ],
          "pie": [
           {
            "automargin": true,
            "type": "pie"
           }
          ],
          "scatter": [
           {
            "marker": {
             "colorbar": {
              "outlinewidth": 0,
              "ticks": ""
             }
            },
            "type": "scatter"
           }
          ],
          "scatter3d": [
           {
            "line": {
             "colorbar": {
              "outlinewidth": 0,
              "ticks": ""
             }
            },
            "marker": {
             "colorbar": {
              "outlinewidth": 0,
              "ticks": ""
             }
            },
            "type": "scatter3d"
           }
          ],
          "scattercarpet": [
           {
            "marker": {
             "colorbar": {
              "outlinewidth": 0,
              "ticks": ""
             }
            },
            "type": "scattercarpet"
           }
          ],
          "scattergeo": [
           {
            "marker": {
             "colorbar": {
              "outlinewidth": 0,
              "ticks": ""
             }
            },
            "type": "scattergeo"
           }
          ],
          "scattergl": [
           {
            "marker": {
             "colorbar": {
              "outlinewidth": 0,
              "ticks": ""
             }
            },
            "type": "scattergl"
           }
          ],
          "scattermapbox": [
           {
            "marker": {
             "colorbar": {
              "outlinewidth": 0,
              "ticks": ""
             }
            },
            "type": "scattermapbox"
           }
          ],
          "scatterpolar": [
           {
            "marker": {
             "colorbar": {
              "outlinewidth": 0,
              "ticks": ""
             }
            },
            "type": "scatterpolar"
           }
          ],
          "scatterpolargl": [
           {
            "marker": {
             "colorbar": {
              "outlinewidth": 0,
              "ticks": ""
             }
            },
            "type": "scatterpolargl"
           }
          ],
          "scatterternary": [
           {
            "marker": {
             "colorbar": {
              "outlinewidth": 0,
              "ticks": ""
             }
            },
            "type": "scatterternary"
           }
          ],
          "surface": [
           {
            "colorbar": {
             "outlinewidth": 0,
             "ticks": ""
            },
            "colorscale": [
             [
              0,
              "#0d0887"
             ],
             [
              0.1111111111111111,
              "#46039f"
             ],
             [
              0.2222222222222222,
              "#7201a8"
             ],
             [
              0.3333333333333333,
              "#9c179e"
             ],
             [
              0.4444444444444444,
              "#bd3786"
             ],
             [
              0.5555555555555556,
              "#d8576b"
             ],
             [
              0.6666666666666666,
              "#ed7953"
             ],
             [
              0.7777777777777778,
              "#fb9f3a"
             ],
             [
              0.8888888888888888,
              "#fdca26"
             ],
             [
              1,
              "#f0f921"
             ]
            ],
            "type": "surface"
           }
          ],
          "table": [
           {
            "cells": {
             "fill": {
              "color": "#EBF0F8"
             },
             "line": {
              "color": "white"
             }
            },
            "header": {
             "fill": {
              "color": "#C8D4E3"
             },
             "line": {
              "color": "white"
             }
            },
            "type": "table"
           }
          ]
         },
         "layout": {
          "annotationdefaults": {
           "arrowcolor": "#2a3f5f",
           "arrowhead": 0,
           "arrowwidth": 1
          },
          "coloraxis": {
           "colorbar": {
            "outlinewidth": 0,
            "ticks": ""
           }
          },
          "colorscale": {
           "diverging": [
            [
             0,
             "#8e0152"
            ],
            [
             0.1,
             "#c51b7d"
            ],
            [
             0.2,
             "#de77ae"
            ],
            [
             0.3,
             "#f1b6da"
            ],
            [
             0.4,
             "#fde0ef"
            ],
            [
             0.5,
             "#f7f7f7"
            ],
            [
             0.6,
             "#e6f5d0"
            ],
            [
             0.7,
             "#b8e186"
            ],
            [
             0.8,
             "#7fbc41"
            ],
            [
             0.9,
             "#4d9221"
            ],
            [
             1,
             "#276419"
            ]
           ],
           "sequential": [
            [
             0,
             "#0d0887"
            ],
            [
             0.1111111111111111,
             "#46039f"
            ],
            [
             0.2222222222222222,
             "#7201a8"
            ],
            [
             0.3333333333333333,
             "#9c179e"
            ],
            [
             0.4444444444444444,
             "#bd3786"
            ],
            [
             0.5555555555555556,
             "#d8576b"
            ],
            [
             0.6666666666666666,
             "#ed7953"
            ],
            [
             0.7777777777777778,
             "#fb9f3a"
            ],
            [
             0.8888888888888888,
             "#fdca26"
            ],
            [
             1,
             "#f0f921"
            ]
           ],
           "sequentialminus": [
            [
             0,
             "#0d0887"
            ],
            [
             0.1111111111111111,
             "#46039f"
            ],
            [
             0.2222222222222222,
             "#7201a8"
            ],
            [
             0.3333333333333333,
             "#9c179e"
            ],
            [
             0.4444444444444444,
             "#bd3786"
            ],
            [
             0.5555555555555556,
             "#d8576b"
            ],
            [
             0.6666666666666666,
             "#ed7953"
            ],
            [
             0.7777777777777778,
             "#fb9f3a"
            ],
            [
             0.8888888888888888,
             "#fdca26"
            ],
            [
             1,
             "#f0f921"
            ]
           ]
          },
          "colorway": [
           "#636efa",
           "#EF553B",
           "#00cc96",
           "#ab63fa",
           "#FFA15A",
           "#19d3f3",
           "#FF6692",
           "#B6E880",
           "#FF97FF",
           "#FECB52"
          ],
          "font": {
           "color": "#2a3f5f"
          },
          "geo": {
           "bgcolor": "white",
           "lakecolor": "white",
           "landcolor": "#E5ECF6",
           "showlakes": true,
           "showland": true,
           "subunitcolor": "white"
          },
          "hoverlabel": {
           "align": "left"
          },
          "hovermode": "closest",
          "mapbox": {
           "style": "light"
          },
          "paper_bgcolor": "white",
          "plot_bgcolor": "#E5ECF6",
          "polar": {
           "angularaxis": {
            "gridcolor": "white",
            "linecolor": "white",
            "ticks": ""
           },
           "bgcolor": "#E5ECF6",
           "radialaxis": {
            "gridcolor": "white",
            "linecolor": "white",
            "ticks": ""
           }
          },
          "scene": {
           "xaxis": {
            "backgroundcolor": "#E5ECF6",
            "gridcolor": "white",
            "gridwidth": 2,
            "linecolor": "white",
            "showbackground": true,
            "ticks": "",
            "zerolinecolor": "white"
           },
           "yaxis": {
            "backgroundcolor": "#E5ECF6",
            "gridcolor": "white",
            "gridwidth": 2,
            "linecolor": "white",
            "showbackground": true,
            "ticks": "",
            "zerolinecolor": "white"
           },
           "zaxis": {
            "backgroundcolor": "#E5ECF6",
            "gridcolor": "white",
            "gridwidth": 2,
            "linecolor": "white",
            "showbackground": true,
            "ticks": "",
            "zerolinecolor": "white"
           }
          },
          "shapedefaults": {
           "line": {
            "color": "#2a3f5f"
           }
          },
          "ternary": {
           "aaxis": {
            "gridcolor": "white",
            "linecolor": "white",
            "ticks": ""
           },
           "baxis": {
            "gridcolor": "white",
            "linecolor": "white",
            "ticks": ""
           },
           "bgcolor": "#E5ECF6",
           "caxis": {
            "gridcolor": "white",
            "linecolor": "white",
            "ticks": ""
           }
          },
          "title": {
           "x": 0.05
          },
          "xaxis": {
           "automargin": true,
           "gridcolor": "white",
           "linecolor": "white",
           "ticks": "",
           "title": {
            "standoff": 15
           },
           "zerolinecolor": "white",
           "zerolinewidth": 2
          },
          "yaxis": {
           "automargin": true,
           "gridcolor": "white",
           "linecolor": "white",
           "ticks": "",
           "title": {
            "standoff": 15
           },
           "zerolinecolor": "white",
           "zerolinewidth": 2
          }
         }
        },
        "title": {
         "font": {
          "color": "#4D5663"
         }
        },
        "xaxis": {
         "gridcolor": "#E1E5ED",
         "showgrid": true,
         "tickfont": {
          "color": "#4D5663"
         },
         "title": {
          "font": {
           "color": "#4D5663"
          },
          "text": ""
         },
         "zerolinecolor": "#E1E5ED"
        },
        "yaxis": {
         "gridcolor": "#E1E5ED",
         "showgrid": true,
         "tickfont": {
          "color": "#4D5663"
         },
         "title": {
          "font": {
           "color": "#4D5663"
          },
          "text": ""
         },
         "zerolinecolor": "#E1E5ED"
        }
       }
      },
      "text/html": [
       "<div>\n",
       "        \n",
       "        \n",
       "            <div id=\"7c8f9a7a-27ba-4b4b-88a5-1683abf07e03\" class=\"plotly-graph-div\" style=\"height:525px; width:100%;\"></div>\n",
       "            <script type=\"text/javascript\">\n",
       "                require([\"plotly\"], function(Plotly) {\n",
       "                    window.PLOTLYENV=window.PLOTLYENV || {};\n",
       "                    window.PLOTLYENV.BASE_URL='https://plot.ly';\n",
       "                    \n",
       "                if (document.getElementById(\"7c8f9a7a-27ba-4b4b-88a5-1683abf07e03\")) {\n",
       "                    Plotly.newPlot(\n",
       "                        '7c8f9a7a-27ba-4b4b-88a5-1683abf07e03',\n",
       "                        [{\"marker\": {\"color\": \"rgba(255, 153, 51, 0.6)\", \"line\": {\"color\": \"rgba(255, 153, 51, 1.0)\", \"width\": 1}}, \"name\": \"None\", \"orientation\": \"v\", \"text\": \"\", \"type\": \"bar\", \"x\": [\"A\", \"B\", \"C\", \"D\"], \"y\": [-5.546053753756233, -0.09536511891527244, -8.339153850586637, 15.65887639972125]}],\n",
       "                        {\"legend\": {\"bgcolor\": \"#F5F6F9\", \"font\": {\"color\": \"#4D5663\"}}, \"paper_bgcolor\": \"#F5F6F9\", \"plot_bgcolor\": \"#F5F6F9\", \"template\": {\"data\": {\"bar\": [{\"error_x\": {\"color\": \"#2a3f5f\"}, \"error_y\": {\"color\": \"#2a3f5f\"}, \"marker\": {\"line\": {\"color\": \"#E5ECF6\", \"width\": 0.5}}, \"type\": \"bar\"}], \"barpolar\": [{\"marker\": {\"line\": {\"color\": \"#E5ECF6\", \"width\": 0.5}}, \"type\": \"barpolar\"}], \"carpet\": [{\"aaxis\": {\"endlinecolor\": \"#2a3f5f\", \"gridcolor\": \"white\", \"linecolor\": \"white\", \"minorgridcolor\": \"white\", \"startlinecolor\": \"#2a3f5f\"}, \"baxis\": {\"endlinecolor\": \"#2a3f5f\", \"gridcolor\": \"white\", \"linecolor\": \"white\", \"minorgridcolor\": \"white\", \"startlinecolor\": \"#2a3f5f\"}, \"type\": \"carpet\"}], \"choropleth\": [{\"colorbar\": {\"outlinewidth\": 0, \"ticks\": \"\"}, \"type\": \"choropleth\"}], \"contour\": [{\"colorbar\": {\"outlinewidth\": 0, \"ticks\": \"\"}, \"colorscale\": [[0.0, \"#0d0887\"], [0.1111111111111111, \"#46039f\"], [0.2222222222222222, \"#7201a8\"], [0.3333333333333333, \"#9c179e\"], [0.4444444444444444, \"#bd3786\"], [0.5555555555555556, \"#d8576b\"], [0.6666666666666666, \"#ed7953\"], [0.7777777777777778, \"#fb9f3a\"], [0.8888888888888888, \"#fdca26\"], [1.0, \"#f0f921\"]], \"type\": \"contour\"}], \"contourcarpet\": [{\"colorbar\": {\"outlinewidth\": 0, \"ticks\": \"\"}, \"type\": \"contourcarpet\"}], \"heatmap\": [{\"colorbar\": {\"outlinewidth\": 0, \"ticks\": \"\"}, \"colorscale\": [[0.0, \"#0d0887\"], [0.1111111111111111, \"#46039f\"], [0.2222222222222222, \"#7201a8\"], [0.3333333333333333, \"#9c179e\"], [0.4444444444444444, \"#bd3786\"], [0.5555555555555556, \"#d8576b\"], [0.6666666666666666, \"#ed7953\"], [0.7777777777777778, \"#fb9f3a\"], [0.8888888888888888, \"#fdca26\"], [1.0, \"#f0f921\"]], \"type\": \"heatmap\"}], \"heatmapgl\": [{\"colorbar\": {\"outlinewidth\": 0, \"ticks\": \"\"}, \"colorscale\": [[0.0, \"#0d0887\"], [0.1111111111111111, \"#46039f\"], [0.2222222222222222, \"#7201a8\"], [0.3333333333333333, \"#9c179e\"], [0.4444444444444444, \"#bd3786\"], [0.5555555555555556, \"#d8576b\"], [0.6666666666666666, \"#ed7953\"], [0.7777777777777778, \"#fb9f3a\"], [0.8888888888888888, \"#fdca26\"], [1.0, \"#f0f921\"]], \"type\": \"heatmapgl\"}], \"histogram\": [{\"marker\": {\"colorbar\": {\"outlinewidth\": 0, \"ticks\": \"\"}}, \"type\": \"histogram\"}], \"histogram2d\": [{\"colorbar\": {\"outlinewidth\": 0, \"ticks\": \"\"}, \"colorscale\": [[0.0, \"#0d0887\"], [0.1111111111111111, \"#46039f\"], [0.2222222222222222, \"#7201a8\"], [0.3333333333333333, \"#9c179e\"], [0.4444444444444444, \"#bd3786\"], [0.5555555555555556, \"#d8576b\"], [0.6666666666666666, \"#ed7953\"], [0.7777777777777778, \"#fb9f3a\"], [0.8888888888888888, \"#fdca26\"], [1.0, \"#f0f921\"]], \"type\": \"histogram2d\"}], \"histogram2dcontour\": [{\"colorbar\": {\"outlinewidth\": 0, \"ticks\": \"\"}, \"colorscale\": [[0.0, \"#0d0887\"], [0.1111111111111111, \"#46039f\"], [0.2222222222222222, \"#7201a8\"], [0.3333333333333333, \"#9c179e\"], [0.4444444444444444, \"#bd3786\"], [0.5555555555555556, \"#d8576b\"], [0.6666666666666666, \"#ed7953\"], [0.7777777777777778, \"#fb9f3a\"], [0.8888888888888888, \"#fdca26\"], [1.0, \"#f0f921\"]], \"type\": \"histogram2dcontour\"}], \"mesh3d\": [{\"colorbar\": {\"outlinewidth\": 0, \"ticks\": \"\"}, \"type\": \"mesh3d\"}], \"parcoords\": [{\"line\": {\"colorbar\": {\"outlinewidth\": 0, \"ticks\": \"\"}}, \"type\": \"parcoords\"}], \"pie\": [{\"automargin\": true, \"type\": \"pie\"}], \"scatter\": [{\"marker\": {\"colorbar\": {\"outlinewidth\": 0, \"ticks\": \"\"}}, \"type\": \"scatter\"}], \"scatter3d\": [{\"line\": {\"colorbar\": {\"outlinewidth\": 0, \"ticks\": \"\"}}, \"marker\": {\"colorbar\": {\"outlinewidth\": 0, \"ticks\": \"\"}}, \"type\": \"scatter3d\"}], \"scattercarpet\": [{\"marker\": {\"colorbar\": {\"outlinewidth\": 0, \"ticks\": \"\"}}, \"type\": \"scattercarpet\"}], \"scattergeo\": [{\"marker\": {\"colorbar\": {\"outlinewidth\": 0, \"ticks\": \"\"}}, \"type\": \"scattergeo\"}], \"scattergl\": [{\"marker\": {\"colorbar\": {\"outlinewidth\": 0, \"ticks\": \"\"}}, \"type\": \"scattergl\"}], \"scattermapbox\": [{\"marker\": {\"colorbar\": {\"outlinewidth\": 0, \"ticks\": \"\"}}, \"type\": \"scattermapbox\"}], \"scatterpolar\": [{\"marker\": {\"colorbar\": {\"outlinewidth\": 0, \"ticks\": \"\"}}, \"type\": \"scatterpolar\"}], \"scatterpolargl\": [{\"marker\": {\"colorbar\": {\"outlinewidth\": 0, \"ticks\": \"\"}}, \"type\": \"scatterpolargl\"}], \"scatterternary\": [{\"marker\": {\"colorbar\": {\"outlinewidth\": 0, \"ticks\": \"\"}}, \"type\": \"scatterternary\"}], \"surface\": [{\"colorbar\": {\"outlinewidth\": 0, \"ticks\": \"\"}, \"colorscale\": [[0.0, \"#0d0887\"], [0.1111111111111111, \"#46039f\"], [0.2222222222222222, \"#7201a8\"], [0.3333333333333333, \"#9c179e\"], [0.4444444444444444, \"#bd3786\"], [0.5555555555555556, \"#d8576b\"], [0.6666666666666666, \"#ed7953\"], [0.7777777777777778, \"#fb9f3a\"], [0.8888888888888888, \"#fdca26\"], [1.0, \"#f0f921\"]], \"type\": \"surface\"}], \"table\": [{\"cells\": {\"fill\": {\"color\": \"#EBF0F8\"}, \"line\": {\"color\": \"white\"}}, \"header\": {\"fill\": {\"color\": \"#C8D4E3\"}, \"line\": {\"color\": \"white\"}}, \"type\": \"table\"}]}, \"layout\": {\"annotationdefaults\": {\"arrowcolor\": \"#2a3f5f\", \"arrowhead\": 0, \"arrowwidth\": 1}, \"coloraxis\": {\"colorbar\": {\"outlinewidth\": 0, \"ticks\": \"\"}}, \"colorscale\": {\"diverging\": [[0, \"#8e0152\"], [0.1, \"#c51b7d\"], [0.2, \"#de77ae\"], [0.3, \"#f1b6da\"], [0.4, \"#fde0ef\"], [0.5, \"#f7f7f7\"], [0.6, \"#e6f5d0\"], [0.7, \"#b8e186\"], [0.8, \"#7fbc41\"], [0.9, \"#4d9221\"], [1, \"#276419\"]], \"sequential\": [[0.0, \"#0d0887\"], [0.1111111111111111, \"#46039f\"], [0.2222222222222222, \"#7201a8\"], [0.3333333333333333, \"#9c179e\"], [0.4444444444444444, \"#bd3786\"], [0.5555555555555556, \"#d8576b\"], [0.6666666666666666, \"#ed7953\"], [0.7777777777777778, \"#fb9f3a\"], [0.8888888888888888, \"#fdca26\"], [1.0, \"#f0f921\"]], \"sequentialminus\": [[0.0, \"#0d0887\"], [0.1111111111111111, \"#46039f\"], [0.2222222222222222, \"#7201a8\"], [0.3333333333333333, \"#9c179e\"], [0.4444444444444444, \"#bd3786\"], [0.5555555555555556, \"#d8576b\"], [0.6666666666666666, \"#ed7953\"], [0.7777777777777778, \"#fb9f3a\"], [0.8888888888888888, \"#fdca26\"], [1.0, \"#f0f921\"]]}, \"colorway\": [\"#636efa\", \"#EF553B\", \"#00cc96\", \"#ab63fa\", \"#FFA15A\", \"#19d3f3\", \"#FF6692\", \"#B6E880\", \"#FF97FF\", \"#FECB52\"], \"font\": {\"color\": \"#2a3f5f\"}, \"geo\": {\"bgcolor\": \"white\", \"lakecolor\": \"white\", \"landcolor\": \"#E5ECF6\", \"showlakes\": true, \"showland\": true, \"subunitcolor\": \"white\"}, \"hoverlabel\": {\"align\": \"left\"}, \"hovermode\": \"closest\", \"mapbox\": {\"style\": \"light\"}, \"paper_bgcolor\": \"white\", \"plot_bgcolor\": \"#E5ECF6\", \"polar\": {\"angularaxis\": {\"gridcolor\": \"white\", \"linecolor\": \"white\", \"ticks\": \"\"}, \"bgcolor\": \"#E5ECF6\", \"radialaxis\": {\"gridcolor\": \"white\", \"linecolor\": \"white\", \"ticks\": \"\"}}, \"scene\": {\"xaxis\": {\"backgroundcolor\": \"#E5ECF6\", \"gridcolor\": \"white\", \"gridwidth\": 2, \"linecolor\": \"white\", \"showbackground\": true, \"ticks\": \"\", \"zerolinecolor\": \"white\"}, \"yaxis\": {\"backgroundcolor\": \"#E5ECF6\", \"gridcolor\": \"white\", \"gridwidth\": 2, \"linecolor\": \"white\", \"showbackground\": true, \"ticks\": \"\", \"zerolinecolor\": \"white\"}, \"zaxis\": {\"backgroundcolor\": \"#E5ECF6\", \"gridcolor\": \"white\", \"gridwidth\": 2, \"linecolor\": \"white\", \"showbackground\": true, \"ticks\": \"\", \"zerolinecolor\": \"white\"}}, \"shapedefaults\": {\"line\": {\"color\": \"#2a3f5f\"}}, \"ternary\": {\"aaxis\": {\"gridcolor\": \"white\", \"linecolor\": \"white\", \"ticks\": \"\"}, \"baxis\": {\"gridcolor\": \"white\", \"linecolor\": \"white\", \"ticks\": \"\"}, \"bgcolor\": \"#E5ECF6\", \"caxis\": {\"gridcolor\": \"white\", \"linecolor\": \"white\", \"ticks\": \"\"}}, \"title\": {\"x\": 0.05}, \"xaxis\": {\"automargin\": true, \"gridcolor\": \"white\", \"linecolor\": \"white\", \"ticks\": \"\", \"title\": {\"standoff\": 15}, \"zerolinecolor\": \"white\", \"zerolinewidth\": 2}, \"yaxis\": {\"automargin\": true, \"gridcolor\": \"white\", \"linecolor\": \"white\", \"ticks\": \"\", \"title\": {\"standoff\": 15}, \"zerolinecolor\": \"white\", \"zerolinewidth\": 2}}}, \"title\": {\"font\": {\"color\": \"#4D5663\"}}, \"xaxis\": {\"gridcolor\": \"#E1E5ED\", \"showgrid\": true, \"tickfont\": {\"color\": \"#4D5663\"}, \"title\": {\"font\": {\"color\": \"#4D5663\"}, \"text\": \"\"}, \"zerolinecolor\": \"#E1E5ED\"}, \"yaxis\": {\"gridcolor\": \"#E1E5ED\", \"showgrid\": true, \"tickfont\": {\"color\": \"#4D5663\"}, \"title\": {\"font\": {\"color\": \"#4D5663\"}, \"text\": \"\"}, \"zerolinecolor\": \"#E1E5ED\"}},\n",
       "                        {\"showLink\": true, \"linkText\": \"Export to plot.ly\", \"plotlyServerURL\": \"https://plot.ly\", \"responsive\": true}\n",
       "                    ).then(function(){\n",
       "                            \n",
       "var gd = document.getElementById('7c8f9a7a-27ba-4b4b-88a5-1683abf07e03');\n",
       "var x = new MutationObserver(function (mutations, observer) {{\n",
       "        var display = window.getComputedStyle(gd).display;\n",
       "        if (!display || display === 'none') {{\n",
       "            console.log([gd, 'removed!']);\n",
       "            Plotly.purge(gd);\n",
       "            observer.disconnect();\n",
       "        }}\n",
       "}});\n",
       "\n",
       "// Listen for the removal of the full notebook cells\n",
       "var notebookContainer = gd.closest('#notebook-container');\n",
       "if (notebookContainer) {{\n",
       "    x.observe(notebookContainer, {childList: true});\n",
       "}}\n",
       "\n",
       "// Listen for the clearing of the current output cell\n",
       "var outputEl = gd.closest('.output');\n",
       "if (outputEl) {{\n",
       "    x.observe(outputEl, {childList: true});\n",
       "}}\n",
       "\n",
       "                        })\n",
       "                };\n",
       "                });\n",
       "            </script>\n",
       "        </div>"
      ]
     },
     "metadata": {},
     "output_type": "display_data"
    }
   ],
   "source": [
    "df.sum().iplot(kind='bar')"
   ]
  },
  {
   "cell_type": "code",
   "execution_count": 34,
   "metadata": {},
   "outputs": [
    {
     "data": {
      "application/vnd.plotly.v1+json": {
       "config": {
        "linkText": "Export to plot.ly",
        "plotlyServerURL": "https://plot.ly",
        "showLink": true
       },
       "data": [
        {
         "boxpoints": false,
         "line": {
          "width": 1.3
         },
         "marker": {
          "color": "rgba(255, 153, 51, 1.0)"
         },
         "name": "A",
         "orientation": "v",
         "type": "box",
         "y": [
          -2.2555933768724947,
          -0.03382340070021499,
          -0.3200478984174772,
          0.05045835842384177,
          0.2233965386018236,
          0.2536608574004414,
          -0.6692398991913475,
          -0.4786089224325477,
          0.6512291566816155,
          -0.9992360969851862,
          -0.22169793134556703,
          -1.1712641861345396,
          0.3252298075551189,
          0.8914928115672888,
          -0.0369001928301434,
          -0.12612875726858397,
          -0.6321662033550624,
          -0.7177849850115586,
          -0.7380476067025662,
          -0.6496181734346335,
          -0.7764825074228829,
          0.9825053624790435,
          0.2583656046298789,
          -0.037818224865744765,
          0.1633648933126579,
          0.09045583256205675,
          0.6019746573813641,
          0.8630717855557517,
          -0.6891220161380268,
          0.008139132913083826,
          1.4462942945255972,
          1.0974328278372718,
          1.7026391999584558,
          0.13232510434415812,
          -1.4930236346176566,
          0.5717283572309633,
          1.6027573821880863,
          -0.26316261913033745,
          0.1428706155553884,
          -1.9689781776908595,
          0.7573252641608401,
          1.2815546026772953,
          0.4347619600899514,
          -0.5353942165407267,
          0.9427327554963698,
          1.1790481704431377,
          -0.4103179505335398,
          1.467563169562042,
          1.38742208689959,
          -0.1878420460340362,
          0.9561618545448747,
          -0.6783596081109666,
          -0.7343973073358498,
          0.3220750471063588,
          0.27574581367708095,
          1.4552279064325093,
          -0.291105920009326,
          0.645407625337804,
          -1.0554341317842224,
          0.33279221486126165,
          0.7025265688025414,
          -0.6610919221931417,
          -0.1667434397585901,
          0.6232829145291728,
          -0.2529836861465784,
          -1.3053816199792052,
          -0.9162982736073634,
          -1.3142225958928595,
          -1.6120659876274441,
          -0.053151427170382286,
          1.872649441601502,
          -1.2683624163519756,
          0.30392219244159846,
          0.8663928886363615,
          -0.847758950848025,
          1.2074149868658006,
          -0.8219780807135773,
          -0.3972774418375647,
          -0.3138094858687506,
          -0.7321270120897498,
          0.19089113734580437,
          -1.467169892336397,
          -0.2704977443472076,
          1.391089216049597,
          -1.4580084882448272,
          -1.6768288954001633,
          -1.2244219128686558,
          -0.5830634268948321,
          2.596545053416106,
          0.5547182458617995,
          -0.009938487125128776,
          0.16661419271903802,
          -2.0051511664441923,
          -0.44142932606142177,
          1.4768445874934977,
          -2.2891089768253154,
          0.9969522087565932,
          -0.48862992958038,
          -0.8483077863746056,
          -0.3957040767842185
         ]
        },
        {
         "boxpoints": false,
         "line": {
          "width": 1.3
         },
         "marker": {
          "color": "rgba(55, 128, 191, 1.0)"
         },
         "name": "B",
         "orientation": "v",
         "type": "box",
         "y": [
          1.3141888702618962,
          -1.1115662109910567,
          -0.257289607344004,
          -1.4036350331162621,
          -0.9562431416001994,
          0.5284258714874434,
          1.3839270580400518,
          -0.47647239611666187,
          -0.48621055726856166,
          0.21230749228133775,
          -0.4377454130191507,
          1.139461784412099,
          -0.479066908076587,
          -0.5112289603822745,
          1.0655062855344546,
          0.2532285620560627,
          -0.5080625366400148,
          -0.14940661484256632,
          -1.0552401005092436,
          1.3130463314943268,
          -0.09855391494815084,
          1.682056997549952,
          0.025030245632123346,
          -1.0314746214259058,
          -0.24440905168767216,
          -0.9640162206376627,
          1.1659827817820045,
          -0.5949615891396036,
          0.895109825347487,
          -1.1787502459426134,
          0.3606252712904561,
          -2.8874455317853673,
          0.05554922902958001,
          -0.6327253205975053,
          -0.14423079659187038,
          -0.4659585833517143,
          -0.42134027774967997,
          -0.9945211011510153,
          0.5262417418954314,
          0.6521486589933997,
          -0.3002767827572908,
          1.0961571575291982,
          0.02388240668584011,
          -0.251739361646199,
          -0.09132557319225461,
          -0.16222783106006364,
          -0.5800636263739349,
          0.6539517205968917,
          0.2676653096775852,
          -0.12788683168886808,
          0.9301801207771702,
          -0.09177425164037127,
          -1.186280702243975,
          -1.5581869431240989,
          -0.42664764573524705,
          -0.2770735434883226,
          -0.8136201732195788,
          -1.1114664557447358,
          1.6999503007281884,
          -0.7126876105880869,
          -0.0930941715055807,
          -2.3656191409182625,
          0.735568121854511,
          0.541493368025285,
          -0.6301134451738287,
          -0.05449659496425838,
          0.7566045980698098,
          -0.05331049966966534,
          0.7515301988470119,
          1.1756364535626789,
          0.6255519982890726,
          0.4994986012724347,
          -0.33739521345218193,
          0.7932359839780525,
          -0.8486742318118738,
          -0.6162281748236087,
          0.6588315502975075,
          0.47797298287983786,
          0.8313530055118066,
          -1.6412026289064061,
          -0.5091519178754833,
          1.2236901049372901,
          1.2990342992990034,
          -0.4823964312713267,
          0.8897377549146316,
          0.8330977892920045,
          1.2780894780540542,
          0.2073916928678156,
          2.1898409925479587,
          1.2450021823566144,
          0.9417074276447647,
          -0.11353886292187075,
          1.5655409294812892,
          -0.04614353427259727,
          -0.34656495757651096,
          -0.18561680250884616,
          -2.262169847144289,
          0.948170877714612,
          -1.1482499665528605,
          -0.8927910449284819
         ]
        },
        {
         "boxpoints": false,
         "line": {
          "width": 1.3
         },
         "marker": {
          "color": "rgba(50, 171, 96, 1.0)"
         },
         "name": "C",
         "orientation": "v",
         "type": "box",
         "y": [
          -0.3852111653161519,
          -0.7830544747937033,
          0.6375500080290681,
          -1.2935251103472951,
          -0.8504493153928624,
          0.09800862044555947,
          -1.3269601219003204,
          0.327204119642585,
          -0.690840086360732,
          0.0599524931219146,
          -0.2664804729565175,
          0.5677036432202524,
          0.44254035862817687,
          -0.534473786392977,
          -1.948328679109903,
          0.3667213673256576,
          -0.8857969564564154,
          0.000480655223030059,
          0.6901565806311147,
          0.4849220911931928,
          -0.3433584734411604,
          -0.044481892108771924,
          0.5219215703694158,
          0.6597640523271316,
          -0.815710202783354,
          0.15440045099651611,
          0.8626151498285916,
          1.2557704479510896,
          -0.8866797361107176,
          0.3116903849033211,
          -0.04586726700738958,
          -2.3210995766552003,
          -1.1141141767156846,
          -0.718790088777296,
          -1.215022691367036,
          0.15990037633325638,
          0.207339989867234,
          -0.1339251170432215,
          -0.31336335779366836,
          0.4727293268665891,
          -1.364271403162109,
          0.38485826485645513,
          -0.564525378196018,
          0.08053092875359465,
          0.8170016869020079,
          -0.16585723881699452,
          -0.7806192924820001,
          0.2757423040683799,
          -0.8052577423922532,
          0.4394975078426791,
          0.05475969001130771,
          0.13002452405704323,
          0.5504028250944053,
          -0.07172476042858046,
          -0.3103852929550721,
          0.6345882181965192,
          0.45129839073710004,
          0.24133569488877202,
          0.4660206009407888,
          0.32051436624277957,
          -1.4713410106320284,
          -0.6439436638461494,
          0.0282498419594593,
          -1.9532860898921842,
          -0.2281728072186295,
          -1.6461248416327923,
          -0.8361741257415685,
          1.103069631310339,
          1.9773169265966584,
          0.48488610606642524,
          -0.3119955389235842,
          -0.02493730005691768,
          -0.9557993486325946,
          -0.8739418396473461,
          -0.594468085245611,
          -0.12311748015716892,
          0.16163289632042396,
          0.2591893055592278,
          -0.5245824774930369,
          0.9712195427151722,
          -1.0285584635996985,
          1.3835410963227326,
          -1.1643694982378814,
          1.267446133373859,
          0.4221341686342332,
          1.1078361853210785,
          0.7270842106888753,
          0.21856045988541378,
          0.797581282367628,
          -0.6429999476331801,
          -0.8820815237633904,
          0.2584226877120125,
          -0.8029529727740128,
          1.4766089511557463,
          -0.48802675784715516,
          1.001168054874638,
          -1.0613223170663308,
          0.7350981512413484,
          1.2784722523026892,
          0.1117515228145326
         ]
        },
        {
         "boxpoints": false,
         "line": {
          "width": 1.3
         },
         "marker": {
          "color": "rgba(128, 0, 128, 1.0)"
         },
         "name": "D",
         "orientation": "v",
         "type": "box",
         "y": [
          0.9772336509828237,
          -0.07647478318063784,
          0.7413636391750652,
          -0.15912297894377248,
          -0.15177625272150932,
          0.1199900295795598,
          0.2716635668621539,
          0.3709292464448456,
          0.5828024998577414,
          1.1233734325816407,
          0.5350414757703158,
          -0.27835449335894125,
          -0.5384981463868941,
          1.7604427122046729,
          -0.1798211998472201,
          -0.07259583442974381,
          0.6927847927489181,
          1.713753068511354,
          0.5580318332801198,
          1.8777101613687104,
          2.096919796229778,
          2.006680204819293,
          1.0358068816393418,
          -1.0471118960905113,
          0.11421243302452166,
          0.905838606468195,
          -1.3557540465958646,
          0.052203996643662834,
          1.065635124475401,
          -0.5948064543443344,
          0.5824474335176656,
          0.03769772664088032,
          -0.9295819904348213,
          0.08773160196539075,
          -1.4326929160965838,
          0.708051413119108,
          -0.07046148088440911,
          -0.14346819164193475,
          0.3763987464634078,
          1.489497426963874,
          -1.1875085365888707,
          -0.6972667620976027,
          -0.37526823498872225,
          -0.07039635195846435,
          -1.1069599873901415,
          0.351561602957237,
          1.7233931104452467,
          0.5680461134761515,
          -0.7651406350372749,
          -0.8855202646912165,
          0.24331003393244538,
          -1.9622170655863536,
          0.25109763454148615,
          -1.7649926672975669,
          -0.4234854127409118,
          -0.7143020036904693,
          0.20749639433841285,
          0.010268364756173215,
          0.0952854975447978,
          -0.5550510334752385,
          -0.4934942677949766,
          1.6175409619083556,
          0.3332748338333687,
          -0.5344727243038119,
          1.0015841881282095,
          0.10562661347557104,
          -0.1852368746866717,
          -0.07930200523712144,
          -0.9472604504862842,
          -0.6793917614321774,
          0.3478046849795794,
          -0.06819282824824709,
          -0.24348051996278372,
          0.4653730332137223,
          0.8868921917777485,
          -0.8744287471716156,
          0.8505394053147777,
          -0.7165134712897009,
          0.31470910612493974,
          2.2048428931352952,
          -0.37326042759452166,
          -0.6869832077121661,
          0.4538698980652648,
          0.3835572135228256,
          0.5864267829588884,
          0.1366552671255307,
          -0.29731483868073927,
          0.2921796384197413,
          1.204393005274402,
          0.03240134226909766,
          0.4841180429521735,
          -0.6875951590864127,
          1.320895128089415,
          -1.5772719223289127,
          1.083135276429853,
          1.5582687187488196,
          0.0402198571728886,
          0.782586581086116,
          -0.826500765488446,
          0.6466110743888642
         ]
        }
       ],
       "layout": {
        "legend": {
         "bgcolor": "#F5F6F9",
         "font": {
          "color": "#4D5663"
         }
        },
        "paper_bgcolor": "#F5F6F9",
        "plot_bgcolor": "#F5F6F9",
        "template": {
         "data": {
          "bar": [
           {
            "error_x": {
             "color": "#2a3f5f"
            },
            "error_y": {
             "color": "#2a3f5f"
            },
            "marker": {
             "line": {
              "color": "#E5ECF6",
              "width": 0.5
             }
            },
            "type": "bar"
           }
          ],
          "barpolar": [
           {
            "marker": {
             "line": {
              "color": "#E5ECF6",
              "width": 0.5
             }
            },
            "type": "barpolar"
           }
          ],
          "carpet": [
           {
            "aaxis": {
             "endlinecolor": "#2a3f5f",
             "gridcolor": "white",
             "linecolor": "white",
             "minorgridcolor": "white",
             "startlinecolor": "#2a3f5f"
            },
            "baxis": {
             "endlinecolor": "#2a3f5f",
             "gridcolor": "white",
             "linecolor": "white",
             "minorgridcolor": "white",
             "startlinecolor": "#2a3f5f"
            },
            "type": "carpet"
           }
          ],
          "choropleth": [
           {
            "colorbar": {
             "outlinewidth": 0,
             "ticks": ""
            },
            "type": "choropleth"
           }
          ],
          "contour": [
           {
            "colorbar": {
             "outlinewidth": 0,
             "ticks": ""
            },
            "colorscale": [
             [
              0,
              "#0d0887"
             ],
             [
              0.1111111111111111,
              "#46039f"
             ],
             [
              0.2222222222222222,
              "#7201a8"
             ],
             [
              0.3333333333333333,
              "#9c179e"
             ],
             [
              0.4444444444444444,
              "#bd3786"
             ],
             [
              0.5555555555555556,
              "#d8576b"
             ],
             [
              0.6666666666666666,
              "#ed7953"
             ],
             [
              0.7777777777777778,
              "#fb9f3a"
             ],
             [
              0.8888888888888888,
              "#fdca26"
             ],
             [
              1,
              "#f0f921"
             ]
            ],
            "type": "contour"
           }
          ],
          "contourcarpet": [
           {
            "colorbar": {
             "outlinewidth": 0,
             "ticks": ""
            },
            "type": "contourcarpet"
           }
          ],
          "heatmap": [
           {
            "colorbar": {
             "outlinewidth": 0,
             "ticks": ""
            },
            "colorscale": [
             [
              0,
              "#0d0887"
             ],
             [
              0.1111111111111111,
              "#46039f"
             ],
             [
              0.2222222222222222,
              "#7201a8"
             ],
             [
              0.3333333333333333,
              "#9c179e"
             ],
             [
              0.4444444444444444,
              "#bd3786"
             ],
             [
              0.5555555555555556,
              "#d8576b"
             ],
             [
              0.6666666666666666,
              "#ed7953"
             ],
             [
              0.7777777777777778,
              "#fb9f3a"
             ],
             [
              0.8888888888888888,
              "#fdca26"
             ],
             [
              1,
              "#f0f921"
             ]
            ],
            "type": "heatmap"
           }
          ],
          "heatmapgl": [
           {
            "colorbar": {
             "outlinewidth": 0,
             "ticks": ""
            },
            "colorscale": [
             [
              0,
              "#0d0887"
             ],
             [
              0.1111111111111111,
              "#46039f"
             ],
             [
              0.2222222222222222,
              "#7201a8"
             ],
             [
              0.3333333333333333,
              "#9c179e"
             ],
             [
              0.4444444444444444,
              "#bd3786"
             ],
             [
              0.5555555555555556,
              "#d8576b"
             ],
             [
              0.6666666666666666,
              "#ed7953"
             ],
             [
              0.7777777777777778,
              "#fb9f3a"
             ],
             [
              0.8888888888888888,
              "#fdca26"
             ],
             [
              1,
              "#f0f921"
             ]
            ],
            "type": "heatmapgl"
           }
          ],
          "histogram": [
           {
            "marker": {
             "colorbar": {
              "outlinewidth": 0,
              "ticks": ""
             }
            },
            "type": "histogram"
           }
          ],
          "histogram2d": [
           {
            "colorbar": {
             "outlinewidth": 0,
             "ticks": ""
            },
            "colorscale": [
             [
              0,
              "#0d0887"
             ],
             [
              0.1111111111111111,
              "#46039f"
             ],
             [
              0.2222222222222222,
              "#7201a8"
             ],
             [
              0.3333333333333333,
              "#9c179e"
             ],
             [
              0.4444444444444444,
              "#bd3786"
             ],
             [
              0.5555555555555556,
              "#d8576b"
             ],
             [
              0.6666666666666666,
              "#ed7953"
             ],
             [
              0.7777777777777778,
              "#fb9f3a"
             ],
             [
              0.8888888888888888,
              "#fdca26"
             ],
             [
              1,
              "#f0f921"
             ]
            ],
            "type": "histogram2d"
           }
          ],
          "histogram2dcontour": [
           {
            "colorbar": {
             "outlinewidth": 0,
             "ticks": ""
            },
            "colorscale": [
             [
              0,
              "#0d0887"
             ],
             [
              0.1111111111111111,
              "#46039f"
             ],
             [
              0.2222222222222222,
              "#7201a8"
             ],
             [
              0.3333333333333333,
              "#9c179e"
             ],
             [
              0.4444444444444444,
              "#bd3786"
             ],
             [
              0.5555555555555556,
              "#d8576b"
             ],
             [
              0.6666666666666666,
              "#ed7953"
             ],
             [
              0.7777777777777778,
              "#fb9f3a"
             ],
             [
              0.8888888888888888,
              "#fdca26"
             ],
             [
              1,
              "#f0f921"
             ]
            ],
            "type": "histogram2dcontour"
           }
          ],
          "mesh3d": [
           {
            "colorbar": {
             "outlinewidth": 0,
             "ticks": ""
            },
            "type": "mesh3d"
           }
          ],
          "parcoords": [
           {
            "line": {
             "colorbar": {
              "outlinewidth": 0,
              "ticks": ""
             }
            },
            "type": "parcoords"
           }
          ],
          "pie": [
           {
            "automargin": true,
            "type": "pie"
           }
          ],
          "scatter": [
           {
            "marker": {
             "colorbar": {
              "outlinewidth": 0,
              "ticks": ""
             }
            },
            "type": "scatter"
           }
          ],
          "scatter3d": [
           {
            "line": {
             "colorbar": {
              "outlinewidth": 0,
              "ticks": ""
             }
            },
            "marker": {
             "colorbar": {
              "outlinewidth": 0,
              "ticks": ""
             }
            },
            "type": "scatter3d"
           }
          ],
          "scattercarpet": [
           {
            "marker": {
             "colorbar": {
              "outlinewidth": 0,
              "ticks": ""
             }
            },
            "type": "scattercarpet"
           }
          ],
          "scattergeo": [
           {
            "marker": {
             "colorbar": {
              "outlinewidth": 0,
              "ticks": ""
             }
            },
            "type": "scattergeo"
           }
          ],
          "scattergl": [
           {
            "marker": {
             "colorbar": {
              "outlinewidth": 0,
              "ticks": ""
             }
            },
            "type": "scattergl"
           }
          ],
          "scattermapbox": [
           {
            "marker": {
             "colorbar": {
              "outlinewidth": 0,
              "ticks": ""
             }
            },
            "type": "scattermapbox"
           }
          ],
          "scatterpolar": [
           {
            "marker": {
             "colorbar": {
              "outlinewidth": 0,
              "ticks": ""
             }
            },
            "type": "scatterpolar"
           }
          ],
          "scatterpolargl": [
           {
            "marker": {
             "colorbar": {
              "outlinewidth": 0,
              "ticks": ""
             }
            },
            "type": "scatterpolargl"
           }
          ],
          "scatterternary": [
           {
            "marker": {
             "colorbar": {
              "outlinewidth": 0,
              "ticks": ""
             }
            },
            "type": "scatterternary"
           }
          ],
          "surface": [
           {
            "colorbar": {
             "outlinewidth": 0,
             "ticks": ""
            },
            "colorscale": [
             [
              0,
              "#0d0887"
             ],
             [
              0.1111111111111111,
              "#46039f"
             ],
             [
              0.2222222222222222,
              "#7201a8"
             ],
             [
              0.3333333333333333,
              "#9c179e"
             ],
             [
              0.4444444444444444,
              "#bd3786"
             ],
             [
              0.5555555555555556,
              "#d8576b"
             ],
             [
              0.6666666666666666,
              "#ed7953"
             ],
             [
              0.7777777777777778,
              "#fb9f3a"
             ],
             [
              0.8888888888888888,
              "#fdca26"
             ],
             [
              1,
              "#f0f921"
             ]
            ],
            "type": "surface"
           }
          ],
          "table": [
           {
            "cells": {
             "fill": {
              "color": "#EBF0F8"
             },
             "line": {
              "color": "white"
             }
            },
            "header": {
             "fill": {
              "color": "#C8D4E3"
             },
             "line": {
              "color": "white"
             }
            },
            "type": "table"
           }
          ]
         },
         "layout": {
          "annotationdefaults": {
           "arrowcolor": "#2a3f5f",
           "arrowhead": 0,
           "arrowwidth": 1
          },
          "coloraxis": {
           "colorbar": {
            "outlinewidth": 0,
            "ticks": ""
           }
          },
          "colorscale": {
           "diverging": [
            [
             0,
             "#8e0152"
            ],
            [
             0.1,
             "#c51b7d"
            ],
            [
             0.2,
             "#de77ae"
            ],
            [
             0.3,
             "#f1b6da"
            ],
            [
             0.4,
             "#fde0ef"
            ],
            [
             0.5,
             "#f7f7f7"
            ],
            [
             0.6,
             "#e6f5d0"
            ],
            [
             0.7,
             "#b8e186"
            ],
            [
             0.8,
             "#7fbc41"
            ],
            [
             0.9,
             "#4d9221"
            ],
            [
             1,
             "#276419"
            ]
           ],
           "sequential": [
            [
             0,
             "#0d0887"
            ],
            [
             0.1111111111111111,
             "#46039f"
            ],
            [
             0.2222222222222222,
             "#7201a8"
            ],
            [
             0.3333333333333333,
             "#9c179e"
            ],
            [
             0.4444444444444444,
             "#bd3786"
            ],
            [
             0.5555555555555556,
             "#d8576b"
            ],
            [
             0.6666666666666666,
             "#ed7953"
            ],
            [
             0.7777777777777778,
             "#fb9f3a"
            ],
            [
             0.8888888888888888,
             "#fdca26"
            ],
            [
             1,
             "#f0f921"
            ]
           ],
           "sequentialminus": [
            [
             0,
             "#0d0887"
            ],
            [
             0.1111111111111111,
             "#46039f"
            ],
            [
             0.2222222222222222,
             "#7201a8"
            ],
            [
             0.3333333333333333,
             "#9c179e"
            ],
            [
             0.4444444444444444,
             "#bd3786"
            ],
            [
             0.5555555555555556,
             "#d8576b"
            ],
            [
             0.6666666666666666,
             "#ed7953"
            ],
            [
             0.7777777777777778,
             "#fb9f3a"
            ],
            [
             0.8888888888888888,
             "#fdca26"
            ],
            [
             1,
             "#f0f921"
            ]
           ]
          },
          "colorway": [
           "#636efa",
           "#EF553B",
           "#00cc96",
           "#ab63fa",
           "#FFA15A",
           "#19d3f3",
           "#FF6692",
           "#B6E880",
           "#FF97FF",
           "#FECB52"
          ],
          "font": {
           "color": "#2a3f5f"
          },
          "geo": {
           "bgcolor": "white",
           "lakecolor": "white",
           "landcolor": "#E5ECF6",
           "showlakes": true,
           "showland": true,
           "subunitcolor": "white"
          },
          "hoverlabel": {
           "align": "left"
          },
          "hovermode": "closest",
          "mapbox": {
           "style": "light"
          },
          "paper_bgcolor": "white",
          "plot_bgcolor": "#E5ECF6",
          "polar": {
           "angularaxis": {
            "gridcolor": "white",
            "linecolor": "white",
            "ticks": ""
           },
           "bgcolor": "#E5ECF6",
           "radialaxis": {
            "gridcolor": "white",
            "linecolor": "white",
            "ticks": ""
           }
          },
          "scene": {
           "xaxis": {
            "backgroundcolor": "#E5ECF6",
            "gridcolor": "white",
            "gridwidth": 2,
            "linecolor": "white",
            "showbackground": true,
            "ticks": "",
            "zerolinecolor": "white"
           },
           "yaxis": {
            "backgroundcolor": "#E5ECF6",
            "gridcolor": "white",
            "gridwidth": 2,
            "linecolor": "white",
            "showbackground": true,
            "ticks": "",
            "zerolinecolor": "white"
           },
           "zaxis": {
            "backgroundcolor": "#E5ECF6",
            "gridcolor": "white",
            "gridwidth": 2,
            "linecolor": "white",
            "showbackground": true,
            "ticks": "",
            "zerolinecolor": "white"
           }
          },
          "shapedefaults": {
           "line": {
            "color": "#2a3f5f"
           }
          },
          "ternary": {
           "aaxis": {
            "gridcolor": "white",
            "linecolor": "white",
            "ticks": ""
           },
           "baxis": {
            "gridcolor": "white",
            "linecolor": "white",
            "ticks": ""
           },
           "bgcolor": "#E5ECF6",
           "caxis": {
            "gridcolor": "white",
            "linecolor": "white",
            "ticks": ""
           }
          },
          "title": {
           "x": 0.05
          },
          "xaxis": {
           "automargin": true,
           "gridcolor": "white",
           "linecolor": "white",
           "ticks": "",
           "title": {
            "standoff": 15
           },
           "zerolinecolor": "white",
           "zerolinewidth": 2
          },
          "yaxis": {
           "automargin": true,
           "gridcolor": "white",
           "linecolor": "white",
           "ticks": "",
           "title": {
            "standoff": 15
           },
           "zerolinecolor": "white",
           "zerolinewidth": 2
          }
         }
        },
        "title": {
         "font": {
          "color": "#4D5663"
         }
        },
        "xaxis": {
         "gridcolor": "#E1E5ED",
         "showgrid": true,
         "tickfont": {
          "color": "#4D5663"
         },
         "title": {
          "font": {
           "color": "#4D5663"
          },
          "text": ""
         },
         "zerolinecolor": "#E1E5ED"
        },
        "yaxis": {
         "gridcolor": "#E1E5ED",
         "showgrid": true,
         "tickfont": {
          "color": "#4D5663"
         },
         "title": {
          "font": {
           "color": "#4D5663"
          },
          "text": ""
         },
         "zerolinecolor": "#E1E5ED"
        }
       }
      },
      "text/html": [
       "<div>\n",
       "        \n",
       "        \n",
       "            <div id=\"3175f760-c2c6-48c8-84af-46ad6f0ffdf1\" class=\"plotly-graph-div\" style=\"height:525px; width:100%;\"></div>\n",
       "            <script type=\"text/javascript\">\n",
       "                require([\"plotly\"], function(Plotly) {\n",
       "                    window.PLOTLYENV=window.PLOTLYENV || {};\n",
       "                    window.PLOTLYENV.BASE_URL='https://plot.ly';\n",
       "                    \n",
       "                if (document.getElementById(\"3175f760-c2c6-48c8-84af-46ad6f0ffdf1\")) {\n",
       "                    Plotly.newPlot(\n",
       "                        '3175f760-c2c6-48c8-84af-46ad6f0ffdf1',\n",
       "                        [{\"boxpoints\": false, \"line\": {\"width\": 1.3}, \"marker\": {\"color\": \"rgba(255, 153, 51, 1.0)\"}, \"name\": \"A\", \"orientation\": \"v\", \"type\": \"box\", \"y\": [-2.2555933768724947, -0.03382340070021499, -0.3200478984174772, 0.05045835842384177, 0.2233965386018236, 0.2536608574004414, -0.6692398991913475, -0.4786089224325477, 0.6512291566816155, -0.9992360969851862, -0.22169793134556703, -1.1712641861345396, 0.3252298075551189, 0.8914928115672888, -0.0369001928301434, -0.12612875726858397, -0.6321662033550624, -0.7177849850115586, -0.7380476067025662, -0.6496181734346335, -0.7764825074228829, 0.9825053624790435, 0.2583656046298789, -0.037818224865744765, 0.1633648933126579, 0.09045583256205675, 0.6019746573813641, 0.8630717855557517, -0.6891220161380268, 0.008139132913083826, 1.4462942945255972, 1.0974328278372718, 1.7026391999584558, 0.13232510434415812, -1.4930236346176566, 0.5717283572309633, 1.6027573821880863, -0.26316261913033745, 0.1428706155553884, -1.9689781776908595, 0.7573252641608401, 1.2815546026772953, 0.4347619600899514, -0.5353942165407267, 0.9427327554963698, 1.1790481704431377, -0.4103179505335398, 1.467563169562042, 1.38742208689959, -0.1878420460340362, 0.9561618545448747, -0.6783596081109666, -0.7343973073358498, 0.3220750471063588, 0.27574581367708095, 1.4552279064325093, -0.291105920009326, 0.645407625337804, -1.0554341317842224, 0.33279221486126165, 0.7025265688025414, -0.6610919221931417, -0.1667434397585901, 0.6232829145291728, -0.2529836861465784, -1.3053816199792052, -0.9162982736073634, -1.3142225958928595, -1.6120659876274441, -0.053151427170382286, 1.872649441601502, -1.2683624163519756, 0.30392219244159846, 0.8663928886363615, -0.847758950848025, 1.2074149868658006, -0.8219780807135773, -0.3972774418375647, -0.3138094858687506, -0.7321270120897498, 0.19089113734580437, -1.467169892336397, -0.2704977443472076, 1.391089216049597, -1.4580084882448272, -1.6768288954001633, -1.2244219128686558, -0.5830634268948321, 2.596545053416106, 0.5547182458617995, -0.009938487125128776, 0.16661419271903802, -2.0051511664441923, -0.44142932606142177, 1.4768445874934977, -2.2891089768253154, 0.9969522087565932, -0.48862992958038, -0.8483077863746056, -0.3957040767842185]}, {\"boxpoints\": false, \"line\": {\"width\": 1.3}, \"marker\": {\"color\": \"rgba(55, 128, 191, 1.0)\"}, \"name\": \"B\", \"orientation\": \"v\", \"type\": \"box\", \"y\": [1.3141888702618962, -1.1115662109910567, -0.257289607344004, -1.4036350331162621, -0.9562431416001994, 0.5284258714874434, 1.3839270580400518, -0.47647239611666187, -0.48621055726856166, 0.21230749228133775, -0.4377454130191507, 1.139461784412099, -0.479066908076587, -0.5112289603822745, 1.0655062855344546, 0.2532285620560627, -0.5080625366400148, -0.14940661484256632, -1.0552401005092436, 1.3130463314943268, -0.09855391494815084, 1.682056997549952, 0.025030245632123346, -1.0314746214259058, -0.24440905168767216, -0.9640162206376627, 1.1659827817820045, -0.5949615891396036, 0.895109825347487, -1.1787502459426134, 0.3606252712904561, -2.8874455317853673, 0.05554922902958001, -0.6327253205975053, -0.14423079659187038, -0.4659585833517143, -0.42134027774967997, -0.9945211011510153, 0.5262417418954314, 0.6521486589933997, -0.3002767827572908, 1.0961571575291982, 0.02388240668584011, -0.251739361646199, -0.09132557319225461, -0.16222783106006364, -0.5800636263739349, 0.6539517205968917, 0.2676653096775852, -0.12788683168886808, 0.9301801207771702, -0.09177425164037127, -1.186280702243975, -1.5581869431240989, -0.42664764573524705, -0.2770735434883226, -0.8136201732195788, -1.1114664557447358, 1.6999503007281884, -0.7126876105880869, -0.0930941715055807, -2.3656191409182625, 0.735568121854511, 0.541493368025285, -0.6301134451738287, -0.05449659496425838, 0.7566045980698098, -0.05331049966966534, 0.7515301988470119, 1.1756364535626789, 0.6255519982890726, 0.4994986012724347, -0.33739521345218193, 0.7932359839780525, -0.8486742318118738, -0.6162281748236087, 0.6588315502975075, 0.47797298287983786, 0.8313530055118066, -1.6412026289064061, -0.5091519178754833, 1.2236901049372901, 1.2990342992990034, -0.4823964312713267, 0.8897377549146316, 0.8330977892920045, 1.2780894780540542, 0.2073916928678156, 2.1898409925479587, 1.2450021823566144, 0.9417074276447647, -0.11353886292187075, 1.5655409294812892, -0.04614353427259727, -0.34656495757651096, -0.18561680250884616, -2.262169847144289, 0.948170877714612, -1.1482499665528605, -0.8927910449284819]}, {\"boxpoints\": false, \"line\": {\"width\": 1.3}, \"marker\": {\"color\": \"rgba(50, 171, 96, 1.0)\"}, \"name\": \"C\", \"orientation\": \"v\", \"type\": \"box\", \"y\": [-0.3852111653161519, -0.7830544747937033, 0.6375500080290681, -1.2935251103472951, -0.8504493153928624, 0.09800862044555947, -1.3269601219003204, 0.327204119642585, -0.690840086360732, 0.0599524931219146, -0.2664804729565175, 0.5677036432202524, 0.44254035862817687, -0.534473786392977, -1.948328679109903, 0.3667213673256576, -0.8857969564564154, 0.000480655223030059, 0.6901565806311147, 0.4849220911931928, -0.3433584734411604, -0.044481892108771924, 0.5219215703694158, 0.6597640523271316, -0.815710202783354, 0.15440045099651611, 0.8626151498285916, 1.2557704479510896, -0.8866797361107176, 0.3116903849033211, -0.04586726700738958, -2.3210995766552003, -1.1141141767156846, -0.718790088777296, -1.215022691367036, 0.15990037633325638, 0.207339989867234, -0.1339251170432215, -0.31336335779366836, 0.4727293268665891, -1.364271403162109, 0.38485826485645513, -0.564525378196018, 0.08053092875359465, 0.8170016869020079, -0.16585723881699452, -0.7806192924820001, 0.2757423040683799, -0.8052577423922532, 0.4394975078426791, 0.05475969001130771, 0.13002452405704323, 0.5504028250944053, -0.07172476042858046, -0.3103852929550721, 0.6345882181965192, 0.45129839073710004, 0.24133569488877202, 0.4660206009407888, 0.32051436624277957, -1.4713410106320284, -0.6439436638461494, 0.0282498419594593, -1.9532860898921842, -0.2281728072186295, -1.6461248416327923, -0.8361741257415685, 1.103069631310339, 1.9773169265966584, 0.48488610606642524, -0.3119955389235842, -0.02493730005691768, -0.9557993486325946, -0.8739418396473461, -0.594468085245611, -0.12311748015716892, 0.16163289632042396, 0.2591893055592278, -0.5245824774930369, 0.9712195427151722, -1.0285584635996985, 1.3835410963227326, -1.1643694982378814, 1.267446133373859, 0.4221341686342332, 1.1078361853210785, 0.7270842106888753, 0.21856045988541378, 0.797581282367628, -0.6429999476331801, -0.8820815237633904, 0.2584226877120125, -0.8029529727740128, 1.4766089511557463, -0.48802675784715516, 1.001168054874638, -1.0613223170663308, 0.7350981512413484, 1.2784722523026892, 0.1117515228145326]}, {\"boxpoints\": false, \"line\": {\"width\": 1.3}, \"marker\": {\"color\": \"rgba(128, 0, 128, 1.0)\"}, \"name\": \"D\", \"orientation\": \"v\", \"type\": \"box\", \"y\": [0.9772336509828237, -0.07647478318063784, 0.7413636391750652, -0.15912297894377248, -0.15177625272150932, 0.1199900295795598, 0.2716635668621539, 0.3709292464448456, 0.5828024998577414, 1.1233734325816407, 0.5350414757703158, -0.27835449335894125, -0.5384981463868941, 1.7604427122046729, -0.1798211998472201, -0.07259583442974381, 0.6927847927489181, 1.713753068511354, 0.5580318332801198, 1.8777101613687104, 2.096919796229778, 2.006680204819293, 1.0358068816393418, -1.0471118960905113, 0.11421243302452166, 0.905838606468195, -1.3557540465958646, 0.052203996643662834, 1.065635124475401, -0.5948064543443344, 0.5824474335176656, 0.03769772664088032, -0.9295819904348213, 0.08773160196539075, -1.4326929160965838, 0.708051413119108, -0.07046148088440911, -0.14346819164193475, 0.3763987464634078, 1.489497426963874, -1.1875085365888707, -0.6972667620976027, -0.37526823498872225, -0.07039635195846435, -1.1069599873901415, 0.351561602957237, 1.7233931104452467, 0.5680461134761515, -0.7651406350372749, -0.8855202646912165, 0.24331003393244538, -1.9622170655863536, 0.25109763454148615, -1.7649926672975669, -0.4234854127409118, -0.7143020036904693, 0.20749639433841285, 0.010268364756173215, 0.0952854975447978, -0.5550510334752385, -0.4934942677949766, 1.6175409619083556, 0.3332748338333687, -0.5344727243038119, 1.0015841881282095, 0.10562661347557104, -0.1852368746866717, -0.07930200523712144, -0.9472604504862842, -0.6793917614321774, 0.3478046849795794, -0.06819282824824709, -0.24348051996278372, 0.4653730332137223, 0.8868921917777485, -0.8744287471716156, 0.8505394053147777, -0.7165134712897009, 0.31470910612493974, 2.2048428931352952, -0.37326042759452166, -0.6869832077121661, 0.4538698980652648, 0.3835572135228256, 0.5864267829588884, 0.1366552671255307, -0.29731483868073927, 0.2921796384197413, 1.204393005274402, 0.03240134226909766, 0.4841180429521735, -0.6875951590864127, 1.320895128089415, -1.5772719223289127, 1.083135276429853, 1.5582687187488196, 0.0402198571728886, 0.782586581086116, -0.826500765488446, 0.6466110743888642]}],\n",
       "                        {\"legend\": {\"bgcolor\": \"#F5F6F9\", \"font\": {\"color\": \"#4D5663\"}}, \"paper_bgcolor\": \"#F5F6F9\", \"plot_bgcolor\": \"#F5F6F9\", \"template\": {\"data\": {\"bar\": [{\"error_x\": {\"color\": \"#2a3f5f\"}, \"error_y\": {\"color\": \"#2a3f5f\"}, \"marker\": {\"line\": {\"color\": \"#E5ECF6\", \"width\": 0.5}}, \"type\": \"bar\"}], \"barpolar\": [{\"marker\": {\"line\": {\"color\": \"#E5ECF6\", \"width\": 0.5}}, \"type\": \"barpolar\"}], \"carpet\": [{\"aaxis\": {\"endlinecolor\": \"#2a3f5f\", \"gridcolor\": \"white\", \"linecolor\": \"white\", \"minorgridcolor\": \"white\", \"startlinecolor\": \"#2a3f5f\"}, \"baxis\": {\"endlinecolor\": \"#2a3f5f\", \"gridcolor\": \"white\", \"linecolor\": \"white\", \"minorgridcolor\": \"white\", \"startlinecolor\": \"#2a3f5f\"}, \"type\": \"carpet\"}], \"choropleth\": [{\"colorbar\": {\"outlinewidth\": 0, \"ticks\": \"\"}, \"type\": \"choropleth\"}], \"contour\": [{\"colorbar\": {\"outlinewidth\": 0, \"ticks\": \"\"}, \"colorscale\": [[0.0, \"#0d0887\"], [0.1111111111111111, \"#46039f\"], [0.2222222222222222, \"#7201a8\"], [0.3333333333333333, \"#9c179e\"], [0.4444444444444444, \"#bd3786\"], [0.5555555555555556, \"#d8576b\"], [0.6666666666666666, \"#ed7953\"], [0.7777777777777778, \"#fb9f3a\"], [0.8888888888888888, \"#fdca26\"], [1.0, \"#f0f921\"]], \"type\": \"contour\"}], \"contourcarpet\": [{\"colorbar\": {\"outlinewidth\": 0, \"ticks\": \"\"}, \"type\": \"contourcarpet\"}], \"heatmap\": [{\"colorbar\": {\"outlinewidth\": 0, \"ticks\": \"\"}, \"colorscale\": [[0.0, \"#0d0887\"], [0.1111111111111111, \"#46039f\"], [0.2222222222222222, \"#7201a8\"], [0.3333333333333333, \"#9c179e\"], [0.4444444444444444, \"#bd3786\"], [0.5555555555555556, \"#d8576b\"], [0.6666666666666666, \"#ed7953\"], [0.7777777777777778, \"#fb9f3a\"], [0.8888888888888888, \"#fdca26\"], [1.0, \"#f0f921\"]], \"type\": \"heatmap\"}], \"heatmapgl\": [{\"colorbar\": {\"outlinewidth\": 0, \"ticks\": \"\"}, \"colorscale\": [[0.0, \"#0d0887\"], [0.1111111111111111, \"#46039f\"], [0.2222222222222222, \"#7201a8\"], [0.3333333333333333, \"#9c179e\"], [0.4444444444444444, \"#bd3786\"], [0.5555555555555556, \"#d8576b\"], [0.6666666666666666, \"#ed7953\"], [0.7777777777777778, \"#fb9f3a\"], [0.8888888888888888, \"#fdca26\"], [1.0, \"#f0f921\"]], \"type\": \"heatmapgl\"}], \"histogram\": [{\"marker\": {\"colorbar\": {\"outlinewidth\": 0, \"ticks\": \"\"}}, \"type\": \"histogram\"}], \"histogram2d\": [{\"colorbar\": {\"outlinewidth\": 0, \"ticks\": \"\"}, \"colorscale\": [[0.0, \"#0d0887\"], [0.1111111111111111, \"#46039f\"], [0.2222222222222222, \"#7201a8\"], [0.3333333333333333, \"#9c179e\"], [0.4444444444444444, \"#bd3786\"], [0.5555555555555556, \"#d8576b\"], [0.6666666666666666, \"#ed7953\"], [0.7777777777777778, \"#fb9f3a\"], [0.8888888888888888, \"#fdca26\"], [1.0, \"#f0f921\"]], \"type\": \"histogram2d\"}], \"histogram2dcontour\": [{\"colorbar\": {\"outlinewidth\": 0, \"ticks\": \"\"}, \"colorscale\": [[0.0, \"#0d0887\"], [0.1111111111111111, \"#46039f\"], [0.2222222222222222, \"#7201a8\"], [0.3333333333333333, \"#9c179e\"], [0.4444444444444444, \"#bd3786\"], [0.5555555555555556, \"#d8576b\"], [0.6666666666666666, \"#ed7953\"], [0.7777777777777778, \"#fb9f3a\"], [0.8888888888888888, \"#fdca26\"], [1.0, \"#f0f921\"]], \"type\": \"histogram2dcontour\"}], \"mesh3d\": [{\"colorbar\": {\"outlinewidth\": 0, \"ticks\": \"\"}, \"type\": \"mesh3d\"}], \"parcoords\": [{\"line\": {\"colorbar\": {\"outlinewidth\": 0, \"ticks\": \"\"}}, \"type\": \"parcoords\"}], \"pie\": [{\"automargin\": true, \"type\": \"pie\"}], \"scatter\": [{\"marker\": {\"colorbar\": {\"outlinewidth\": 0, \"ticks\": \"\"}}, \"type\": \"scatter\"}], \"scatter3d\": [{\"line\": {\"colorbar\": {\"outlinewidth\": 0, \"ticks\": \"\"}}, \"marker\": {\"colorbar\": {\"outlinewidth\": 0, \"ticks\": \"\"}}, \"type\": \"scatter3d\"}], \"scattercarpet\": [{\"marker\": {\"colorbar\": {\"outlinewidth\": 0, \"ticks\": \"\"}}, \"type\": \"scattercarpet\"}], \"scattergeo\": [{\"marker\": {\"colorbar\": {\"outlinewidth\": 0, \"ticks\": \"\"}}, \"type\": \"scattergeo\"}], \"scattergl\": [{\"marker\": {\"colorbar\": {\"outlinewidth\": 0, \"ticks\": \"\"}}, \"type\": \"scattergl\"}], \"scattermapbox\": [{\"marker\": {\"colorbar\": {\"outlinewidth\": 0, \"ticks\": \"\"}}, \"type\": \"scattermapbox\"}], \"scatterpolar\": [{\"marker\": {\"colorbar\": {\"outlinewidth\": 0, \"ticks\": \"\"}}, \"type\": \"scatterpolar\"}], \"scatterpolargl\": [{\"marker\": {\"colorbar\": {\"outlinewidth\": 0, \"ticks\": \"\"}}, \"type\": \"scatterpolargl\"}], \"scatterternary\": [{\"marker\": {\"colorbar\": {\"outlinewidth\": 0, \"ticks\": \"\"}}, \"type\": \"scatterternary\"}], \"surface\": [{\"colorbar\": {\"outlinewidth\": 0, \"ticks\": \"\"}, \"colorscale\": [[0.0, \"#0d0887\"], [0.1111111111111111, \"#46039f\"], [0.2222222222222222, \"#7201a8\"], [0.3333333333333333, \"#9c179e\"], [0.4444444444444444, \"#bd3786\"], [0.5555555555555556, \"#d8576b\"], [0.6666666666666666, \"#ed7953\"], [0.7777777777777778, \"#fb9f3a\"], [0.8888888888888888, \"#fdca26\"], [1.0, \"#f0f921\"]], \"type\": \"surface\"}], \"table\": [{\"cells\": {\"fill\": {\"color\": \"#EBF0F8\"}, \"line\": {\"color\": \"white\"}}, \"header\": {\"fill\": {\"color\": \"#C8D4E3\"}, \"line\": {\"color\": \"white\"}}, \"type\": \"table\"}]}, \"layout\": {\"annotationdefaults\": {\"arrowcolor\": \"#2a3f5f\", \"arrowhead\": 0, \"arrowwidth\": 1}, \"coloraxis\": {\"colorbar\": {\"outlinewidth\": 0, \"ticks\": \"\"}}, \"colorscale\": {\"diverging\": [[0, \"#8e0152\"], [0.1, \"#c51b7d\"], [0.2, \"#de77ae\"], [0.3, \"#f1b6da\"], [0.4, \"#fde0ef\"], [0.5, \"#f7f7f7\"], [0.6, \"#e6f5d0\"], [0.7, \"#b8e186\"], [0.8, \"#7fbc41\"], [0.9, \"#4d9221\"], [1, \"#276419\"]], \"sequential\": [[0.0, \"#0d0887\"], [0.1111111111111111, \"#46039f\"], [0.2222222222222222, \"#7201a8\"], [0.3333333333333333, \"#9c179e\"], [0.4444444444444444, \"#bd3786\"], [0.5555555555555556, \"#d8576b\"], [0.6666666666666666, \"#ed7953\"], [0.7777777777777778, \"#fb9f3a\"], [0.8888888888888888, \"#fdca26\"], [1.0, \"#f0f921\"]], \"sequentialminus\": [[0.0, \"#0d0887\"], [0.1111111111111111, \"#46039f\"], [0.2222222222222222, \"#7201a8\"], [0.3333333333333333, \"#9c179e\"], [0.4444444444444444, \"#bd3786\"], [0.5555555555555556, \"#d8576b\"], [0.6666666666666666, \"#ed7953\"], [0.7777777777777778, \"#fb9f3a\"], [0.8888888888888888, \"#fdca26\"], [1.0, \"#f0f921\"]]}, \"colorway\": [\"#636efa\", \"#EF553B\", \"#00cc96\", \"#ab63fa\", \"#FFA15A\", \"#19d3f3\", \"#FF6692\", \"#B6E880\", \"#FF97FF\", \"#FECB52\"], \"font\": {\"color\": \"#2a3f5f\"}, \"geo\": {\"bgcolor\": \"white\", \"lakecolor\": \"white\", \"landcolor\": \"#E5ECF6\", \"showlakes\": true, \"showland\": true, \"subunitcolor\": \"white\"}, \"hoverlabel\": {\"align\": \"left\"}, \"hovermode\": \"closest\", \"mapbox\": {\"style\": \"light\"}, \"paper_bgcolor\": \"white\", \"plot_bgcolor\": \"#E5ECF6\", \"polar\": {\"angularaxis\": {\"gridcolor\": \"white\", \"linecolor\": \"white\", \"ticks\": \"\"}, \"bgcolor\": \"#E5ECF6\", \"radialaxis\": {\"gridcolor\": \"white\", \"linecolor\": \"white\", \"ticks\": \"\"}}, \"scene\": {\"xaxis\": {\"backgroundcolor\": \"#E5ECF6\", \"gridcolor\": \"white\", \"gridwidth\": 2, \"linecolor\": \"white\", \"showbackground\": true, \"ticks\": \"\", \"zerolinecolor\": \"white\"}, \"yaxis\": {\"backgroundcolor\": \"#E5ECF6\", \"gridcolor\": \"white\", \"gridwidth\": 2, \"linecolor\": \"white\", \"showbackground\": true, \"ticks\": \"\", \"zerolinecolor\": \"white\"}, \"zaxis\": {\"backgroundcolor\": \"#E5ECF6\", \"gridcolor\": \"white\", \"gridwidth\": 2, \"linecolor\": \"white\", \"showbackground\": true, \"ticks\": \"\", \"zerolinecolor\": \"white\"}}, \"shapedefaults\": {\"line\": {\"color\": \"#2a3f5f\"}}, \"ternary\": {\"aaxis\": {\"gridcolor\": \"white\", \"linecolor\": \"white\", \"ticks\": \"\"}, \"baxis\": {\"gridcolor\": \"white\", \"linecolor\": \"white\", \"ticks\": \"\"}, \"bgcolor\": \"#E5ECF6\", \"caxis\": {\"gridcolor\": \"white\", \"linecolor\": \"white\", \"ticks\": \"\"}}, \"title\": {\"x\": 0.05}, \"xaxis\": {\"automargin\": true, \"gridcolor\": \"white\", \"linecolor\": \"white\", \"ticks\": \"\", \"title\": {\"standoff\": 15}, \"zerolinecolor\": \"white\", \"zerolinewidth\": 2}, \"yaxis\": {\"automargin\": true, \"gridcolor\": \"white\", \"linecolor\": \"white\", \"ticks\": \"\", \"title\": {\"standoff\": 15}, \"zerolinecolor\": \"white\", \"zerolinewidth\": 2}}}, \"title\": {\"font\": {\"color\": \"#4D5663\"}}, \"xaxis\": {\"gridcolor\": \"#E1E5ED\", \"showgrid\": true, \"tickfont\": {\"color\": \"#4D5663\"}, \"title\": {\"font\": {\"color\": \"#4D5663\"}, \"text\": \"\"}, \"zerolinecolor\": \"#E1E5ED\"}, \"yaxis\": {\"gridcolor\": \"#E1E5ED\", \"showgrid\": true, \"tickfont\": {\"color\": \"#4D5663\"}, \"title\": {\"font\": {\"color\": \"#4D5663\"}, \"text\": \"\"}, \"zerolinecolor\": \"#E1E5ED\"}},\n",
       "                        {\"showLink\": true, \"linkText\": \"Export to plot.ly\", \"plotlyServerURL\": \"https://plot.ly\", \"responsive\": true}\n",
       "                    ).then(function(){\n",
       "                            \n",
       "var gd = document.getElementById('3175f760-c2c6-48c8-84af-46ad6f0ffdf1');\n",
       "var x = new MutationObserver(function (mutations, observer) {{\n",
       "        var display = window.getComputedStyle(gd).display;\n",
       "        if (!display || display === 'none') {{\n",
       "            console.log([gd, 'removed!']);\n",
       "            Plotly.purge(gd);\n",
       "            observer.disconnect();\n",
       "        }}\n",
       "}});\n",
       "\n",
       "// Listen for the removal of the full notebook cells\n",
       "var notebookContainer = gd.closest('#notebook-container');\n",
       "if (notebookContainer) {{\n",
       "    x.observe(notebookContainer, {childList: true});\n",
       "}}\n",
       "\n",
       "// Listen for the clearing of the current output cell\n",
       "var outputEl = gd.closest('.output');\n",
       "if (outputEl) {{\n",
       "    x.observe(outputEl, {childList: true});\n",
       "}}\n",
       "\n",
       "                        })\n",
       "                };\n",
       "                });\n",
       "            </script>\n",
       "        </div>"
      ]
     },
     "metadata": {},
     "output_type": "display_data"
    }
   ],
   "source": [
    "df.iplot(kind='box')"
   ]
  },
  {
   "cell_type": "code",
   "execution_count": 40,
   "metadata": {},
   "outputs": [],
   "source": [
    "df3 = pd.DataFrame({'x' : [1,2,3,4,5],'y':[10,20,30,20,10],'z':[5,4,3,2,1]})"
   ]
  },
  {
   "cell_type": "code",
   "execution_count": 41,
   "metadata": {},
   "outputs": [
    {
     "data": {
      "text/html": [
       "<div>\n",
       "<style scoped>\n",
       "    .dataframe tbody tr th:only-of-type {\n",
       "        vertical-align: middle;\n",
       "    }\n",
       "\n",
       "    .dataframe tbody tr th {\n",
       "        vertical-align: top;\n",
       "    }\n",
       "\n",
       "    .dataframe thead th {\n",
       "        text-align: right;\n",
       "    }\n",
       "</style>\n",
       "<table border=\"1\" class=\"dataframe\">\n",
       "  <thead>\n",
       "    <tr style=\"text-align: right;\">\n",
       "      <th></th>\n",
       "      <th>x</th>\n",
       "      <th>y</th>\n",
       "      <th>z</th>\n",
       "    </tr>\n",
       "  </thead>\n",
       "  <tbody>\n",
       "    <tr>\n",
       "      <th>0</th>\n",
       "      <td>1</td>\n",
       "      <td>10</td>\n",
       "      <td>5</td>\n",
       "    </tr>\n",
       "    <tr>\n",
       "      <th>1</th>\n",
       "      <td>2</td>\n",
       "      <td>20</td>\n",
       "      <td>4</td>\n",
       "    </tr>\n",
       "    <tr>\n",
       "      <th>2</th>\n",
       "      <td>3</td>\n",
       "      <td>30</td>\n",
       "      <td>3</td>\n",
       "    </tr>\n",
       "    <tr>\n",
       "      <th>3</th>\n",
       "      <td>4</td>\n",
       "      <td>20</td>\n",
       "      <td>2</td>\n",
       "    </tr>\n",
       "    <tr>\n",
       "      <th>4</th>\n",
       "      <td>5</td>\n",
       "      <td>10</td>\n",
       "      <td>1</td>\n",
       "    </tr>\n",
       "  </tbody>\n",
       "</table>\n",
       "</div>"
      ],
      "text/plain": [
       "   x   y  z\n",
       "0  1  10  5\n",
       "1  2  20  4\n",
       "2  3  30  3\n",
       "3  4  20  2\n",
       "4  5  10  1"
      ]
     },
     "execution_count": 41,
     "metadata": {},
     "output_type": "execute_result"
    }
   ],
   "source": [
    "df3"
   ]
  },
  {
   "cell_type": "code",
   "execution_count": 44,
   "metadata": {},
   "outputs": [
    {
     "data": {
      "application/vnd.plotly.v1+json": {
       "config": {
        "linkText": "Export to plot.ly",
        "plotlyServerURL": "https://plot.ly",
        "showLink": true
       },
       "data": [
        {
         "colorscale": [
          [
           0,
           "rgb(165,0,38)"
          ],
          [
           0.1,
           "rgb(215,48,39)"
          ],
          [
           0.2,
           "rgb(244,109,67)"
          ],
          [
           0.3,
           "rgb(253,174,97)"
          ],
          [
           0.4,
           "rgb(254,224,144)"
          ],
          [
           0.5,
           "rgb(255,255,191)"
          ],
          [
           0.6,
           "rgb(224,243,248)"
          ],
          [
           0.7,
           "rgb(171,217,233)"
          ],
          [
           0.8,
           "rgb(116,173,209)"
          ],
          [
           0.9,
           "rgb(69,117,180)"
          ],
          [
           1,
           "rgb(49,54,149)"
          ]
         ],
         "type": "surface",
         "x": [
          0,
          1,
          2,
          3,
          4
         ],
         "y": [
          "x",
          "y",
          "z"
         ],
         "z": [
          [
           1,
           2,
           3,
           4,
           5
          ],
          [
           10,
           20,
           30,
           20,
           10
          ],
          [
           5,
           4,
           3,
           2,
           1
          ]
         ]
        }
       ],
       "layout": {
        "legend": {
         "bgcolor": "#F5F6F9",
         "font": {
          "color": "#4D5663"
         }
        },
        "paper_bgcolor": "#F5F6F9",
        "plot_bgcolor": "#F5F6F9",
        "template": {
         "data": {
          "bar": [
           {
            "error_x": {
             "color": "#2a3f5f"
            },
            "error_y": {
             "color": "#2a3f5f"
            },
            "marker": {
             "line": {
              "color": "#E5ECF6",
              "width": 0.5
             }
            },
            "type": "bar"
           }
          ],
          "barpolar": [
           {
            "marker": {
             "line": {
              "color": "#E5ECF6",
              "width": 0.5
             }
            },
            "type": "barpolar"
           }
          ],
          "carpet": [
           {
            "aaxis": {
             "endlinecolor": "#2a3f5f",
             "gridcolor": "white",
             "linecolor": "white",
             "minorgridcolor": "white",
             "startlinecolor": "#2a3f5f"
            },
            "baxis": {
             "endlinecolor": "#2a3f5f",
             "gridcolor": "white",
             "linecolor": "white",
             "minorgridcolor": "white",
             "startlinecolor": "#2a3f5f"
            },
            "type": "carpet"
           }
          ],
          "choropleth": [
           {
            "colorbar": {
             "outlinewidth": 0,
             "ticks": ""
            },
            "type": "choropleth"
           }
          ],
          "contour": [
           {
            "colorbar": {
             "outlinewidth": 0,
             "ticks": ""
            },
            "colorscale": [
             [
              0,
              "#0d0887"
             ],
             [
              0.1111111111111111,
              "#46039f"
             ],
             [
              0.2222222222222222,
              "#7201a8"
             ],
             [
              0.3333333333333333,
              "#9c179e"
             ],
             [
              0.4444444444444444,
              "#bd3786"
             ],
             [
              0.5555555555555556,
              "#d8576b"
             ],
             [
              0.6666666666666666,
              "#ed7953"
             ],
             [
              0.7777777777777778,
              "#fb9f3a"
             ],
             [
              0.8888888888888888,
              "#fdca26"
             ],
             [
              1,
              "#f0f921"
             ]
            ],
            "type": "contour"
           }
          ],
          "contourcarpet": [
           {
            "colorbar": {
             "outlinewidth": 0,
             "ticks": ""
            },
            "type": "contourcarpet"
           }
          ],
          "heatmap": [
           {
            "colorbar": {
             "outlinewidth": 0,
             "ticks": ""
            },
            "colorscale": [
             [
              0,
              "#0d0887"
             ],
             [
              0.1111111111111111,
              "#46039f"
             ],
             [
              0.2222222222222222,
              "#7201a8"
             ],
             [
              0.3333333333333333,
              "#9c179e"
             ],
             [
              0.4444444444444444,
              "#bd3786"
             ],
             [
              0.5555555555555556,
              "#d8576b"
             ],
             [
              0.6666666666666666,
              "#ed7953"
             ],
             [
              0.7777777777777778,
              "#fb9f3a"
             ],
             [
              0.8888888888888888,
              "#fdca26"
             ],
             [
              1,
              "#f0f921"
             ]
            ],
            "type": "heatmap"
           }
          ],
          "heatmapgl": [
           {
            "colorbar": {
             "outlinewidth": 0,
             "ticks": ""
            },
            "colorscale": [
             [
              0,
              "#0d0887"
             ],
             [
              0.1111111111111111,
              "#46039f"
             ],
             [
              0.2222222222222222,
              "#7201a8"
             ],
             [
              0.3333333333333333,
              "#9c179e"
             ],
             [
              0.4444444444444444,
              "#bd3786"
             ],
             [
              0.5555555555555556,
              "#d8576b"
             ],
             [
              0.6666666666666666,
              "#ed7953"
             ],
             [
              0.7777777777777778,
              "#fb9f3a"
             ],
             [
              0.8888888888888888,
              "#fdca26"
             ],
             [
              1,
              "#f0f921"
             ]
            ],
            "type": "heatmapgl"
           }
          ],
          "histogram": [
           {
            "marker": {
             "colorbar": {
              "outlinewidth": 0,
              "ticks": ""
             }
            },
            "type": "histogram"
           }
          ],
          "histogram2d": [
           {
            "colorbar": {
             "outlinewidth": 0,
             "ticks": ""
            },
            "colorscale": [
             [
              0,
              "#0d0887"
             ],
             [
              0.1111111111111111,
              "#46039f"
             ],
             [
              0.2222222222222222,
              "#7201a8"
             ],
             [
              0.3333333333333333,
              "#9c179e"
             ],
             [
              0.4444444444444444,
              "#bd3786"
             ],
             [
              0.5555555555555556,
              "#d8576b"
             ],
             [
              0.6666666666666666,
              "#ed7953"
             ],
             [
              0.7777777777777778,
              "#fb9f3a"
             ],
             [
              0.8888888888888888,
              "#fdca26"
             ],
             [
              1,
              "#f0f921"
             ]
            ],
            "type": "histogram2d"
           }
          ],
          "histogram2dcontour": [
           {
            "colorbar": {
             "outlinewidth": 0,
             "ticks": ""
            },
            "colorscale": [
             [
              0,
              "#0d0887"
             ],
             [
              0.1111111111111111,
              "#46039f"
             ],
             [
              0.2222222222222222,
              "#7201a8"
             ],
             [
              0.3333333333333333,
              "#9c179e"
             ],
             [
              0.4444444444444444,
              "#bd3786"
             ],
             [
              0.5555555555555556,
              "#d8576b"
             ],
             [
              0.6666666666666666,
              "#ed7953"
             ],
             [
              0.7777777777777778,
              "#fb9f3a"
             ],
             [
              0.8888888888888888,
              "#fdca26"
             ],
             [
              1,
              "#f0f921"
             ]
            ],
            "type": "histogram2dcontour"
           }
          ],
          "mesh3d": [
           {
            "colorbar": {
             "outlinewidth": 0,
             "ticks": ""
            },
            "type": "mesh3d"
           }
          ],
          "parcoords": [
           {
            "line": {
             "colorbar": {
              "outlinewidth": 0,
              "ticks": ""
             }
            },
            "type": "parcoords"
           }
          ],
          "pie": [
           {
            "automargin": true,
            "type": "pie"
           }
          ],
          "scatter": [
           {
            "marker": {
             "colorbar": {
              "outlinewidth": 0,
              "ticks": ""
             }
            },
            "type": "scatter"
           }
          ],
          "scatter3d": [
           {
            "line": {
             "colorbar": {
              "outlinewidth": 0,
              "ticks": ""
             }
            },
            "marker": {
             "colorbar": {
              "outlinewidth": 0,
              "ticks": ""
             }
            },
            "type": "scatter3d"
           }
          ],
          "scattercarpet": [
           {
            "marker": {
             "colorbar": {
              "outlinewidth": 0,
              "ticks": ""
             }
            },
            "type": "scattercarpet"
           }
          ],
          "scattergeo": [
           {
            "marker": {
             "colorbar": {
              "outlinewidth": 0,
              "ticks": ""
             }
            },
            "type": "scattergeo"
           }
          ],
          "scattergl": [
           {
            "marker": {
             "colorbar": {
              "outlinewidth": 0,
              "ticks": ""
             }
            },
            "type": "scattergl"
           }
          ],
          "scattermapbox": [
           {
            "marker": {
             "colorbar": {
              "outlinewidth": 0,
              "ticks": ""
             }
            },
            "type": "scattermapbox"
           }
          ],
          "scatterpolar": [
           {
            "marker": {
             "colorbar": {
              "outlinewidth": 0,
              "ticks": ""
             }
            },
            "type": "scatterpolar"
           }
          ],
          "scatterpolargl": [
           {
            "marker": {
             "colorbar": {
              "outlinewidth": 0,
              "ticks": ""
             }
            },
            "type": "scatterpolargl"
           }
          ],
          "scatterternary": [
           {
            "marker": {
             "colorbar": {
              "outlinewidth": 0,
              "ticks": ""
             }
            },
            "type": "scatterternary"
           }
          ],
          "surface": [
           {
            "colorbar": {
             "outlinewidth": 0,
             "ticks": ""
            },
            "colorscale": [
             [
              0,
              "#0d0887"
             ],
             [
              0.1111111111111111,
              "#46039f"
             ],
             [
              0.2222222222222222,
              "#7201a8"
             ],
             [
              0.3333333333333333,
              "#9c179e"
             ],
             [
              0.4444444444444444,
              "#bd3786"
             ],
             [
              0.5555555555555556,
              "#d8576b"
             ],
             [
              0.6666666666666666,
              "#ed7953"
             ],
             [
              0.7777777777777778,
              "#fb9f3a"
             ],
             [
              0.8888888888888888,
              "#fdca26"
             ],
             [
              1,
              "#f0f921"
             ]
            ],
            "type": "surface"
           }
          ],
          "table": [
           {
            "cells": {
             "fill": {
              "color": "#EBF0F8"
             },
             "line": {
              "color": "white"
             }
            },
            "header": {
             "fill": {
              "color": "#C8D4E3"
             },
             "line": {
              "color": "white"
             }
            },
            "type": "table"
           }
          ]
         },
         "layout": {
          "annotationdefaults": {
           "arrowcolor": "#2a3f5f",
           "arrowhead": 0,
           "arrowwidth": 1
          },
          "coloraxis": {
           "colorbar": {
            "outlinewidth": 0,
            "ticks": ""
           }
          },
          "colorscale": {
           "diverging": [
            [
             0,
             "#8e0152"
            ],
            [
             0.1,
             "#c51b7d"
            ],
            [
             0.2,
             "#de77ae"
            ],
            [
             0.3,
             "#f1b6da"
            ],
            [
             0.4,
             "#fde0ef"
            ],
            [
             0.5,
             "#f7f7f7"
            ],
            [
             0.6,
             "#e6f5d0"
            ],
            [
             0.7,
             "#b8e186"
            ],
            [
             0.8,
             "#7fbc41"
            ],
            [
             0.9,
             "#4d9221"
            ],
            [
             1,
             "#276419"
            ]
           ],
           "sequential": [
            [
             0,
             "#0d0887"
            ],
            [
             0.1111111111111111,
             "#46039f"
            ],
            [
             0.2222222222222222,
             "#7201a8"
            ],
            [
             0.3333333333333333,
             "#9c179e"
            ],
            [
             0.4444444444444444,
             "#bd3786"
            ],
            [
             0.5555555555555556,
             "#d8576b"
            ],
            [
             0.6666666666666666,
             "#ed7953"
            ],
            [
             0.7777777777777778,
             "#fb9f3a"
            ],
            [
             0.8888888888888888,
             "#fdca26"
            ],
            [
             1,
             "#f0f921"
            ]
           ],
           "sequentialminus": [
            [
             0,
             "#0d0887"
            ],
            [
             0.1111111111111111,
             "#46039f"
            ],
            [
             0.2222222222222222,
             "#7201a8"
            ],
            [
             0.3333333333333333,
             "#9c179e"
            ],
            [
             0.4444444444444444,
             "#bd3786"
            ],
            [
             0.5555555555555556,
             "#d8576b"
            ],
            [
             0.6666666666666666,
             "#ed7953"
            ],
            [
             0.7777777777777778,
             "#fb9f3a"
            ],
            [
             0.8888888888888888,
             "#fdca26"
            ],
            [
             1,
             "#f0f921"
            ]
           ]
          },
          "colorway": [
           "#636efa",
           "#EF553B",
           "#00cc96",
           "#ab63fa",
           "#FFA15A",
           "#19d3f3",
           "#FF6692",
           "#B6E880",
           "#FF97FF",
           "#FECB52"
          ],
          "font": {
           "color": "#2a3f5f"
          },
          "geo": {
           "bgcolor": "white",
           "lakecolor": "white",
           "landcolor": "#E5ECF6",
           "showlakes": true,
           "showland": true,
           "subunitcolor": "white"
          },
          "hoverlabel": {
           "align": "left"
          },
          "hovermode": "closest",
          "mapbox": {
           "style": "light"
          },
          "paper_bgcolor": "white",
          "plot_bgcolor": "#E5ECF6",
          "polar": {
           "angularaxis": {
            "gridcolor": "white",
            "linecolor": "white",
            "ticks": ""
           },
           "bgcolor": "#E5ECF6",
           "radialaxis": {
            "gridcolor": "white",
            "linecolor": "white",
            "ticks": ""
           }
          },
          "scene": {
           "xaxis": {
            "backgroundcolor": "#E5ECF6",
            "gridcolor": "white",
            "gridwidth": 2,
            "linecolor": "white",
            "showbackground": true,
            "ticks": "",
            "zerolinecolor": "white"
           },
           "yaxis": {
            "backgroundcolor": "#E5ECF6",
            "gridcolor": "white",
            "gridwidth": 2,
            "linecolor": "white",
            "showbackground": true,
            "ticks": "",
            "zerolinecolor": "white"
           },
           "zaxis": {
            "backgroundcolor": "#E5ECF6",
            "gridcolor": "white",
            "gridwidth": 2,
            "linecolor": "white",
            "showbackground": true,
            "ticks": "",
            "zerolinecolor": "white"
           }
          },
          "shapedefaults": {
           "line": {
            "color": "#2a3f5f"
           }
          },
          "ternary": {
           "aaxis": {
            "gridcolor": "white",
            "linecolor": "white",
            "ticks": ""
           },
           "baxis": {
            "gridcolor": "white",
            "linecolor": "white",
            "ticks": ""
           },
           "bgcolor": "#E5ECF6",
           "caxis": {
            "gridcolor": "white",
            "linecolor": "white",
            "ticks": ""
           }
          },
          "title": {
           "x": 0.05
          },
          "xaxis": {
           "automargin": true,
           "gridcolor": "white",
           "linecolor": "white",
           "ticks": "",
           "title": {
            "standoff": 15
           },
           "zerolinecolor": "white",
           "zerolinewidth": 2
          },
          "yaxis": {
           "automargin": true,
           "gridcolor": "white",
           "linecolor": "white",
           "ticks": "",
           "title": {
            "standoff": 15
           },
           "zerolinecolor": "white",
           "zerolinewidth": 2
          }
         }
        },
        "title": {
         "font": {
          "color": "#4D5663"
         }
        },
        "xaxis": {
         "gridcolor": "#E1E5ED",
         "showgrid": true,
         "tickfont": {
          "color": "#4D5663"
         },
         "title": {
          "font": {
           "color": "#4D5663"
          },
          "text": ""
         },
         "zerolinecolor": "#E1E5ED"
        },
        "yaxis": {
         "gridcolor": "#E1E5ED",
         "showgrid": true,
         "tickfont": {
          "color": "#4D5663"
         },
         "title": {
          "font": {
           "color": "#4D5663"
          },
          "text": ""
         },
         "zerolinecolor": "#E1E5ED"
        }
       }
      },
      "text/html": [
       "<div>\n",
       "        \n",
       "        \n",
       "            <div id=\"8201a131-9522-4589-bee1-11beba97bc67\" class=\"plotly-graph-div\" style=\"height:525px; width:100%;\"></div>\n",
       "            <script type=\"text/javascript\">\n",
       "                require([\"plotly\"], function(Plotly) {\n",
       "                    window.PLOTLYENV=window.PLOTLYENV || {};\n",
       "                    window.PLOTLYENV.BASE_URL='https://plot.ly';\n",
       "                    \n",
       "                if (document.getElementById(\"8201a131-9522-4589-bee1-11beba97bc67\")) {\n",
       "                    Plotly.newPlot(\n",
       "                        '8201a131-9522-4589-bee1-11beba97bc67',\n",
       "                        [{\"colorscale\": [[0.0, \"rgb(165,0,38)\"], [0.1, \"rgb(215,48,39)\"], [0.2, \"rgb(244,109,67)\"], [0.3, \"rgb(253,174,97)\"], [0.4, \"rgb(254,224,144)\"], [0.5, \"rgb(255,255,191)\"], [0.6, \"rgb(224,243,248)\"], [0.7, \"rgb(171,217,233)\"], [0.8, \"rgb(116,173,209)\"], [0.9, \"rgb(69,117,180)\"], [1.0, \"rgb(49,54,149)\"]], \"type\": \"surface\", \"x\": [0, 1, 2, 3, 4], \"y\": [\"x\", \"y\", \"z\"], \"z\": [[1, 2, 3, 4, 5], [10, 20, 30, 20, 10], [5, 4, 3, 2, 1]]}],\n",
       "                        {\"legend\": {\"bgcolor\": \"#F5F6F9\", \"font\": {\"color\": \"#4D5663\"}}, \"paper_bgcolor\": \"#F5F6F9\", \"plot_bgcolor\": \"#F5F6F9\", \"template\": {\"data\": {\"bar\": [{\"error_x\": {\"color\": \"#2a3f5f\"}, \"error_y\": {\"color\": \"#2a3f5f\"}, \"marker\": {\"line\": {\"color\": \"#E5ECF6\", \"width\": 0.5}}, \"type\": \"bar\"}], \"barpolar\": [{\"marker\": {\"line\": {\"color\": \"#E5ECF6\", \"width\": 0.5}}, \"type\": \"barpolar\"}], \"carpet\": [{\"aaxis\": {\"endlinecolor\": \"#2a3f5f\", \"gridcolor\": \"white\", \"linecolor\": \"white\", \"minorgridcolor\": \"white\", \"startlinecolor\": \"#2a3f5f\"}, \"baxis\": {\"endlinecolor\": \"#2a3f5f\", \"gridcolor\": \"white\", \"linecolor\": \"white\", \"minorgridcolor\": \"white\", \"startlinecolor\": \"#2a3f5f\"}, \"type\": \"carpet\"}], \"choropleth\": [{\"colorbar\": {\"outlinewidth\": 0, \"ticks\": \"\"}, \"type\": \"choropleth\"}], \"contour\": [{\"colorbar\": {\"outlinewidth\": 0, \"ticks\": \"\"}, \"colorscale\": [[0.0, \"#0d0887\"], [0.1111111111111111, \"#46039f\"], [0.2222222222222222, \"#7201a8\"], [0.3333333333333333, \"#9c179e\"], [0.4444444444444444, \"#bd3786\"], [0.5555555555555556, \"#d8576b\"], [0.6666666666666666, \"#ed7953\"], [0.7777777777777778, \"#fb9f3a\"], [0.8888888888888888, \"#fdca26\"], [1.0, \"#f0f921\"]], \"type\": \"contour\"}], \"contourcarpet\": [{\"colorbar\": {\"outlinewidth\": 0, \"ticks\": \"\"}, \"type\": \"contourcarpet\"}], \"heatmap\": [{\"colorbar\": {\"outlinewidth\": 0, \"ticks\": \"\"}, \"colorscale\": [[0.0, \"#0d0887\"], [0.1111111111111111, \"#46039f\"], [0.2222222222222222, \"#7201a8\"], [0.3333333333333333, \"#9c179e\"], [0.4444444444444444, \"#bd3786\"], [0.5555555555555556, \"#d8576b\"], [0.6666666666666666, \"#ed7953\"], [0.7777777777777778, \"#fb9f3a\"], [0.8888888888888888, \"#fdca26\"], [1.0, \"#f0f921\"]], \"type\": \"heatmap\"}], \"heatmapgl\": [{\"colorbar\": {\"outlinewidth\": 0, \"ticks\": \"\"}, \"colorscale\": [[0.0, \"#0d0887\"], [0.1111111111111111, \"#46039f\"], [0.2222222222222222, \"#7201a8\"], [0.3333333333333333, \"#9c179e\"], [0.4444444444444444, \"#bd3786\"], [0.5555555555555556, \"#d8576b\"], [0.6666666666666666, \"#ed7953\"], [0.7777777777777778, \"#fb9f3a\"], [0.8888888888888888, \"#fdca26\"], [1.0, \"#f0f921\"]], \"type\": \"heatmapgl\"}], \"histogram\": [{\"marker\": {\"colorbar\": {\"outlinewidth\": 0, \"ticks\": \"\"}}, \"type\": \"histogram\"}], \"histogram2d\": [{\"colorbar\": {\"outlinewidth\": 0, \"ticks\": \"\"}, \"colorscale\": [[0.0, \"#0d0887\"], [0.1111111111111111, \"#46039f\"], [0.2222222222222222, \"#7201a8\"], [0.3333333333333333, \"#9c179e\"], [0.4444444444444444, \"#bd3786\"], [0.5555555555555556, \"#d8576b\"], [0.6666666666666666, \"#ed7953\"], [0.7777777777777778, \"#fb9f3a\"], [0.8888888888888888, \"#fdca26\"], [1.0, \"#f0f921\"]], \"type\": \"histogram2d\"}], \"histogram2dcontour\": [{\"colorbar\": {\"outlinewidth\": 0, \"ticks\": \"\"}, \"colorscale\": [[0.0, \"#0d0887\"], [0.1111111111111111, \"#46039f\"], [0.2222222222222222, \"#7201a8\"], [0.3333333333333333, \"#9c179e\"], [0.4444444444444444, \"#bd3786\"], [0.5555555555555556, \"#d8576b\"], [0.6666666666666666, \"#ed7953\"], [0.7777777777777778, \"#fb9f3a\"], [0.8888888888888888, \"#fdca26\"], [1.0, \"#f0f921\"]], \"type\": \"histogram2dcontour\"}], \"mesh3d\": [{\"colorbar\": {\"outlinewidth\": 0, \"ticks\": \"\"}, \"type\": \"mesh3d\"}], \"parcoords\": [{\"line\": {\"colorbar\": {\"outlinewidth\": 0, \"ticks\": \"\"}}, \"type\": \"parcoords\"}], \"pie\": [{\"automargin\": true, \"type\": \"pie\"}], \"scatter\": [{\"marker\": {\"colorbar\": {\"outlinewidth\": 0, \"ticks\": \"\"}}, \"type\": \"scatter\"}], \"scatter3d\": [{\"line\": {\"colorbar\": {\"outlinewidth\": 0, \"ticks\": \"\"}}, \"marker\": {\"colorbar\": {\"outlinewidth\": 0, \"ticks\": \"\"}}, \"type\": \"scatter3d\"}], \"scattercarpet\": [{\"marker\": {\"colorbar\": {\"outlinewidth\": 0, \"ticks\": \"\"}}, \"type\": \"scattercarpet\"}], \"scattergeo\": [{\"marker\": {\"colorbar\": {\"outlinewidth\": 0, \"ticks\": \"\"}}, \"type\": \"scattergeo\"}], \"scattergl\": [{\"marker\": {\"colorbar\": {\"outlinewidth\": 0, \"ticks\": \"\"}}, \"type\": \"scattergl\"}], \"scattermapbox\": [{\"marker\": {\"colorbar\": {\"outlinewidth\": 0, \"ticks\": \"\"}}, \"type\": \"scattermapbox\"}], \"scatterpolar\": [{\"marker\": {\"colorbar\": {\"outlinewidth\": 0, \"ticks\": \"\"}}, \"type\": \"scatterpolar\"}], \"scatterpolargl\": [{\"marker\": {\"colorbar\": {\"outlinewidth\": 0, \"ticks\": \"\"}}, \"type\": \"scatterpolargl\"}], \"scatterternary\": [{\"marker\": {\"colorbar\": {\"outlinewidth\": 0, \"ticks\": \"\"}}, \"type\": \"scatterternary\"}], \"surface\": [{\"colorbar\": {\"outlinewidth\": 0, \"ticks\": \"\"}, \"colorscale\": [[0.0, \"#0d0887\"], [0.1111111111111111, \"#46039f\"], [0.2222222222222222, \"#7201a8\"], [0.3333333333333333, \"#9c179e\"], [0.4444444444444444, \"#bd3786\"], [0.5555555555555556, \"#d8576b\"], [0.6666666666666666, \"#ed7953\"], [0.7777777777777778, \"#fb9f3a\"], [0.8888888888888888, \"#fdca26\"], [1.0, \"#f0f921\"]], \"type\": \"surface\"}], \"table\": [{\"cells\": {\"fill\": {\"color\": \"#EBF0F8\"}, \"line\": {\"color\": \"white\"}}, \"header\": {\"fill\": {\"color\": \"#C8D4E3\"}, \"line\": {\"color\": \"white\"}}, \"type\": \"table\"}]}, \"layout\": {\"annotationdefaults\": {\"arrowcolor\": \"#2a3f5f\", \"arrowhead\": 0, \"arrowwidth\": 1}, \"coloraxis\": {\"colorbar\": {\"outlinewidth\": 0, \"ticks\": \"\"}}, \"colorscale\": {\"diverging\": [[0, \"#8e0152\"], [0.1, \"#c51b7d\"], [0.2, \"#de77ae\"], [0.3, \"#f1b6da\"], [0.4, \"#fde0ef\"], [0.5, \"#f7f7f7\"], [0.6, \"#e6f5d0\"], [0.7, \"#b8e186\"], [0.8, \"#7fbc41\"], [0.9, \"#4d9221\"], [1, \"#276419\"]], \"sequential\": [[0.0, \"#0d0887\"], [0.1111111111111111, \"#46039f\"], [0.2222222222222222, \"#7201a8\"], [0.3333333333333333, \"#9c179e\"], [0.4444444444444444, \"#bd3786\"], [0.5555555555555556, \"#d8576b\"], [0.6666666666666666, \"#ed7953\"], [0.7777777777777778, \"#fb9f3a\"], [0.8888888888888888, \"#fdca26\"], [1.0, \"#f0f921\"]], \"sequentialminus\": [[0.0, \"#0d0887\"], [0.1111111111111111, \"#46039f\"], [0.2222222222222222, \"#7201a8\"], [0.3333333333333333, \"#9c179e\"], [0.4444444444444444, \"#bd3786\"], [0.5555555555555556, \"#d8576b\"], [0.6666666666666666, \"#ed7953\"], [0.7777777777777778, \"#fb9f3a\"], [0.8888888888888888, \"#fdca26\"], [1.0, \"#f0f921\"]]}, \"colorway\": [\"#636efa\", \"#EF553B\", \"#00cc96\", \"#ab63fa\", \"#FFA15A\", \"#19d3f3\", \"#FF6692\", \"#B6E880\", \"#FF97FF\", \"#FECB52\"], \"font\": {\"color\": \"#2a3f5f\"}, \"geo\": {\"bgcolor\": \"white\", \"lakecolor\": \"white\", \"landcolor\": \"#E5ECF6\", \"showlakes\": true, \"showland\": true, \"subunitcolor\": \"white\"}, \"hoverlabel\": {\"align\": \"left\"}, \"hovermode\": \"closest\", \"mapbox\": {\"style\": \"light\"}, \"paper_bgcolor\": \"white\", \"plot_bgcolor\": \"#E5ECF6\", \"polar\": {\"angularaxis\": {\"gridcolor\": \"white\", \"linecolor\": \"white\", \"ticks\": \"\"}, \"bgcolor\": \"#E5ECF6\", \"radialaxis\": {\"gridcolor\": \"white\", \"linecolor\": \"white\", \"ticks\": \"\"}}, \"scene\": {\"xaxis\": {\"backgroundcolor\": \"#E5ECF6\", \"gridcolor\": \"white\", \"gridwidth\": 2, \"linecolor\": \"white\", \"showbackground\": true, \"ticks\": \"\", \"zerolinecolor\": \"white\"}, \"yaxis\": {\"backgroundcolor\": \"#E5ECF6\", \"gridcolor\": \"white\", \"gridwidth\": 2, \"linecolor\": \"white\", \"showbackground\": true, \"ticks\": \"\", \"zerolinecolor\": \"white\"}, \"zaxis\": {\"backgroundcolor\": \"#E5ECF6\", \"gridcolor\": \"white\", \"gridwidth\": 2, \"linecolor\": \"white\", \"showbackground\": true, \"ticks\": \"\", \"zerolinecolor\": \"white\"}}, \"shapedefaults\": {\"line\": {\"color\": \"#2a3f5f\"}}, \"ternary\": {\"aaxis\": {\"gridcolor\": \"white\", \"linecolor\": \"white\", \"ticks\": \"\"}, \"baxis\": {\"gridcolor\": \"white\", \"linecolor\": \"white\", \"ticks\": \"\"}, \"bgcolor\": \"#E5ECF6\", \"caxis\": {\"gridcolor\": \"white\", \"linecolor\": \"white\", \"ticks\": \"\"}}, \"title\": {\"x\": 0.05}, \"xaxis\": {\"automargin\": true, \"gridcolor\": \"white\", \"linecolor\": \"white\", \"ticks\": \"\", \"title\": {\"standoff\": 15}, \"zerolinecolor\": \"white\", \"zerolinewidth\": 2}, \"yaxis\": {\"automargin\": true, \"gridcolor\": \"white\", \"linecolor\": \"white\", \"ticks\": \"\", \"title\": {\"standoff\": 15}, \"zerolinecolor\": \"white\", \"zerolinewidth\": 2}}}, \"title\": {\"font\": {\"color\": \"#4D5663\"}}, \"xaxis\": {\"gridcolor\": \"#E1E5ED\", \"showgrid\": true, \"tickfont\": {\"color\": \"#4D5663\"}, \"title\": {\"font\": {\"color\": \"#4D5663\"}, \"text\": \"\"}, \"zerolinecolor\": \"#E1E5ED\"}, \"yaxis\": {\"gridcolor\": \"#E1E5ED\", \"showgrid\": true, \"tickfont\": {\"color\": \"#4D5663\"}, \"title\": {\"font\": {\"color\": \"#4D5663\"}, \"text\": \"\"}, \"zerolinecolor\": \"#E1E5ED\"}},\n",
       "                        {\"showLink\": true, \"linkText\": \"Export to plot.ly\", \"plotlyServerURL\": \"https://plot.ly\", \"responsive\": true}\n",
       "                    ).then(function(){\n",
       "                            \n",
       "var gd = document.getElementById('8201a131-9522-4589-bee1-11beba97bc67');\n",
       "var x = new MutationObserver(function (mutations, observer) {{\n",
       "        var display = window.getComputedStyle(gd).display;\n",
       "        if (!display || display === 'none') {{\n",
       "            console.log([gd, 'removed!']);\n",
       "            Plotly.purge(gd);\n",
       "            observer.disconnect();\n",
       "        }}\n",
       "}});\n",
       "\n",
       "// Listen for the removal of the full notebook cells\n",
       "var notebookContainer = gd.closest('#notebook-container');\n",
       "if (notebookContainer) {{\n",
       "    x.observe(notebookContainer, {childList: true});\n",
       "}}\n",
       "\n",
       "// Listen for the clearing of the current output cell\n",
       "var outputEl = gd.closest('.output');\n",
       "if (outputEl) {{\n",
       "    x.observe(outputEl, {childList: true});\n",
       "}}\n",
       "\n",
       "                        })\n",
       "                };\n",
       "                });\n",
       "            </script>\n",
       "        </div>"
      ]
     },
     "metadata": {},
     "output_type": "display_data"
    }
   ],
   "source": [
    "df3.iplot(kind='surface', colorscale='rdylbu')"
   ]
  },
  {
   "cell_type": "code",
   "execution_count": 45,
   "metadata": {},
   "outputs": [
    {
     "data": {
      "application/vnd.plotly.v1+json": {
       "config": {
        "linkText": "Export to plot.ly",
        "plotlyServerURL": "https://plot.ly",
        "showLink": true
       },
       "data": [
        {
         "histfunc": "count",
         "histnorm": "",
         "marker": {
          "color": "rgba(255, 153, 51, 1.0)",
          "line": {
           "color": "#4D5663",
           "width": 1.3
          }
         },
         "name": "A",
         "opacity": 0.8,
         "orientation": "v",
         "type": "histogram",
         "x": [
          -2.2555933768724947,
          -0.03382340070021499,
          -0.3200478984174772,
          0.05045835842384177,
          0.2233965386018236,
          0.2536608574004414,
          -0.6692398991913475,
          -0.4786089224325477,
          0.6512291566816155,
          -0.9992360969851862,
          -0.22169793134556703,
          -1.1712641861345396,
          0.3252298075551189,
          0.8914928115672888,
          -0.0369001928301434,
          -0.12612875726858397,
          -0.6321662033550624,
          -0.7177849850115586,
          -0.7380476067025662,
          -0.6496181734346335,
          -0.7764825074228829,
          0.9825053624790435,
          0.2583656046298789,
          -0.037818224865744765,
          0.1633648933126579,
          0.09045583256205675,
          0.6019746573813641,
          0.8630717855557517,
          -0.6891220161380268,
          0.008139132913083826,
          1.4462942945255972,
          1.0974328278372718,
          1.7026391999584558,
          0.13232510434415812,
          -1.4930236346176566,
          0.5717283572309633,
          1.6027573821880863,
          -0.26316261913033745,
          0.1428706155553884,
          -1.9689781776908595,
          0.7573252641608401,
          1.2815546026772953,
          0.4347619600899514,
          -0.5353942165407267,
          0.9427327554963698,
          1.1790481704431377,
          -0.4103179505335398,
          1.467563169562042,
          1.38742208689959,
          -0.1878420460340362,
          0.9561618545448747,
          -0.6783596081109666,
          -0.7343973073358498,
          0.3220750471063588,
          0.27574581367708095,
          1.4552279064325093,
          -0.291105920009326,
          0.645407625337804,
          -1.0554341317842224,
          0.33279221486126165,
          0.7025265688025414,
          -0.6610919221931417,
          -0.1667434397585901,
          0.6232829145291728,
          -0.2529836861465784,
          -1.3053816199792052,
          -0.9162982736073634,
          -1.3142225958928595,
          -1.6120659876274441,
          -0.053151427170382286,
          1.872649441601502,
          -1.2683624163519756,
          0.30392219244159846,
          0.8663928886363615,
          -0.847758950848025,
          1.2074149868658006,
          -0.8219780807135773,
          -0.3972774418375647,
          -0.3138094858687506,
          -0.7321270120897498,
          0.19089113734580437,
          -1.467169892336397,
          -0.2704977443472076,
          1.391089216049597,
          -1.4580084882448272,
          -1.6768288954001633,
          -1.2244219128686558,
          -0.5830634268948321,
          2.596545053416106,
          0.5547182458617995,
          -0.009938487125128776,
          0.16661419271903802,
          -2.0051511664441923,
          -0.44142932606142177,
          1.4768445874934977,
          -2.2891089768253154,
          0.9969522087565932,
          -0.48862992958038,
          -0.8483077863746056,
          -0.3957040767842185
         ]
        }
       ],
       "layout": {
        "barmode": "overlay",
        "legend": {
         "bgcolor": "#F5F6F9",
         "font": {
          "color": "#4D5663"
         }
        },
        "paper_bgcolor": "#F5F6F9",
        "plot_bgcolor": "#F5F6F9",
        "template": {
         "data": {
          "bar": [
           {
            "error_x": {
             "color": "#2a3f5f"
            },
            "error_y": {
             "color": "#2a3f5f"
            },
            "marker": {
             "line": {
              "color": "#E5ECF6",
              "width": 0.5
             }
            },
            "type": "bar"
           }
          ],
          "barpolar": [
           {
            "marker": {
             "line": {
              "color": "#E5ECF6",
              "width": 0.5
             }
            },
            "type": "barpolar"
           }
          ],
          "carpet": [
           {
            "aaxis": {
             "endlinecolor": "#2a3f5f",
             "gridcolor": "white",
             "linecolor": "white",
             "minorgridcolor": "white",
             "startlinecolor": "#2a3f5f"
            },
            "baxis": {
             "endlinecolor": "#2a3f5f",
             "gridcolor": "white",
             "linecolor": "white",
             "minorgridcolor": "white",
             "startlinecolor": "#2a3f5f"
            },
            "type": "carpet"
           }
          ],
          "choropleth": [
           {
            "colorbar": {
             "outlinewidth": 0,
             "ticks": ""
            },
            "type": "choropleth"
           }
          ],
          "contour": [
           {
            "colorbar": {
             "outlinewidth": 0,
             "ticks": ""
            },
            "colorscale": [
             [
              0,
              "#0d0887"
             ],
             [
              0.1111111111111111,
              "#46039f"
             ],
             [
              0.2222222222222222,
              "#7201a8"
             ],
             [
              0.3333333333333333,
              "#9c179e"
             ],
             [
              0.4444444444444444,
              "#bd3786"
             ],
             [
              0.5555555555555556,
              "#d8576b"
             ],
             [
              0.6666666666666666,
              "#ed7953"
             ],
             [
              0.7777777777777778,
              "#fb9f3a"
             ],
             [
              0.8888888888888888,
              "#fdca26"
             ],
             [
              1,
              "#f0f921"
             ]
            ],
            "type": "contour"
           }
          ],
          "contourcarpet": [
           {
            "colorbar": {
             "outlinewidth": 0,
             "ticks": ""
            },
            "type": "contourcarpet"
           }
          ],
          "heatmap": [
           {
            "colorbar": {
             "outlinewidth": 0,
             "ticks": ""
            },
            "colorscale": [
             [
              0,
              "#0d0887"
             ],
             [
              0.1111111111111111,
              "#46039f"
             ],
             [
              0.2222222222222222,
              "#7201a8"
             ],
             [
              0.3333333333333333,
              "#9c179e"
             ],
             [
              0.4444444444444444,
              "#bd3786"
             ],
             [
              0.5555555555555556,
              "#d8576b"
             ],
             [
              0.6666666666666666,
              "#ed7953"
             ],
             [
              0.7777777777777778,
              "#fb9f3a"
             ],
             [
              0.8888888888888888,
              "#fdca26"
             ],
             [
              1,
              "#f0f921"
             ]
            ],
            "type": "heatmap"
           }
          ],
          "heatmapgl": [
           {
            "colorbar": {
             "outlinewidth": 0,
             "ticks": ""
            },
            "colorscale": [
             [
              0,
              "#0d0887"
             ],
             [
              0.1111111111111111,
              "#46039f"
             ],
             [
              0.2222222222222222,
              "#7201a8"
             ],
             [
              0.3333333333333333,
              "#9c179e"
             ],
             [
              0.4444444444444444,
              "#bd3786"
             ],
             [
              0.5555555555555556,
              "#d8576b"
             ],
             [
              0.6666666666666666,
              "#ed7953"
             ],
             [
              0.7777777777777778,
              "#fb9f3a"
             ],
             [
              0.8888888888888888,
              "#fdca26"
             ],
             [
              1,
              "#f0f921"
             ]
            ],
            "type": "heatmapgl"
           }
          ],
          "histogram": [
           {
            "marker": {
             "colorbar": {
              "outlinewidth": 0,
              "ticks": ""
             }
            },
            "type": "histogram"
           }
          ],
          "histogram2d": [
           {
            "colorbar": {
             "outlinewidth": 0,
             "ticks": ""
            },
            "colorscale": [
             [
              0,
              "#0d0887"
             ],
             [
              0.1111111111111111,
              "#46039f"
             ],
             [
              0.2222222222222222,
              "#7201a8"
             ],
             [
              0.3333333333333333,
              "#9c179e"
             ],
             [
              0.4444444444444444,
              "#bd3786"
             ],
             [
              0.5555555555555556,
              "#d8576b"
             ],
             [
              0.6666666666666666,
              "#ed7953"
             ],
             [
              0.7777777777777778,
              "#fb9f3a"
             ],
             [
              0.8888888888888888,
              "#fdca26"
             ],
             [
              1,
              "#f0f921"
             ]
            ],
            "type": "histogram2d"
           }
          ],
          "histogram2dcontour": [
           {
            "colorbar": {
             "outlinewidth": 0,
             "ticks": ""
            },
            "colorscale": [
             [
              0,
              "#0d0887"
             ],
             [
              0.1111111111111111,
              "#46039f"
             ],
             [
              0.2222222222222222,
              "#7201a8"
             ],
             [
              0.3333333333333333,
              "#9c179e"
             ],
             [
              0.4444444444444444,
              "#bd3786"
             ],
             [
              0.5555555555555556,
              "#d8576b"
             ],
             [
              0.6666666666666666,
              "#ed7953"
             ],
             [
              0.7777777777777778,
              "#fb9f3a"
             ],
             [
              0.8888888888888888,
              "#fdca26"
             ],
             [
              1,
              "#f0f921"
             ]
            ],
            "type": "histogram2dcontour"
           }
          ],
          "mesh3d": [
           {
            "colorbar": {
             "outlinewidth": 0,
             "ticks": ""
            },
            "type": "mesh3d"
           }
          ],
          "parcoords": [
           {
            "line": {
             "colorbar": {
              "outlinewidth": 0,
              "ticks": ""
             }
            },
            "type": "parcoords"
           }
          ],
          "pie": [
           {
            "automargin": true,
            "type": "pie"
           }
          ],
          "scatter": [
           {
            "marker": {
             "colorbar": {
              "outlinewidth": 0,
              "ticks": ""
             }
            },
            "type": "scatter"
           }
          ],
          "scatter3d": [
           {
            "line": {
             "colorbar": {
              "outlinewidth": 0,
              "ticks": ""
             }
            },
            "marker": {
             "colorbar": {
              "outlinewidth": 0,
              "ticks": ""
             }
            },
            "type": "scatter3d"
           }
          ],
          "scattercarpet": [
           {
            "marker": {
             "colorbar": {
              "outlinewidth": 0,
              "ticks": ""
             }
            },
            "type": "scattercarpet"
           }
          ],
          "scattergeo": [
           {
            "marker": {
             "colorbar": {
              "outlinewidth": 0,
              "ticks": ""
             }
            },
            "type": "scattergeo"
           }
          ],
          "scattergl": [
           {
            "marker": {
             "colorbar": {
              "outlinewidth": 0,
              "ticks": ""
             }
            },
            "type": "scattergl"
           }
          ],
          "scattermapbox": [
           {
            "marker": {
             "colorbar": {
              "outlinewidth": 0,
              "ticks": ""
             }
            },
            "type": "scattermapbox"
           }
          ],
          "scatterpolar": [
           {
            "marker": {
             "colorbar": {
              "outlinewidth": 0,
              "ticks": ""
             }
            },
            "type": "scatterpolar"
           }
          ],
          "scatterpolargl": [
           {
            "marker": {
             "colorbar": {
              "outlinewidth": 0,
              "ticks": ""
             }
            },
            "type": "scatterpolargl"
           }
          ],
          "scatterternary": [
           {
            "marker": {
             "colorbar": {
              "outlinewidth": 0,
              "ticks": ""
             }
            },
            "type": "scatterternary"
           }
          ],
          "surface": [
           {
            "colorbar": {
             "outlinewidth": 0,
             "ticks": ""
            },
            "colorscale": [
             [
              0,
              "#0d0887"
             ],
             [
              0.1111111111111111,
              "#46039f"
             ],
             [
              0.2222222222222222,
              "#7201a8"
             ],
             [
              0.3333333333333333,
              "#9c179e"
             ],
             [
              0.4444444444444444,
              "#bd3786"
             ],
             [
              0.5555555555555556,
              "#d8576b"
             ],
             [
              0.6666666666666666,
              "#ed7953"
             ],
             [
              0.7777777777777778,
              "#fb9f3a"
             ],
             [
              0.8888888888888888,
              "#fdca26"
             ],
             [
              1,
              "#f0f921"
             ]
            ],
            "type": "surface"
           }
          ],
          "table": [
           {
            "cells": {
             "fill": {
              "color": "#EBF0F8"
             },
             "line": {
              "color": "white"
             }
            },
            "header": {
             "fill": {
              "color": "#C8D4E3"
             },
             "line": {
              "color": "white"
             }
            },
            "type": "table"
           }
          ]
         },
         "layout": {
          "annotationdefaults": {
           "arrowcolor": "#2a3f5f",
           "arrowhead": 0,
           "arrowwidth": 1
          },
          "coloraxis": {
           "colorbar": {
            "outlinewidth": 0,
            "ticks": ""
           }
          },
          "colorscale": {
           "diverging": [
            [
             0,
             "#8e0152"
            ],
            [
             0.1,
             "#c51b7d"
            ],
            [
             0.2,
             "#de77ae"
            ],
            [
             0.3,
             "#f1b6da"
            ],
            [
             0.4,
             "#fde0ef"
            ],
            [
             0.5,
             "#f7f7f7"
            ],
            [
             0.6,
             "#e6f5d0"
            ],
            [
             0.7,
             "#b8e186"
            ],
            [
             0.8,
             "#7fbc41"
            ],
            [
             0.9,
             "#4d9221"
            ],
            [
             1,
             "#276419"
            ]
           ],
           "sequential": [
            [
             0,
             "#0d0887"
            ],
            [
             0.1111111111111111,
             "#46039f"
            ],
            [
             0.2222222222222222,
             "#7201a8"
            ],
            [
             0.3333333333333333,
             "#9c179e"
            ],
            [
             0.4444444444444444,
             "#bd3786"
            ],
            [
             0.5555555555555556,
             "#d8576b"
            ],
            [
             0.6666666666666666,
             "#ed7953"
            ],
            [
             0.7777777777777778,
             "#fb9f3a"
            ],
            [
             0.8888888888888888,
             "#fdca26"
            ],
            [
             1,
             "#f0f921"
            ]
           ],
           "sequentialminus": [
            [
             0,
             "#0d0887"
            ],
            [
             0.1111111111111111,
             "#46039f"
            ],
            [
             0.2222222222222222,
             "#7201a8"
            ],
            [
             0.3333333333333333,
             "#9c179e"
            ],
            [
             0.4444444444444444,
             "#bd3786"
            ],
            [
             0.5555555555555556,
             "#d8576b"
            ],
            [
             0.6666666666666666,
             "#ed7953"
            ],
            [
             0.7777777777777778,
             "#fb9f3a"
            ],
            [
             0.8888888888888888,
             "#fdca26"
            ],
            [
             1,
             "#f0f921"
            ]
           ]
          },
          "colorway": [
           "#636efa",
           "#EF553B",
           "#00cc96",
           "#ab63fa",
           "#FFA15A",
           "#19d3f3",
           "#FF6692",
           "#B6E880",
           "#FF97FF",
           "#FECB52"
          ],
          "font": {
           "color": "#2a3f5f"
          },
          "geo": {
           "bgcolor": "white",
           "lakecolor": "white",
           "landcolor": "#E5ECF6",
           "showlakes": true,
           "showland": true,
           "subunitcolor": "white"
          },
          "hoverlabel": {
           "align": "left"
          },
          "hovermode": "closest",
          "mapbox": {
           "style": "light"
          },
          "paper_bgcolor": "white",
          "plot_bgcolor": "#E5ECF6",
          "polar": {
           "angularaxis": {
            "gridcolor": "white",
            "linecolor": "white",
            "ticks": ""
           },
           "bgcolor": "#E5ECF6",
           "radialaxis": {
            "gridcolor": "white",
            "linecolor": "white",
            "ticks": ""
           }
          },
          "scene": {
           "xaxis": {
            "backgroundcolor": "#E5ECF6",
            "gridcolor": "white",
            "gridwidth": 2,
            "linecolor": "white",
            "showbackground": true,
            "ticks": "",
            "zerolinecolor": "white"
           },
           "yaxis": {
            "backgroundcolor": "#E5ECF6",
            "gridcolor": "white",
            "gridwidth": 2,
            "linecolor": "white",
            "showbackground": true,
            "ticks": "",
            "zerolinecolor": "white"
           },
           "zaxis": {
            "backgroundcolor": "#E5ECF6",
            "gridcolor": "white",
            "gridwidth": 2,
            "linecolor": "white",
            "showbackground": true,
            "ticks": "",
            "zerolinecolor": "white"
           }
          },
          "shapedefaults": {
           "line": {
            "color": "#2a3f5f"
           }
          },
          "ternary": {
           "aaxis": {
            "gridcolor": "white",
            "linecolor": "white",
            "ticks": ""
           },
           "baxis": {
            "gridcolor": "white",
            "linecolor": "white",
            "ticks": ""
           },
           "bgcolor": "#E5ECF6",
           "caxis": {
            "gridcolor": "white",
            "linecolor": "white",
            "ticks": ""
           }
          },
          "title": {
           "x": 0.05
          },
          "xaxis": {
           "automargin": true,
           "gridcolor": "white",
           "linecolor": "white",
           "ticks": "",
           "title": {
            "standoff": 15
           },
           "zerolinecolor": "white",
           "zerolinewidth": 2
          },
          "yaxis": {
           "automargin": true,
           "gridcolor": "white",
           "linecolor": "white",
           "ticks": "",
           "title": {
            "standoff": 15
           },
           "zerolinecolor": "white",
           "zerolinewidth": 2
          }
         }
        },
        "title": {
         "font": {
          "color": "#4D5663"
         }
        },
        "xaxis": {
         "gridcolor": "#E1E5ED",
         "showgrid": true,
         "tickfont": {
          "color": "#4D5663"
         },
         "title": {
          "font": {
           "color": "#4D5663"
          },
          "text": ""
         },
         "zerolinecolor": "#E1E5ED"
        },
        "yaxis": {
         "gridcolor": "#E1E5ED",
         "showgrid": true,
         "tickfont": {
          "color": "#4D5663"
         },
         "title": {
          "font": {
           "color": "#4D5663"
          },
          "text": ""
         },
         "zerolinecolor": "#E1E5ED"
        }
       }
      },
      "text/html": [
       "<div>\n",
       "        \n",
       "        \n",
       "            <div id=\"66359aab-8707-4945-9de9-2699054ad916\" class=\"plotly-graph-div\" style=\"height:525px; width:100%;\"></div>\n",
       "            <script type=\"text/javascript\">\n",
       "                require([\"plotly\"], function(Plotly) {\n",
       "                    window.PLOTLYENV=window.PLOTLYENV || {};\n",
       "                    window.PLOTLYENV.BASE_URL='https://plot.ly';\n",
       "                    \n",
       "                if (document.getElementById(\"66359aab-8707-4945-9de9-2699054ad916\")) {\n",
       "                    Plotly.newPlot(\n",
       "                        '66359aab-8707-4945-9de9-2699054ad916',\n",
       "                        [{\"histfunc\": \"count\", \"histnorm\": \"\", \"marker\": {\"color\": \"rgba(255, 153, 51, 1.0)\", \"line\": {\"color\": \"#4D5663\", \"width\": 1.3}}, \"name\": \"A\", \"opacity\": 0.8, \"orientation\": \"v\", \"type\": \"histogram\", \"x\": [-2.2555933768724947, -0.03382340070021499, -0.3200478984174772, 0.05045835842384177, 0.2233965386018236, 0.2536608574004414, -0.6692398991913475, -0.4786089224325477, 0.6512291566816155, -0.9992360969851862, -0.22169793134556703, -1.1712641861345396, 0.3252298075551189, 0.8914928115672888, -0.0369001928301434, -0.12612875726858397, -0.6321662033550624, -0.7177849850115586, -0.7380476067025662, -0.6496181734346335, -0.7764825074228829, 0.9825053624790435, 0.2583656046298789, -0.037818224865744765, 0.1633648933126579, 0.09045583256205675, 0.6019746573813641, 0.8630717855557517, -0.6891220161380268, 0.008139132913083826, 1.4462942945255972, 1.0974328278372718, 1.7026391999584558, 0.13232510434415812, -1.4930236346176566, 0.5717283572309633, 1.6027573821880863, -0.26316261913033745, 0.1428706155553884, -1.9689781776908595, 0.7573252641608401, 1.2815546026772953, 0.4347619600899514, -0.5353942165407267, 0.9427327554963698, 1.1790481704431377, -0.4103179505335398, 1.467563169562042, 1.38742208689959, -0.1878420460340362, 0.9561618545448747, -0.6783596081109666, -0.7343973073358498, 0.3220750471063588, 0.27574581367708095, 1.4552279064325093, -0.291105920009326, 0.645407625337804, -1.0554341317842224, 0.33279221486126165, 0.7025265688025414, -0.6610919221931417, -0.1667434397585901, 0.6232829145291728, -0.2529836861465784, -1.3053816199792052, -0.9162982736073634, -1.3142225958928595, -1.6120659876274441, -0.053151427170382286, 1.872649441601502, -1.2683624163519756, 0.30392219244159846, 0.8663928886363615, -0.847758950848025, 1.2074149868658006, -0.8219780807135773, -0.3972774418375647, -0.3138094858687506, -0.7321270120897498, 0.19089113734580437, -1.467169892336397, -0.2704977443472076, 1.391089216049597, -1.4580084882448272, -1.6768288954001633, -1.2244219128686558, -0.5830634268948321, 2.596545053416106, 0.5547182458617995, -0.009938487125128776, 0.16661419271903802, -2.0051511664441923, -0.44142932606142177, 1.4768445874934977, -2.2891089768253154, 0.9969522087565932, -0.48862992958038, -0.8483077863746056, -0.3957040767842185]}],\n",
       "                        {\"barmode\": \"overlay\", \"legend\": {\"bgcolor\": \"#F5F6F9\", \"font\": {\"color\": \"#4D5663\"}}, \"paper_bgcolor\": \"#F5F6F9\", \"plot_bgcolor\": \"#F5F6F9\", \"template\": {\"data\": {\"bar\": [{\"error_x\": {\"color\": \"#2a3f5f\"}, \"error_y\": {\"color\": \"#2a3f5f\"}, \"marker\": {\"line\": {\"color\": \"#E5ECF6\", \"width\": 0.5}}, \"type\": \"bar\"}], \"barpolar\": [{\"marker\": {\"line\": {\"color\": \"#E5ECF6\", \"width\": 0.5}}, \"type\": \"barpolar\"}], \"carpet\": [{\"aaxis\": {\"endlinecolor\": \"#2a3f5f\", \"gridcolor\": \"white\", \"linecolor\": \"white\", \"minorgridcolor\": \"white\", \"startlinecolor\": \"#2a3f5f\"}, \"baxis\": {\"endlinecolor\": \"#2a3f5f\", \"gridcolor\": \"white\", \"linecolor\": \"white\", \"minorgridcolor\": \"white\", \"startlinecolor\": \"#2a3f5f\"}, \"type\": \"carpet\"}], \"choropleth\": [{\"colorbar\": {\"outlinewidth\": 0, \"ticks\": \"\"}, \"type\": \"choropleth\"}], \"contour\": [{\"colorbar\": {\"outlinewidth\": 0, \"ticks\": \"\"}, \"colorscale\": [[0.0, \"#0d0887\"], [0.1111111111111111, \"#46039f\"], [0.2222222222222222, \"#7201a8\"], [0.3333333333333333, \"#9c179e\"], [0.4444444444444444, \"#bd3786\"], [0.5555555555555556, \"#d8576b\"], [0.6666666666666666, \"#ed7953\"], [0.7777777777777778, \"#fb9f3a\"], [0.8888888888888888, \"#fdca26\"], [1.0, \"#f0f921\"]], \"type\": \"contour\"}], \"contourcarpet\": [{\"colorbar\": {\"outlinewidth\": 0, \"ticks\": \"\"}, \"type\": \"contourcarpet\"}], \"heatmap\": [{\"colorbar\": {\"outlinewidth\": 0, \"ticks\": \"\"}, \"colorscale\": [[0.0, \"#0d0887\"], [0.1111111111111111, \"#46039f\"], [0.2222222222222222, \"#7201a8\"], [0.3333333333333333, \"#9c179e\"], [0.4444444444444444, \"#bd3786\"], [0.5555555555555556, \"#d8576b\"], [0.6666666666666666, \"#ed7953\"], [0.7777777777777778, \"#fb9f3a\"], [0.8888888888888888, \"#fdca26\"], [1.0, \"#f0f921\"]], \"type\": \"heatmap\"}], \"heatmapgl\": [{\"colorbar\": {\"outlinewidth\": 0, \"ticks\": \"\"}, \"colorscale\": [[0.0, \"#0d0887\"], [0.1111111111111111, \"#46039f\"], [0.2222222222222222, \"#7201a8\"], [0.3333333333333333, \"#9c179e\"], [0.4444444444444444, \"#bd3786\"], [0.5555555555555556, \"#d8576b\"], [0.6666666666666666, \"#ed7953\"], [0.7777777777777778, \"#fb9f3a\"], [0.8888888888888888, \"#fdca26\"], [1.0, \"#f0f921\"]], \"type\": \"heatmapgl\"}], \"histogram\": [{\"marker\": {\"colorbar\": {\"outlinewidth\": 0, \"ticks\": \"\"}}, \"type\": \"histogram\"}], \"histogram2d\": [{\"colorbar\": {\"outlinewidth\": 0, \"ticks\": \"\"}, \"colorscale\": [[0.0, \"#0d0887\"], [0.1111111111111111, \"#46039f\"], [0.2222222222222222, \"#7201a8\"], [0.3333333333333333, \"#9c179e\"], [0.4444444444444444, \"#bd3786\"], [0.5555555555555556, \"#d8576b\"], [0.6666666666666666, \"#ed7953\"], [0.7777777777777778, \"#fb9f3a\"], [0.8888888888888888, \"#fdca26\"], [1.0, \"#f0f921\"]], \"type\": \"histogram2d\"}], \"histogram2dcontour\": [{\"colorbar\": {\"outlinewidth\": 0, \"ticks\": \"\"}, \"colorscale\": [[0.0, \"#0d0887\"], [0.1111111111111111, \"#46039f\"], [0.2222222222222222, \"#7201a8\"], [0.3333333333333333, \"#9c179e\"], [0.4444444444444444, \"#bd3786\"], [0.5555555555555556, \"#d8576b\"], [0.6666666666666666, \"#ed7953\"], [0.7777777777777778, \"#fb9f3a\"], [0.8888888888888888, \"#fdca26\"], [1.0, \"#f0f921\"]], \"type\": \"histogram2dcontour\"}], \"mesh3d\": [{\"colorbar\": {\"outlinewidth\": 0, \"ticks\": \"\"}, \"type\": \"mesh3d\"}], \"parcoords\": [{\"line\": {\"colorbar\": {\"outlinewidth\": 0, \"ticks\": \"\"}}, \"type\": \"parcoords\"}], \"pie\": [{\"automargin\": true, \"type\": \"pie\"}], \"scatter\": [{\"marker\": {\"colorbar\": {\"outlinewidth\": 0, \"ticks\": \"\"}}, \"type\": \"scatter\"}], \"scatter3d\": [{\"line\": {\"colorbar\": {\"outlinewidth\": 0, \"ticks\": \"\"}}, \"marker\": {\"colorbar\": {\"outlinewidth\": 0, \"ticks\": \"\"}}, \"type\": \"scatter3d\"}], \"scattercarpet\": [{\"marker\": {\"colorbar\": {\"outlinewidth\": 0, \"ticks\": \"\"}}, \"type\": \"scattercarpet\"}], \"scattergeo\": [{\"marker\": {\"colorbar\": {\"outlinewidth\": 0, \"ticks\": \"\"}}, \"type\": \"scattergeo\"}], \"scattergl\": [{\"marker\": {\"colorbar\": {\"outlinewidth\": 0, \"ticks\": \"\"}}, \"type\": \"scattergl\"}], \"scattermapbox\": [{\"marker\": {\"colorbar\": {\"outlinewidth\": 0, \"ticks\": \"\"}}, \"type\": \"scattermapbox\"}], \"scatterpolar\": [{\"marker\": {\"colorbar\": {\"outlinewidth\": 0, \"ticks\": \"\"}}, \"type\": \"scatterpolar\"}], \"scatterpolargl\": [{\"marker\": {\"colorbar\": {\"outlinewidth\": 0, \"ticks\": \"\"}}, \"type\": \"scatterpolargl\"}], \"scatterternary\": [{\"marker\": {\"colorbar\": {\"outlinewidth\": 0, \"ticks\": \"\"}}, \"type\": \"scatterternary\"}], \"surface\": [{\"colorbar\": {\"outlinewidth\": 0, \"ticks\": \"\"}, \"colorscale\": [[0.0, \"#0d0887\"], [0.1111111111111111, \"#46039f\"], [0.2222222222222222, \"#7201a8\"], [0.3333333333333333, \"#9c179e\"], [0.4444444444444444, \"#bd3786\"], [0.5555555555555556, \"#d8576b\"], [0.6666666666666666, \"#ed7953\"], [0.7777777777777778, \"#fb9f3a\"], [0.8888888888888888, \"#fdca26\"], [1.0, \"#f0f921\"]], \"type\": \"surface\"}], \"table\": [{\"cells\": {\"fill\": {\"color\": \"#EBF0F8\"}, \"line\": {\"color\": \"white\"}}, \"header\": {\"fill\": {\"color\": \"#C8D4E3\"}, \"line\": {\"color\": \"white\"}}, \"type\": \"table\"}]}, \"layout\": {\"annotationdefaults\": {\"arrowcolor\": \"#2a3f5f\", \"arrowhead\": 0, \"arrowwidth\": 1}, \"coloraxis\": {\"colorbar\": {\"outlinewidth\": 0, \"ticks\": \"\"}}, \"colorscale\": {\"diverging\": [[0, \"#8e0152\"], [0.1, \"#c51b7d\"], [0.2, \"#de77ae\"], [0.3, \"#f1b6da\"], [0.4, \"#fde0ef\"], [0.5, \"#f7f7f7\"], [0.6, \"#e6f5d0\"], [0.7, \"#b8e186\"], [0.8, \"#7fbc41\"], [0.9, \"#4d9221\"], [1, \"#276419\"]], \"sequential\": [[0.0, \"#0d0887\"], [0.1111111111111111, \"#46039f\"], [0.2222222222222222, \"#7201a8\"], [0.3333333333333333, \"#9c179e\"], [0.4444444444444444, \"#bd3786\"], [0.5555555555555556, \"#d8576b\"], [0.6666666666666666, \"#ed7953\"], [0.7777777777777778, \"#fb9f3a\"], [0.8888888888888888, \"#fdca26\"], [1.0, \"#f0f921\"]], \"sequentialminus\": [[0.0, \"#0d0887\"], [0.1111111111111111, \"#46039f\"], [0.2222222222222222, \"#7201a8\"], [0.3333333333333333, \"#9c179e\"], [0.4444444444444444, \"#bd3786\"], [0.5555555555555556, \"#d8576b\"], [0.6666666666666666, \"#ed7953\"], [0.7777777777777778, \"#fb9f3a\"], [0.8888888888888888, \"#fdca26\"], [1.0, \"#f0f921\"]]}, \"colorway\": [\"#636efa\", \"#EF553B\", \"#00cc96\", \"#ab63fa\", \"#FFA15A\", \"#19d3f3\", \"#FF6692\", \"#B6E880\", \"#FF97FF\", \"#FECB52\"], \"font\": {\"color\": \"#2a3f5f\"}, \"geo\": {\"bgcolor\": \"white\", \"lakecolor\": \"white\", \"landcolor\": \"#E5ECF6\", \"showlakes\": true, \"showland\": true, \"subunitcolor\": \"white\"}, \"hoverlabel\": {\"align\": \"left\"}, \"hovermode\": \"closest\", \"mapbox\": {\"style\": \"light\"}, \"paper_bgcolor\": \"white\", \"plot_bgcolor\": \"#E5ECF6\", \"polar\": {\"angularaxis\": {\"gridcolor\": \"white\", \"linecolor\": \"white\", \"ticks\": \"\"}, \"bgcolor\": \"#E5ECF6\", \"radialaxis\": {\"gridcolor\": \"white\", \"linecolor\": \"white\", \"ticks\": \"\"}}, \"scene\": {\"xaxis\": {\"backgroundcolor\": \"#E5ECF6\", \"gridcolor\": \"white\", \"gridwidth\": 2, \"linecolor\": \"white\", \"showbackground\": true, \"ticks\": \"\", \"zerolinecolor\": \"white\"}, \"yaxis\": {\"backgroundcolor\": \"#E5ECF6\", \"gridcolor\": \"white\", \"gridwidth\": 2, \"linecolor\": \"white\", \"showbackground\": true, \"ticks\": \"\", \"zerolinecolor\": \"white\"}, \"zaxis\": {\"backgroundcolor\": \"#E5ECF6\", \"gridcolor\": \"white\", \"gridwidth\": 2, \"linecolor\": \"white\", \"showbackground\": true, \"ticks\": \"\", \"zerolinecolor\": \"white\"}}, \"shapedefaults\": {\"line\": {\"color\": \"#2a3f5f\"}}, \"ternary\": {\"aaxis\": {\"gridcolor\": \"white\", \"linecolor\": \"white\", \"ticks\": \"\"}, \"baxis\": {\"gridcolor\": \"white\", \"linecolor\": \"white\", \"ticks\": \"\"}, \"bgcolor\": \"#E5ECF6\", \"caxis\": {\"gridcolor\": \"white\", \"linecolor\": \"white\", \"ticks\": \"\"}}, \"title\": {\"x\": 0.05}, \"xaxis\": {\"automargin\": true, \"gridcolor\": \"white\", \"linecolor\": \"white\", \"ticks\": \"\", \"title\": {\"standoff\": 15}, \"zerolinecolor\": \"white\", \"zerolinewidth\": 2}, \"yaxis\": {\"automargin\": true, \"gridcolor\": \"white\", \"linecolor\": \"white\", \"ticks\": \"\", \"title\": {\"standoff\": 15}, \"zerolinecolor\": \"white\", \"zerolinewidth\": 2}}}, \"title\": {\"font\": {\"color\": \"#4D5663\"}}, \"xaxis\": {\"gridcolor\": \"#E1E5ED\", \"showgrid\": true, \"tickfont\": {\"color\": \"#4D5663\"}, \"title\": {\"font\": {\"color\": \"#4D5663\"}, \"text\": \"\"}, \"zerolinecolor\": \"#E1E5ED\"}, \"yaxis\": {\"gridcolor\": \"#E1E5ED\", \"showgrid\": true, \"tickfont\": {\"color\": \"#4D5663\"}, \"title\": {\"font\": {\"color\": \"#4D5663\"}, \"text\": \"\"}, \"zerolinecolor\": \"#E1E5ED\"}},\n",
       "                        {\"showLink\": true, \"linkText\": \"Export to plot.ly\", \"plotlyServerURL\": \"https://plot.ly\", \"responsive\": true}\n",
       "                    ).then(function(){\n",
       "                            \n",
       "var gd = document.getElementById('66359aab-8707-4945-9de9-2699054ad916');\n",
       "var x = new MutationObserver(function (mutations, observer) {{\n",
       "        var display = window.getComputedStyle(gd).display;\n",
       "        if (!display || display === 'none') {{\n",
       "            console.log([gd, 'removed!']);\n",
       "            Plotly.purge(gd);\n",
       "            observer.disconnect();\n",
       "        }}\n",
       "}});\n",
       "\n",
       "// Listen for the removal of the full notebook cells\n",
       "var notebookContainer = gd.closest('#notebook-container');\n",
       "if (notebookContainer) {{\n",
       "    x.observe(notebookContainer, {childList: true});\n",
       "}}\n",
       "\n",
       "// Listen for the clearing of the current output cell\n",
       "var outputEl = gd.closest('.output');\n",
       "if (outputEl) {{\n",
       "    x.observe(outputEl, {childList: true});\n",
       "}}\n",
       "\n",
       "                        })\n",
       "                };\n",
       "                });\n",
       "            </script>\n",
       "        </div>"
      ]
     },
     "metadata": {},
     "output_type": "display_data"
    }
   ],
   "source": [
    "df['A'].iplot(kind='hist')"
   ]
  },
  {
   "cell_type": "code",
   "execution_count": 47,
   "metadata": {},
   "outputs": [
    {
     "data": {
      "application/vnd.plotly.v1+json": {
       "config": {
        "linkText": "Export to plot.ly",
        "plotlyServerURL": "https://plot.ly",
        "showLink": true
       },
       "data": [
        {
         "histfunc": "count",
         "histnorm": "",
         "marker": {
          "color": "rgba(255, 153, 51, 1.0)",
          "line": {
           "color": "#4D5663",
           "width": 1.3
          }
         },
         "name": "A",
         "opacity": 0.8,
         "orientation": "v",
         "type": "histogram",
         "x": [
          -2.2555933768724947,
          -0.03382340070021499,
          -0.3200478984174772,
          0.05045835842384177,
          0.2233965386018236,
          0.2536608574004414,
          -0.6692398991913475,
          -0.4786089224325477,
          0.6512291566816155,
          -0.9992360969851862,
          -0.22169793134556703,
          -1.1712641861345396,
          0.3252298075551189,
          0.8914928115672888,
          -0.0369001928301434,
          -0.12612875726858397,
          -0.6321662033550624,
          -0.7177849850115586,
          -0.7380476067025662,
          -0.6496181734346335,
          -0.7764825074228829,
          0.9825053624790435,
          0.2583656046298789,
          -0.037818224865744765,
          0.1633648933126579,
          0.09045583256205675,
          0.6019746573813641,
          0.8630717855557517,
          -0.6891220161380268,
          0.008139132913083826,
          1.4462942945255972,
          1.0974328278372718,
          1.7026391999584558,
          0.13232510434415812,
          -1.4930236346176566,
          0.5717283572309633,
          1.6027573821880863,
          -0.26316261913033745,
          0.1428706155553884,
          -1.9689781776908595,
          0.7573252641608401,
          1.2815546026772953,
          0.4347619600899514,
          -0.5353942165407267,
          0.9427327554963698,
          1.1790481704431377,
          -0.4103179505335398,
          1.467563169562042,
          1.38742208689959,
          -0.1878420460340362,
          0.9561618545448747,
          -0.6783596081109666,
          -0.7343973073358498,
          0.3220750471063588,
          0.27574581367708095,
          1.4552279064325093,
          -0.291105920009326,
          0.645407625337804,
          -1.0554341317842224,
          0.33279221486126165,
          0.7025265688025414,
          -0.6610919221931417,
          -0.1667434397585901,
          0.6232829145291728,
          -0.2529836861465784,
          -1.3053816199792052,
          -0.9162982736073634,
          -1.3142225958928595,
          -1.6120659876274441,
          -0.053151427170382286,
          1.872649441601502,
          -1.2683624163519756,
          0.30392219244159846,
          0.8663928886363615,
          -0.847758950848025,
          1.2074149868658006,
          -0.8219780807135773,
          -0.3972774418375647,
          -0.3138094858687506,
          -0.7321270120897498,
          0.19089113734580437,
          -1.467169892336397,
          -0.2704977443472076,
          1.391089216049597,
          -1.4580084882448272,
          -1.6768288954001633,
          -1.2244219128686558,
          -0.5830634268948321,
          2.596545053416106,
          0.5547182458617995,
          -0.009938487125128776,
          0.16661419271903802,
          -2.0051511664441923,
          -0.44142932606142177,
          1.4768445874934977,
          -2.2891089768253154,
          0.9969522087565932,
          -0.48862992958038,
          -0.8483077863746056,
          -0.3957040767842185
         ]
        },
        {
         "histfunc": "count",
         "histnorm": "",
         "marker": {
          "color": "rgba(55, 128, 191, 1.0)",
          "line": {
           "color": "#4D5663",
           "width": 1.3
          }
         },
         "name": "B",
         "opacity": 0.8,
         "orientation": "v",
         "type": "histogram",
         "x": [
          1.3141888702618962,
          -1.1115662109910567,
          -0.257289607344004,
          -1.4036350331162621,
          -0.9562431416001994,
          0.5284258714874434,
          1.3839270580400518,
          -0.47647239611666187,
          -0.48621055726856166,
          0.21230749228133775,
          -0.4377454130191507,
          1.139461784412099,
          -0.479066908076587,
          -0.5112289603822745,
          1.0655062855344546,
          0.2532285620560627,
          -0.5080625366400148,
          -0.14940661484256632,
          -1.0552401005092436,
          1.3130463314943268,
          -0.09855391494815084,
          1.682056997549952,
          0.025030245632123346,
          -1.0314746214259058,
          -0.24440905168767216,
          -0.9640162206376627,
          1.1659827817820045,
          -0.5949615891396036,
          0.895109825347487,
          -1.1787502459426134,
          0.3606252712904561,
          -2.8874455317853673,
          0.05554922902958001,
          -0.6327253205975053,
          -0.14423079659187038,
          -0.4659585833517143,
          -0.42134027774967997,
          -0.9945211011510153,
          0.5262417418954314,
          0.6521486589933997,
          -0.3002767827572908,
          1.0961571575291982,
          0.02388240668584011,
          -0.251739361646199,
          -0.09132557319225461,
          -0.16222783106006364,
          -0.5800636263739349,
          0.6539517205968917,
          0.2676653096775852,
          -0.12788683168886808,
          0.9301801207771702,
          -0.09177425164037127,
          -1.186280702243975,
          -1.5581869431240989,
          -0.42664764573524705,
          -0.2770735434883226,
          -0.8136201732195788,
          -1.1114664557447358,
          1.6999503007281884,
          -0.7126876105880869,
          -0.0930941715055807,
          -2.3656191409182625,
          0.735568121854511,
          0.541493368025285,
          -0.6301134451738287,
          -0.05449659496425838,
          0.7566045980698098,
          -0.05331049966966534,
          0.7515301988470119,
          1.1756364535626789,
          0.6255519982890726,
          0.4994986012724347,
          -0.33739521345218193,
          0.7932359839780525,
          -0.8486742318118738,
          -0.6162281748236087,
          0.6588315502975075,
          0.47797298287983786,
          0.8313530055118066,
          -1.6412026289064061,
          -0.5091519178754833,
          1.2236901049372901,
          1.2990342992990034,
          -0.4823964312713267,
          0.8897377549146316,
          0.8330977892920045,
          1.2780894780540542,
          0.2073916928678156,
          2.1898409925479587,
          1.2450021823566144,
          0.9417074276447647,
          -0.11353886292187075,
          1.5655409294812892,
          -0.04614353427259727,
          -0.34656495757651096,
          -0.18561680250884616,
          -2.262169847144289,
          0.948170877714612,
          -1.1482499665528605,
          -0.8927910449284819
         ]
        },
        {
         "histfunc": "count",
         "histnorm": "",
         "marker": {
          "color": "rgba(50, 171, 96, 1.0)",
          "line": {
           "color": "#4D5663",
           "width": 1.3
          }
         },
         "name": "C",
         "opacity": 0.8,
         "orientation": "v",
         "type": "histogram",
         "x": [
          -0.3852111653161519,
          -0.7830544747937033,
          0.6375500080290681,
          -1.2935251103472951,
          -0.8504493153928624,
          0.09800862044555947,
          -1.3269601219003204,
          0.327204119642585,
          -0.690840086360732,
          0.0599524931219146,
          -0.2664804729565175,
          0.5677036432202524,
          0.44254035862817687,
          -0.534473786392977,
          -1.948328679109903,
          0.3667213673256576,
          -0.8857969564564154,
          0.000480655223030059,
          0.6901565806311147,
          0.4849220911931928,
          -0.3433584734411604,
          -0.044481892108771924,
          0.5219215703694158,
          0.6597640523271316,
          -0.815710202783354,
          0.15440045099651611,
          0.8626151498285916,
          1.2557704479510896,
          -0.8866797361107176,
          0.3116903849033211,
          -0.04586726700738958,
          -2.3210995766552003,
          -1.1141141767156846,
          -0.718790088777296,
          -1.215022691367036,
          0.15990037633325638,
          0.207339989867234,
          -0.1339251170432215,
          -0.31336335779366836,
          0.4727293268665891,
          -1.364271403162109,
          0.38485826485645513,
          -0.564525378196018,
          0.08053092875359465,
          0.8170016869020079,
          -0.16585723881699452,
          -0.7806192924820001,
          0.2757423040683799,
          -0.8052577423922532,
          0.4394975078426791,
          0.05475969001130771,
          0.13002452405704323,
          0.5504028250944053,
          -0.07172476042858046,
          -0.3103852929550721,
          0.6345882181965192,
          0.45129839073710004,
          0.24133569488877202,
          0.4660206009407888,
          0.32051436624277957,
          -1.4713410106320284,
          -0.6439436638461494,
          0.0282498419594593,
          -1.9532860898921842,
          -0.2281728072186295,
          -1.6461248416327923,
          -0.8361741257415685,
          1.103069631310339,
          1.9773169265966584,
          0.48488610606642524,
          -0.3119955389235842,
          -0.02493730005691768,
          -0.9557993486325946,
          -0.8739418396473461,
          -0.594468085245611,
          -0.12311748015716892,
          0.16163289632042396,
          0.2591893055592278,
          -0.5245824774930369,
          0.9712195427151722,
          -1.0285584635996985,
          1.3835410963227326,
          -1.1643694982378814,
          1.267446133373859,
          0.4221341686342332,
          1.1078361853210785,
          0.7270842106888753,
          0.21856045988541378,
          0.797581282367628,
          -0.6429999476331801,
          -0.8820815237633904,
          0.2584226877120125,
          -0.8029529727740128,
          1.4766089511557463,
          -0.48802675784715516,
          1.001168054874638,
          -1.0613223170663308,
          0.7350981512413484,
          1.2784722523026892,
          0.1117515228145326
         ]
        },
        {
         "histfunc": "count",
         "histnorm": "",
         "marker": {
          "color": "rgba(128, 0, 128, 1.0)",
          "line": {
           "color": "#4D5663",
           "width": 1.3
          }
         },
         "name": "D",
         "opacity": 0.8,
         "orientation": "v",
         "type": "histogram",
         "x": [
          0.9772336509828237,
          -0.07647478318063784,
          0.7413636391750652,
          -0.15912297894377248,
          -0.15177625272150932,
          0.1199900295795598,
          0.2716635668621539,
          0.3709292464448456,
          0.5828024998577414,
          1.1233734325816407,
          0.5350414757703158,
          -0.27835449335894125,
          -0.5384981463868941,
          1.7604427122046729,
          -0.1798211998472201,
          -0.07259583442974381,
          0.6927847927489181,
          1.713753068511354,
          0.5580318332801198,
          1.8777101613687104,
          2.096919796229778,
          2.006680204819293,
          1.0358068816393418,
          -1.0471118960905113,
          0.11421243302452166,
          0.905838606468195,
          -1.3557540465958646,
          0.052203996643662834,
          1.065635124475401,
          -0.5948064543443344,
          0.5824474335176656,
          0.03769772664088032,
          -0.9295819904348213,
          0.08773160196539075,
          -1.4326929160965838,
          0.708051413119108,
          -0.07046148088440911,
          -0.14346819164193475,
          0.3763987464634078,
          1.489497426963874,
          -1.1875085365888707,
          -0.6972667620976027,
          -0.37526823498872225,
          -0.07039635195846435,
          -1.1069599873901415,
          0.351561602957237,
          1.7233931104452467,
          0.5680461134761515,
          -0.7651406350372749,
          -0.8855202646912165,
          0.24331003393244538,
          -1.9622170655863536,
          0.25109763454148615,
          -1.7649926672975669,
          -0.4234854127409118,
          -0.7143020036904693,
          0.20749639433841285,
          0.010268364756173215,
          0.0952854975447978,
          -0.5550510334752385,
          -0.4934942677949766,
          1.6175409619083556,
          0.3332748338333687,
          -0.5344727243038119,
          1.0015841881282095,
          0.10562661347557104,
          -0.1852368746866717,
          -0.07930200523712144,
          -0.9472604504862842,
          -0.6793917614321774,
          0.3478046849795794,
          -0.06819282824824709,
          -0.24348051996278372,
          0.4653730332137223,
          0.8868921917777485,
          -0.8744287471716156,
          0.8505394053147777,
          -0.7165134712897009,
          0.31470910612493974,
          2.2048428931352952,
          -0.37326042759452166,
          -0.6869832077121661,
          0.4538698980652648,
          0.3835572135228256,
          0.5864267829588884,
          0.1366552671255307,
          -0.29731483868073927,
          0.2921796384197413,
          1.204393005274402,
          0.03240134226909766,
          0.4841180429521735,
          -0.6875951590864127,
          1.320895128089415,
          -1.5772719223289127,
          1.083135276429853,
          1.5582687187488196,
          0.0402198571728886,
          0.782586581086116,
          -0.826500765488446,
          0.6466110743888642
         ]
        }
       ],
       "layout": {
        "barmode": "overlay",
        "legend": {
         "bgcolor": "#F5F6F9",
         "font": {
          "color": "#4D5663"
         }
        },
        "paper_bgcolor": "#F5F6F9",
        "plot_bgcolor": "#F5F6F9",
        "template": {
         "data": {
          "bar": [
           {
            "error_x": {
             "color": "#2a3f5f"
            },
            "error_y": {
             "color": "#2a3f5f"
            },
            "marker": {
             "line": {
              "color": "#E5ECF6",
              "width": 0.5
             }
            },
            "type": "bar"
           }
          ],
          "barpolar": [
           {
            "marker": {
             "line": {
              "color": "#E5ECF6",
              "width": 0.5
             }
            },
            "type": "barpolar"
           }
          ],
          "carpet": [
           {
            "aaxis": {
             "endlinecolor": "#2a3f5f",
             "gridcolor": "white",
             "linecolor": "white",
             "minorgridcolor": "white",
             "startlinecolor": "#2a3f5f"
            },
            "baxis": {
             "endlinecolor": "#2a3f5f",
             "gridcolor": "white",
             "linecolor": "white",
             "minorgridcolor": "white",
             "startlinecolor": "#2a3f5f"
            },
            "type": "carpet"
           }
          ],
          "choropleth": [
           {
            "colorbar": {
             "outlinewidth": 0,
             "ticks": ""
            },
            "type": "choropleth"
           }
          ],
          "contour": [
           {
            "colorbar": {
             "outlinewidth": 0,
             "ticks": ""
            },
            "colorscale": [
             [
              0,
              "#0d0887"
             ],
             [
              0.1111111111111111,
              "#46039f"
             ],
             [
              0.2222222222222222,
              "#7201a8"
             ],
             [
              0.3333333333333333,
              "#9c179e"
             ],
             [
              0.4444444444444444,
              "#bd3786"
             ],
             [
              0.5555555555555556,
              "#d8576b"
             ],
             [
              0.6666666666666666,
              "#ed7953"
             ],
             [
              0.7777777777777778,
              "#fb9f3a"
             ],
             [
              0.8888888888888888,
              "#fdca26"
             ],
             [
              1,
              "#f0f921"
             ]
            ],
            "type": "contour"
           }
          ],
          "contourcarpet": [
           {
            "colorbar": {
             "outlinewidth": 0,
             "ticks": ""
            },
            "type": "contourcarpet"
           }
          ],
          "heatmap": [
           {
            "colorbar": {
             "outlinewidth": 0,
             "ticks": ""
            },
            "colorscale": [
             [
              0,
              "#0d0887"
             ],
             [
              0.1111111111111111,
              "#46039f"
             ],
             [
              0.2222222222222222,
              "#7201a8"
             ],
             [
              0.3333333333333333,
              "#9c179e"
             ],
             [
              0.4444444444444444,
              "#bd3786"
             ],
             [
              0.5555555555555556,
              "#d8576b"
             ],
             [
              0.6666666666666666,
              "#ed7953"
             ],
             [
              0.7777777777777778,
              "#fb9f3a"
             ],
             [
              0.8888888888888888,
              "#fdca26"
             ],
             [
              1,
              "#f0f921"
             ]
            ],
            "type": "heatmap"
           }
          ],
          "heatmapgl": [
           {
            "colorbar": {
             "outlinewidth": 0,
             "ticks": ""
            },
            "colorscale": [
             [
              0,
              "#0d0887"
             ],
             [
              0.1111111111111111,
              "#46039f"
             ],
             [
              0.2222222222222222,
              "#7201a8"
             ],
             [
              0.3333333333333333,
              "#9c179e"
             ],
             [
              0.4444444444444444,
              "#bd3786"
             ],
             [
              0.5555555555555556,
              "#d8576b"
             ],
             [
              0.6666666666666666,
              "#ed7953"
             ],
             [
              0.7777777777777778,
              "#fb9f3a"
             ],
             [
              0.8888888888888888,
              "#fdca26"
             ],
             [
              1,
              "#f0f921"
             ]
            ],
            "type": "heatmapgl"
           }
          ],
          "histogram": [
           {
            "marker": {
             "colorbar": {
              "outlinewidth": 0,
              "ticks": ""
             }
            },
            "type": "histogram"
           }
          ],
          "histogram2d": [
           {
            "colorbar": {
             "outlinewidth": 0,
             "ticks": ""
            },
            "colorscale": [
             [
              0,
              "#0d0887"
             ],
             [
              0.1111111111111111,
              "#46039f"
             ],
             [
              0.2222222222222222,
              "#7201a8"
             ],
             [
              0.3333333333333333,
              "#9c179e"
             ],
             [
              0.4444444444444444,
              "#bd3786"
             ],
             [
              0.5555555555555556,
              "#d8576b"
             ],
             [
              0.6666666666666666,
              "#ed7953"
             ],
             [
              0.7777777777777778,
              "#fb9f3a"
             ],
             [
              0.8888888888888888,
              "#fdca26"
             ],
             [
              1,
              "#f0f921"
             ]
            ],
            "type": "histogram2d"
           }
          ],
          "histogram2dcontour": [
           {
            "colorbar": {
             "outlinewidth": 0,
             "ticks": ""
            },
            "colorscale": [
             [
              0,
              "#0d0887"
             ],
             [
              0.1111111111111111,
              "#46039f"
             ],
             [
              0.2222222222222222,
              "#7201a8"
             ],
             [
              0.3333333333333333,
              "#9c179e"
             ],
             [
              0.4444444444444444,
              "#bd3786"
             ],
             [
              0.5555555555555556,
              "#d8576b"
             ],
             [
              0.6666666666666666,
              "#ed7953"
             ],
             [
              0.7777777777777778,
              "#fb9f3a"
             ],
             [
              0.8888888888888888,
              "#fdca26"
             ],
             [
              1,
              "#f0f921"
             ]
            ],
            "type": "histogram2dcontour"
           }
          ],
          "mesh3d": [
           {
            "colorbar": {
             "outlinewidth": 0,
             "ticks": ""
            },
            "type": "mesh3d"
           }
          ],
          "parcoords": [
           {
            "line": {
             "colorbar": {
              "outlinewidth": 0,
              "ticks": ""
             }
            },
            "type": "parcoords"
           }
          ],
          "pie": [
           {
            "automargin": true,
            "type": "pie"
           }
          ],
          "scatter": [
           {
            "marker": {
             "colorbar": {
              "outlinewidth": 0,
              "ticks": ""
             }
            },
            "type": "scatter"
           }
          ],
          "scatter3d": [
           {
            "line": {
             "colorbar": {
              "outlinewidth": 0,
              "ticks": ""
             }
            },
            "marker": {
             "colorbar": {
              "outlinewidth": 0,
              "ticks": ""
             }
            },
            "type": "scatter3d"
           }
          ],
          "scattercarpet": [
           {
            "marker": {
             "colorbar": {
              "outlinewidth": 0,
              "ticks": ""
             }
            },
            "type": "scattercarpet"
           }
          ],
          "scattergeo": [
           {
            "marker": {
             "colorbar": {
              "outlinewidth": 0,
              "ticks": ""
             }
            },
            "type": "scattergeo"
           }
          ],
          "scattergl": [
           {
            "marker": {
             "colorbar": {
              "outlinewidth": 0,
              "ticks": ""
             }
            },
            "type": "scattergl"
           }
          ],
          "scattermapbox": [
           {
            "marker": {
             "colorbar": {
              "outlinewidth": 0,
              "ticks": ""
             }
            },
            "type": "scattermapbox"
           }
          ],
          "scatterpolar": [
           {
            "marker": {
             "colorbar": {
              "outlinewidth": 0,
              "ticks": ""
             }
            },
            "type": "scatterpolar"
           }
          ],
          "scatterpolargl": [
           {
            "marker": {
             "colorbar": {
              "outlinewidth": 0,
              "ticks": ""
             }
            },
            "type": "scatterpolargl"
           }
          ],
          "scatterternary": [
           {
            "marker": {
             "colorbar": {
              "outlinewidth": 0,
              "ticks": ""
             }
            },
            "type": "scatterternary"
           }
          ],
          "surface": [
           {
            "colorbar": {
             "outlinewidth": 0,
             "ticks": ""
            },
            "colorscale": [
             [
              0,
              "#0d0887"
             ],
             [
              0.1111111111111111,
              "#46039f"
             ],
             [
              0.2222222222222222,
              "#7201a8"
             ],
             [
              0.3333333333333333,
              "#9c179e"
             ],
             [
              0.4444444444444444,
              "#bd3786"
             ],
             [
              0.5555555555555556,
              "#d8576b"
             ],
             [
              0.6666666666666666,
              "#ed7953"
             ],
             [
              0.7777777777777778,
              "#fb9f3a"
             ],
             [
              0.8888888888888888,
              "#fdca26"
             ],
             [
              1,
              "#f0f921"
             ]
            ],
            "type": "surface"
           }
          ],
          "table": [
           {
            "cells": {
             "fill": {
              "color": "#EBF0F8"
             },
             "line": {
              "color": "white"
             }
            },
            "header": {
             "fill": {
              "color": "#C8D4E3"
             },
             "line": {
              "color": "white"
             }
            },
            "type": "table"
           }
          ]
         },
         "layout": {
          "annotationdefaults": {
           "arrowcolor": "#2a3f5f",
           "arrowhead": 0,
           "arrowwidth": 1
          },
          "coloraxis": {
           "colorbar": {
            "outlinewidth": 0,
            "ticks": ""
           }
          },
          "colorscale": {
           "diverging": [
            [
             0,
             "#8e0152"
            ],
            [
             0.1,
             "#c51b7d"
            ],
            [
             0.2,
             "#de77ae"
            ],
            [
             0.3,
             "#f1b6da"
            ],
            [
             0.4,
             "#fde0ef"
            ],
            [
             0.5,
             "#f7f7f7"
            ],
            [
             0.6,
             "#e6f5d0"
            ],
            [
             0.7,
             "#b8e186"
            ],
            [
             0.8,
             "#7fbc41"
            ],
            [
             0.9,
             "#4d9221"
            ],
            [
             1,
             "#276419"
            ]
           ],
           "sequential": [
            [
             0,
             "#0d0887"
            ],
            [
             0.1111111111111111,
             "#46039f"
            ],
            [
             0.2222222222222222,
             "#7201a8"
            ],
            [
             0.3333333333333333,
             "#9c179e"
            ],
            [
             0.4444444444444444,
             "#bd3786"
            ],
            [
             0.5555555555555556,
             "#d8576b"
            ],
            [
             0.6666666666666666,
             "#ed7953"
            ],
            [
             0.7777777777777778,
             "#fb9f3a"
            ],
            [
             0.8888888888888888,
             "#fdca26"
            ],
            [
             1,
             "#f0f921"
            ]
           ],
           "sequentialminus": [
            [
             0,
             "#0d0887"
            ],
            [
             0.1111111111111111,
             "#46039f"
            ],
            [
             0.2222222222222222,
             "#7201a8"
            ],
            [
             0.3333333333333333,
             "#9c179e"
            ],
            [
             0.4444444444444444,
             "#bd3786"
            ],
            [
             0.5555555555555556,
             "#d8576b"
            ],
            [
             0.6666666666666666,
             "#ed7953"
            ],
            [
             0.7777777777777778,
             "#fb9f3a"
            ],
            [
             0.8888888888888888,
             "#fdca26"
            ],
            [
             1,
             "#f0f921"
            ]
           ]
          },
          "colorway": [
           "#636efa",
           "#EF553B",
           "#00cc96",
           "#ab63fa",
           "#FFA15A",
           "#19d3f3",
           "#FF6692",
           "#B6E880",
           "#FF97FF",
           "#FECB52"
          ],
          "font": {
           "color": "#2a3f5f"
          },
          "geo": {
           "bgcolor": "white",
           "lakecolor": "white",
           "landcolor": "#E5ECF6",
           "showlakes": true,
           "showland": true,
           "subunitcolor": "white"
          },
          "hoverlabel": {
           "align": "left"
          },
          "hovermode": "closest",
          "mapbox": {
           "style": "light"
          },
          "paper_bgcolor": "white",
          "plot_bgcolor": "#E5ECF6",
          "polar": {
           "angularaxis": {
            "gridcolor": "white",
            "linecolor": "white",
            "ticks": ""
           },
           "bgcolor": "#E5ECF6",
           "radialaxis": {
            "gridcolor": "white",
            "linecolor": "white",
            "ticks": ""
           }
          },
          "scene": {
           "xaxis": {
            "backgroundcolor": "#E5ECF6",
            "gridcolor": "white",
            "gridwidth": 2,
            "linecolor": "white",
            "showbackground": true,
            "ticks": "",
            "zerolinecolor": "white"
           },
           "yaxis": {
            "backgroundcolor": "#E5ECF6",
            "gridcolor": "white",
            "gridwidth": 2,
            "linecolor": "white",
            "showbackground": true,
            "ticks": "",
            "zerolinecolor": "white"
           },
           "zaxis": {
            "backgroundcolor": "#E5ECF6",
            "gridcolor": "white",
            "gridwidth": 2,
            "linecolor": "white",
            "showbackground": true,
            "ticks": "",
            "zerolinecolor": "white"
           }
          },
          "shapedefaults": {
           "line": {
            "color": "#2a3f5f"
           }
          },
          "ternary": {
           "aaxis": {
            "gridcolor": "white",
            "linecolor": "white",
            "ticks": ""
           },
           "baxis": {
            "gridcolor": "white",
            "linecolor": "white",
            "ticks": ""
           },
           "bgcolor": "#E5ECF6",
           "caxis": {
            "gridcolor": "white",
            "linecolor": "white",
            "ticks": ""
           }
          },
          "title": {
           "x": 0.05
          },
          "xaxis": {
           "automargin": true,
           "gridcolor": "white",
           "linecolor": "white",
           "ticks": "",
           "title": {
            "standoff": 15
           },
           "zerolinecolor": "white",
           "zerolinewidth": 2
          },
          "yaxis": {
           "automargin": true,
           "gridcolor": "white",
           "linecolor": "white",
           "ticks": "",
           "title": {
            "standoff": 15
           },
           "zerolinecolor": "white",
           "zerolinewidth": 2
          }
         }
        },
        "title": {
         "font": {
          "color": "#4D5663"
         }
        },
        "xaxis": {
         "gridcolor": "#E1E5ED",
         "showgrid": true,
         "tickfont": {
          "color": "#4D5663"
         },
         "title": {
          "font": {
           "color": "#4D5663"
          },
          "text": ""
         },
         "zerolinecolor": "#E1E5ED"
        },
        "yaxis": {
         "gridcolor": "#E1E5ED",
         "showgrid": true,
         "tickfont": {
          "color": "#4D5663"
         },
         "title": {
          "font": {
           "color": "#4D5663"
          },
          "text": ""
         },
         "zerolinecolor": "#E1E5ED"
        }
       }
      },
      "text/html": [
       "<div>\n",
       "        \n",
       "        \n",
       "            <div id=\"90a15466-dcc6-4062-8a65-c50127cd0444\" class=\"plotly-graph-div\" style=\"height:525px; width:100%;\"></div>\n",
       "            <script type=\"text/javascript\">\n",
       "                require([\"plotly\"], function(Plotly) {\n",
       "                    window.PLOTLYENV=window.PLOTLYENV || {};\n",
       "                    window.PLOTLYENV.BASE_URL='https://plot.ly';\n",
       "                    \n",
       "                if (document.getElementById(\"90a15466-dcc6-4062-8a65-c50127cd0444\")) {\n",
       "                    Plotly.newPlot(\n",
       "                        '90a15466-dcc6-4062-8a65-c50127cd0444',\n",
       "                        [{\"histfunc\": \"count\", \"histnorm\": \"\", \"marker\": {\"color\": \"rgba(255, 153, 51, 1.0)\", \"line\": {\"color\": \"#4D5663\", \"width\": 1.3}}, \"name\": \"A\", \"opacity\": 0.8, \"orientation\": \"v\", \"type\": \"histogram\", \"x\": [-2.2555933768724947, -0.03382340070021499, -0.3200478984174772, 0.05045835842384177, 0.2233965386018236, 0.2536608574004414, -0.6692398991913475, -0.4786089224325477, 0.6512291566816155, -0.9992360969851862, -0.22169793134556703, -1.1712641861345396, 0.3252298075551189, 0.8914928115672888, -0.0369001928301434, -0.12612875726858397, -0.6321662033550624, -0.7177849850115586, -0.7380476067025662, -0.6496181734346335, -0.7764825074228829, 0.9825053624790435, 0.2583656046298789, -0.037818224865744765, 0.1633648933126579, 0.09045583256205675, 0.6019746573813641, 0.8630717855557517, -0.6891220161380268, 0.008139132913083826, 1.4462942945255972, 1.0974328278372718, 1.7026391999584558, 0.13232510434415812, -1.4930236346176566, 0.5717283572309633, 1.6027573821880863, -0.26316261913033745, 0.1428706155553884, -1.9689781776908595, 0.7573252641608401, 1.2815546026772953, 0.4347619600899514, -0.5353942165407267, 0.9427327554963698, 1.1790481704431377, -0.4103179505335398, 1.467563169562042, 1.38742208689959, -0.1878420460340362, 0.9561618545448747, -0.6783596081109666, -0.7343973073358498, 0.3220750471063588, 0.27574581367708095, 1.4552279064325093, -0.291105920009326, 0.645407625337804, -1.0554341317842224, 0.33279221486126165, 0.7025265688025414, -0.6610919221931417, -0.1667434397585901, 0.6232829145291728, -0.2529836861465784, -1.3053816199792052, -0.9162982736073634, -1.3142225958928595, -1.6120659876274441, -0.053151427170382286, 1.872649441601502, -1.2683624163519756, 0.30392219244159846, 0.8663928886363615, -0.847758950848025, 1.2074149868658006, -0.8219780807135773, -0.3972774418375647, -0.3138094858687506, -0.7321270120897498, 0.19089113734580437, -1.467169892336397, -0.2704977443472076, 1.391089216049597, -1.4580084882448272, -1.6768288954001633, -1.2244219128686558, -0.5830634268948321, 2.596545053416106, 0.5547182458617995, -0.009938487125128776, 0.16661419271903802, -2.0051511664441923, -0.44142932606142177, 1.4768445874934977, -2.2891089768253154, 0.9969522087565932, -0.48862992958038, -0.8483077863746056, -0.3957040767842185]}, {\"histfunc\": \"count\", \"histnorm\": \"\", \"marker\": {\"color\": \"rgba(55, 128, 191, 1.0)\", \"line\": {\"color\": \"#4D5663\", \"width\": 1.3}}, \"name\": \"B\", \"opacity\": 0.8, \"orientation\": \"v\", \"type\": \"histogram\", \"x\": [1.3141888702618962, -1.1115662109910567, -0.257289607344004, -1.4036350331162621, -0.9562431416001994, 0.5284258714874434, 1.3839270580400518, -0.47647239611666187, -0.48621055726856166, 0.21230749228133775, -0.4377454130191507, 1.139461784412099, -0.479066908076587, -0.5112289603822745, 1.0655062855344546, 0.2532285620560627, -0.5080625366400148, -0.14940661484256632, -1.0552401005092436, 1.3130463314943268, -0.09855391494815084, 1.682056997549952, 0.025030245632123346, -1.0314746214259058, -0.24440905168767216, -0.9640162206376627, 1.1659827817820045, -0.5949615891396036, 0.895109825347487, -1.1787502459426134, 0.3606252712904561, -2.8874455317853673, 0.05554922902958001, -0.6327253205975053, -0.14423079659187038, -0.4659585833517143, -0.42134027774967997, -0.9945211011510153, 0.5262417418954314, 0.6521486589933997, -0.3002767827572908, 1.0961571575291982, 0.02388240668584011, -0.251739361646199, -0.09132557319225461, -0.16222783106006364, -0.5800636263739349, 0.6539517205968917, 0.2676653096775852, -0.12788683168886808, 0.9301801207771702, -0.09177425164037127, -1.186280702243975, -1.5581869431240989, -0.42664764573524705, -0.2770735434883226, -0.8136201732195788, -1.1114664557447358, 1.6999503007281884, -0.7126876105880869, -0.0930941715055807, -2.3656191409182625, 0.735568121854511, 0.541493368025285, -0.6301134451738287, -0.05449659496425838, 0.7566045980698098, -0.05331049966966534, 0.7515301988470119, 1.1756364535626789, 0.6255519982890726, 0.4994986012724347, -0.33739521345218193, 0.7932359839780525, -0.8486742318118738, -0.6162281748236087, 0.6588315502975075, 0.47797298287983786, 0.8313530055118066, -1.6412026289064061, -0.5091519178754833, 1.2236901049372901, 1.2990342992990034, -0.4823964312713267, 0.8897377549146316, 0.8330977892920045, 1.2780894780540542, 0.2073916928678156, 2.1898409925479587, 1.2450021823566144, 0.9417074276447647, -0.11353886292187075, 1.5655409294812892, -0.04614353427259727, -0.34656495757651096, -0.18561680250884616, -2.262169847144289, 0.948170877714612, -1.1482499665528605, -0.8927910449284819]}, {\"histfunc\": \"count\", \"histnorm\": \"\", \"marker\": {\"color\": \"rgba(50, 171, 96, 1.0)\", \"line\": {\"color\": \"#4D5663\", \"width\": 1.3}}, \"name\": \"C\", \"opacity\": 0.8, \"orientation\": \"v\", \"type\": \"histogram\", \"x\": [-0.3852111653161519, -0.7830544747937033, 0.6375500080290681, -1.2935251103472951, -0.8504493153928624, 0.09800862044555947, -1.3269601219003204, 0.327204119642585, -0.690840086360732, 0.0599524931219146, -0.2664804729565175, 0.5677036432202524, 0.44254035862817687, -0.534473786392977, -1.948328679109903, 0.3667213673256576, -0.8857969564564154, 0.000480655223030059, 0.6901565806311147, 0.4849220911931928, -0.3433584734411604, -0.044481892108771924, 0.5219215703694158, 0.6597640523271316, -0.815710202783354, 0.15440045099651611, 0.8626151498285916, 1.2557704479510896, -0.8866797361107176, 0.3116903849033211, -0.04586726700738958, -2.3210995766552003, -1.1141141767156846, -0.718790088777296, -1.215022691367036, 0.15990037633325638, 0.207339989867234, -0.1339251170432215, -0.31336335779366836, 0.4727293268665891, -1.364271403162109, 0.38485826485645513, -0.564525378196018, 0.08053092875359465, 0.8170016869020079, -0.16585723881699452, -0.7806192924820001, 0.2757423040683799, -0.8052577423922532, 0.4394975078426791, 0.05475969001130771, 0.13002452405704323, 0.5504028250944053, -0.07172476042858046, -0.3103852929550721, 0.6345882181965192, 0.45129839073710004, 0.24133569488877202, 0.4660206009407888, 0.32051436624277957, -1.4713410106320284, -0.6439436638461494, 0.0282498419594593, -1.9532860898921842, -0.2281728072186295, -1.6461248416327923, -0.8361741257415685, 1.103069631310339, 1.9773169265966584, 0.48488610606642524, -0.3119955389235842, -0.02493730005691768, -0.9557993486325946, -0.8739418396473461, -0.594468085245611, -0.12311748015716892, 0.16163289632042396, 0.2591893055592278, -0.5245824774930369, 0.9712195427151722, -1.0285584635996985, 1.3835410963227326, -1.1643694982378814, 1.267446133373859, 0.4221341686342332, 1.1078361853210785, 0.7270842106888753, 0.21856045988541378, 0.797581282367628, -0.6429999476331801, -0.8820815237633904, 0.2584226877120125, -0.8029529727740128, 1.4766089511557463, -0.48802675784715516, 1.001168054874638, -1.0613223170663308, 0.7350981512413484, 1.2784722523026892, 0.1117515228145326]}, {\"histfunc\": \"count\", \"histnorm\": \"\", \"marker\": {\"color\": \"rgba(128, 0, 128, 1.0)\", \"line\": {\"color\": \"#4D5663\", \"width\": 1.3}}, \"name\": \"D\", \"opacity\": 0.8, \"orientation\": \"v\", \"type\": \"histogram\", \"x\": [0.9772336509828237, -0.07647478318063784, 0.7413636391750652, -0.15912297894377248, -0.15177625272150932, 0.1199900295795598, 0.2716635668621539, 0.3709292464448456, 0.5828024998577414, 1.1233734325816407, 0.5350414757703158, -0.27835449335894125, -0.5384981463868941, 1.7604427122046729, -0.1798211998472201, -0.07259583442974381, 0.6927847927489181, 1.713753068511354, 0.5580318332801198, 1.8777101613687104, 2.096919796229778, 2.006680204819293, 1.0358068816393418, -1.0471118960905113, 0.11421243302452166, 0.905838606468195, -1.3557540465958646, 0.052203996643662834, 1.065635124475401, -0.5948064543443344, 0.5824474335176656, 0.03769772664088032, -0.9295819904348213, 0.08773160196539075, -1.4326929160965838, 0.708051413119108, -0.07046148088440911, -0.14346819164193475, 0.3763987464634078, 1.489497426963874, -1.1875085365888707, -0.6972667620976027, -0.37526823498872225, -0.07039635195846435, -1.1069599873901415, 0.351561602957237, 1.7233931104452467, 0.5680461134761515, -0.7651406350372749, -0.8855202646912165, 0.24331003393244538, -1.9622170655863536, 0.25109763454148615, -1.7649926672975669, -0.4234854127409118, -0.7143020036904693, 0.20749639433841285, 0.010268364756173215, 0.0952854975447978, -0.5550510334752385, -0.4934942677949766, 1.6175409619083556, 0.3332748338333687, -0.5344727243038119, 1.0015841881282095, 0.10562661347557104, -0.1852368746866717, -0.07930200523712144, -0.9472604504862842, -0.6793917614321774, 0.3478046849795794, -0.06819282824824709, -0.24348051996278372, 0.4653730332137223, 0.8868921917777485, -0.8744287471716156, 0.8505394053147777, -0.7165134712897009, 0.31470910612493974, 2.2048428931352952, -0.37326042759452166, -0.6869832077121661, 0.4538698980652648, 0.3835572135228256, 0.5864267829588884, 0.1366552671255307, -0.29731483868073927, 0.2921796384197413, 1.204393005274402, 0.03240134226909766, 0.4841180429521735, -0.6875951590864127, 1.320895128089415, -1.5772719223289127, 1.083135276429853, 1.5582687187488196, 0.0402198571728886, 0.782586581086116, -0.826500765488446, 0.6466110743888642]}],\n",
       "                        {\"barmode\": \"overlay\", \"legend\": {\"bgcolor\": \"#F5F6F9\", \"font\": {\"color\": \"#4D5663\"}}, \"paper_bgcolor\": \"#F5F6F9\", \"plot_bgcolor\": \"#F5F6F9\", \"template\": {\"data\": {\"bar\": [{\"error_x\": {\"color\": \"#2a3f5f\"}, \"error_y\": {\"color\": \"#2a3f5f\"}, \"marker\": {\"line\": {\"color\": \"#E5ECF6\", \"width\": 0.5}}, \"type\": \"bar\"}], \"barpolar\": [{\"marker\": {\"line\": {\"color\": \"#E5ECF6\", \"width\": 0.5}}, \"type\": \"barpolar\"}], \"carpet\": [{\"aaxis\": {\"endlinecolor\": \"#2a3f5f\", \"gridcolor\": \"white\", \"linecolor\": \"white\", \"minorgridcolor\": \"white\", \"startlinecolor\": \"#2a3f5f\"}, \"baxis\": {\"endlinecolor\": \"#2a3f5f\", \"gridcolor\": \"white\", \"linecolor\": \"white\", \"minorgridcolor\": \"white\", \"startlinecolor\": \"#2a3f5f\"}, \"type\": \"carpet\"}], \"choropleth\": [{\"colorbar\": {\"outlinewidth\": 0, \"ticks\": \"\"}, \"type\": \"choropleth\"}], \"contour\": [{\"colorbar\": {\"outlinewidth\": 0, \"ticks\": \"\"}, \"colorscale\": [[0.0, \"#0d0887\"], [0.1111111111111111, \"#46039f\"], [0.2222222222222222, \"#7201a8\"], [0.3333333333333333, \"#9c179e\"], [0.4444444444444444, \"#bd3786\"], [0.5555555555555556, \"#d8576b\"], [0.6666666666666666, \"#ed7953\"], [0.7777777777777778, \"#fb9f3a\"], [0.8888888888888888, \"#fdca26\"], [1.0, \"#f0f921\"]], \"type\": \"contour\"}], \"contourcarpet\": [{\"colorbar\": {\"outlinewidth\": 0, \"ticks\": \"\"}, \"type\": \"contourcarpet\"}], \"heatmap\": [{\"colorbar\": {\"outlinewidth\": 0, \"ticks\": \"\"}, \"colorscale\": [[0.0, \"#0d0887\"], [0.1111111111111111, \"#46039f\"], [0.2222222222222222, \"#7201a8\"], [0.3333333333333333, \"#9c179e\"], [0.4444444444444444, \"#bd3786\"], [0.5555555555555556, \"#d8576b\"], [0.6666666666666666, \"#ed7953\"], [0.7777777777777778, \"#fb9f3a\"], [0.8888888888888888, \"#fdca26\"], [1.0, \"#f0f921\"]], \"type\": \"heatmap\"}], \"heatmapgl\": [{\"colorbar\": {\"outlinewidth\": 0, \"ticks\": \"\"}, \"colorscale\": [[0.0, \"#0d0887\"], [0.1111111111111111, \"#46039f\"], [0.2222222222222222, \"#7201a8\"], [0.3333333333333333, \"#9c179e\"], [0.4444444444444444, \"#bd3786\"], [0.5555555555555556, \"#d8576b\"], [0.6666666666666666, \"#ed7953\"], [0.7777777777777778, \"#fb9f3a\"], [0.8888888888888888, \"#fdca26\"], [1.0, \"#f0f921\"]], \"type\": \"heatmapgl\"}], \"histogram\": [{\"marker\": {\"colorbar\": {\"outlinewidth\": 0, \"ticks\": \"\"}}, \"type\": \"histogram\"}], \"histogram2d\": [{\"colorbar\": {\"outlinewidth\": 0, \"ticks\": \"\"}, \"colorscale\": [[0.0, \"#0d0887\"], [0.1111111111111111, \"#46039f\"], [0.2222222222222222, \"#7201a8\"], [0.3333333333333333, \"#9c179e\"], [0.4444444444444444, \"#bd3786\"], [0.5555555555555556, \"#d8576b\"], [0.6666666666666666, \"#ed7953\"], [0.7777777777777778, \"#fb9f3a\"], [0.8888888888888888, \"#fdca26\"], [1.0, \"#f0f921\"]], \"type\": \"histogram2d\"}], \"histogram2dcontour\": [{\"colorbar\": {\"outlinewidth\": 0, \"ticks\": \"\"}, \"colorscale\": [[0.0, \"#0d0887\"], [0.1111111111111111, \"#46039f\"], [0.2222222222222222, \"#7201a8\"], [0.3333333333333333, \"#9c179e\"], [0.4444444444444444, \"#bd3786\"], [0.5555555555555556, \"#d8576b\"], [0.6666666666666666, \"#ed7953\"], [0.7777777777777778, \"#fb9f3a\"], [0.8888888888888888, \"#fdca26\"], [1.0, \"#f0f921\"]], \"type\": \"histogram2dcontour\"}], \"mesh3d\": [{\"colorbar\": {\"outlinewidth\": 0, \"ticks\": \"\"}, \"type\": \"mesh3d\"}], \"parcoords\": [{\"line\": {\"colorbar\": {\"outlinewidth\": 0, \"ticks\": \"\"}}, \"type\": \"parcoords\"}], \"pie\": [{\"automargin\": true, \"type\": \"pie\"}], \"scatter\": [{\"marker\": {\"colorbar\": {\"outlinewidth\": 0, \"ticks\": \"\"}}, \"type\": \"scatter\"}], \"scatter3d\": [{\"line\": {\"colorbar\": {\"outlinewidth\": 0, \"ticks\": \"\"}}, \"marker\": {\"colorbar\": {\"outlinewidth\": 0, \"ticks\": \"\"}}, \"type\": \"scatter3d\"}], \"scattercarpet\": [{\"marker\": {\"colorbar\": {\"outlinewidth\": 0, \"ticks\": \"\"}}, \"type\": \"scattercarpet\"}], \"scattergeo\": [{\"marker\": {\"colorbar\": {\"outlinewidth\": 0, \"ticks\": \"\"}}, \"type\": \"scattergeo\"}], \"scattergl\": [{\"marker\": {\"colorbar\": {\"outlinewidth\": 0, \"ticks\": \"\"}}, \"type\": \"scattergl\"}], \"scattermapbox\": [{\"marker\": {\"colorbar\": {\"outlinewidth\": 0, \"ticks\": \"\"}}, \"type\": \"scattermapbox\"}], \"scatterpolar\": [{\"marker\": {\"colorbar\": {\"outlinewidth\": 0, \"ticks\": \"\"}}, \"type\": \"scatterpolar\"}], \"scatterpolargl\": [{\"marker\": {\"colorbar\": {\"outlinewidth\": 0, \"ticks\": \"\"}}, \"type\": \"scatterpolargl\"}], \"scatterternary\": [{\"marker\": {\"colorbar\": {\"outlinewidth\": 0, \"ticks\": \"\"}}, \"type\": \"scatterternary\"}], \"surface\": [{\"colorbar\": {\"outlinewidth\": 0, \"ticks\": \"\"}, \"colorscale\": [[0.0, \"#0d0887\"], [0.1111111111111111, \"#46039f\"], [0.2222222222222222, \"#7201a8\"], [0.3333333333333333, \"#9c179e\"], [0.4444444444444444, \"#bd3786\"], [0.5555555555555556, \"#d8576b\"], [0.6666666666666666, \"#ed7953\"], [0.7777777777777778, \"#fb9f3a\"], [0.8888888888888888, \"#fdca26\"], [1.0, \"#f0f921\"]], \"type\": \"surface\"}], \"table\": [{\"cells\": {\"fill\": {\"color\": \"#EBF0F8\"}, \"line\": {\"color\": \"white\"}}, \"header\": {\"fill\": {\"color\": \"#C8D4E3\"}, \"line\": {\"color\": \"white\"}}, \"type\": \"table\"}]}, \"layout\": {\"annotationdefaults\": {\"arrowcolor\": \"#2a3f5f\", \"arrowhead\": 0, \"arrowwidth\": 1}, \"coloraxis\": {\"colorbar\": {\"outlinewidth\": 0, \"ticks\": \"\"}}, \"colorscale\": {\"diverging\": [[0, \"#8e0152\"], [0.1, \"#c51b7d\"], [0.2, \"#de77ae\"], [0.3, \"#f1b6da\"], [0.4, \"#fde0ef\"], [0.5, \"#f7f7f7\"], [0.6, \"#e6f5d0\"], [0.7, \"#b8e186\"], [0.8, \"#7fbc41\"], [0.9, \"#4d9221\"], [1, \"#276419\"]], \"sequential\": [[0.0, \"#0d0887\"], [0.1111111111111111, \"#46039f\"], [0.2222222222222222, \"#7201a8\"], [0.3333333333333333, \"#9c179e\"], [0.4444444444444444, \"#bd3786\"], [0.5555555555555556, \"#d8576b\"], [0.6666666666666666, \"#ed7953\"], [0.7777777777777778, \"#fb9f3a\"], [0.8888888888888888, \"#fdca26\"], [1.0, \"#f0f921\"]], \"sequentialminus\": [[0.0, \"#0d0887\"], [0.1111111111111111, \"#46039f\"], [0.2222222222222222, \"#7201a8\"], [0.3333333333333333, \"#9c179e\"], [0.4444444444444444, \"#bd3786\"], [0.5555555555555556, \"#d8576b\"], [0.6666666666666666, \"#ed7953\"], [0.7777777777777778, \"#fb9f3a\"], [0.8888888888888888, \"#fdca26\"], [1.0, \"#f0f921\"]]}, \"colorway\": [\"#636efa\", \"#EF553B\", \"#00cc96\", \"#ab63fa\", \"#FFA15A\", \"#19d3f3\", \"#FF6692\", \"#B6E880\", \"#FF97FF\", \"#FECB52\"], \"font\": {\"color\": \"#2a3f5f\"}, \"geo\": {\"bgcolor\": \"white\", \"lakecolor\": \"white\", \"landcolor\": \"#E5ECF6\", \"showlakes\": true, \"showland\": true, \"subunitcolor\": \"white\"}, \"hoverlabel\": {\"align\": \"left\"}, \"hovermode\": \"closest\", \"mapbox\": {\"style\": \"light\"}, \"paper_bgcolor\": \"white\", \"plot_bgcolor\": \"#E5ECF6\", \"polar\": {\"angularaxis\": {\"gridcolor\": \"white\", \"linecolor\": \"white\", \"ticks\": \"\"}, \"bgcolor\": \"#E5ECF6\", \"radialaxis\": {\"gridcolor\": \"white\", \"linecolor\": \"white\", \"ticks\": \"\"}}, \"scene\": {\"xaxis\": {\"backgroundcolor\": \"#E5ECF6\", \"gridcolor\": \"white\", \"gridwidth\": 2, \"linecolor\": \"white\", \"showbackground\": true, \"ticks\": \"\", \"zerolinecolor\": \"white\"}, \"yaxis\": {\"backgroundcolor\": \"#E5ECF6\", \"gridcolor\": \"white\", \"gridwidth\": 2, \"linecolor\": \"white\", \"showbackground\": true, \"ticks\": \"\", \"zerolinecolor\": \"white\"}, \"zaxis\": {\"backgroundcolor\": \"#E5ECF6\", \"gridcolor\": \"white\", \"gridwidth\": 2, \"linecolor\": \"white\", \"showbackground\": true, \"ticks\": \"\", \"zerolinecolor\": \"white\"}}, \"shapedefaults\": {\"line\": {\"color\": \"#2a3f5f\"}}, \"ternary\": {\"aaxis\": {\"gridcolor\": \"white\", \"linecolor\": \"white\", \"ticks\": \"\"}, \"baxis\": {\"gridcolor\": \"white\", \"linecolor\": \"white\", \"ticks\": \"\"}, \"bgcolor\": \"#E5ECF6\", \"caxis\": {\"gridcolor\": \"white\", \"linecolor\": \"white\", \"ticks\": \"\"}}, \"title\": {\"x\": 0.05}, \"xaxis\": {\"automargin\": true, \"gridcolor\": \"white\", \"linecolor\": \"white\", \"ticks\": \"\", \"title\": {\"standoff\": 15}, \"zerolinecolor\": \"white\", \"zerolinewidth\": 2}, \"yaxis\": {\"automargin\": true, \"gridcolor\": \"white\", \"linecolor\": \"white\", \"ticks\": \"\", \"title\": {\"standoff\": 15}, \"zerolinecolor\": \"white\", \"zerolinewidth\": 2}}}, \"title\": {\"font\": {\"color\": \"#4D5663\"}}, \"xaxis\": {\"gridcolor\": \"#E1E5ED\", \"showgrid\": true, \"tickfont\": {\"color\": \"#4D5663\"}, \"title\": {\"font\": {\"color\": \"#4D5663\"}, \"text\": \"\"}, \"zerolinecolor\": \"#E1E5ED\"}, \"yaxis\": {\"gridcolor\": \"#E1E5ED\", \"showgrid\": true, \"tickfont\": {\"color\": \"#4D5663\"}, \"title\": {\"font\": {\"color\": \"#4D5663\"}, \"text\": \"\"}, \"zerolinecolor\": \"#E1E5ED\"}},\n",
       "                        {\"showLink\": true, \"linkText\": \"Export to plot.ly\", \"plotlyServerURL\": \"https://plot.ly\", \"responsive\": true}\n",
       "                    ).then(function(){\n",
       "                            \n",
       "var gd = document.getElementById('90a15466-dcc6-4062-8a65-c50127cd0444');\n",
       "var x = new MutationObserver(function (mutations, observer) {{\n",
       "        var display = window.getComputedStyle(gd).display;\n",
       "        if (!display || display === 'none') {{\n",
       "            console.log([gd, 'removed!']);\n",
       "            Plotly.purge(gd);\n",
       "            observer.disconnect();\n",
       "        }}\n",
       "}});\n",
       "\n",
       "// Listen for the removal of the full notebook cells\n",
       "var notebookContainer = gd.closest('#notebook-container');\n",
       "if (notebookContainer) {{\n",
       "    x.observe(notebookContainer, {childList: true});\n",
       "}}\n",
       "\n",
       "// Listen for the clearing of the current output cell\n",
       "var outputEl = gd.closest('.output');\n",
       "if (outputEl) {{\n",
       "    x.observe(outputEl, {childList: true});\n",
       "}}\n",
       "\n",
       "                        })\n",
       "                };\n",
       "                });\n",
       "            </script>\n",
       "        </div>"
      ]
     },
     "metadata": {},
     "output_type": "display_data"
    }
   ],
   "source": [
    "df.iplot(kind='hist')"
   ]
  },
  {
   "cell_type": "code",
   "execution_count": 48,
   "metadata": {},
   "outputs": [
    {
     "data": {
      "application/vnd.plotly.v1+json": {
       "config": {
        "linkText": "Export to plot.ly",
        "plotlyServerURL": "https://plot.ly",
        "showLink": true
       },
       "data": [
        {
         "line": {
          "color": "rgba(255, 153, 51, 1.0)",
          "dash": "solid",
          "shape": "linear",
          "width": 1.3
         },
         "mode": "lines",
         "name": "A",
         "text": "",
         "type": "scatter",
         "x": [
          0,
          1,
          2,
          3,
          4,
          5,
          6,
          7,
          8,
          9,
          10,
          11,
          12,
          13,
          14,
          15,
          16,
          17,
          18,
          19,
          20,
          21,
          22,
          23,
          24,
          25,
          26,
          27,
          28,
          29,
          30,
          31,
          32,
          33,
          34,
          35,
          36,
          37,
          38,
          39,
          40,
          41,
          42,
          43,
          44,
          45,
          46,
          47,
          48,
          49,
          50,
          51,
          52,
          53,
          54,
          55,
          56,
          57,
          58,
          59,
          60,
          61,
          62,
          63,
          64,
          65,
          66,
          67,
          68,
          69,
          70,
          71,
          72,
          73,
          74,
          75,
          76,
          77,
          78,
          79,
          80,
          81,
          82,
          83,
          84,
          85,
          86,
          87,
          88,
          89,
          90,
          91,
          92,
          93,
          94,
          95,
          96,
          97,
          98,
          99
         ],
         "y": [
          -2.2555933768724947,
          -0.03382340070021499,
          -0.3200478984174772,
          0.05045835842384177,
          0.2233965386018236,
          0.2536608574004414,
          -0.6692398991913475,
          -0.4786089224325477,
          0.6512291566816155,
          -0.9992360969851862,
          -0.22169793134556703,
          -1.1712641861345396,
          0.3252298075551189,
          0.8914928115672888,
          -0.0369001928301434,
          -0.12612875726858397,
          -0.6321662033550624,
          -0.7177849850115586,
          -0.7380476067025662,
          -0.6496181734346335,
          -0.7764825074228829,
          0.9825053624790435,
          0.2583656046298789,
          -0.037818224865744765,
          0.1633648933126579,
          0.09045583256205675,
          0.6019746573813641,
          0.8630717855557517,
          -0.6891220161380268,
          0.008139132913083826,
          1.4462942945255972,
          1.0974328278372718,
          1.7026391999584558,
          0.13232510434415812,
          -1.4930236346176566,
          0.5717283572309633,
          1.6027573821880863,
          -0.26316261913033745,
          0.1428706155553884,
          -1.9689781776908595,
          0.7573252641608401,
          1.2815546026772953,
          0.4347619600899514,
          -0.5353942165407267,
          0.9427327554963698,
          1.1790481704431377,
          -0.4103179505335398,
          1.467563169562042,
          1.38742208689959,
          -0.1878420460340362,
          0.9561618545448747,
          -0.6783596081109666,
          -0.7343973073358498,
          0.3220750471063588,
          0.27574581367708095,
          1.4552279064325093,
          -0.291105920009326,
          0.645407625337804,
          -1.0554341317842224,
          0.33279221486126165,
          0.7025265688025414,
          -0.6610919221931417,
          -0.1667434397585901,
          0.6232829145291728,
          -0.2529836861465784,
          -1.3053816199792052,
          -0.9162982736073634,
          -1.3142225958928595,
          -1.6120659876274441,
          -0.053151427170382286,
          1.872649441601502,
          -1.2683624163519756,
          0.30392219244159846,
          0.8663928886363615,
          -0.847758950848025,
          1.2074149868658006,
          -0.8219780807135773,
          -0.3972774418375647,
          -0.3138094858687506,
          -0.7321270120897498,
          0.19089113734580437,
          -1.467169892336397,
          -0.2704977443472076,
          1.391089216049597,
          -1.4580084882448272,
          -1.6768288954001633,
          -1.2244219128686558,
          -0.5830634268948321,
          2.596545053416106,
          0.5547182458617995,
          -0.009938487125128776,
          0.16661419271903802,
          -2.0051511664441923,
          -0.44142932606142177,
          1.4768445874934977,
          -2.2891089768253154,
          0.9969522087565932,
          -0.48862992958038,
          -0.8483077863746056,
          -0.3957040767842185
         ]
        },
        {
         "line": {
          "color": "rgba(55, 128, 191, 1.0)",
          "dash": "solid",
          "shape": "linear",
          "width": 1.3
         },
         "mode": "lines",
         "name": "B",
         "text": "",
         "type": "scatter",
         "x": [
          0,
          1,
          2,
          3,
          4,
          5,
          6,
          7,
          8,
          9,
          10,
          11,
          12,
          13,
          14,
          15,
          16,
          17,
          18,
          19,
          20,
          21,
          22,
          23,
          24,
          25,
          26,
          27,
          28,
          29,
          30,
          31,
          32,
          33,
          34,
          35,
          36,
          37,
          38,
          39,
          40,
          41,
          42,
          43,
          44,
          45,
          46,
          47,
          48,
          49,
          50,
          51,
          52,
          53,
          54,
          55,
          56,
          57,
          58,
          59,
          60,
          61,
          62,
          63,
          64,
          65,
          66,
          67,
          68,
          69,
          70,
          71,
          72,
          73,
          74,
          75,
          76,
          77,
          78,
          79,
          80,
          81,
          82,
          83,
          84,
          85,
          86,
          87,
          88,
          89,
          90,
          91,
          92,
          93,
          94,
          95,
          96,
          97,
          98,
          99
         ],
         "y": [
          1.3141888702618962,
          -1.1115662109910567,
          -0.257289607344004,
          -1.4036350331162621,
          -0.9562431416001994,
          0.5284258714874434,
          1.3839270580400518,
          -0.47647239611666187,
          -0.48621055726856166,
          0.21230749228133775,
          -0.4377454130191507,
          1.139461784412099,
          -0.479066908076587,
          -0.5112289603822745,
          1.0655062855344546,
          0.2532285620560627,
          -0.5080625366400148,
          -0.14940661484256632,
          -1.0552401005092436,
          1.3130463314943268,
          -0.09855391494815084,
          1.682056997549952,
          0.025030245632123346,
          -1.0314746214259058,
          -0.24440905168767216,
          -0.9640162206376627,
          1.1659827817820045,
          -0.5949615891396036,
          0.895109825347487,
          -1.1787502459426134,
          0.3606252712904561,
          -2.8874455317853673,
          0.05554922902958001,
          -0.6327253205975053,
          -0.14423079659187038,
          -0.4659585833517143,
          -0.42134027774967997,
          -0.9945211011510153,
          0.5262417418954314,
          0.6521486589933997,
          -0.3002767827572908,
          1.0961571575291982,
          0.02388240668584011,
          -0.251739361646199,
          -0.09132557319225461,
          -0.16222783106006364,
          -0.5800636263739349,
          0.6539517205968917,
          0.2676653096775852,
          -0.12788683168886808,
          0.9301801207771702,
          -0.09177425164037127,
          -1.186280702243975,
          -1.5581869431240989,
          -0.42664764573524705,
          -0.2770735434883226,
          -0.8136201732195788,
          -1.1114664557447358,
          1.6999503007281884,
          -0.7126876105880869,
          -0.0930941715055807,
          -2.3656191409182625,
          0.735568121854511,
          0.541493368025285,
          -0.6301134451738287,
          -0.05449659496425838,
          0.7566045980698098,
          -0.05331049966966534,
          0.7515301988470119,
          1.1756364535626789,
          0.6255519982890726,
          0.4994986012724347,
          -0.33739521345218193,
          0.7932359839780525,
          -0.8486742318118738,
          -0.6162281748236087,
          0.6588315502975075,
          0.47797298287983786,
          0.8313530055118066,
          -1.6412026289064061,
          -0.5091519178754833,
          1.2236901049372901,
          1.2990342992990034,
          -0.4823964312713267,
          0.8897377549146316,
          0.8330977892920045,
          1.2780894780540542,
          0.2073916928678156,
          2.1898409925479587,
          1.2450021823566144,
          0.9417074276447647,
          -0.11353886292187075,
          1.5655409294812892,
          -0.04614353427259727,
          -0.34656495757651096,
          -0.18561680250884616,
          -2.262169847144289,
          0.948170877714612,
          -1.1482499665528605,
          -0.8927910449284819
         ]
        },
        {
         "connectgaps": false,
         "fill": "tozeroy",
         "line": {
          "color": "green",
          "dash": "solid",
          "shape": "linear",
          "width": 0.5
         },
         "mode": "lines",
         "name": "Spread",
         "showlegend": false,
         "type": "scatter",
         "x": [
          0,
          1,
          2,
          3,
          4,
          5,
          6,
          7,
          8,
          9,
          10,
          11,
          12,
          13,
          14,
          15,
          16,
          17,
          18,
          19,
          20,
          21,
          22,
          23,
          24,
          25,
          26,
          27,
          28,
          29,
          30,
          31,
          32,
          33,
          34,
          35,
          36,
          37,
          38,
          39,
          40,
          41,
          42,
          43,
          44,
          45,
          46,
          47,
          48,
          49,
          50,
          51,
          52,
          53,
          54,
          55,
          56,
          57,
          58,
          59,
          60,
          61,
          62,
          63,
          64,
          65,
          66,
          67,
          68,
          69,
          70,
          71,
          72,
          73,
          74,
          75,
          76,
          77,
          78,
          79,
          80,
          81,
          82,
          83,
          84,
          85,
          86,
          87,
          88,
          89,
          90,
          91,
          92,
          93,
          94,
          95,
          96,
          97,
          98,
          99
         ],
         "xaxis": "x2",
         "y": [
          "",
          1.0777428102908417,
          "",
          1.454093391540104,
          1.179639680202023,
          "",
          "",
          "",
          1.1374397139501773,
          "",
          0.21604748167358367,
          "",
          0.8042967156317058,
          1.4027217719495633,
          "",
          "",
          "",
          "",
          0.31719249380667736,
          "",
          "",
          "",
          0.23333535899775554,
          0.993656396560161,
          0.40777394500033004,
          1.0544720531997194,
          "",
          1.4580333746953553,
          "",
          1.1868893788556971,
          1.0856690232351411,
          3.9848783596226394,
          1.6470899709288758,
          0.7650504249416634,
          "",
          1.0376869405826776,
          2.024097659937766,
          0.7313584820206779,
          "",
          "",
          1.0576020469181309,
          0.18539744514809708,
          0.41087955340411125,
          "",
          1.0340583286886245,
          1.3412760015032013,
          0.16974567584039513,
          0.8136114489651503,
          1.1197567772220047,
          "",
          0.025981733767704518,
          "",
          0.4518833949081251,
          1.8802619902304576,
          0.702393459412328,
          1.7323014499208318,
          0.5225142532102528,
          1.7568740810825398,
          "",
          1.0454798254493487,
          0.7956207403081221,
          1.7045272187251208,
          "",
          0.08178954650388781,
          0.3771297590272503,
          "",
          "",
          "",
          "",
          "",
          1.2470974433124296,
          "",
          0.6413174058937804,
          0.07315690465830904,
          0.0009152809638488524,
          1.8236431616894093,
          "",
          "",
          "",
          0.9090756168166563,
          0.7000430552212877,
          "",
          "",
          1.8734856473209236,
          "",
          "",
          "",
          "",
          0.40670406086814737,
          "",
          "",
          0.28015305564090875,
          "",
          "",
          1.8234095450700085,
          "",
          3.259122055900882,
          "",
          0.2999421801782549,
          0.49708696814426345
         ],
         "yaxis": "y2"
        },
        {
         "connectgaps": false,
         "fill": "tozeroy",
         "line": {
          "color": "red",
          "dash": "solid",
          "shape": "linear",
          "width": 0.5
         },
         "mode": "lines",
         "name": "Spread",
         "showlegend": false,
         "type": "scatter",
         "x": [
          0,
          1,
          2,
          3,
          4,
          5,
          6,
          7,
          8,
          9,
          10,
          11,
          12,
          13,
          14,
          15,
          16,
          17,
          18,
          19,
          20,
          21,
          22,
          23,
          24,
          25,
          26,
          27,
          28,
          29,
          30,
          31,
          32,
          33,
          34,
          35,
          36,
          37,
          38,
          39,
          40,
          41,
          42,
          43,
          44,
          45,
          46,
          47,
          48,
          49,
          50,
          51,
          52,
          53,
          54,
          55,
          56,
          57,
          58,
          59,
          60,
          61,
          62,
          63,
          64,
          65,
          66,
          67,
          68,
          69,
          70,
          71,
          72,
          73,
          74,
          75,
          76,
          77,
          78,
          79,
          80,
          81,
          82,
          83,
          84,
          85,
          86,
          87,
          88,
          89,
          90,
          91,
          92,
          93,
          94,
          95,
          96,
          97,
          98,
          99
         ],
         "xaxis": "x2",
         "y": [
          -3.569782247134391,
          "",
          -0.0627582910734732,
          "",
          "",
          -0.27476501408700194,
          -2.053166957231399,
          -0.002136526315885845,
          "",
          -1.211543589266524,
          "",
          -2.3107259705466388,
          "",
          "",
          -1.102406478364598,
          -0.37935731932464667,
          -0.12410366671504758,
          -0.5683783701689923,
          "",
          -1.9626645049289602,
          -0.6779285924747321,
          -0.6995516350709085,
          "",
          "",
          "",
          "",
          -0.5640081244006404,
          "",
          -1.5842318414855137,
          "",
          "",
          "",
          "",
          "",
          -1.3487928380257863,
          "",
          "",
          "",
          -0.383371126340043,
          -2.621126836684259,
          "",
          "",
          "",
          -0.28365485489452774,
          "",
          "",
          "",
          "",
          "",
          -0.05995521434516812,
          "",
          -0.5865853564705954,
          "",
          "",
          "",
          "",
          "",
          "",
          -2.755384432512411,
          "",
          "",
          "",
          -0.9023115616131011,
          "",
          "",
          -1.2508850250149468,
          -1.6729028716771732,
          -1.2609120962231941,
          -2.363596186474456,
          -1.2287878807330612,
          "",
          -1.7678610176244103,
          "",
          "",
          "",
          "",
          -1.4808096310110848,
          -0.8752504247174026,
          -1.1451624913805571,
          "",
          "",
          -2.6908599972736873,
          -1.569532043646211,
          "",
          -2.3477462431594587,
          -2.509926684692168,
          -2.50251139092271,
          -0.7904551197626477,
          "",
          -0.6902839364948149,
          -0.9516459147698935,
          "",
          -3.5706920959254815,
          -0.3952857917888245,
          "",
          -2.1034921743164694,
          "",
          -1.436800807294992,
          "",
          ""
         ],
         "yaxis": "y2"
        }
       ],
       "layout": {
        "hovermode": "x",
        "legend": {
         "bgcolor": "#F5F6F9",
         "font": {
          "color": "#4D5663"
         }
        },
        "paper_bgcolor": "#F5F6F9",
        "plot_bgcolor": "#F5F6F9",
        "template": {
         "data": {
          "bar": [
           {
            "error_x": {
             "color": "#2a3f5f"
            },
            "error_y": {
             "color": "#2a3f5f"
            },
            "marker": {
             "line": {
              "color": "#E5ECF6",
              "width": 0.5
             }
            },
            "type": "bar"
           }
          ],
          "barpolar": [
           {
            "marker": {
             "line": {
              "color": "#E5ECF6",
              "width": 0.5
             }
            },
            "type": "barpolar"
           }
          ],
          "carpet": [
           {
            "aaxis": {
             "endlinecolor": "#2a3f5f",
             "gridcolor": "white",
             "linecolor": "white",
             "minorgridcolor": "white",
             "startlinecolor": "#2a3f5f"
            },
            "baxis": {
             "endlinecolor": "#2a3f5f",
             "gridcolor": "white",
             "linecolor": "white",
             "minorgridcolor": "white",
             "startlinecolor": "#2a3f5f"
            },
            "type": "carpet"
           }
          ],
          "choropleth": [
           {
            "colorbar": {
             "outlinewidth": 0,
             "ticks": ""
            },
            "type": "choropleth"
           }
          ],
          "contour": [
           {
            "colorbar": {
             "outlinewidth": 0,
             "ticks": ""
            },
            "colorscale": [
             [
              0,
              "#0d0887"
             ],
             [
              0.1111111111111111,
              "#46039f"
             ],
             [
              0.2222222222222222,
              "#7201a8"
             ],
             [
              0.3333333333333333,
              "#9c179e"
             ],
             [
              0.4444444444444444,
              "#bd3786"
             ],
             [
              0.5555555555555556,
              "#d8576b"
             ],
             [
              0.6666666666666666,
              "#ed7953"
             ],
             [
              0.7777777777777778,
              "#fb9f3a"
             ],
             [
              0.8888888888888888,
              "#fdca26"
             ],
             [
              1,
              "#f0f921"
             ]
            ],
            "type": "contour"
           }
          ],
          "contourcarpet": [
           {
            "colorbar": {
             "outlinewidth": 0,
             "ticks": ""
            },
            "type": "contourcarpet"
           }
          ],
          "heatmap": [
           {
            "colorbar": {
             "outlinewidth": 0,
             "ticks": ""
            },
            "colorscale": [
             [
              0,
              "#0d0887"
             ],
             [
              0.1111111111111111,
              "#46039f"
             ],
             [
              0.2222222222222222,
              "#7201a8"
             ],
             [
              0.3333333333333333,
              "#9c179e"
             ],
             [
              0.4444444444444444,
              "#bd3786"
             ],
             [
              0.5555555555555556,
              "#d8576b"
             ],
             [
              0.6666666666666666,
              "#ed7953"
             ],
             [
              0.7777777777777778,
              "#fb9f3a"
             ],
             [
              0.8888888888888888,
              "#fdca26"
             ],
             [
              1,
              "#f0f921"
             ]
            ],
            "type": "heatmap"
           }
          ],
          "heatmapgl": [
           {
            "colorbar": {
             "outlinewidth": 0,
             "ticks": ""
            },
            "colorscale": [
             [
              0,
              "#0d0887"
             ],
             [
              0.1111111111111111,
              "#46039f"
             ],
             [
              0.2222222222222222,
              "#7201a8"
             ],
             [
              0.3333333333333333,
              "#9c179e"
             ],
             [
              0.4444444444444444,
              "#bd3786"
             ],
             [
              0.5555555555555556,
              "#d8576b"
             ],
             [
              0.6666666666666666,
              "#ed7953"
             ],
             [
              0.7777777777777778,
              "#fb9f3a"
             ],
             [
              0.8888888888888888,
              "#fdca26"
             ],
             [
              1,
              "#f0f921"
             ]
            ],
            "type": "heatmapgl"
           }
          ],
          "histogram": [
           {
            "marker": {
             "colorbar": {
              "outlinewidth": 0,
              "ticks": ""
             }
            },
            "type": "histogram"
           }
          ],
          "histogram2d": [
           {
            "colorbar": {
             "outlinewidth": 0,
             "ticks": ""
            },
            "colorscale": [
             [
              0,
              "#0d0887"
             ],
             [
              0.1111111111111111,
              "#46039f"
             ],
             [
              0.2222222222222222,
              "#7201a8"
             ],
             [
              0.3333333333333333,
              "#9c179e"
             ],
             [
              0.4444444444444444,
              "#bd3786"
             ],
             [
              0.5555555555555556,
              "#d8576b"
             ],
             [
              0.6666666666666666,
              "#ed7953"
             ],
             [
              0.7777777777777778,
              "#fb9f3a"
             ],
             [
              0.8888888888888888,
              "#fdca26"
             ],
             [
              1,
              "#f0f921"
             ]
            ],
            "type": "histogram2d"
           }
          ],
          "histogram2dcontour": [
           {
            "colorbar": {
             "outlinewidth": 0,
             "ticks": ""
            },
            "colorscale": [
             [
              0,
              "#0d0887"
             ],
             [
              0.1111111111111111,
              "#46039f"
             ],
             [
              0.2222222222222222,
              "#7201a8"
             ],
             [
              0.3333333333333333,
              "#9c179e"
             ],
             [
              0.4444444444444444,
              "#bd3786"
             ],
             [
              0.5555555555555556,
              "#d8576b"
             ],
             [
              0.6666666666666666,
              "#ed7953"
             ],
             [
              0.7777777777777778,
              "#fb9f3a"
             ],
             [
              0.8888888888888888,
              "#fdca26"
             ],
             [
              1,
              "#f0f921"
             ]
            ],
            "type": "histogram2dcontour"
           }
          ],
          "mesh3d": [
           {
            "colorbar": {
             "outlinewidth": 0,
             "ticks": ""
            },
            "type": "mesh3d"
           }
          ],
          "parcoords": [
           {
            "line": {
             "colorbar": {
              "outlinewidth": 0,
              "ticks": ""
             }
            },
            "type": "parcoords"
           }
          ],
          "pie": [
           {
            "automargin": true,
            "type": "pie"
           }
          ],
          "scatter": [
           {
            "marker": {
             "colorbar": {
              "outlinewidth": 0,
              "ticks": ""
             }
            },
            "type": "scatter"
           }
          ],
          "scatter3d": [
           {
            "line": {
             "colorbar": {
              "outlinewidth": 0,
              "ticks": ""
             }
            },
            "marker": {
             "colorbar": {
              "outlinewidth": 0,
              "ticks": ""
             }
            },
            "type": "scatter3d"
           }
          ],
          "scattercarpet": [
           {
            "marker": {
             "colorbar": {
              "outlinewidth": 0,
              "ticks": ""
             }
            },
            "type": "scattercarpet"
           }
          ],
          "scattergeo": [
           {
            "marker": {
             "colorbar": {
              "outlinewidth": 0,
              "ticks": ""
             }
            },
            "type": "scattergeo"
           }
          ],
          "scattergl": [
           {
            "marker": {
             "colorbar": {
              "outlinewidth": 0,
              "ticks": ""
             }
            },
            "type": "scattergl"
           }
          ],
          "scattermapbox": [
           {
            "marker": {
             "colorbar": {
              "outlinewidth": 0,
              "ticks": ""
             }
            },
            "type": "scattermapbox"
           }
          ],
          "scatterpolar": [
           {
            "marker": {
             "colorbar": {
              "outlinewidth": 0,
              "ticks": ""
             }
            },
            "type": "scatterpolar"
           }
          ],
          "scatterpolargl": [
           {
            "marker": {
             "colorbar": {
              "outlinewidth": 0,
              "ticks": ""
             }
            },
            "type": "scatterpolargl"
           }
          ],
          "scatterternary": [
           {
            "marker": {
             "colorbar": {
              "outlinewidth": 0,
              "ticks": ""
             }
            },
            "type": "scatterternary"
           }
          ],
          "surface": [
           {
            "colorbar": {
             "outlinewidth": 0,
             "ticks": ""
            },
            "colorscale": [
             [
              0,
              "#0d0887"
             ],
             [
              0.1111111111111111,
              "#46039f"
             ],
             [
              0.2222222222222222,
              "#7201a8"
             ],
             [
              0.3333333333333333,
              "#9c179e"
             ],
             [
              0.4444444444444444,
              "#bd3786"
             ],
             [
              0.5555555555555556,
              "#d8576b"
             ],
             [
              0.6666666666666666,
              "#ed7953"
             ],
             [
              0.7777777777777778,
              "#fb9f3a"
             ],
             [
              0.8888888888888888,
              "#fdca26"
             ],
             [
              1,
              "#f0f921"
             ]
            ],
            "type": "surface"
           }
          ],
          "table": [
           {
            "cells": {
             "fill": {
              "color": "#EBF0F8"
             },
             "line": {
              "color": "white"
             }
            },
            "header": {
             "fill": {
              "color": "#C8D4E3"
             },
             "line": {
              "color": "white"
             }
            },
            "type": "table"
           }
          ]
         },
         "layout": {
          "annotationdefaults": {
           "arrowcolor": "#2a3f5f",
           "arrowhead": 0,
           "arrowwidth": 1
          },
          "coloraxis": {
           "colorbar": {
            "outlinewidth": 0,
            "ticks": ""
           }
          },
          "colorscale": {
           "diverging": [
            [
             0,
             "#8e0152"
            ],
            [
             0.1,
             "#c51b7d"
            ],
            [
             0.2,
             "#de77ae"
            ],
            [
             0.3,
             "#f1b6da"
            ],
            [
             0.4,
             "#fde0ef"
            ],
            [
             0.5,
             "#f7f7f7"
            ],
            [
             0.6,
             "#e6f5d0"
            ],
            [
             0.7,
             "#b8e186"
            ],
            [
             0.8,
             "#7fbc41"
            ],
            [
             0.9,
             "#4d9221"
            ],
            [
             1,
             "#276419"
            ]
           ],
           "sequential": [
            [
             0,
             "#0d0887"
            ],
            [
             0.1111111111111111,
             "#46039f"
            ],
            [
             0.2222222222222222,
             "#7201a8"
            ],
            [
             0.3333333333333333,
             "#9c179e"
            ],
            [
             0.4444444444444444,
             "#bd3786"
            ],
            [
             0.5555555555555556,
             "#d8576b"
            ],
            [
             0.6666666666666666,
             "#ed7953"
            ],
            [
             0.7777777777777778,
             "#fb9f3a"
            ],
            [
             0.8888888888888888,
             "#fdca26"
            ],
            [
             1,
             "#f0f921"
            ]
           ],
           "sequentialminus": [
            [
             0,
             "#0d0887"
            ],
            [
             0.1111111111111111,
             "#46039f"
            ],
            [
             0.2222222222222222,
             "#7201a8"
            ],
            [
             0.3333333333333333,
             "#9c179e"
            ],
            [
             0.4444444444444444,
             "#bd3786"
            ],
            [
             0.5555555555555556,
             "#d8576b"
            ],
            [
             0.6666666666666666,
             "#ed7953"
            ],
            [
             0.7777777777777778,
             "#fb9f3a"
            ],
            [
             0.8888888888888888,
             "#fdca26"
            ],
            [
             1,
             "#f0f921"
            ]
           ]
          },
          "colorway": [
           "#636efa",
           "#EF553B",
           "#00cc96",
           "#ab63fa",
           "#FFA15A",
           "#19d3f3",
           "#FF6692",
           "#B6E880",
           "#FF97FF",
           "#FECB52"
          ],
          "font": {
           "color": "#2a3f5f"
          },
          "geo": {
           "bgcolor": "white",
           "lakecolor": "white",
           "landcolor": "#E5ECF6",
           "showlakes": true,
           "showland": true,
           "subunitcolor": "white"
          },
          "hoverlabel": {
           "align": "left"
          },
          "hovermode": "closest",
          "mapbox": {
           "style": "light"
          },
          "paper_bgcolor": "white",
          "plot_bgcolor": "#E5ECF6",
          "polar": {
           "angularaxis": {
            "gridcolor": "white",
            "linecolor": "white",
            "ticks": ""
           },
           "bgcolor": "#E5ECF6",
           "radialaxis": {
            "gridcolor": "white",
            "linecolor": "white",
            "ticks": ""
           }
          },
          "scene": {
           "xaxis": {
            "backgroundcolor": "#E5ECF6",
            "gridcolor": "white",
            "gridwidth": 2,
            "linecolor": "white",
            "showbackground": true,
            "ticks": "",
            "zerolinecolor": "white"
           },
           "yaxis": {
            "backgroundcolor": "#E5ECF6",
            "gridcolor": "white",
            "gridwidth": 2,
            "linecolor": "white",
            "showbackground": true,
            "ticks": "",
            "zerolinecolor": "white"
           },
           "zaxis": {
            "backgroundcolor": "#E5ECF6",
            "gridcolor": "white",
            "gridwidth": 2,
            "linecolor": "white",
            "showbackground": true,
            "ticks": "",
            "zerolinecolor": "white"
           }
          },
          "shapedefaults": {
           "line": {
            "color": "#2a3f5f"
           }
          },
          "ternary": {
           "aaxis": {
            "gridcolor": "white",
            "linecolor": "white",
            "ticks": ""
           },
           "baxis": {
            "gridcolor": "white",
            "linecolor": "white",
            "ticks": ""
           },
           "bgcolor": "#E5ECF6",
           "caxis": {
            "gridcolor": "white",
            "linecolor": "white",
            "ticks": ""
           }
          },
          "title": {
           "x": 0.05
          },
          "xaxis": {
           "automargin": true,
           "gridcolor": "white",
           "linecolor": "white",
           "ticks": "",
           "title": {
            "standoff": 15
           },
           "zerolinecolor": "white",
           "zerolinewidth": 2
          },
          "yaxis": {
           "automargin": true,
           "gridcolor": "white",
           "linecolor": "white",
           "ticks": "",
           "title": {
            "standoff": 15
           },
           "zerolinecolor": "white",
           "zerolinewidth": 2
          }
         }
        },
        "title": {
         "font": {
          "color": "#4D5663"
         }
        },
        "xaxis": {
         "gridcolor": "#E1E5ED",
         "showgrid": true,
         "tickfont": {
          "color": "#4D5663"
         },
         "title": {
          "font": {
           "color": "#4D5663"
          },
          "text": ""
         },
         "zerolinecolor": "#E1E5ED"
        },
        "xaxis2": {
         "anchor": "y2",
         "gridcolor": "#E1E5ED",
         "showgrid": true,
         "showticklabels": false,
         "tickfont": {
          "color": "#4D5663"
         },
         "title": {
          "font": {
           "color": "#4D5663"
          },
          "text": ""
         },
         "zerolinecolor": "#E1E5ED"
        },
        "yaxis": {
         "domain": [
          0.3,
          1
         ],
         "gridcolor": "#E1E5ED",
         "showgrid": true,
         "tickfont": {
          "color": "#4D5663"
         },
         "title": {
          "font": {
           "color": "#4D5663"
          },
          "text": ""
         },
         "zerolinecolor": "#E1E5ED"
        },
        "yaxis2": {
         "domain": [
          0,
          0.25
         ],
         "gridcolor": "#E1E5ED",
         "showgrid": true,
         "tickfont": {
          "color": "#4D5663"
         },
         "title": {
          "font": {
           "color": "#4D5663"
          },
          "text": "Spread"
         },
         "zerolinecolor": "#E1E5ED"
        }
       }
      },
      "text/html": [
       "<div>\n",
       "        \n",
       "        \n",
       "            <div id=\"564d313f-d6bb-4db7-9fc8-5e064b2f404a\" class=\"plotly-graph-div\" style=\"height:525px; width:100%;\"></div>\n",
       "            <script type=\"text/javascript\">\n",
       "                require([\"plotly\"], function(Plotly) {\n",
       "                    window.PLOTLYENV=window.PLOTLYENV || {};\n",
       "                    window.PLOTLYENV.BASE_URL='https://plot.ly';\n",
       "                    \n",
       "                if (document.getElementById(\"564d313f-d6bb-4db7-9fc8-5e064b2f404a\")) {\n",
       "                    Plotly.newPlot(\n",
       "                        '564d313f-d6bb-4db7-9fc8-5e064b2f404a',\n",
       "                        [{\"line\": {\"color\": \"rgba(255, 153, 51, 1.0)\", \"dash\": \"solid\", \"shape\": \"linear\", \"width\": 1.3}, \"mode\": \"lines\", \"name\": \"A\", \"text\": \"\", \"type\": \"scatter\", \"x\": [0, 1, 2, 3, 4, 5, 6, 7, 8, 9, 10, 11, 12, 13, 14, 15, 16, 17, 18, 19, 20, 21, 22, 23, 24, 25, 26, 27, 28, 29, 30, 31, 32, 33, 34, 35, 36, 37, 38, 39, 40, 41, 42, 43, 44, 45, 46, 47, 48, 49, 50, 51, 52, 53, 54, 55, 56, 57, 58, 59, 60, 61, 62, 63, 64, 65, 66, 67, 68, 69, 70, 71, 72, 73, 74, 75, 76, 77, 78, 79, 80, 81, 82, 83, 84, 85, 86, 87, 88, 89, 90, 91, 92, 93, 94, 95, 96, 97, 98, 99], \"y\": [-2.2555933768724947, -0.03382340070021499, -0.3200478984174772, 0.05045835842384177, 0.2233965386018236, 0.2536608574004414, -0.6692398991913475, -0.4786089224325477, 0.6512291566816155, -0.9992360969851862, -0.22169793134556703, -1.1712641861345396, 0.3252298075551189, 0.8914928115672888, -0.0369001928301434, -0.12612875726858397, -0.6321662033550624, -0.7177849850115586, -0.7380476067025662, -0.6496181734346335, -0.7764825074228829, 0.9825053624790435, 0.2583656046298789, -0.037818224865744765, 0.1633648933126579, 0.09045583256205675, 0.6019746573813641, 0.8630717855557517, -0.6891220161380268, 0.008139132913083826, 1.4462942945255972, 1.0974328278372718, 1.7026391999584558, 0.13232510434415812, -1.4930236346176566, 0.5717283572309633, 1.6027573821880863, -0.26316261913033745, 0.1428706155553884, -1.9689781776908595, 0.7573252641608401, 1.2815546026772953, 0.4347619600899514, -0.5353942165407267, 0.9427327554963698, 1.1790481704431377, -0.4103179505335398, 1.467563169562042, 1.38742208689959, -0.1878420460340362, 0.9561618545448747, -0.6783596081109666, -0.7343973073358498, 0.3220750471063588, 0.27574581367708095, 1.4552279064325093, -0.291105920009326, 0.645407625337804, -1.0554341317842224, 0.33279221486126165, 0.7025265688025414, -0.6610919221931417, -0.1667434397585901, 0.6232829145291728, -0.2529836861465784, -1.3053816199792052, -0.9162982736073634, -1.3142225958928595, -1.6120659876274441, -0.053151427170382286, 1.872649441601502, -1.2683624163519756, 0.30392219244159846, 0.8663928886363615, -0.847758950848025, 1.2074149868658006, -0.8219780807135773, -0.3972774418375647, -0.3138094858687506, -0.7321270120897498, 0.19089113734580437, -1.467169892336397, -0.2704977443472076, 1.391089216049597, -1.4580084882448272, -1.6768288954001633, -1.2244219128686558, -0.5830634268948321, 2.596545053416106, 0.5547182458617995, -0.009938487125128776, 0.16661419271903802, -2.0051511664441923, -0.44142932606142177, 1.4768445874934977, -2.2891089768253154, 0.9969522087565932, -0.48862992958038, -0.8483077863746056, -0.3957040767842185]}, {\"line\": {\"color\": \"rgba(55, 128, 191, 1.0)\", \"dash\": \"solid\", \"shape\": \"linear\", \"width\": 1.3}, \"mode\": \"lines\", \"name\": \"B\", \"text\": \"\", \"type\": \"scatter\", \"x\": [0, 1, 2, 3, 4, 5, 6, 7, 8, 9, 10, 11, 12, 13, 14, 15, 16, 17, 18, 19, 20, 21, 22, 23, 24, 25, 26, 27, 28, 29, 30, 31, 32, 33, 34, 35, 36, 37, 38, 39, 40, 41, 42, 43, 44, 45, 46, 47, 48, 49, 50, 51, 52, 53, 54, 55, 56, 57, 58, 59, 60, 61, 62, 63, 64, 65, 66, 67, 68, 69, 70, 71, 72, 73, 74, 75, 76, 77, 78, 79, 80, 81, 82, 83, 84, 85, 86, 87, 88, 89, 90, 91, 92, 93, 94, 95, 96, 97, 98, 99], \"y\": [1.3141888702618962, -1.1115662109910567, -0.257289607344004, -1.4036350331162621, -0.9562431416001994, 0.5284258714874434, 1.3839270580400518, -0.47647239611666187, -0.48621055726856166, 0.21230749228133775, -0.4377454130191507, 1.139461784412099, -0.479066908076587, -0.5112289603822745, 1.0655062855344546, 0.2532285620560627, -0.5080625366400148, -0.14940661484256632, -1.0552401005092436, 1.3130463314943268, -0.09855391494815084, 1.682056997549952, 0.025030245632123346, -1.0314746214259058, -0.24440905168767216, -0.9640162206376627, 1.1659827817820045, -0.5949615891396036, 0.895109825347487, -1.1787502459426134, 0.3606252712904561, -2.8874455317853673, 0.05554922902958001, -0.6327253205975053, -0.14423079659187038, -0.4659585833517143, -0.42134027774967997, -0.9945211011510153, 0.5262417418954314, 0.6521486589933997, -0.3002767827572908, 1.0961571575291982, 0.02388240668584011, -0.251739361646199, -0.09132557319225461, -0.16222783106006364, -0.5800636263739349, 0.6539517205968917, 0.2676653096775852, -0.12788683168886808, 0.9301801207771702, -0.09177425164037127, -1.186280702243975, -1.5581869431240989, -0.42664764573524705, -0.2770735434883226, -0.8136201732195788, -1.1114664557447358, 1.6999503007281884, -0.7126876105880869, -0.0930941715055807, -2.3656191409182625, 0.735568121854511, 0.541493368025285, -0.6301134451738287, -0.05449659496425838, 0.7566045980698098, -0.05331049966966534, 0.7515301988470119, 1.1756364535626789, 0.6255519982890726, 0.4994986012724347, -0.33739521345218193, 0.7932359839780525, -0.8486742318118738, -0.6162281748236087, 0.6588315502975075, 0.47797298287983786, 0.8313530055118066, -1.6412026289064061, -0.5091519178754833, 1.2236901049372901, 1.2990342992990034, -0.4823964312713267, 0.8897377549146316, 0.8330977892920045, 1.2780894780540542, 0.2073916928678156, 2.1898409925479587, 1.2450021823566144, 0.9417074276447647, -0.11353886292187075, 1.5655409294812892, -0.04614353427259727, -0.34656495757651096, -0.18561680250884616, -2.262169847144289, 0.948170877714612, -1.1482499665528605, -0.8927910449284819]}, {\"connectgaps\": false, \"fill\": \"tozeroy\", \"line\": {\"color\": \"green\", \"dash\": \"solid\", \"shape\": \"linear\", \"width\": 0.5}, \"mode\": \"lines\", \"name\": \"Spread\", \"showlegend\": false, \"type\": \"scatter\", \"x\": [0, 1, 2, 3, 4, 5, 6, 7, 8, 9, 10, 11, 12, 13, 14, 15, 16, 17, 18, 19, 20, 21, 22, 23, 24, 25, 26, 27, 28, 29, 30, 31, 32, 33, 34, 35, 36, 37, 38, 39, 40, 41, 42, 43, 44, 45, 46, 47, 48, 49, 50, 51, 52, 53, 54, 55, 56, 57, 58, 59, 60, 61, 62, 63, 64, 65, 66, 67, 68, 69, 70, 71, 72, 73, 74, 75, 76, 77, 78, 79, 80, 81, 82, 83, 84, 85, 86, 87, 88, 89, 90, 91, 92, 93, 94, 95, 96, 97, 98, 99], \"xaxis\": \"x2\", \"y\": [\"\", 1.0777428102908417, \"\", 1.454093391540104, 1.179639680202023, \"\", \"\", \"\", 1.1374397139501773, \"\", 0.21604748167358367, \"\", 0.8042967156317058, 1.4027217719495633, \"\", \"\", \"\", \"\", 0.31719249380667736, \"\", \"\", \"\", 0.23333535899775554, 0.993656396560161, 0.40777394500033004, 1.0544720531997194, \"\", 1.4580333746953553, \"\", 1.1868893788556971, 1.0856690232351411, 3.9848783596226394, 1.6470899709288758, 0.7650504249416634, \"\", 1.0376869405826776, 2.024097659937766, 0.7313584820206779, \"\", \"\", 1.0576020469181309, 0.18539744514809708, 0.41087955340411125, \"\", 1.0340583286886245, 1.3412760015032013, 0.16974567584039513, 0.8136114489651503, 1.1197567772220047, \"\", 0.025981733767704518, \"\", 0.4518833949081251, 1.8802619902304576, 0.702393459412328, 1.7323014499208318, 0.5225142532102528, 1.7568740810825398, \"\", 1.0454798254493487, 0.7956207403081221, 1.7045272187251208, \"\", 0.08178954650388781, 0.3771297590272503, \"\", \"\", \"\", \"\", \"\", 1.2470974433124296, \"\", 0.6413174058937804, 0.07315690465830904, 0.0009152809638488524, 1.8236431616894093, \"\", \"\", \"\", 0.9090756168166563, 0.7000430552212877, \"\", \"\", 1.8734856473209236, \"\", \"\", \"\", \"\", 0.40670406086814737, \"\", \"\", 0.28015305564090875, \"\", \"\", 1.8234095450700085, \"\", 3.259122055900882, \"\", 0.2999421801782549, 0.49708696814426345], \"yaxis\": \"y2\"}, {\"connectgaps\": false, \"fill\": \"tozeroy\", \"line\": {\"color\": \"red\", \"dash\": \"solid\", \"shape\": \"linear\", \"width\": 0.5}, \"mode\": \"lines\", \"name\": \"Spread\", \"showlegend\": false, \"type\": \"scatter\", \"x\": [0, 1, 2, 3, 4, 5, 6, 7, 8, 9, 10, 11, 12, 13, 14, 15, 16, 17, 18, 19, 20, 21, 22, 23, 24, 25, 26, 27, 28, 29, 30, 31, 32, 33, 34, 35, 36, 37, 38, 39, 40, 41, 42, 43, 44, 45, 46, 47, 48, 49, 50, 51, 52, 53, 54, 55, 56, 57, 58, 59, 60, 61, 62, 63, 64, 65, 66, 67, 68, 69, 70, 71, 72, 73, 74, 75, 76, 77, 78, 79, 80, 81, 82, 83, 84, 85, 86, 87, 88, 89, 90, 91, 92, 93, 94, 95, 96, 97, 98, 99], \"xaxis\": \"x2\", \"y\": [-3.569782247134391, \"\", -0.0627582910734732, \"\", \"\", -0.27476501408700194, -2.053166957231399, -0.002136526315885845, \"\", -1.211543589266524, \"\", -2.3107259705466388, \"\", \"\", -1.102406478364598, -0.37935731932464667, -0.12410366671504758, -0.5683783701689923, \"\", -1.9626645049289602, -0.6779285924747321, -0.6995516350709085, \"\", \"\", \"\", \"\", -0.5640081244006404, \"\", -1.5842318414855137, \"\", \"\", \"\", \"\", \"\", -1.3487928380257863, \"\", \"\", \"\", -0.383371126340043, -2.621126836684259, \"\", \"\", \"\", -0.28365485489452774, \"\", \"\", \"\", \"\", \"\", -0.05995521434516812, \"\", -0.5865853564705954, \"\", \"\", \"\", \"\", \"\", \"\", -2.755384432512411, \"\", \"\", \"\", -0.9023115616131011, \"\", \"\", -1.2508850250149468, -1.6729028716771732, -1.2609120962231941, -2.363596186474456, -1.2287878807330612, \"\", -1.7678610176244103, \"\", \"\", \"\", \"\", -1.4808096310110848, -0.8752504247174026, -1.1451624913805571, \"\", \"\", -2.6908599972736873, -1.569532043646211, \"\", -2.3477462431594587, -2.509926684692168, -2.50251139092271, -0.7904551197626477, \"\", -0.6902839364948149, -0.9516459147698935, \"\", -3.5706920959254815, -0.3952857917888245, \"\", -2.1034921743164694, \"\", -1.436800807294992, \"\", \"\"], \"yaxis\": \"y2\"}],\n",
       "                        {\"hovermode\": \"x\", \"legend\": {\"bgcolor\": \"#F5F6F9\", \"font\": {\"color\": \"#4D5663\"}}, \"paper_bgcolor\": \"#F5F6F9\", \"plot_bgcolor\": \"#F5F6F9\", \"template\": {\"data\": {\"bar\": [{\"error_x\": {\"color\": \"#2a3f5f\"}, \"error_y\": {\"color\": \"#2a3f5f\"}, \"marker\": {\"line\": {\"color\": \"#E5ECF6\", \"width\": 0.5}}, \"type\": \"bar\"}], \"barpolar\": [{\"marker\": {\"line\": {\"color\": \"#E5ECF6\", \"width\": 0.5}}, \"type\": \"barpolar\"}], \"carpet\": [{\"aaxis\": {\"endlinecolor\": \"#2a3f5f\", \"gridcolor\": \"white\", \"linecolor\": \"white\", \"minorgridcolor\": \"white\", \"startlinecolor\": \"#2a3f5f\"}, \"baxis\": {\"endlinecolor\": \"#2a3f5f\", \"gridcolor\": \"white\", \"linecolor\": \"white\", \"minorgridcolor\": \"white\", \"startlinecolor\": \"#2a3f5f\"}, \"type\": \"carpet\"}], \"choropleth\": [{\"colorbar\": {\"outlinewidth\": 0, \"ticks\": \"\"}, \"type\": \"choropleth\"}], \"contour\": [{\"colorbar\": {\"outlinewidth\": 0, \"ticks\": \"\"}, \"colorscale\": [[0.0, \"#0d0887\"], [0.1111111111111111, \"#46039f\"], [0.2222222222222222, \"#7201a8\"], [0.3333333333333333, \"#9c179e\"], [0.4444444444444444, \"#bd3786\"], [0.5555555555555556, \"#d8576b\"], [0.6666666666666666, \"#ed7953\"], [0.7777777777777778, \"#fb9f3a\"], [0.8888888888888888, \"#fdca26\"], [1.0, \"#f0f921\"]], \"type\": \"contour\"}], \"contourcarpet\": [{\"colorbar\": {\"outlinewidth\": 0, \"ticks\": \"\"}, \"type\": \"contourcarpet\"}], \"heatmap\": [{\"colorbar\": {\"outlinewidth\": 0, \"ticks\": \"\"}, \"colorscale\": [[0.0, \"#0d0887\"], [0.1111111111111111, \"#46039f\"], [0.2222222222222222, \"#7201a8\"], [0.3333333333333333, \"#9c179e\"], [0.4444444444444444, \"#bd3786\"], [0.5555555555555556, \"#d8576b\"], [0.6666666666666666, \"#ed7953\"], [0.7777777777777778, \"#fb9f3a\"], [0.8888888888888888, \"#fdca26\"], [1.0, \"#f0f921\"]], \"type\": \"heatmap\"}], \"heatmapgl\": [{\"colorbar\": {\"outlinewidth\": 0, \"ticks\": \"\"}, \"colorscale\": [[0.0, \"#0d0887\"], [0.1111111111111111, \"#46039f\"], [0.2222222222222222, \"#7201a8\"], [0.3333333333333333, \"#9c179e\"], [0.4444444444444444, \"#bd3786\"], [0.5555555555555556, \"#d8576b\"], [0.6666666666666666, \"#ed7953\"], [0.7777777777777778, \"#fb9f3a\"], [0.8888888888888888, \"#fdca26\"], [1.0, \"#f0f921\"]], \"type\": \"heatmapgl\"}], \"histogram\": [{\"marker\": {\"colorbar\": {\"outlinewidth\": 0, \"ticks\": \"\"}}, \"type\": \"histogram\"}], \"histogram2d\": [{\"colorbar\": {\"outlinewidth\": 0, \"ticks\": \"\"}, \"colorscale\": [[0.0, \"#0d0887\"], [0.1111111111111111, \"#46039f\"], [0.2222222222222222, \"#7201a8\"], [0.3333333333333333, \"#9c179e\"], [0.4444444444444444, \"#bd3786\"], [0.5555555555555556, \"#d8576b\"], [0.6666666666666666, \"#ed7953\"], [0.7777777777777778, \"#fb9f3a\"], [0.8888888888888888, \"#fdca26\"], [1.0, \"#f0f921\"]], \"type\": \"histogram2d\"}], \"histogram2dcontour\": [{\"colorbar\": {\"outlinewidth\": 0, \"ticks\": \"\"}, \"colorscale\": [[0.0, \"#0d0887\"], [0.1111111111111111, \"#46039f\"], [0.2222222222222222, \"#7201a8\"], [0.3333333333333333, \"#9c179e\"], [0.4444444444444444, \"#bd3786\"], [0.5555555555555556, \"#d8576b\"], [0.6666666666666666, \"#ed7953\"], [0.7777777777777778, \"#fb9f3a\"], [0.8888888888888888, \"#fdca26\"], [1.0, \"#f0f921\"]], \"type\": \"histogram2dcontour\"}], \"mesh3d\": [{\"colorbar\": {\"outlinewidth\": 0, \"ticks\": \"\"}, \"type\": \"mesh3d\"}], \"parcoords\": [{\"line\": {\"colorbar\": {\"outlinewidth\": 0, \"ticks\": \"\"}}, \"type\": \"parcoords\"}], \"pie\": [{\"automargin\": true, \"type\": \"pie\"}], \"scatter\": [{\"marker\": {\"colorbar\": {\"outlinewidth\": 0, \"ticks\": \"\"}}, \"type\": \"scatter\"}], \"scatter3d\": [{\"line\": {\"colorbar\": {\"outlinewidth\": 0, \"ticks\": \"\"}}, \"marker\": {\"colorbar\": {\"outlinewidth\": 0, \"ticks\": \"\"}}, \"type\": \"scatter3d\"}], \"scattercarpet\": [{\"marker\": {\"colorbar\": {\"outlinewidth\": 0, \"ticks\": \"\"}}, \"type\": \"scattercarpet\"}], \"scattergeo\": [{\"marker\": {\"colorbar\": {\"outlinewidth\": 0, \"ticks\": \"\"}}, \"type\": \"scattergeo\"}], \"scattergl\": [{\"marker\": {\"colorbar\": {\"outlinewidth\": 0, \"ticks\": \"\"}}, \"type\": \"scattergl\"}], \"scattermapbox\": [{\"marker\": {\"colorbar\": {\"outlinewidth\": 0, \"ticks\": \"\"}}, \"type\": \"scattermapbox\"}], \"scatterpolar\": [{\"marker\": {\"colorbar\": {\"outlinewidth\": 0, \"ticks\": \"\"}}, \"type\": \"scatterpolar\"}], \"scatterpolargl\": [{\"marker\": {\"colorbar\": {\"outlinewidth\": 0, \"ticks\": \"\"}}, \"type\": \"scatterpolargl\"}], \"scatterternary\": [{\"marker\": {\"colorbar\": {\"outlinewidth\": 0, \"ticks\": \"\"}}, \"type\": \"scatterternary\"}], \"surface\": [{\"colorbar\": {\"outlinewidth\": 0, \"ticks\": \"\"}, \"colorscale\": [[0.0, \"#0d0887\"], [0.1111111111111111, \"#46039f\"], [0.2222222222222222, \"#7201a8\"], [0.3333333333333333, \"#9c179e\"], [0.4444444444444444, \"#bd3786\"], [0.5555555555555556, \"#d8576b\"], [0.6666666666666666, \"#ed7953\"], [0.7777777777777778, \"#fb9f3a\"], [0.8888888888888888, \"#fdca26\"], [1.0, \"#f0f921\"]], \"type\": \"surface\"}], \"table\": [{\"cells\": {\"fill\": {\"color\": \"#EBF0F8\"}, \"line\": {\"color\": \"white\"}}, \"header\": {\"fill\": {\"color\": \"#C8D4E3\"}, \"line\": {\"color\": \"white\"}}, \"type\": \"table\"}]}, \"layout\": {\"annotationdefaults\": {\"arrowcolor\": \"#2a3f5f\", \"arrowhead\": 0, \"arrowwidth\": 1}, \"coloraxis\": {\"colorbar\": {\"outlinewidth\": 0, \"ticks\": \"\"}}, \"colorscale\": {\"diverging\": [[0, \"#8e0152\"], [0.1, \"#c51b7d\"], [0.2, \"#de77ae\"], [0.3, \"#f1b6da\"], [0.4, \"#fde0ef\"], [0.5, \"#f7f7f7\"], [0.6, \"#e6f5d0\"], [0.7, \"#b8e186\"], [0.8, \"#7fbc41\"], [0.9, \"#4d9221\"], [1, \"#276419\"]], \"sequential\": [[0.0, \"#0d0887\"], [0.1111111111111111, \"#46039f\"], [0.2222222222222222, \"#7201a8\"], [0.3333333333333333, \"#9c179e\"], [0.4444444444444444, \"#bd3786\"], [0.5555555555555556, \"#d8576b\"], [0.6666666666666666, \"#ed7953\"], [0.7777777777777778, \"#fb9f3a\"], [0.8888888888888888, \"#fdca26\"], [1.0, \"#f0f921\"]], \"sequentialminus\": [[0.0, \"#0d0887\"], [0.1111111111111111, \"#46039f\"], [0.2222222222222222, \"#7201a8\"], [0.3333333333333333, \"#9c179e\"], [0.4444444444444444, \"#bd3786\"], [0.5555555555555556, \"#d8576b\"], [0.6666666666666666, \"#ed7953\"], [0.7777777777777778, \"#fb9f3a\"], [0.8888888888888888, \"#fdca26\"], [1.0, \"#f0f921\"]]}, \"colorway\": [\"#636efa\", \"#EF553B\", \"#00cc96\", \"#ab63fa\", \"#FFA15A\", \"#19d3f3\", \"#FF6692\", \"#B6E880\", \"#FF97FF\", \"#FECB52\"], \"font\": {\"color\": \"#2a3f5f\"}, \"geo\": {\"bgcolor\": \"white\", \"lakecolor\": \"white\", \"landcolor\": \"#E5ECF6\", \"showlakes\": true, \"showland\": true, \"subunitcolor\": \"white\"}, \"hoverlabel\": {\"align\": \"left\"}, \"hovermode\": \"closest\", \"mapbox\": {\"style\": \"light\"}, \"paper_bgcolor\": \"white\", \"plot_bgcolor\": \"#E5ECF6\", \"polar\": {\"angularaxis\": {\"gridcolor\": \"white\", \"linecolor\": \"white\", \"ticks\": \"\"}, \"bgcolor\": \"#E5ECF6\", \"radialaxis\": {\"gridcolor\": \"white\", \"linecolor\": \"white\", \"ticks\": \"\"}}, \"scene\": {\"xaxis\": {\"backgroundcolor\": \"#E5ECF6\", \"gridcolor\": \"white\", \"gridwidth\": 2, \"linecolor\": \"white\", \"showbackground\": true, \"ticks\": \"\", \"zerolinecolor\": \"white\"}, \"yaxis\": {\"backgroundcolor\": \"#E5ECF6\", \"gridcolor\": \"white\", \"gridwidth\": 2, \"linecolor\": \"white\", \"showbackground\": true, \"ticks\": \"\", \"zerolinecolor\": \"white\"}, \"zaxis\": {\"backgroundcolor\": \"#E5ECF6\", \"gridcolor\": \"white\", \"gridwidth\": 2, \"linecolor\": \"white\", \"showbackground\": true, \"ticks\": \"\", \"zerolinecolor\": \"white\"}}, \"shapedefaults\": {\"line\": {\"color\": \"#2a3f5f\"}}, \"ternary\": {\"aaxis\": {\"gridcolor\": \"white\", \"linecolor\": \"white\", \"ticks\": \"\"}, \"baxis\": {\"gridcolor\": \"white\", \"linecolor\": \"white\", \"ticks\": \"\"}, \"bgcolor\": \"#E5ECF6\", \"caxis\": {\"gridcolor\": \"white\", \"linecolor\": \"white\", \"ticks\": \"\"}}, \"title\": {\"x\": 0.05}, \"xaxis\": {\"automargin\": true, \"gridcolor\": \"white\", \"linecolor\": \"white\", \"ticks\": \"\", \"title\": {\"standoff\": 15}, \"zerolinecolor\": \"white\", \"zerolinewidth\": 2}, \"yaxis\": {\"automargin\": true, \"gridcolor\": \"white\", \"linecolor\": \"white\", \"ticks\": \"\", \"title\": {\"standoff\": 15}, \"zerolinecolor\": \"white\", \"zerolinewidth\": 2}}}, \"title\": {\"font\": {\"color\": \"#4D5663\"}}, \"xaxis\": {\"gridcolor\": \"#E1E5ED\", \"showgrid\": true, \"tickfont\": {\"color\": \"#4D5663\"}, \"title\": {\"font\": {\"color\": \"#4D5663\"}, \"text\": \"\"}, \"zerolinecolor\": \"#E1E5ED\"}, \"xaxis2\": {\"anchor\": \"y2\", \"gridcolor\": \"#E1E5ED\", \"showgrid\": true, \"showticklabels\": false, \"tickfont\": {\"color\": \"#4D5663\"}, \"title\": {\"font\": {\"color\": \"#4D5663\"}, \"text\": \"\"}, \"zerolinecolor\": \"#E1E5ED\"}, \"yaxis\": {\"domain\": [0.3, 1], \"gridcolor\": \"#E1E5ED\", \"showgrid\": true, \"tickfont\": {\"color\": \"#4D5663\"}, \"title\": {\"font\": {\"color\": \"#4D5663\"}, \"text\": \"\"}, \"zerolinecolor\": \"#E1E5ED\"}, \"yaxis2\": {\"domain\": [0, 0.25], \"gridcolor\": \"#E1E5ED\", \"showgrid\": true, \"tickfont\": {\"color\": \"#4D5663\"}, \"title\": {\"font\": {\"color\": \"#4D5663\"}, \"text\": \"Spread\"}, \"zerolinecolor\": \"#E1E5ED\"}},\n",
       "                        {\"showLink\": true, \"linkText\": \"Export to plot.ly\", \"plotlyServerURL\": \"https://plot.ly\", \"responsive\": true}\n",
       "                    ).then(function(){\n",
       "                            \n",
       "var gd = document.getElementById('564d313f-d6bb-4db7-9fc8-5e064b2f404a');\n",
       "var x = new MutationObserver(function (mutations, observer) {{\n",
       "        var display = window.getComputedStyle(gd).display;\n",
       "        if (!display || display === 'none') {{\n",
       "            console.log([gd, 'removed!']);\n",
       "            Plotly.purge(gd);\n",
       "            observer.disconnect();\n",
       "        }}\n",
       "}});\n",
       "\n",
       "// Listen for the removal of the full notebook cells\n",
       "var notebookContainer = gd.closest('#notebook-container');\n",
       "if (notebookContainer) {{\n",
       "    x.observe(notebookContainer, {childList: true});\n",
       "}}\n",
       "\n",
       "// Listen for the clearing of the current output cell\n",
       "var outputEl = gd.closest('.output');\n",
       "if (outputEl) {{\n",
       "    x.observe(outputEl, {childList: true});\n",
       "}}\n",
       "\n",
       "                        })\n",
       "                };\n",
       "                });\n",
       "            </script>\n",
       "        </div>"
      ]
     },
     "metadata": {},
     "output_type": "display_data"
    }
   ],
   "source": [
    "df[['A','B']].iplot(kind='spread')"
   ]
  },
  {
   "cell_type": "code",
   "execution_count": 50,
   "metadata": {},
   "outputs": [
    {
     "data": {
      "application/vnd.plotly.v1+json": {
       "config": {
        "linkText": "Export to plot.ly",
        "plotlyServerURL": "https://plot.ly",
        "showLink": true
       },
       "data": [
        {
         "marker": {
          "color": [
           "rgb(255, 153, 51)",
           "rgb(55, 128, 191)",
           "rgb(50, 171, 96)",
           "rgb(128, 0, 128)",
           "rgb(219, 64, 82)",
           "rgb(0, 128, 128)",
           "rgb(255, 255, 51)",
           "rgb(128, 128, 0)",
           "rgb(251, 128, 114)",
           "rgb(128, 177, 211)"
          ],
          "line": {
           "width": 1.3
          },
          "size": [
           57,
           47,
           80,
           35,
           46,
           68,
           35,
           73,
           49,
           67,
           59,
           79,
           76,
           53,
           20,
           74,
           45,
           66,
           82,
           77,
           58,
           64,
           78,
           81,
           47,
           69,
           86,
           95,
           45,
           73,
           64,
           12,
           40,
           49,
           37,
           69,
           70,
           62,
           58,
           76,
           34,
           74,
           52,
           67,
           85,
           62,
           47,
           72,
           47,
           76,
           67,
           69,
           78,
           64,
           58,
           80,
           76,
           71,
           76,
           73,
           31,
           51,
           66,
           20,
           60,
           27,
           46,
           91,
           112,
           77,
           58,
           65,
           43,
           45,
           52,
           63,
           69,
           72,
           53,
           88,
           42,
           98,
           38,
           95,
           75,
           91,
           82,
           71,
           84,
           51,
           45,
           72,
           47,
           100,
           54,
           89,
           41,
           83,
           95,
           68
          ],
          "symbol": "circle"
         },
         "mode": "markers",
         "text": "",
         "type": "scatter",
         "x": [
          -2.2555933768724947,
          -0.03382340070021499,
          -0.3200478984174772,
          0.05045835842384177,
          0.2233965386018236,
          0.2536608574004414,
          -0.6692398991913475,
          -0.4786089224325477,
          0.6512291566816155,
          -0.9992360969851862,
          -0.22169793134556703,
          -1.1712641861345396,
          0.3252298075551189,
          0.8914928115672888,
          -0.0369001928301434,
          -0.12612875726858397,
          -0.6321662033550624,
          -0.7177849850115586,
          -0.7380476067025662,
          -0.6496181734346335,
          -0.7764825074228829,
          0.9825053624790435,
          0.2583656046298789,
          -0.037818224865744765,
          0.1633648933126579,
          0.09045583256205675,
          0.6019746573813641,
          0.8630717855557517,
          -0.6891220161380268,
          0.008139132913083826,
          1.4462942945255972,
          1.0974328278372718,
          1.7026391999584558,
          0.13232510434415812,
          -1.4930236346176566,
          0.5717283572309633,
          1.6027573821880863,
          -0.26316261913033745,
          0.1428706155553884,
          -1.9689781776908595,
          0.7573252641608401,
          1.2815546026772953,
          0.4347619600899514,
          -0.5353942165407267,
          0.9427327554963698,
          1.1790481704431377,
          -0.4103179505335398,
          1.467563169562042,
          1.38742208689959,
          -0.1878420460340362,
          0.9561618545448747,
          -0.6783596081109666,
          -0.7343973073358498,
          0.3220750471063588,
          0.27574581367708095,
          1.4552279064325093,
          -0.291105920009326,
          0.645407625337804,
          -1.0554341317842224,
          0.33279221486126165,
          0.7025265688025414,
          -0.6610919221931417,
          -0.1667434397585901,
          0.6232829145291728,
          -0.2529836861465784,
          -1.3053816199792052,
          -0.9162982736073634,
          -1.3142225958928595,
          -1.6120659876274441,
          -0.053151427170382286,
          1.872649441601502,
          -1.2683624163519756,
          0.30392219244159846,
          0.8663928886363615,
          -0.847758950848025,
          1.2074149868658006,
          -0.8219780807135773,
          -0.3972774418375647,
          -0.3138094858687506,
          -0.7321270120897498,
          0.19089113734580437,
          -1.467169892336397,
          -0.2704977443472076,
          1.391089216049597,
          -1.4580084882448272,
          -1.6768288954001633,
          -1.2244219128686558,
          -0.5830634268948321,
          2.596545053416106,
          0.5547182458617995,
          -0.009938487125128776,
          0.16661419271903802,
          -2.0051511664441923,
          -0.44142932606142177,
          1.4768445874934977,
          -2.2891089768253154,
          0.9969522087565932,
          -0.48862992958038,
          -0.8483077863746056,
          -0.3957040767842185
         ],
         "y": [
          1.3141888702618962,
          -1.1115662109910567,
          -0.257289607344004,
          -1.4036350331162621,
          -0.9562431416001994,
          0.5284258714874434,
          1.3839270580400518,
          -0.47647239611666187,
          -0.48621055726856166,
          0.21230749228133775,
          -0.4377454130191507,
          1.139461784412099,
          -0.479066908076587,
          -0.5112289603822745,
          1.0655062855344546,
          0.2532285620560627,
          -0.5080625366400148,
          -0.14940661484256632,
          -1.0552401005092436,
          1.3130463314943268,
          -0.09855391494815084,
          1.682056997549952,
          0.025030245632123346,
          -1.0314746214259058,
          -0.24440905168767216,
          -0.9640162206376627,
          1.1659827817820045,
          -0.5949615891396036,
          0.895109825347487,
          -1.1787502459426134,
          0.3606252712904561,
          -2.8874455317853673,
          0.05554922902958001,
          -0.6327253205975053,
          -0.14423079659187038,
          -0.4659585833517143,
          -0.42134027774967997,
          -0.9945211011510153,
          0.5262417418954314,
          0.6521486589933997,
          -0.3002767827572908,
          1.0961571575291982,
          0.02388240668584011,
          -0.251739361646199,
          -0.09132557319225461,
          -0.16222783106006364,
          -0.5800636263739349,
          0.6539517205968917,
          0.2676653096775852,
          -0.12788683168886808,
          0.9301801207771702,
          -0.09177425164037127,
          -1.186280702243975,
          -1.5581869431240989,
          -0.42664764573524705,
          -0.2770735434883226,
          -0.8136201732195788,
          -1.1114664557447358,
          1.6999503007281884,
          -0.7126876105880869,
          -0.0930941715055807,
          -2.3656191409182625,
          0.735568121854511,
          0.541493368025285,
          -0.6301134451738287,
          -0.05449659496425838,
          0.7566045980698098,
          -0.05331049966966534,
          0.7515301988470119,
          1.1756364535626789,
          0.6255519982890726,
          0.4994986012724347,
          -0.33739521345218193,
          0.7932359839780525,
          -0.8486742318118738,
          -0.6162281748236087,
          0.6588315502975075,
          0.47797298287983786,
          0.8313530055118066,
          -1.6412026289064061,
          -0.5091519178754833,
          1.2236901049372901,
          1.2990342992990034,
          -0.4823964312713267,
          0.8897377549146316,
          0.8330977892920045,
          1.2780894780540542,
          0.2073916928678156,
          2.1898409925479587,
          1.2450021823566144,
          0.9417074276447647,
          -0.11353886292187075,
          1.5655409294812892,
          -0.04614353427259727,
          -0.34656495757651096,
          -0.18561680250884616,
          -2.262169847144289,
          0.948170877714612,
          -1.1482499665528605,
          -0.8927910449284819
         ]
        }
       ],
       "layout": {
        "legend": {
         "bgcolor": "#F5F6F9",
         "font": {
          "color": "#4D5663"
         }
        },
        "paper_bgcolor": "#F5F6F9",
        "plot_bgcolor": "#F5F6F9",
        "template": {
         "data": {
          "bar": [
           {
            "error_x": {
             "color": "#2a3f5f"
            },
            "error_y": {
             "color": "#2a3f5f"
            },
            "marker": {
             "line": {
              "color": "#E5ECF6",
              "width": 0.5
             }
            },
            "type": "bar"
           }
          ],
          "barpolar": [
           {
            "marker": {
             "line": {
              "color": "#E5ECF6",
              "width": 0.5
             }
            },
            "type": "barpolar"
           }
          ],
          "carpet": [
           {
            "aaxis": {
             "endlinecolor": "#2a3f5f",
             "gridcolor": "white",
             "linecolor": "white",
             "minorgridcolor": "white",
             "startlinecolor": "#2a3f5f"
            },
            "baxis": {
             "endlinecolor": "#2a3f5f",
             "gridcolor": "white",
             "linecolor": "white",
             "minorgridcolor": "white",
             "startlinecolor": "#2a3f5f"
            },
            "type": "carpet"
           }
          ],
          "choropleth": [
           {
            "colorbar": {
             "outlinewidth": 0,
             "ticks": ""
            },
            "type": "choropleth"
           }
          ],
          "contour": [
           {
            "colorbar": {
             "outlinewidth": 0,
             "ticks": ""
            },
            "colorscale": [
             [
              0,
              "#0d0887"
             ],
             [
              0.1111111111111111,
              "#46039f"
             ],
             [
              0.2222222222222222,
              "#7201a8"
             ],
             [
              0.3333333333333333,
              "#9c179e"
             ],
             [
              0.4444444444444444,
              "#bd3786"
             ],
             [
              0.5555555555555556,
              "#d8576b"
             ],
             [
              0.6666666666666666,
              "#ed7953"
             ],
             [
              0.7777777777777778,
              "#fb9f3a"
             ],
             [
              0.8888888888888888,
              "#fdca26"
             ],
             [
              1,
              "#f0f921"
             ]
            ],
            "type": "contour"
           }
          ],
          "contourcarpet": [
           {
            "colorbar": {
             "outlinewidth": 0,
             "ticks": ""
            },
            "type": "contourcarpet"
           }
          ],
          "heatmap": [
           {
            "colorbar": {
             "outlinewidth": 0,
             "ticks": ""
            },
            "colorscale": [
             [
              0,
              "#0d0887"
             ],
             [
              0.1111111111111111,
              "#46039f"
             ],
             [
              0.2222222222222222,
              "#7201a8"
             ],
             [
              0.3333333333333333,
              "#9c179e"
             ],
             [
              0.4444444444444444,
              "#bd3786"
             ],
             [
              0.5555555555555556,
              "#d8576b"
             ],
             [
              0.6666666666666666,
              "#ed7953"
             ],
             [
              0.7777777777777778,
              "#fb9f3a"
             ],
             [
              0.8888888888888888,
              "#fdca26"
             ],
             [
              1,
              "#f0f921"
             ]
            ],
            "type": "heatmap"
           }
          ],
          "heatmapgl": [
           {
            "colorbar": {
             "outlinewidth": 0,
             "ticks": ""
            },
            "colorscale": [
             [
              0,
              "#0d0887"
             ],
             [
              0.1111111111111111,
              "#46039f"
             ],
             [
              0.2222222222222222,
              "#7201a8"
             ],
             [
              0.3333333333333333,
              "#9c179e"
             ],
             [
              0.4444444444444444,
              "#bd3786"
             ],
             [
              0.5555555555555556,
              "#d8576b"
             ],
             [
              0.6666666666666666,
              "#ed7953"
             ],
             [
              0.7777777777777778,
              "#fb9f3a"
             ],
             [
              0.8888888888888888,
              "#fdca26"
             ],
             [
              1,
              "#f0f921"
             ]
            ],
            "type": "heatmapgl"
           }
          ],
          "histogram": [
           {
            "marker": {
             "colorbar": {
              "outlinewidth": 0,
              "ticks": ""
             }
            },
            "type": "histogram"
           }
          ],
          "histogram2d": [
           {
            "colorbar": {
             "outlinewidth": 0,
             "ticks": ""
            },
            "colorscale": [
             [
              0,
              "#0d0887"
             ],
             [
              0.1111111111111111,
              "#46039f"
             ],
             [
              0.2222222222222222,
              "#7201a8"
             ],
             [
              0.3333333333333333,
              "#9c179e"
             ],
             [
              0.4444444444444444,
              "#bd3786"
             ],
             [
              0.5555555555555556,
              "#d8576b"
             ],
             [
              0.6666666666666666,
              "#ed7953"
             ],
             [
              0.7777777777777778,
              "#fb9f3a"
             ],
             [
              0.8888888888888888,
              "#fdca26"
             ],
             [
              1,
              "#f0f921"
             ]
            ],
            "type": "histogram2d"
           }
          ],
          "histogram2dcontour": [
           {
            "colorbar": {
             "outlinewidth": 0,
             "ticks": ""
            },
            "colorscale": [
             [
              0,
              "#0d0887"
             ],
             [
              0.1111111111111111,
              "#46039f"
             ],
             [
              0.2222222222222222,
              "#7201a8"
             ],
             [
              0.3333333333333333,
              "#9c179e"
             ],
             [
              0.4444444444444444,
              "#bd3786"
             ],
             [
              0.5555555555555556,
              "#d8576b"
             ],
             [
              0.6666666666666666,
              "#ed7953"
             ],
             [
              0.7777777777777778,
              "#fb9f3a"
             ],
             [
              0.8888888888888888,
              "#fdca26"
             ],
             [
              1,
              "#f0f921"
             ]
            ],
            "type": "histogram2dcontour"
           }
          ],
          "mesh3d": [
           {
            "colorbar": {
             "outlinewidth": 0,
             "ticks": ""
            },
            "type": "mesh3d"
           }
          ],
          "parcoords": [
           {
            "line": {
             "colorbar": {
              "outlinewidth": 0,
              "ticks": ""
             }
            },
            "type": "parcoords"
           }
          ],
          "pie": [
           {
            "automargin": true,
            "type": "pie"
           }
          ],
          "scatter": [
           {
            "marker": {
             "colorbar": {
              "outlinewidth": 0,
              "ticks": ""
             }
            },
            "type": "scatter"
           }
          ],
          "scatter3d": [
           {
            "line": {
             "colorbar": {
              "outlinewidth": 0,
              "ticks": ""
             }
            },
            "marker": {
             "colorbar": {
              "outlinewidth": 0,
              "ticks": ""
             }
            },
            "type": "scatter3d"
           }
          ],
          "scattercarpet": [
           {
            "marker": {
             "colorbar": {
              "outlinewidth": 0,
              "ticks": ""
             }
            },
            "type": "scattercarpet"
           }
          ],
          "scattergeo": [
           {
            "marker": {
             "colorbar": {
              "outlinewidth": 0,
              "ticks": ""
             }
            },
            "type": "scattergeo"
           }
          ],
          "scattergl": [
           {
            "marker": {
             "colorbar": {
              "outlinewidth": 0,
              "ticks": ""
             }
            },
            "type": "scattergl"
           }
          ],
          "scattermapbox": [
           {
            "marker": {
             "colorbar": {
              "outlinewidth": 0,
              "ticks": ""
             }
            },
            "type": "scattermapbox"
           }
          ],
          "scatterpolar": [
           {
            "marker": {
             "colorbar": {
              "outlinewidth": 0,
              "ticks": ""
             }
            },
            "type": "scatterpolar"
           }
          ],
          "scatterpolargl": [
           {
            "marker": {
             "colorbar": {
              "outlinewidth": 0,
              "ticks": ""
             }
            },
            "type": "scatterpolargl"
           }
          ],
          "scatterternary": [
           {
            "marker": {
             "colorbar": {
              "outlinewidth": 0,
              "ticks": ""
             }
            },
            "type": "scatterternary"
           }
          ],
          "surface": [
           {
            "colorbar": {
             "outlinewidth": 0,
             "ticks": ""
            },
            "colorscale": [
             [
              0,
              "#0d0887"
             ],
             [
              0.1111111111111111,
              "#46039f"
             ],
             [
              0.2222222222222222,
              "#7201a8"
             ],
             [
              0.3333333333333333,
              "#9c179e"
             ],
             [
              0.4444444444444444,
              "#bd3786"
             ],
             [
              0.5555555555555556,
              "#d8576b"
             ],
             [
              0.6666666666666666,
              "#ed7953"
             ],
             [
              0.7777777777777778,
              "#fb9f3a"
             ],
             [
              0.8888888888888888,
              "#fdca26"
             ],
             [
              1,
              "#f0f921"
             ]
            ],
            "type": "surface"
           }
          ],
          "table": [
           {
            "cells": {
             "fill": {
              "color": "#EBF0F8"
             },
             "line": {
              "color": "white"
             }
            },
            "header": {
             "fill": {
              "color": "#C8D4E3"
             },
             "line": {
              "color": "white"
             }
            },
            "type": "table"
           }
          ]
         },
         "layout": {
          "annotationdefaults": {
           "arrowcolor": "#2a3f5f",
           "arrowhead": 0,
           "arrowwidth": 1
          },
          "coloraxis": {
           "colorbar": {
            "outlinewidth": 0,
            "ticks": ""
           }
          },
          "colorscale": {
           "diverging": [
            [
             0,
             "#8e0152"
            ],
            [
             0.1,
             "#c51b7d"
            ],
            [
             0.2,
             "#de77ae"
            ],
            [
             0.3,
             "#f1b6da"
            ],
            [
             0.4,
             "#fde0ef"
            ],
            [
             0.5,
             "#f7f7f7"
            ],
            [
             0.6,
             "#e6f5d0"
            ],
            [
             0.7,
             "#b8e186"
            ],
            [
             0.8,
             "#7fbc41"
            ],
            [
             0.9,
             "#4d9221"
            ],
            [
             1,
             "#276419"
            ]
           ],
           "sequential": [
            [
             0,
             "#0d0887"
            ],
            [
             0.1111111111111111,
             "#46039f"
            ],
            [
             0.2222222222222222,
             "#7201a8"
            ],
            [
             0.3333333333333333,
             "#9c179e"
            ],
            [
             0.4444444444444444,
             "#bd3786"
            ],
            [
             0.5555555555555556,
             "#d8576b"
            ],
            [
             0.6666666666666666,
             "#ed7953"
            ],
            [
             0.7777777777777778,
             "#fb9f3a"
            ],
            [
             0.8888888888888888,
             "#fdca26"
            ],
            [
             1,
             "#f0f921"
            ]
           ],
           "sequentialminus": [
            [
             0,
             "#0d0887"
            ],
            [
             0.1111111111111111,
             "#46039f"
            ],
            [
             0.2222222222222222,
             "#7201a8"
            ],
            [
             0.3333333333333333,
             "#9c179e"
            ],
            [
             0.4444444444444444,
             "#bd3786"
            ],
            [
             0.5555555555555556,
             "#d8576b"
            ],
            [
             0.6666666666666666,
             "#ed7953"
            ],
            [
             0.7777777777777778,
             "#fb9f3a"
            ],
            [
             0.8888888888888888,
             "#fdca26"
            ],
            [
             1,
             "#f0f921"
            ]
           ]
          },
          "colorway": [
           "#636efa",
           "#EF553B",
           "#00cc96",
           "#ab63fa",
           "#FFA15A",
           "#19d3f3",
           "#FF6692",
           "#B6E880",
           "#FF97FF",
           "#FECB52"
          ],
          "font": {
           "color": "#2a3f5f"
          },
          "geo": {
           "bgcolor": "white",
           "lakecolor": "white",
           "landcolor": "#E5ECF6",
           "showlakes": true,
           "showland": true,
           "subunitcolor": "white"
          },
          "hoverlabel": {
           "align": "left"
          },
          "hovermode": "closest",
          "mapbox": {
           "style": "light"
          },
          "paper_bgcolor": "white",
          "plot_bgcolor": "#E5ECF6",
          "polar": {
           "angularaxis": {
            "gridcolor": "white",
            "linecolor": "white",
            "ticks": ""
           },
           "bgcolor": "#E5ECF6",
           "radialaxis": {
            "gridcolor": "white",
            "linecolor": "white",
            "ticks": ""
           }
          },
          "scene": {
           "xaxis": {
            "backgroundcolor": "#E5ECF6",
            "gridcolor": "white",
            "gridwidth": 2,
            "linecolor": "white",
            "showbackground": true,
            "ticks": "",
            "zerolinecolor": "white"
           },
           "yaxis": {
            "backgroundcolor": "#E5ECF6",
            "gridcolor": "white",
            "gridwidth": 2,
            "linecolor": "white",
            "showbackground": true,
            "ticks": "",
            "zerolinecolor": "white"
           },
           "zaxis": {
            "backgroundcolor": "#E5ECF6",
            "gridcolor": "white",
            "gridwidth": 2,
            "linecolor": "white",
            "showbackground": true,
            "ticks": "",
            "zerolinecolor": "white"
           }
          },
          "shapedefaults": {
           "line": {
            "color": "#2a3f5f"
           }
          },
          "ternary": {
           "aaxis": {
            "gridcolor": "white",
            "linecolor": "white",
            "ticks": ""
           },
           "baxis": {
            "gridcolor": "white",
            "linecolor": "white",
            "ticks": ""
           },
           "bgcolor": "#E5ECF6",
           "caxis": {
            "gridcolor": "white",
            "linecolor": "white",
            "ticks": ""
           }
          },
          "title": {
           "x": 0.05
          },
          "xaxis": {
           "automargin": true,
           "gridcolor": "white",
           "linecolor": "white",
           "ticks": "",
           "title": {
            "standoff": 15
           },
           "zerolinecolor": "white",
           "zerolinewidth": 2
          },
          "yaxis": {
           "automargin": true,
           "gridcolor": "white",
           "linecolor": "white",
           "ticks": "",
           "title": {
            "standoff": 15
           },
           "zerolinecolor": "white",
           "zerolinewidth": 2
          }
         }
        },
        "title": {
         "font": {
          "color": "#4D5663"
         }
        },
        "xaxis": {
         "gridcolor": "#E1E5ED",
         "showgrid": true,
         "tickfont": {
          "color": "#4D5663"
         },
         "title": {
          "font": {
           "color": "#4D5663"
          },
          "text": ""
         },
         "zerolinecolor": "#E1E5ED"
        },
        "yaxis": {
         "gridcolor": "#E1E5ED",
         "showgrid": true,
         "tickfont": {
          "color": "#4D5663"
         },
         "title": {
          "font": {
           "color": "#4D5663"
          },
          "text": ""
         },
         "zerolinecolor": "#E1E5ED"
        }
       }
      },
      "text/html": [
       "<div>\n",
       "        \n",
       "        \n",
       "            <div id=\"290a782a-fb24-4c96-894e-e10f7d1e7084\" class=\"plotly-graph-div\" style=\"height:525px; width:100%;\"></div>\n",
       "            <script type=\"text/javascript\">\n",
       "                require([\"plotly\"], function(Plotly) {\n",
       "                    window.PLOTLYENV=window.PLOTLYENV || {};\n",
       "                    window.PLOTLYENV.BASE_URL='https://plot.ly';\n",
       "                    \n",
       "                if (document.getElementById(\"290a782a-fb24-4c96-894e-e10f7d1e7084\")) {\n",
       "                    Plotly.newPlot(\n",
       "                        '290a782a-fb24-4c96-894e-e10f7d1e7084',\n",
       "                        [{\"marker\": {\"color\": [\"rgb(255, 153, 51)\", \"rgb(55, 128, 191)\", \"rgb(50, 171, 96)\", \"rgb(128, 0, 128)\", \"rgb(219, 64, 82)\", \"rgb(0, 128, 128)\", \"rgb(255, 255, 51)\", \"rgb(128, 128, 0)\", \"rgb(251, 128, 114)\", \"rgb(128, 177, 211)\"], \"line\": {\"width\": 1.3}, \"size\": [57, 47, 80, 35, 46, 68, 35, 73, 49, 67, 59, 79, 76, 53, 20, 74, 45, 66, 82, 77, 58, 64, 78, 81, 47, 69, 86, 95, 45, 73, 64, 12, 40, 49, 37, 69, 70, 62, 58, 76, 34, 74, 52, 67, 85, 62, 47, 72, 47, 76, 67, 69, 78, 64, 58, 80, 76, 71, 76, 73, 31, 51, 66, 20, 60, 27, 46, 91, 112, 77, 58, 65, 43, 45, 52, 63, 69, 72, 53, 88, 42, 98, 38, 95, 75, 91, 82, 71, 84, 51, 45, 72, 47, 100, 54, 89, 41, 83, 95, 68], \"symbol\": \"circle\"}, \"mode\": \"markers\", \"text\": \"\", \"type\": \"scatter\", \"x\": [-2.2555933768724947, -0.03382340070021499, -0.3200478984174772, 0.05045835842384177, 0.2233965386018236, 0.2536608574004414, -0.6692398991913475, -0.4786089224325477, 0.6512291566816155, -0.9992360969851862, -0.22169793134556703, -1.1712641861345396, 0.3252298075551189, 0.8914928115672888, -0.0369001928301434, -0.12612875726858397, -0.6321662033550624, -0.7177849850115586, -0.7380476067025662, -0.6496181734346335, -0.7764825074228829, 0.9825053624790435, 0.2583656046298789, -0.037818224865744765, 0.1633648933126579, 0.09045583256205675, 0.6019746573813641, 0.8630717855557517, -0.6891220161380268, 0.008139132913083826, 1.4462942945255972, 1.0974328278372718, 1.7026391999584558, 0.13232510434415812, -1.4930236346176566, 0.5717283572309633, 1.6027573821880863, -0.26316261913033745, 0.1428706155553884, -1.9689781776908595, 0.7573252641608401, 1.2815546026772953, 0.4347619600899514, -0.5353942165407267, 0.9427327554963698, 1.1790481704431377, -0.4103179505335398, 1.467563169562042, 1.38742208689959, -0.1878420460340362, 0.9561618545448747, -0.6783596081109666, -0.7343973073358498, 0.3220750471063588, 0.27574581367708095, 1.4552279064325093, -0.291105920009326, 0.645407625337804, -1.0554341317842224, 0.33279221486126165, 0.7025265688025414, -0.6610919221931417, -0.1667434397585901, 0.6232829145291728, -0.2529836861465784, -1.3053816199792052, -0.9162982736073634, -1.3142225958928595, -1.6120659876274441, -0.053151427170382286, 1.872649441601502, -1.2683624163519756, 0.30392219244159846, 0.8663928886363615, -0.847758950848025, 1.2074149868658006, -0.8219780807135773, -0.3972774418375647, -0.3138094858687506, -0.7321270120897498, 0.19089113734580437, -1.467169892336397, -0.2704977443472076, 1.391089216049597, -1.4580084882448272, -1.6768288954001633, -1.2244219128686558, -0.5830634268948321, 2.596545053416106, 0.5547182458617995, -0.009938487125128776, 0.16661419271903802, -2.0051511664441923, -0.44142932606142177, 1.4768445874934977, -2.2891089768253154, 0.9969522087565932, -0.48862992958038, -0.8483077863746056, -0.3957040767842185], \"y\": [1.3141888702618962, -1.1115662109910567, -0.257289607344004, -1.4036350331162621, -0.9562431416001994, 0.5284258714874434, 1.3839270580400518, -0.47647239611666187, -0.48621055726856166, 0.21230749228133775, -0.4377454130191507, 1.139461784412099, -0.479066908076587, -0.5112289603822745, 1.0655062855344546, 0.2532285620560627, -0.5080625366400148, -0.14940661484256632, -1.0552401005092436, 1.3130463314943268, -0.09855391494815084, 1.682056997549952, 0.025030245632123346, -1.0314746214259058, -0.24440905168767216, -0.9640162206376627, 1.1659827817820045, -0.5949615891396036, 0.895109825347487, -1.1787502459426134, 0.3606252712904561, -2.8874455317853673, 0.05554922902958001, -0.6327253205975053, -0.14423079659187038, -0.4659585833517143, -0.42134027774967997, -0.9945211011510153, 0.5262417418954314, 0.6521486589933997, -0.3002767827572908, 1.0961571575291982, 0.02388240668584011, -0.251739361646199, -0.09132557319225461, -0.16222783106006364, -0.5800636263739349, 0.6539517205968917, 0.2676653096775852, -0.12788683168886808, 0.9301801207771702, -0.09177425164037127, -1.186280702243975, -1.5581869431240989, -0.42664764573524705, -0.2770735434883226, -0.8136201732195788, -1.1114664557447358, 1.6999503007281884, -0.7126876105880869, -0.0930941715055807, -2.3656191409182625, 0.735568121854511, 0.541493368025285, -0.6301134451738287, -0.05449659496425838, 0.7566045980698098, -0.05331049966966534, 0.7515301988470119, 1.1756364535626789, 0.6255519982890726, 0.4994986012724347, -0.33739521345218193, 0.7932359839780525, -0.8486742318118738, -0.6162281748236087, 0.6588315502975075, 0.47797298287983786, 0.8313530055118066, -1.6412026289064061, -0.5091519178754833, 1.2236901049372901, 1.2990342992990034, -0.4823964312713267, 0.8897377549146316, 0.8330977892920045, 1.2780894780540542, 0.2073916928678156, 2.1898409925479587, 1.2450021823566144, 0.9417074276447647, -0.11353886292187075, 1.5655409294812892, -0.04614353427259727, -0.34656495757651096, -0.18561680250884616, -2.262169847144289, 0.948170877714612, -1.1482499665528605, -0.8927910449284819]}],\n",
       "                        {\"legend\": {\"bgcolor\": \"#F5F6F9\", \"font\": {\"color\": \"#4D5663\"}}, \"paper_bgcolor\": \"#F5F6F9\", \"plot_bgcolor\": \"#F5F6F9\", \"template\": {\"data\": {\"bar\": [{\"error_x\": {\"color\": \"#2a3f5f\"}, \"error_y\": {\"color\": \"#2a3f5f\"}, \"marker\": {\"line\": {\"color\": \"#E5ECF6\", \"width\": 0.5}}, \"type\": \"bar\"}], \"barpolar\": [{\"marker\": {\"line\": {\"color\": \"#E5ECF6\", \"width\": 0.5}}, \"type\": \"barpolar\"}], \"carpet\": [{\"aaxis\": {\"endlinecolor\": \"#2a3f5f\", \"gridcolor\": \"white\", \"linecolor\": \"white\", \"minorgridcolor\": \"white\", \"startlinecolor\": \"#2a3f5f\"}, \"baxis\": {\"endlinecolor\": \"#2a3f5f\", \"gridcolor\": \"white\", \"linecolor\": \"white\", \"minorgridcolor\": \"white\", \"startlinecolor\": \"#2a3f5f\"}, \"type\": \"carpet\"}], \"choropleth\": [{\"colorbar\": {\"outlinewidth\": 0, \"ticks\": \"\"}, \"type\": \"choropleth\"}], \"contour\": [{\"colorbar\": {\"outlinewidth\": 0, \"ticks\": \"\"}, \"colorscale\": [[0.0, \"#0d0887\"], [0.1111111111111111, \"#46039f\"], [0.2222222222222222, \"#7201a8\"], [0.3333333333333333, \"#9c179e\"], [0.4444444444444444, \"#bd3786\"], [0.5555555555555556, \"#d8576b\"], [0.6666666666666666, \"#ed7953\"], [0.7777777777777778, \"#fb9f3a\"], [0.8888888888888888, \"#fdca26\"], [1.0, \"#f0f921\"]], \"type\": \"contour\"}], \"contourcarpet\": [{\"colorbar\": {\"outlinewidth\": 0, \"ticks\": \"\"}, \"type\": \"contourcarpet\"}], \"heatmap\": [{\"colorbar\": {\"outlinewidth\": 0, \"ticks\": \"\"}, \"colorscale\": [[0.0, \"#0d0887\"], [0.1111111111111111, \"#46039f\"], [0.2222222222222222, \"#7201a8\"], [0.3333333333333333, \"#9c179e\"], [0.4444444444444444, \"#bd3786\"], [0.5555555555555556, \"#d8576b\"], [0.6666666666666666, \"#ed7953\"], [0.7777777777777778, \"#fb9f3a\"], [0.8888888888888888, \"#fdca26\"], [1.0, \"#f0f921\"]], \"type\": \"heatmap\"}], \"heatmapgl\": [{\"colorbar\": {\"outlinewidth\": 0, \"ticks\": \"\"}, \"colorscale\": [[0.0, \"#0d0887\"], [0.1111111111111111, \"#46039f\"], [0.2222222222222222, \"#7201a8\"], [0.3333333333333333, \"#9c179e\"], [0.4444444444444444, \"#bd3786\"], [0.5555555555555556, \"#d8576b\"], [0.6666666666666666, \"#ed7953\"], [0.7777777777777778, \"#fb9f3a\"], [0.8888888888888888, \"#fdca26\"], [1.0, \"#f0f921\"]], \"type\": \"heatmapgl\"}], \"histogram\": [{\"marker\": {\"colorbar\": {\"outlinewidth\": 0, \"ticks\": \"\"}}, \"type\": \"histogram\"}], \"histogram2d\": [{\"colorbar\": {\"outlinewidth\": 0, \"ticks\": \"\"}, \"colorscale\": [[0.0, \"#0d0887\"], [0.1111111111111111, \"#46039f\"], [0.2222222222222222, \"#7201a8\"], [0.3333333333333333, \"#9c179e\"], [0.4444444444444444, \"#bd3786\"], [0.5555555555555556, \"#d8576b\"], [0.6666666666666666, \"#ed7953\"], [0.7777777777777778, \"#fb9f3a\"], [0.8888888888888888, \"#fdca26\"], [1.0, \"#f0f921\"]], \"type\": \"histogram2d\"}], \"histogram2dcontour\": [{\"colorbar\": {\"outlinewidth\": 0, \"ticks\": \"\"}, \"colorscale\": [[0.0, \"#0d0887\"], [0.1111111111111111, \"#46039f\"], [0.2222222222222222, \"#7201a8\"], [0.3333333333333333, \"#9c179e\"], [0.4444444444444444, \"#bd3786\"], [0.5555555555555556, \"#d8576b\"], [0.6666666666666666, \"#ed7953\"], [0.7777777777777778, \"#fb9f3a\"], [0.8888888888888888, \"#fdca26\"], [1.0, \"#f0f921\"]], \"type\": \"histogram2dcontour\"}], \"mesh3d\": [{\"colorbar\": {\"outlinewidth\": 0, \"ticks\": \"\"}, \"type\": \"mesh3d\"}], \"parcoords\": [{\"line\": {\"colorbar\": {\"outlinewidth\": 0, \"ticks\": \"\"}}, \"type\": \"parcoords\"}], \"pie\": [{\"automargin\": true, \"type\": \"pie\"}], \"scatter\": [{\"marker\": {\"colorbar\": {\"outlinewidth\": 0, \"ticks\": \"\"}}, \"type\": \"scatter\"}], \"scatter3d\": [{\"line\": {\"colorbar\": {\"outlinewidth\": 0, \"ticks\": \"\"}}, \"marker\": {\"colorbar\": {\"outlinewidth\": 0, \"ticks\": \"\"}}, \"type\": \"scatter3d\"}], \"scattercarpet\": [{\"marker\": {\"colorbar\": {\"outlinewidth\": 0, \"ticks\": \"\"}}, \"type\": \"scattercarpet\"}], \"scattergeo\": [{\"marker\": {\"colorbar\": {\"outlinewidth\": 0, \"ticks\": \"\"}}, \"type\": \"scattergeo\"}], \"scattergl\": [{\"marker\": {\"colorbar\": {\"outlinewidth\": 0, \"ticks\": \"\"}}, \"type\": \"scattergl\"}], \"scattermapbox\": [{\"marker\": {\"colorbar\": {\"outlinewidth\": 0, \"ticks\": \"\"}}, \"type\": \"scattermapbox\"}], \"scatterpolar\": [{\"marker\": {\"colorbar\": {\"outlinewidth\": 0, \"ticks\": \"\"}}, \"type\": \"scatterpolar\"}], \"scatterpolargl\": [{\"marker\": {\"colorbar\": {\"outlinewidth\": 0, \"ticks\": \"\"}}, \"type\": \"scatterpolargl\"}], \"scatterternary\": [{\"marker\": {\"colorbar\": {\"outlinewidth\": 0, \"ticks\": \"\"}}, \"type\": \"scatterternary\"}], \"surface\": [{\"colorbar\": {\"outlinewidth\": 0, \"ticks\": \"\"}, \"colorscale\": [[0.0, \"#0d0887\"], [0.1111111111111111, \"#46039f\"], [0.2222222222222222, \"#7201a8\"], [0.3333333333333333, \"#9c179e\"], [0.4444444444444444, \"#bd3786\"], [0.5555555555555556, \"#d8576b\"], [0.6666666666666666, \"#ed7953\"], [0.7777777777777778, \"#fb9f3a\"], [0.8888888888888888, \"#fdca26\"], [1.0, \"#f0f921\"]], \"type\": \"surface\"}], \"table\": [{\"cells\": {\"fill\": {\"color\": \"#EBF0F8\"}, \"line\": {\"color\": \"white\"}}, \"header\": {\"fill\": {\"color\": \"#C8D4E3\"}, \"line\": {\"color\": \"white\"}}, \"type\": \"table\"}]}, \"layout\": {\"annotationdefaults\": {\"arrowcolor\": \"#2a3f5f\", \"arrowhead\": 0, \"arrowwidth\": 1}, \"coloraxis\": {\"colorbar\": {\"outlinewidth\": 0, \"ticks\": \"\"}}, \"colorscale\": {\"diverging\": [[0, \"#8e0152\"], [0.1, \"#c51b7d\"], [0.2, \"#de77ae\"], [0.3, \"#f1b6da\"], [0.4, \"#fde0ef\"], [0.5, \"#f7f7f7\"], [0.6, \"#e6f5d0\"], [0.7, \"#b8e186\"], [0.8, \"#7fbc41\"], [0.9, \"#4d9221\"], [1, \"#276419\"]], \"sequential\": [[0.0, \"#0d0887\"], [0.1111111111111111, \"#46039f\"], [0.2222222222222222, \"#7201a8\"], [0.3333333333333333, \"#9c179e\"], [0.4444444444444444, \"#bd3786\"], [0.5555555555555556, \"#d8576b\"], [0.6666666666666666, \"#ed7953\"], [0.7777777777777778, \"#fb9f3a\"], [0.8888888888888888, \"#fdca26\"], [1.0, \"#f0f921\"]], \"sequentialminus\": [[0.0, \"#0d0887\"], [0.1111111111111111, \"#46039f\"], [0.2222222222222222, \"#7201a8\"], [0.3333333333333333, \"#9c179e\"], [0.4444444444444444, \"#bd3786\"], [0.5555555555555556, \"#d8576b\"], [0.6666666666666666, \"#ed7953\"], [0.7777777777777778, \"#fb9f3a\"], [0.8888888888888888, \"#fdca26\"], [1.0, \"#f0f921\"]]}, \"colorway\": [\"#636efa\", \"#EF553B\", \"#00cc96\", \"#ab63fa\", \"#FFA15A\", \"#19d3f3\", \"#FF6692\", \"#B6E880\", \"#FF97FF\", \"#FECB52\"], \"font\": {\"color\": \"#2a3f5f\"}, \"geo\": {\"bgcolor\": \"white\", \"lakecolor\": \"white\", \"landcolor\": \"#E5ECF6\", \"showlakes\": true, \"showland\": true, \"subunitcolor\": \"white\"}, \"hoverlabel\": {\"align\": \"left\"}, \"hovermode\": \"closest\", \"mapbox\": {\"style\": \"light\"}, \"paper_bgcolor\": \"white\", \"plot_bgcolor\": \"#E5ECF6\", \"polar\": {\"angularaxis\": {\"gridcolor\": \"white\", \"linecolor\": \"white\", \"ticks\": \"\"}, \"bgcolor\": \"#E5ECF6\", \"radialaxis\": {\"gridcolor\": \"white\", \"linecolor\": \"white\", \"ticks\": \"\"}}, \"scene\": {\"xaxis\": {\"backgroundcolor\": \"#E5ECF6\", \"gridcolor\": \"white\", \"gridwidth\": 2, \"linecolor\": \"white\", \"showbackground\": true, \"ticks\": \"\", \"zerolinecolor\": \"white\"}, \"yaxis\": {\"backgroundcolor\": \"#E5ECF6\", \"gridcolor\": \"white\", \"gridwidth\": 2, \"linecolor\": \"white\", \"showbackground\": true, \"ticks\": \"\", \"zerolinecolor\": \"white\"}, \"zaxis\": {\"backgroundcolor\": \"#E5ECF6\", \"gridcolor\": \"white\", \"gridwidth\": 2, \"linecolor\": \"white\", \"showbackground\": true, \"ticks\": \"\", \"zerolinecolor\": \"white\"}}, \"shapedefaults\": {\"line\": {\"color\": \"#2a3f5f\"}}, \"ternary\": {\"aaxis\": {\"gridcolor\": \"white\", \"linecolor\": \"white\", \"ticks\": \"\"}, \"baxis\": {\"gridcolor\": \"white\", \"linecolor\": \"white\", \"ticks\": \"\"}, \"bgcolor\": \"#E5ECF6\", \"caxis\": {\"gridcolor\": \"white\", \"linecolor\": \"white\", \"ticks\": \"\"}}, \"title\": {\"x\": 0.05}, \"xaxis\": {\"automargin\": true, \"gridcolor\": \"white\", \"linecolor\": \"white\", \"ticks\": \"\", \"title\": {\"standoff\": 15}, \"zerolinecolor\": \"white\", \"zerolinewidth\": 2}, \"yaxis\": {\"automargin\": true, \"gridcolor\": \"white\", \"linecolor\": \"white\", \"ticks\": \"\", \"title\": {\"standoff\": 15}, \"zerolinecolor\": \"white\", \"zerolinewidth\": 2}}}, \"title\": {\"font\": {\"color\": \"#4D5663\"}}, \"xaxis\": {\"gridcolor\": \"#E1E5ED\", \"showgrid\": true, \"tickfont\": {\"color\": \"#4D5663\"}, \"title\": {\"font\": {\"color\": \"#4D5663\"}, \"text\": \"\"}, \"zerolinecolor\": \"#E1E5ED\"}, \"yaxis\": {\"gridcolor\": \"#E1E5ED\", \"showgrid\": true, \"tickfont\": {\"color\": \"#4D5663\"}, \"title\": {\"font\": {\"color\": \"#4D5663\"}, \"text\": \"\"}, \"zerolinecolor\": \"#E1E5ED\"}},\n",
       "                        {\"showLink\": true, \"linkText\": \"Export to plot.ly\", \"plotlyServerURL\": \"https://plot.ly\", \"responsive\": true}\n",
       "                    ).then(function(){\n",
       "                            \n",
       "var gd = document.getElementById('290a782a-fb24-4c96-894e-e10f7d1e7084');\n",
       "var x = new MutationObserver(function (mutations, observer) {{\n",
       "        var display = window.getComputedStyle(gd).display;\n",
       "        if (!display || display === 'none') {{\n",
       "            console.log([gd, 'removed!']);\n",
       "            Plotly.purge(gd);\n",
       "            observer.disconnect();\n",
       "        }}\n",
       "}});\n",
       "\n",
       "// Listen for the removal of the full notebook cells\n",
       "var notebookContainer = gd.closest('#notebook-container');\n",
       "if (notebookContainer) {{\n",
       "    x.observe(notebookContainer, {childList: true});\n",
       "}}\n",
       "\n",
       "// Listen for the clearing of the current output cell\n",
       "var outputEl = gd.closest('.output');\n",
       "if (outputEl) {{\n",
       "    x.observe(outputEl, {childList: true});\n",
       "}}\n",
       "\n",
       "                        })\n",
       "                };\n",
       "                });\n",
       "            </script>\n",
       "        </div>"
      ]
     },
     "metadata": {},
     "output_type": "display_data"
    }
   ],
   "source": [
    "df.iplot(kind='bubble', x='A', y='B', size='C')"
   ]
  },
  {
   "cell_type": "code",
   "execution_count": 51,
   "metadata": {},
   "outputs": [
    {
     "data": {
      "application/vnd.plotly.v1+json": {
       "config": {
        "linkText": "Export to plot.ly",
        "plotlyServerURL": "https://plot.ly",
        "showLink": true
       },
       "data": [
        {
         "histfunc": "count",
         "histnorm": "",
         "marker": {
          "color": "rgba(255, 153, 51, 1.0)",
          "line": {
           "color": "#4D5663",
           "width": 1.3
          }
         },
         "name": "A",
         "nbinsx": 10,
         "opacity": 0.8,
         "orientation": "v",
         "type": "histogram",
         "x": [
          -2.2555933768724947,
          -0.03382340070021499,
          -0.3200478984174772,
          0.05045835842384177,
          0.2233965386018236,
          0.2536608574004414,
          -0.6692398991913475,
          -0.4786089224325477,
          0.6512291566816155,
          -0.9992360969851862,
          -0.22169793134556703,
          -1.1712641861345396,
          0.3252298075551189,
          0.8914928115672888,
          -0.0369001928301434,
          -0.12612875726858397,
          -0.6321662033550624,
          -0.7177849850115586,
          -0.7380476067025662,
          -0.6496181734346335,
          -0.7764825074228829,
          0.9825053624790435,
          0.2583656046298789,
          -0.037818224865744765,
          0.1633648933126579,
          0.09045583256205675,
          0.6019746573813641,
          0.8630717855557517,
          -0.6891220161380268,
          0.008139132913083826,
          1.4462942945255972,
          1.0974328278372718,
          1.7026391999584558,
          0.13232510434415812,
          -1.4930236346176566,
          0.5717283572309633,
          1.6027573821880863,
          -0.26316261913033745,
          0.1428706155553884,
          -1.9689781776908595,
          0.7573252641608401,
          1.2815546026772953,
          0.4347619600899514,
          -0.5353942165407267,
          0.9427327554963698,
          1.1790481704431377,
          -0.4103179505335398,
          1.467563169562042,
          1.38742208689959,
          -0.1878420460340362,
          0.9561618545448747,
          -0.6783596081109666,
          -0.7343973073358498,
          0.3220750471063588,
          0.27574581367708095,
          1.4552279064325093,
          -0.291105920009326,
          0.645407625337804,
          -1.0554341317842224,
          0.33279221486126165,
          0.7025265688025414,
          -0.6610919221931417,
          -0.1667434397585901,
          0.6232829145291728,
          -0.2529836861465784,
          -1.3053816199792052,
          -0.9162982736073634,
          -1.3142225958928595,
          -1.6120659876274441,
          -0.053151427170382286,
          1.872649441601502,
          -1.2683624163519756,
          0.30392219244159846,
          0.8663928886363615,
          -0.847758950848025,
          1.2074149868658006,
          -0.8219780807135773,
          -0.3972774418375647,
          -0.3138094858687506,
          -0.7321270120897498,
          0.19089113734580437,
          -1.467169892336397,
          -0.2704977443472076,
          1.391089216049597,
          -1.4580084882448272,
          -1.6768288954001633,
          -1.2244219128686558,
          -0.5830634268948321,
          2.596545053416106,
          0.5547182458617995,
          -0.009938487125128776,
          0.16661419271903802,
          -2.0051511664441923,
          -0.44142932606142177,
          1.4768445874934977,
          -2.2891089768253154,
          0.9969522087565932,
          -0.48862992958038,
          -0.8483077863746056,
          -0.3957040767842185
         ],
         "xaxis": "x",
         "yaxis": "y"
        },
        {
         "line": {
          "color": "rgba(128, 128, 128, 1.0)",
          "dash": "solid",
          "shape": "linear",
          "width": 1.3
         },
         "marker": {
          "size": 2,
          "symbol": "circle"
         },
         "mode": "markers",
         "name": "A",
         "text": "",
         "type": "scatter",
         "x": [
          1.3141888702618962,
          -1.1115662109910567,
          -0.257289607344004,
          -1.4036350331162621,
          -0.9562431416001994,
          0.5284258714874434,
          1.3839270580400518,
          -0.47647239611666187,
          -0.48621055726856166,
          0.21230749228133775,
          -0.4377454130191507,
          1.139461784412099,
          -0.479066908076587,
          -0.5112289603822745,
          1.0655062855344546,
          0.2532285620560627,
          -0.5080625366400148,
          -0.14940661484256632,
          -1.0552401005092436,
          1.3130463314943268,
          -0.09855391494815084,
          1.682056997549952,
          0.025030245632123346,
          -1.0314746214259058,
          -0.24440905168767216,
          -0.9640162206376627,
          1.1659827817820045,
          -0.5949615891396036,
          0.895109825347487,
          -1.1787502459426134,
          0.3606252712904561,
          -2.8874455317853673,
          0.05554922902958001,
          -0.6327253205975053,
          -0.14423079659187038,
          -0.4659585833517143,
          -0.42134027774967997,
          -0.9945211011510153,
          0.5262417418954314,
          0.6521486589933997,
          -0.3002767827572908,
          1.0961571575291982,
          0.02388240668584011,
          -0.251739361646199,
          -0.09132557319225461,
          -0.16222783106006364,
          -0.5800636263739349,
          0.6539517205968917,
          0.2676653096775852,
          -0.12788683168886808,
          0.9301801207771702,
          -0.09177425164037127,
          -1.186280702243975,
          -1.5581869431240989,
          -0.42664764573524705,
          -0.2770735434883226,
          -0.8136201732195788,
          -1.1114664557447358,
          1.6999503007281884,
          -0.7126876105880869,
          -0.0930941715055807,
          -2.3656191409182625,
          0.735568121854511,
          0.541493368025285,
          -0.6301134451738287,
          -0.05449659496425838,
          0.7566045980698098,
          -0.05331049966966534,
          0.7515301988470119,
          1.1756364535626789,
          0.6255519982890726,
          0.4994986012724347,
          -0.33739521345218193,
          0.7932359839780525,
          -0.8486742318118738,
          -0.6162281748236087,
          0.6588315502975075,
          0.47797298287983786,
          0.8313530055118066,
          -1.6412026289064061,
          -0.5091519178754833,
          1.2236901049372901,
          1.2990342992990034,
          -0.4823964312713267,
          0.8897377549146316,
          0.8330977892920045,
          1.2780894780540542,
          0.2073916928678156,
          2.1898409925479587,
          1.2450021823566144,
          0.9417074276447647,
          -0.11353886292187075,
          1.5655409294812892,
          -0.04614353427259727,
          -0.34656495757651096,
          -0.18561680250884616,
          -2.262169847144289,
          0.948170877714612,
          -1.1482499665528605,
          -0.8927910449284819
         ],
         "xaxis": "x2",
         "y": [
          -2.2555933768724947,
          -0.03382340070021499,
          -0.3200478984174772,
          0.05045835842384177,
          0.2233965386018236,
          0.2536608574004414,
          -0.6692398991913475,
          -0.4786089224325477,
          0.6512291566816155,
          -0.9992360969851862,
          -0.22169793134556703,
          -1.1712641861345396,
          0.3252298075551189,
          0.8914928115672888,
          -0.0369001928301434,
          -0.12612875726858397,
          -0.6321662033550624,
          -0.7177849850115586,
          -0.7380476067025662,
          -0.6496181734346335,
          -0.7764825074228829,
          0.9825053624790435,
          0.2583656046298789,
          -0.037818224865744765,
          0.1633648933126579,
          0.09045583256205675,
          0.6019746573813641,
          0.8630717855557517,
          -0.6891220161380268,
          0.008139132913083826,
          1.4462942945255972,
          1.0974328278372718,
          1.7026391999584558,
          0.13232510434415812,
          -1.4930236346176566,
          0.5717283572309633,
          1.6027573821880863,
          -0.26316261913033745,
          0.1428706155553884,
          -1.9689781776908595,
          0.7573252641608401,
          1.2815546026772953,
          0.4347619600899514,
          -0.5353942165407267,
          0.9427327554963698,
          1.1790481704431377,
          -0.4103179505335398,
          1.467563169562042,
          1.38742208689959,
          -0.1878420460340362,
          0.9561618545448747,
          -0.6783596081109666,
          -0.7343973073358498,
          0.3220750471063588,
          0.27574581367708095,
          1.4552279064325093,
          -0.291105920009326,
          0.645407625337804,
          -1.0554341317842224,
          0.33279221486126165,
          0.7025265688025414,
          -0.6610919221931417,
          -0.1667434397585901,
          0.6232829145291728,
          -0.2529836861465784,
          -1.3053816199792052,
          -0.9162982736073634,
          -1.3142225958928595,
          -1.6120659876274441,
          -0.053151427170382286,
          1.872649441601502,
          -1.2683624163519756,
          0.30392219244159846,
          0.8663928886363615,
          -0.847758950848025,
          1.2074149868658006,
          -0.8219780807135773,
          -0.3972774418375647,
          -0.3138094858687506,
          -0.7321270120897498,
          0.19089113734580437,
          -1.467169892336397,
          -0.2704977443472076,
          1.391089216049597,
          -1.4580084882448272,
          -1.6768288954001633,
          -1.2244219128686558,
          -0.5830634268948321,
          2.596545053416106,
          0.5547182458617995,
          -0.009938487125128776,
          0.16661419271903802,
          -2.0051511664441923,
          -0.44142932606142177,
          1.4768445874934977,
          -2.2891089768253154,
          0.9969522087565932,
          -0.48862992958038,
          -0.8483077863746056,
          -0.3957040767842185
         ],
         "yaxis": "y2"
        },
        {
         "line": {
          "color": "rgba(128, 128, 128, 1.0)",
          "dash": "solid",
          "shape": "linear",
          "width": 1.3
         },
         "marker": {
          "size": 2,
          "symbol": "circle"
         },
         "mode": "markers",
         "name": "A",
         "text": "",
         "type": "scatter",
         "x": [
          -0.3852111653161519,
          -0.7830544747937033,
          0.6375500080290681,
          -1.2935251103472951,
          -0.8504493153928624,
          0.09800862044555947,
          -1.3269601219003204,
          0.327204119642585,
          -0.690840086360732,
          0.0599524931219146,
          -0.2664804729565175,
          0.5677036432202524,
          0.44254035862817687,
          -0.534473786392977,
          -1.948328679109903,
          0.3667213673256576,
          -0.8857969564564154,
          0.000480655223030059,
          0.6901565806311147,
          0.4849220911931928,
          -0.3433584734411604,
          -0.044481892108771924,
          0.5219215703694158,
          0.6597640523271316,
          -0.815710202783354,
          0.15440045099651611,
          0.8626151498285916,
          1.2557704479510896,
          -0.8866797361107176,
          0.3116903849033211,
          -0.04586726700738958,
          -2.3210995766552003,
          -1.1141141767156846,
          -0.718790088777296,
          -1.215022691367036,
          0.15990037633325638,
          0.207339989867234,
          -0.1339251170432215,
          -0.31336335779366836,
          0.4727293268665891,
          -1.364271403162109,
          0.38485826485645513,
          -0.564525378196018,
          0.08053092875359465,
          0.8170016869020079,
          -0.16585723881699452,
          -0.7806192924820001,
          0.2757423040683799,
          -0.8052577423922532,
          0.4394975078426791,
          0.05475969001130771,
          0.13002452405704323,
          0.5504028250944053,
          -0.07172476042858046,
          -0.3103852929550721,
          0.6345882181965192,
          0.45129839073710004,
          0.24133569488877202,
          0.4660206009407888,
          0.32051436624277957,
          -1.4713410106320284,
          -0.6439436638461494,
          0.0282498419594593,
          -1.9532860898921842,
          -0.2281728072186295,
          -1.6461248416327923,
          -0.8361741257415685,
          1.103069631310339,
          1.9773169265966584,
          0.48488610606642524,
          -0.3119955389235842,
          -0.02493730005691768,
          -0.9557993486325946,
          -0.8739418396473461,
          -0.594468085245611,
          -0.12311748015716892,
          0.16163289632042396,
          0.2591893055592278,
          -0.5245824774930369,
          0.9712195427151722,
          -1.0285584635996985,
          1.3835410963227326,
          -1.1643694982378814,
          1.267446133373859,
          0.4221341686342332,
          1.1078361853210785,
          0.7270842106888753,
          0.21856045988541378,
          0.797581282367628,
          -0.6429999476331801,
          -0.8820815237633904,
          0.2584226877120125,
          -0.8029529727740128,
          1.4766089511557463,
          -0.48802675784715516,
          1.001168054874638,
          -1.0613223170663308,
          0.7350981512413484,
          1.2784722523026892,
          0.1117515228145326
         ],
         "xaxis": "x3",
         "y": [
          -2.2555933768724947,
          -0.03382340070021499,
          -0.3200478984174772,
          0.05045835842384177,
          0.2233965386018236,
          0.2536608574004414,
          -0.6692398991913475,
          -0.4786089224325477,
          0.6512291566816155,
          -0.9992360969851862,
          -0.22169793134556703,
          -1.1712641861345396,
          0.3252298075551189,
          0.8914928115672888,
          -0.0369001928301434,
          -0.12612875726858397,
          -0.6321662033550624,
          -0.7177849850115586,
          -0.7380476067025662,
          -0.6496181734346335,
          -0.7764825074228829,
          0.9825053624790435,
          0.2583656046298789,
          -0.037818224865744765,
          0.1633648933126579,
          0.09045583256205675,
          0.6019746573813641,
          0.8630717855557517,
          -0.6891220161380268,
          0.008139132913083826,
          1.4462942945255972,
          1.0974328278372718,
          1.7026391999584558,
          0.13232510434415812,
          -1.4930236346176566,
          0.5717283572309633,
          1.6027573821880863,
          -0.26316261913033745,
          0.1428706155553884,
          -1.9689781776908595,
          0.7573252641608401,
          1.2815546026772953,
          0.4347619600899514,
          -0.5353942165407267,
          0.9427327554963698,
          1.1790481704431377,
          -0.4103179505335398,
          1.467563169562042,
          1.38742208689959,
          -0.1878420460340362,
          0.9561618545448747,
          -0.6783596081109666,
          -0.7343973073358498,
          0.3220750471063588,
          0.27574581367708095,
          1.4552279064325093,
          -0.291105920009326,
          0.645407625337804,
          -1.0554341317842224,
          0.33279221486126165,
          0.7025265688025414,
          -0.6610919221931417,
          -0.1667434397585901,
          0.6232829145291728,
          -0.2529836861465784,
          -1.3053816199792052,
          -0.9162982736073634,
          -1.3142225958928595,
          -1.6120659876274441,
          -0.053151427170382286,
          1.872649441601502,
          -1.2683624163519756,
          0.30392219244159846,
          0.8663928886363615,
          -0.847758950848025,
          1.2074149868658006,
          -0.8219780807135773,
          -0.3972774418375647,
          -0.3138094858687506,
          -0.7321270120897498,
          0.19089113734580437,
          -1.467169892336397,
          -0.2704977443472076,
          1.391089216049597,
          -1.4580084882448272,
          -1.6768288954001633,
          -1.2244219128686558,
          -0.5830634268948321,
          2.596545053416106,
          0.5547182458617995,
          -0.009938487125128776,
          0.16661419271903802,
          -2.0051511664441923,
          -0.44142932606142177,
          1.4768445874934977,
          -2.2891089768253154,
          0.9969522087565932,
          -0.48862992958038,
          -0.8483077863746056,
          -0.3957040767842185
         ],
         "yaxis": "y3"
        },
        {
         "line": {
          "color": "rgba(128, 128, 128, 1.0)",
          "dash": "solid",
          "shape": "linear",
          "width": 1.3
         },
         "marker": {
          "size": 2,
          "symbol": "circle"
         },
         "mode": "markers",
         "name": "A",
         "text": "",
         "type": "scatter",
         "x": [
          0.9772336509828237,
          -0.07647478318063784,
          0.7413636391750652,
          -0.15912297894377248,
          -0.15177625272150932,
          0.1199900295795598,
          0.2716635668621539,
          0.3709292464448456,
          0.5828024998577414,
          1.1233734325816407,
          0.5350414757703158,
          -0.27835449335894125,
          -0.5384981463868941,
          1.7604427122046729,
          -0.1798211998472201,
          -0.07259583442974381,
          0.6927847927489181,
          1.713753068511354,
          0.5580318332801198,
          1.8777101613687104,
          2.096919796229778,
          2.006680204819293,
          1.0358068816393418,
          -1.0471118960905113,
          0.11421243302452166,
          0.905838606468195,
          -1.3557540465958646,
          0.052203996643662834,
          1.065635124475401,
          -0.5948064543443344,
          0.5824474335176656,
          0.03769772664088032,
          -0.9295819904348213,
          0.08773160196539075,
          -1.4326929160965838,
          0.708051413119108,
          -0.07046148088440911,
          -0.14346819164193475,
          0.3763987464634078,
          1.489497426963874,
          -1.1875085365888707,
          -0.6972667620976027,
          -0.37526823498872225,
          -0.07039635195846435,
          -1.1069599873901415,
          0.351561602957237,
          1.7233931104452467,
          0.5680461134761515,
          -0.7651406350372749,
          -0.8855202646912165,
          0.24331003393244538,
          -1.9622170655863536,
          0.25109763454148615,
          -1.7649926672975669,
          -0.4234854127409118,
          -0.7143020036904693,
          0.20749639433841285,
          0.010268364756173215,
          0.0952854975447978,
          -0.5550510334752385,
          -0.4934942677949766,
          1.6175409619083556,
          0.3332748338333687,
          -0.5344727243038119,
          1.0015841881282095,
          0.10562661347557104,
          -0.1852368746866717,
          -0.07930200523712144,
          -0.9472604504862842,
          -0.6793917614321774,
          0.3478046849795794,
          -0.06819282824824709,
          -0.24348051996278372,
          0.4653730332137223,
          0.8868921917777485,
          -0.8744287471716156,
          0.8505394053147777,
          -0.7165134712897009,
          0.31470910612493974,
          2.2048428931352952,
          -0.37326042759452166,
          -0.6869832077121661,
          0.4538698980652648,
          0.3835572135228256,
          0.5864267829588884,
          0.1366552671255307,
          -0.29731483868073927,
          0.2921796384197413,
          1.204393005274402,
          0.03240134226909766,
          0.4841180429521735,
          -0.6875951590864127,
          1.320895128089415,
          -1.5772719223289127,
          1.083135276429853,
          1.5582687187488196,
          0.0402198571728886,
          0.782586581086116,
          -0.826500765488446,
          0.6466110743888642
         ],
         "xaxis": "x4",
         "y": [
          -2.2555933768724947,
          -0.03382340070021499,
          -0.3200478984174772,
          0.05045835842384177,
          0.2233965386018236,
          0.2536608574004414,
          -0.6692398991913475,
          -0.4786089224325477,
          0.6512291566816155,
          -0.9992360969851862,
          -0.22169793134556703,
          -1.1712641861345396,
          0.3252298075551189,
          0.8914928115672888,
          -0.0369001928301434,
          -0.12612875726858397,
          -0.6321662033550624,
          -0.7177849850115586,
          -0.7380476067025662,
          -0.6496181734346335,
          -0.7764825074228829,
          0.9825053624790435,
          0.2583656046298789,
          -0.037818224865744765,
          0.1633648933126579,
          0.09045583256205675,
          0.6019746573813641,
          0.8630717855557517,
          -0.6891220161380268,
          0.008139132913083826,
          1.4462942945255972,
          1.0974328278372718,
          1.7026391999584558,
          0.13232510434415812,
          -1.4930236346176566,
          0.5717283572309633,
          1.6027573821880863,
          -0.26316261913033745,
          0.1428706155553884,
          -1.9689781776908595,
          0.7573252641608401,
          1.2815546026772953,
          0.4347619600899514,
          -0.5353942165407267,
          0.9427327554963698,
          1.1790481704431377,
          -0.4103179505335398,
          1.467563169562042,
          1.38742208689959,
          -0.1878420460340362,
          0.9561618545448747,
          -0.6783596081109666,
          -0.7343973073358498,
          0.3220750471063588,
          0.27574581367708095,
          1.4552279064325093,
          -0.291105920009326,
          0.645407625337804,
          -1.0554341317842224,
          0.33279221486126165,
          0.7025265688025414,
          -0.6610919221931417,
          -0.1667434397585901,
          0.6232829145291728,
          -0.2529836861465784,
          -1.3053816199792052,
          -0.9162982736073634,
          -1.3142225958928595,
          -1.6120659876274441,
          -0.053151427170382286,
          1.872649441601502,
          -1.2683624163519756,
          0.30392219244159846,
          0.8663928886363615,
          -0.847758950848025,
          1.2074149868658006,
          -0.8219780807135773,
          -0.3972774418375647,
          -0.3138094858687506,
          -0.7321270120897498,
          0.19089113734580437,
          -1.467169892336397,
          -0.2704977443472076,
          1.391089216049597,
          -1.4580084882448272,
          -1.6768288954001633,
          -1.2244219128686558,
          -0.5830634268948321,
          2.596545053416106,
          0.5547182458617995,
          -0.009938487125128776,
          0.16661419271903802,
          -2.0051511664441923,
          -0.44142932606142177,
          1.4768445874934977,
          -2.2891089768253154,
          0.9969522087565932,
          -0.48862992958038,
          -0.8483077863746056,
          -0.3957040767842185
         ],
         "yaxis": "y4"
        },
        {
         "line": {
          "color": "rgba(128, 128, 128, 1.0)",
          "dash": "solid",
          "shape": "linear",
          "width": 1.3
         },
         "marker": {
          "size": 2,
          "symbol": "circle"
         },
         "mode": "markers",
         "name": "B",
         "text": "",
         "type": "scatter",
         "x": [
          -2.2555933768724947,
          -0.03382340070021499,
          -0.3200478984174772,
          0.05045835842384177,
          0.2233965386018236,
          0.2536608574004414,
          -0.6692398991913475,
          -0.4786089224325477,
          0.6512291566816155,
          -0.9992360969851862,
          -0.22169793134556703,
          -1.1712641861345396,
          0.3252298075551189,
          0.8914928115672888,
          -0.0369001928301434,
          -0.12612875726858397,
          -0.6321662033550624,
          -0.7177849850115586,
          -0.7380476067025662,
          -0.6496181734346335,
          -0.7764825074228829,
          0.9825053624790435,
          0.2583656046298789,
          -0.037818224865744765,
          0.1633648933126579,
          0.09045583256205675,
          0.6019746573813641,
          0.8630717855557517,
          -0.6891220161380268,
          0.008139132913083826,
          1.4462942945255972,
          1.0974328278372718,
          1.7026391999584558,
          0.13232510434415812,
          -1.4930236346176566,
          0.5717283572309633,
          1.6027573821880863,
          -0.26316261913033745,
          0.1428706155553884,
          -1.9689781776908595,
          0.7573252641608401,
          1.2815546026772953,
          0.4347619600899514,
          -0.5353942165407267,
          0.9427327554963698,
          1.1790481704431377,
          -0.4103179505335398,
          1.467563169562042,
          1.38742208689959,
          -0.1878420460340362,
          0.9561618545448747,
          -0.6783596081109666,
          -0.7343973073358498,
          0.3220750471063588,
          0.27574581367708095,
          1.4552279064325093,
          -0.291105920009326,
          0.645407625337804,
          -1.0554341317842224,
          0.33279221486126165,
          0.7025265688025414,
          -0.6610919221931417,
          -0.1667434397585901,
          0.6232829145291728,
          -0.2529836861465784,
          -1.3053816199792052,
          -0.9162982736073634,
          -1.3142225958928595,
          -1.6120659876274441,
          -0.053151427170382286,
          1.872649441601502,
          -1.2683624163519756,
          0.30392219244159846,
          0.8663928886363615,
          -0.847758950848025,
          1.2074149868658006,
          -0.8219780807135773,
          -0.3972774418375647,
          -0.3138094858687506,
          -0.7321270120897498,
          0.19089113734580437,
          -1.467169892336397,
          -0.2704977443472076,
          1.391089216049597,
          -1.4580084882448272,
          -1.6768288954001633,
          -1.2244219128686558,
          -0.5830634268948321,
          2.596545053416106,
          0.5547182458617995,
          -0.009938487125128776,
          0.16661419271903802,
          -2.0051511664441923,
          -0.44142932606142177,
          1.4768445874934977,
          -2.2891089768253154,
          0.9969522087565932,
          -0.48862992958038,
          -0.8483077863746056,
          -0.3957040767842185
         ],
         "xaxis": "x5",
         "y": [
          1.3141888702618962,
          -1.1115662109910567,
          -0.257289607344004,
          -1.4036350331162621,
          -0.9562431416001994,
          0.5284258714874434,
          1.3839270580400518,
          -0.47647239611666187,
          -0.48621055726856166,
          0.21230749228133775,
          -0.4377454130191507,
          1.139461784412099,
          -0.479066908076587,
          -0.5112289603822745,
          1.0655062855344546,
          0.2532285620560627,
          -0.5080625366400148,
          -0.14940661484256632,
          -1.0552401005092436,
          1.3130463314943268,
          -0.09855391494815084,
          1.682056997549952,
          0.025030245632123346,
          -1.0314746214259058,
          -0.24440905168767216,
          -0.9640162206376627,
          1.1659827817820045,
          -0.5949615891396036,
          0.895109825347487,
          -1.1787502459426134,
          0.3606252712904561,
          -2.8874455317853673,
          0.05554922902958001,
          -0.6327253205975053,
          -0.14423079659187038,
          -0.4659585833517143,
          -0.42134027774967997,
          -0.9945211011510153,
          0.5262417418954314,
          0.6521486589933997,
          -0.3002767827572908,
          1.0961571575291982,
          0.02388240668584011,
          -0.251739361646199,
          -0.09132557319225461,
          -0.16222783106006364,
          -0.5800636263739349,
          0.6539517205968917,
          0.2676653096775852,
          -0.12788683168886808,
          0.9301801207771702,
          -0.09177425164037127,
          -1.186280702243975,
          -1.5581869431240989,
          -0.42664764573524705,
          -0.2770735434883226,
          -0.8136201732195788,
          -1.1114664557447358,
          1.6999503007281884,
          -0.7126876105880869,
          -0.0930941715055807,
          -2.3656191409182625,
          0.735568121854511,
          0.541493368025285,
          -0.6301134451738287,
          -0.05449659496425838,
          0.7566045980698098,
          -0.05331049966966534,
          0.7515301988470119,
          1.1756364535626789,
          0.6255519982890726,
          0.4994986012724347,
          -0.33739521345218193,
          0.7932359839780525,
          -0.8486742318118738,
          -0.6162281748236087,
          0.6588315502975075,
          0.47797298287983786,
          0.8313530055118066,
          -1.6412026289064061,
          -0.5091519178754833,
          1.2236901049372901,
          1.2990342992990034,
          -0.4823964312713267,
          0.8897377549146316,
          0.8330977892920045,
          1.2780894780540542,
          0.2073916928678156,
          2.1898409925479587,
          1.2450021823566144,
          0.9417074276447647,
          -0.11353886292187075,
          1.5655409294812892,
          -0.04614353427259727,
          -0.34656495757651096,
          -0.18561680250884616,
          -2.262169847144289,
          0.948170877714612,
          -1.1482499665528605,
          -0.8927910449284819
         ],
         "yaxis": "y5"
        },
        {
         "histfunc": "count",
         "histnorm": "",
         "marker": {
          "color": "rgba(55, 128, 191, 1.0)",
          "line": {
           "color": "#4D5663",
           "width": 1.3
          }
         },
         "name": "B",
         "nbinsx": 10,
         "opacity": 0.8,
         "orientation": "v",
         "type": "histogram",
         "x": [
          1.3141888702618962,
          -1.1115662109910567,
          -0.257289607344004,
          -1.4036350331162621,
          -0.9562431416001994,
          0.5284258714874434,
          1.3839270580400518,
          -0.47647239611666187,
          -0.48621055726856166,
          0.21230749228133775,
          -0.4377454130191507,
          1.139461784412099,
          -0.479066908076587,
          -0.5112289603822745,
          1.0655062855344546,
          0.2532285620560627,
          -0.5080625366400148,
          -0.14940661484256632,
          -1.0552401005092436,
          1.3130463314943268,
          -0.09855391494815084,
          1.682056997549952,
          0.025030245632123346,
          -1.0314746214259058,
          -0.24440905168767216,
          -0.9640162206376627,
          1.1659827817820045,
          -0.5949615891396036,
          0.895109825347487,
          -1.1787502459426134,
          0.3606252712904561,
          -2.8874455317853673,
          0.05554922902958001,
          -0.6327253205975053,
          -0.14423079659187038,
          -0.4659585833517143,
          -0.42134027774967997,
          -0.9945211011510153,
          0.5262417418954314,
          0.6521486589933997,
          -0.3002767827572908,
          1.0961571575291982,
          0.02388240668584011,
          -0.251739361646199,
          -0.09132557319225461,
          -0.16222783106006364,
          -0.5800636263739349,
          0.6539517205968917,
          0.2676653096775852,
          -0.12788683168886808,
          0.9301801207771702,
          -0.09177425164037127,
          -1.186280702243975,
          -1.5581869431240989,
          -0.42664764573524705,
          -0.2770735434883226,
          -0.8136201732195788,
          -1.1114664557447358,
          1.6999503007281884,
          -0.7126876105880869,
          -0.0930941715055807,
          -2.3656191409182625,
          0.735568121854511,
          0.541493368025285,
          -0.6301134451738287,
          -0.05449659496425838,
          0.7566045980698098,
          -0.05331049966966534,
          0.7515301988470119,
          1.1756364535626789,
          0.6255519982890726,
          0.4994986012724347,
          -0.33739521345218193,
          0.7932359839780525,
          -0.8486742318118738,
          -0.6162281748236087,
          0.6588315502975075,
          0.47797298287983786,
          0.8313530055118066,
          -1.6412026289064061,
          -0.5091519178754833,
          1.2236901049372901,
          1.2990342992990034,
          -0.4823964312713267,
          0.8897377549146316,
          0.8330977892920045,
          1.2780894780540542,
          0.2073916928678156,
          2.1898409925479587,
          1.2450021823566144,
          0.9417074276447647,
          -0.11353886292187075,
          1.5655409294812892,
          -0.04614353427259727,
          -0.34656495757651096,
          -0.18561680250884616,
          -2.262169847144289,
          0.948170877714612,
          -1.1482499665528605,
          -0.8927910449284819
         ],
         "xaxis": "x6",
         "yaxis": "y6"
        },
        {
         "line": {
          "color": "rgba(128, 128, 128, 1.0)",
          "dash": "solid",
          "shape": "linear",
          "width": 1.3
         },
         "marker": {
          "size": 2,
          "symbol": "circle"
         },
         "mode": "markers",
         "name": "B",
         "text": "",
         "type": "scatter",
         "x": [
          -0.3852111653161519,
          -0.7830544747937033,
          0.6375500080290681,
          -1.2935251103472951,
          -0.8504493153928624,
          0.09800862044555947,
          -1.3269601219003204,
          0.327204119642585,
          -0.690840086360732,
          0.0599524931219146,
          -0.2664804729565175,
          0.5677036432202524,
          0.44254035862817687,
          -0.534473786392977,
          -1.948328679109903,
          0.3667213673256576,
          -0.8857969564564154,
          0.000480655223030059,
          0.6901565806311147,
          0.4849220911931928,
          -0.3433584734411604,
          -0.044481892108771924,
          0.5219215703694158,
          0.6597640523271316,
          -0.815710202783354,
          0.15440045099651611,
          0.8626151498285916,
          1.2557704479510896,
          -0.8866797361107176,
          0.3116903849033211,
          -0.04586726700738958,
          -2.3210995766552003,
          -1.1141141767156846,
          -0.718790088777296,
          -1.215022691367036,
          0.15990037633325638,
          0.207339989867234,
          -0.1339251170432215,
          -0.31336335779366836,
          0.4727293268665891,
          -1.364271403162109,
          0.38485826485645513,
          -0.564525378196018,
          0.08053092875359465,
          0.8170016869020079,
          -0.16585723881699452,
          -0.7806192924820001,
          0.2757423040683799,
          -0.8052577423922532,
          0.4394975078426791,
          0.05475969001130771,
          0.13002452405704323,
          0.5504028250944053,
          -0.07172476042858046,
          -0.3103852929550721,
          0.6345882181965192,
          0.45129839073710004,
          0.24133569488877202,
          0.4660206009407888,
          0.32051436624277957,
          -1.4713410106320284,
          -0.6439436638461494,
          0.0282498419594593,
          -1.9532860898921842,
          -0.2281728072186295,
          -1.6461248416327923,
          -0.8361741257415685,
          1.103069631310339,
          1.9773169265966584,
          0.48488610606642524,
          -0.3119955389235842,
          -0.02493730005691768,
          -0.9557993486325946,
          -0.8739418396473461,
          -0.594468085245611,
          -0.12311748015716892,
          0.16163289632042396,
          0.2591893055592278,
          -0.5245824774930369,
          0.9712195427151722,
          -1.0285584635996985,
          1.3835410963227326,
          -1.1643694982378814,
          1.267446133373859,
          0.4221341686342332,
          1.1078361853210785,
          0.7270842106888753,
          0.21856045988541378,
          0.797581282367628,
          -0.6429999476331801,
          -0.8820815237633904,
          0.2584226877120125,
          -0.8029529727740128,
          1.4766089511557463,
          -0.48802675784715516,
          1.001168054874638,
          -1.0613223170663308,
          0.7350981512413484,
          1.2784722523026892,
          0.1117515228145326
         ],
         "xaxis": "x7",
         "y": [
          1.3141888702618962,
          -1.1115662109910567,
          -0.257289607344004,
          -1.4036350331162621,
          -0.9562431416001994,
          0.5284258714874434,
          1.3839270580400518,
          -0.47647239611666187,
          -0.48621055726856166,
          0.21230749228133775,
          -0.4377454130191507,
          1.139461784412099,
          -0.479066908076587,
          -0.5112289603822745,
          1.0655062855344546,
          0.2532285620560627,
          -0.5080625366400148,
          -0.14940661484256632,
          -1.0552401005092436,
          1.3130463314943268,
          -0.09855391494815084,
          1.682056997549952,
          0.025030245632123346,
          -1.0314746214259058,
          -0.24440905168767216,
          -0.9640162206376627,
          1.1659827817820045,
          -0.5949615891396036,
          0.895109825347487,
          -1.1787502459426134,
          0.3606252712904561,
          -2.8874455317853673,
          0.05554922902958001,
          -0.6327253205975053,
          -0.14423079659187038,
          -0.4659585833517143,
          -0.42134027774967997,
          -0.9945211011510153,
          0.5262417418954314,
          0.6521486589933997,
          -0.3002767827572908,
          1.0961571575291982,
          0.02388240668584011,
          -0.251739361646199,
          -0.09132557319225461,
          -0.16222783106006364,
          -0.5800636263739349,
          0.6539517205968917,
          0.2676653096775852,
          -0.12788683168886808,
          0.9301801207771702,
          -0.09177425164037127,
          -1.186280702243975,
          -1.5581869431240989,
          -0.42664764573524705,
          -0.2770735434883226,
          -0.8136201732195788,
          -1.1114664557447358,
          1.6999503007281884,
          -0.7126876105880869,
          -0.0930941715055807,
          -2.3656191409182625,
          0.735568121854511,
          0.541493368025285,
          -0.6301134451738287,
          -0.05449659496425838,
          0.7566045980698098,
          -0.05331049966966534,
          0.7515301988470119,
          1.1756364535626789,
          0.6255519982890726,
          0.4994986012724347,
          -0.33739521345218193,
          0.7932359839780525,
          -0.8486742318118738,
          -0.6162281748236087,
          0.6588315502975075,
          0.47797298287983786,
          0.8313530055118066,
          -1.6412026289064061,
          -0.5091519178754833,
          1.2236901049372901,
          1.2990342992990034,
          -0.4823964312713267,
          0.8897377549146316,
          0.8330977892920045,
          1.2780894780540542,
          0.2073916928678156,
          2.1898409925479587,
          1.2450021823566144,
          0.9417074276447647,
          -0.11353886292187075,
          1.5655409294812892,
          -0.04614353427259727,
          -0.34656495757651096,
          -0.18561680250884616,
          -2.262169847144289,
          0.948170877714612,
          -1.1482499665528605,
          -0.8927910449284819
         ],
         "yaxis": "y7"
        },
        {
         "line": {
          "color": "rgba(128, 128, 128, 1.0)",
          "dash": "solid",
          "shape": "linear",
          "width": 1.3
         },
         "marker": {
          "size": 2,
          "symbol": "circle"
         },
         "mode": "markers",
         "name": "B",
         "text": "",
         "type": "scatter",
         "x": [
          0.9772336509828237,
          -0.07647478318063784,
          0.7413636391750652,
          -0.15912297894377248,
          -0.15177625272150932,
          0.1199900295795598,
          0.2716635668621539,
          0.3709292464448456,
          0.5828024998577414,
          1.1233734325816407,
          0.5350414757703158,
          -0.27835449335894125,
          -0.5384981463868941,
          1.7604427122046729,
          -0.1798211998472201,
          -0.07259583442974381,
          0.6927847927489181,
          1.713753068511354,
          0.5580318332801198,
          1.8777101613687104,
          2.096919796229778,
          2.006680204819293,
          1.0358068816393418,
          -1.0471118960905113,
          0.11421243302452166,
          0.905838606468195,
          -1.3557540465958646,
          0.052203996643662834,
          1.065635124475401,
          -0.5948064543443344,
          0.5824474335176656,
          0.03769772664088032,
          -0.9295819904348213,
          0.08773160196539075,
          -1.4326929160965838,
          0.708051413119108,
          -0.07046148088440911,
          -0.14346819164193475,
          0.3763987464634078,
          1.489497426963874,
          -1.1875085365888707,
          -0.6972667620976027,
          -0.37526823498872225,
          -0.07039635195846435,
          -1.1069599873901415,
          0.351561602957237,
          1.7233931104452467,
          0.5680461134761515,
          -0.7651406350372749,
          -0.8855202646912165,
          0.24331003393244538,
          -1.9622170655863536,
          0.25109763454148615,
          -1.7649926672975669,
          -0.4234854127409118,
          -0.7143020036904693,
          0.20749639433841285,
          0.010268364756173215,
          0.0952854975447978,
          -0.5550510334752385,
          -0.4934942677949766,
          1.6175409619083556,
          0.3332748338333687,
          -0.5344727243038119,
          1.0015841881282095,
          0.10562661347557104,
          -0.1852368746866717,
          -0.07930200523712144,
          -0.9472604504862842,
          -0.6793917614321774,
          0.3478046849795794,
          -0.06819282824824709,
          -0.24348051996278372,
          0.4653730332137223,
          0.8868921917777485,
          -0.8744287471716156,
          0.8505394053147777,
          -0.7165134712897009,
          0.31470910612493974,
          2.2048428931352952,
          -0.37326042759452166,
          -0.6869832077121661,
          0.4538698980652648,
          0.3835572135228256,
          0.5864267829588884,
          0.1366552671255307,
          -0.29731483868073927,
          0.2921796384197413,
          1.204393005274402,
          0.03240134226909766,
          0.4841180429521735,
          -0.6875951590864127,
          1.320895128089415,
          -1.5772719223289127,
          1.083135276429853,
          1.5582687187488196,
          0.0402198571728886,
          0.782586581086116,
          -0.826500765488446,
          0.6466110743888642
         ],
         "xaxis": "x8",
         "y": [
          1.3141888702618962,
          -1.1115662109910567,
          -0.257289607344004,
          -1.4036350331162621,
          -0.9562431416001994,
          0.5284258714874434,
          1.3839270580400518,
          -0.47647239611666187,
          -0.48621055726856166,
          0.21230749228133775,
          -0.4377454130191507,
          1.139461784412099,
          -0.479066908076587,
          -0.5112289603822745,
          1.0655062855344546,
          0.2532285620560627,
          -0.5080625366400148,
          -0.14940661484256632,
          -1.0552401005092436,
          1.3130463314943268,
          -0.09855391494815084,
          1.682056997549952,
          0.025030245632123346,
          -1.0314746214259058,
          -0.24440905168767216,
          -0.9640162206376627,
          1.1659827817820045,
          -0.5949615891396036,
          0.895109825347487,
          -1.1787502459426134,
          0.3606252712904561,
          -2.8874455317853673,
          0.05554922902958001,
          -0.6327253205975053,
          -0.14423079659187038,
          -0.4659585833517143,
          -0.42134027774967997,
          -0.9945211011510153,
          0.5262417418954314,
          0.6521486589933997,
          -0.3002767827572908,
          1.0961571575291982,
          0.02388240668584011,
          -0.251739361646199,
          -0.09132557319225461,
          -0.16222783106006364,
          -0.5800636263739349,
          0.6539517205968917,
          0.2676653096775852,
          -0.12788683168886808,
          0.9301801207771702,
          -0.09177425164037127,
          -1.186280702243975,
          -1.5581869431240989,
          -0.42664764573524705,
          -0.2770735434883226,
          -0.8136201732195788,
          -1.1114664557447358,
          1.6999503007281884,
          -0.7126876105880869,
          -0.0930941715055807,
          -2.3656191409182625,
          0.735568121854511,
          0.541493368025285,
          -0.6301134451738287,
          -0.05449659496425838,
          0.7566045980698098,
          -0.05331049966966534,
          0.7515301988470119,
          1.1756364535626789,
          0.6255519982890726,
          0.4994986012724347,
          -0.33739521345218193,
          0.7932359839780525,
          -0.8486742318118738,
          -0.6162281748236087,
          0.6588315502975075,
          0.47797298287983786,
          0.8313530055118066,
          -1.6412026289064061,
          -0.5091519178754833,
          1.2236901049372901,
          1.2990342992990034,
          -0.4823964312713267,
          0.8897377549146316,
          0.8330977892920045,
          1.2780894780540542,
          0.2073916928678156,
          2.1898409925479587,
          1.2450021823566144,
          0.9417074276447647,
          -0.11353886292187075,
          1.5655409294812892,
          -0.04614353427259727,
          -0.34656495757651096,
          -0.18561680250884616,
          -2.262169847144289,
          0.948170877714612,
          -1.1482499665528605,
          -0.8927910449284819
         ],
         "yaxis": "y8"
        },
        {
         "line": {
          "color": "rgba(128, 128, 128, 1.0)",
          "dash": "solid",
          "shape": "linear",
          "width": 1.3
         },
         "marker": {
          "size": 2,
          "symbol": "circle"
         },
         "mode": "markers",
         "name": "C",
         "text": "",
         "type": "scatter",
         "x": [
          -2.2555933768724947,
          -0.03382340070021499,
          -0.3200478984174772,
          0.05045835842384177,
          0.2233965386018236,
          0.2536608574004414,
          -0.6692398991913475,
          -0.4786089224325477,
          0.6512291566816155,
          -0.9992360969851862,
          -0.22169793134556703,
          -1.1712641861345396,
          0.3252298075551189,
          0.8914928115672888,
          -0.0369001928301434,
          -0.12612875726858397,
          -0.6321662033550624,
          -0.7177849850115586,
          -0.7380476067025662,
          -0.6496181734346335,
          -0.7764825074228829,
          0.9825053624790435,
          0.2583656046298789,
          -0.037818224865744765,
          0.1633648933126579,
          0.09045583256205675,
          0.6019746573813641,
          0.8630717855557517,
          -0.6891220161380268,
          0.008139132913083826,
          1.4462942945255972,
          1.0974328278372718,
          1.7026391999584558,
          0.13232510434415812,
          -1.4930236346176566,
          0.5717283572309633,
          1.6027573821880863,
          -0.26316261913033745,
          0.1428706155553884,
          -1.9689781776908595,
          0.7573252641608401,
          1.2815546026772953,
          0.4347619600899514,
          -0.5353942165407267,
          0.9427327554963698,
          1.1790481704431377,
          -0.4103179505335398,
          1.467563169562042,
          1.38742208689959,
          -0.1878420460340362,
          0.9561618545448747,
          -0.6783596081109666,
          -0.7343973073358498,
          0.3220750471063588,
          0.27574581367708095,
          1.4552279064325093,
          -0.291105920009326,
          0.645407625337804,
          -1.0554341317842224,
          0.33279221486126165,
          0.7025265688025414,
          -0.6610919221931417,
          -0.1667434397585901,
          0.6232829145291728,
          -0.2529836861465784,
          -1.3053816199792052,
          -0.9162982736073634,
          -1.3142225958928595,
          -1.6120659876274441,
          -0.053151427170382286,
          1.872649441601502,
          -1.2683624163519756,
          0.30392219244159846,
          0.8663928886363615,
          -0.847758950848025,
          1.2074149868658006,
          -0.8219780807135773,
          -0.3972774418375647,
          -0.3138094858687506,
          -0.7321270120897498,
          0.19089113734580437,
          -1.467169892336397,
          -0.2704977443472076,
          1.391089216049597,
          -1.4580084882448272,
          -1.6768288954001633,
          -1.2244219128686558,
          -0.5830634268948321,
          2.596545053416106,
          0.5547182458617995,
          -0.009938487125128776,
          0.16661419271903802,
          -2.0051511664441923,
          -0.44142932606142177,
          1.4768445874934977,
          -2.2891089768253154,
          0.9969522087565932,
          -0.48862992958038,
          -0.8483077863746056,
          -0.3957040767842185
         ],
         "xaxis": "x9",
         "y": [
          -0.3852111653161519,
          -0.7830544747937033,
          0.6375500080290681,
          -1.2935251103472951,
          -0.8504493153928624,
          0.09800862044555947,
          -1.3269601219003204,
          0.327204119642585,
          -0.690840086360732,
          0.0599524931219146,
          -0.2664804729565175,
          0.5677036432202524,
          0.44254035862817687,
          -0.534473786392977,
          -1.948328679109903,
          0.3667213673256576,
          -0.8857969564564154,
          0.000480655223030059,
          0.6901565806311147,
          0.4849220911931928,
          -0.3433584734411604,
          -0.044481892108771924,
          0.5219215703694158,
          0.6597640523271316,
          -0.815710202783354,
          0.15440045099651611,
          0.8626151498285916,
          1.2557704479510896,
          -0.8866797361107176,
          0.3116903849033211,
          -0.04586726700738958,
          -2.3210995766552003,
          -1.1141141767156846,
          -0.718790088777296,
          -1.215022691367036,
          0.15990037633325638,
          0.207339989867234,
          -0.1339251170432215,
          -0.31336335779366836,
          0.4727293268665891,
          -1.364271403162109,
          0.38485826485645513,
          -0.564525378196018,
          0.08053092875359465,
          0.8170016869020079,
          -0.16585723881699452,
          -0.7806192924820001,
          0.2757423040683799,
          -0.8052577423922532,
          0.4394975078426791,
          0.05475969001130771,
          0.13002452405704323,
          0.5504028250944053,
          -0.07172476042858046,
          -0.3103852929550721,
          0.6345882181965192,
          0.45129839073710004,
          0.24133569488877202,
          0.4660206009407888,
          0.32051436624277957,
          -1.4713410106320284,
          -0.6439436638461494,
          0.0282498419594593,
          -1.9532860898921842,
          -0.2281728072186295,
          -1.6461248416327923,
          -0.8361741257415685,
          1.103069631310339,
          1.9773169265966584,
          0.48488610606642524,
          -0.3119955389235842,
          -0.02493730005691768,
          -0.9557993486325946,
          -0.8739418396473461,
          -0.594468085245611,
          -0.12311748015716892,
          0.16163289632042396,
          0.2591893055592278,
          -0.5245824774930369,
          0.9712195427151722,
          -1.0285584635996985,
          1.3835410963227326,
          -1.1643694982378814,
          1.267446133373859,
          0.4221341686342332,
          1.1078361853210785,
          0.7270842106888753,
          0.21856045988541378,
          0.797581282367628,
          -0.6429999476331801,
          -0.8820815237633904,
          0.2584226877120125,
          -0.8029529727740128,
          1.4766089511557463,
          -0.48802675784715516,
          1.001168054874638,
          -1.0613223170663308,
          0.7350981512413484,
          1.2784722523026892,
          0.1117515228145326
         ],
         "yaxis": "y9"
        },
        {
         "line": {
          "color": "rgba(128, 128, 128, 1.0)",
          "dash": "solid",
          "shape": "linear",
          "width": 1.3
         },
         "marker": {
          "size": 2,
          "symbol": "circle"
         },
         "mode": "markers",
         "name": "C",
         "text": "",
         "type": "scatter",
         "x": [
          1.3141888702618962,
          -1.1115662109910567,
          -0.257289607344004,
          -1.4036350331162621,
          -0.9562431416001994,
          0.5284258714874434,
          1.3839270580400518,
          -0.47647239611666187,
          -0.48621055726856166,
          0.21230749228133775,
          -0.4377454130191507,
          1.139461784412099,
          -0.479066908076587,
          -0.5112289603822745,
          1.0655062855344546,
          0.2532285620560627,
          -0.5080625366400148,
          -0.14940661484256632,
          -1.0552401005092436,
          1.3130463314943268,
          -0.09855391494815084,
          1.682056997549952,
          0.025030245632123346,
          -1.0314746214259058,
          -0.24440905168767216,
          -0.9640162206376627,
          1.1659827817820045,
          -0.5949615891396036,
          0.895109825347487,
          -1.1787502459426134,
          0.3606252712904561,
          -2.8874455317853673,
          0.05554922902958001,
          -0.6327253205975053,
          -0.14423079659187038,
          -0.4659585833517143,
          -0.42134027774967997,
          -0.9945211011510153,
          0.5262417418954314,
          0.6521486589933997,
          -0.3002767827572908,
          1.0961571575291982,
          0.02388240668584011,
          -0.251739361646199,
          -0.09132557319225461,
          -0.16222783106006364,
          -0.5800636263739349,
          0.6539517205968917,
          0.2676653096775852,
          -0.12788683168886808,
          0.9301801207771702,
          -0.09177425164037127,
          -1.186280702243975,
          -1.5581869431240989,
          -0.42664764573524705,
          -0.2770735434883226,
          -0.8136201732195788,
          -1.1114664557447358,
          1.6999503007281884,
          -0.7126876105880869,
          -0.0930941715055807,
          -2.3656191409182625,
          0.735568121854511,
          0.541493368025285,
          -0.6301134451738287,
          -0.05449659496425838,
          0.7566045980698098,
          -0.05331049966966534,
          0.7515301988470119,
          1.1756364535626789,
          0.6255519982890726,
          0.4994986012724347,
          -0.33739521345218193,
          0.7932359839780525,
          -0.8486742318118738,
          -0.6162281748236087,
          0.6588315502975075,
          0.47797298287983786,
          0.8313530055118066,
          -1.6412026289064061,
          -0.5091519178754833,
          1.2236901049372901,
          1.2990342992990034,
          -0.4823964312713267,
          0.8897377549146316,
          0.8330977892920045,
          1.2780894780540542,
          0.2073916928678156,
          2.1898409925479587,
          1.2450021823566144,
          0.9417074276447647,
          -0.11353886292187075,
          1.5655409294812892,
          -0.04614353427259727,
          -0.34656495757651096,
          -0.18561680250884616,
          -2.262169847144289,
          0.948170877714612,
          -1.1482499665528605,
          -0.8927910449284819
         ],
         "xaxis": "x10",
         "y": [
          -0.3852111653161519,
          -0.7830544747937033,
          0.6375500080290681,
          -1.2935251103472951,
          -0.8504493153928624,
          0.09800862044555947,
          -1.3269601219003204,
          0.327204119642585,
          -0.690840086360732,
          0.0599524931219146,
          -0.2664804729565175,
          0.5677036432202524,
          0.44254035862817687,
          -0.534473786392977,
          -1.948328679109903,
          0.3667213673256576,
          -0.8857969564564154,
          0.000480655223030059,
          0.6901565806311147,
          0.4849220911931928,
          -0.3433584734411604,
          -0.044481892108771924,
          0.5219215703694158,
          0.6597640523271316,
          -0.815710202783354,
          0.15440045099651611,
          0.8626151498285916,
          1.2557704479510896,
          -0.8866797361107176,
          0.3116903849033211,
          -0.04586726700738958,
          -2.3210995766552003,
          -1.1141141767156846,
          -0.718790088777296,
          -1.215022691367036,
          0.15990037633325638,
          0.207339989867234,
          -0.1339251170432215,
          -0.31336335779366836,
          0.4727293268665891,
          -1.364271403162109,
          0.38485826485645513,
          -0.564525378196018,
          0.08053092875359465,
          0.8170016869020079,
          -0.16585723881699452,
          -0.7806192924820001,
          0.2757423040683799,
          -0.8052577423922532,
          0.4394975078426791,
          0.05475969001130771,
          0.13002452405704323,
          0.5504028250944053,
          -0.07172476042858046,
          -0.3103852929550721,
          0.6345882181965192,
          0.45129839073710004,
          0.24133569488877202,
          0.4660206009407888,
          0.32051436624277957,
          -1.4713410106320284,
          -0.6439436638461494,
          0.0282498419594593,
          -1.9532860898921842,
          -0.2281728072186295,
          -1.6461248416327923,
          -0.8361741257415685,
          1.103069631310339,
          1.9773169265966584,
          0.48488610606642524,
          -0.3119955389235842,
          -0.02493730005691768,
          -0.9557993486325946,
          -0.8739418396473461,
          -0.594468085245611,
          -0.12311748015716892,
          0.16163289632042396,
          0.2591893055592278,
          -0.5245824774930369,
          0.9712195427151722,
          -1.0285584635996985,
          1.3835410963227326,
          -1.1643694982378814,
          1.267446133373859,
          0.4221341686342332,
          1.1078361853210785,
          0.7270842106888753,
          0.21856045988541378,
          0.797581282367628,
          -0.6429999476331801,
          -0.8820815237633904,
          0.2584226877120125,
          -0.8029529727740128,
          1.4766089511557463,
          -0.48802675784715516,
          1.001168054874638,
          -1.0613223170663308,
          0.7350981512413484,
          1.2784722523026892,
          0.1117515228145326
         ],
         "yaxis": "y10"
        },
        {
         "histfunc": "count",
         "histnorm": "",
         "marker": {
          "color": "rgba(50, 171, 96, 1.0)",
          "line": {
           "color": "#4D5663",
           "width": 1.3
          }
         },
         "name": "C",
         "nbinsx": 10,
         "opacity": 0.8,
         "orientation": "v",
         "type": "histogram",
         "x": [
          -0.3852111653161519,
          -0.7830544747937033,
          0.6375500080290681,
          -1.2935251103472951,
          -0.8504493153928624,
          0.09800862044555947,
          -1.3269601219003204,
          0.327204119642585,
          -0.690840086360732,
          0.0599524931219146,
          -0.2664804729565175,
          0.5677036432202524,
          0.44254035862817687,
          -0.534473786392977,
          -1.948328679109903,
          0.3667213673256576,
          -0.8857969564564154,
          0.000480655223030059,
          0.6901565806311147,
          0.4849220911931928,
          -0.3433584734411604,
          -0.044481892108771924,
          0.5219215703694158,
          0.6597640523271316,
          -0.815710202783354,
          0.15440045099651611,
          0.8626151498285916,
          1.2557704479510896,
          -0.8866797361107176,
          0.3116903849033211,
          -0.04586726700738958,
          -2.3210995766552003,
          -1.1141141767156846,
          -0.718790088777296,
          -1.215022691367036,
          0.15990037633325638,
          0.207339989867234,
          -0.1339251170432215,
          -0.31336335779366836,
          0.4727293268665891,
          -1.364271403162109,
          0.38485826485645513,
          -0.564525378196018,
          0.08053092875359465,
          0.8170016869020079,
          -0.16585723881699452,
          -0.7806192924820001,
          0.2757423040683799,
          -0.8052577423922532,
          0.4394975078426791,
          0.05475969001130771,
          0.13002452405704323,
          0.5504028250944053,
          -0.07172476042858046,
          -0.3103852929550721,
          0.6345882181965192,
          0.45129839073710004,
          0.24133569488877202,
          0.4660206009407888,
          0.32051436624277957,
          -1.4713410106320284,
          -0.6439436638461494,
          0.0282498419594593,
          -1.9532860898921842,
          -0.2281728072186295,
          -1.6461248416327923,
          -0.8361741257415685,
          1.103069631310339,
          1.9773169265966584,
          0.48488610606642524,
          -0.3119955389235842,
          -0.02493730005691768,
          -0.9557993486325946,
          -0.8739418396473461,
          -0.594468085245611,
          -0.12311748015716892,
          0.16163289632042396,
          0.2591893055592278,
          -0.5245824774930369,
          0.9712195427151722,
          -1.0285584635996985,
          1.3835410963227326,
          -1.1643694982378814,
          1.267446133373859,
          0.4221341686342332,
          1.1078361853210785,
          0.7270842106888753,
          0.21856045988541378,
          0.797581282367628,
          -0.6429999476331801,
          -0.8820815237633904,
          0.2584226877120125,
          -0.8029529727740128,
          1.4766089511557463,
          -0.48802675784715516,
          1.001168054874638,
          -1.0613223170663308,
          0.7350981512413484,
          1.2784722523026892,
          0.1117515228145326
         ],
         "xaxis": "x11",
         "yaxis": "y11"
        },
        {
         "line": {
          "color": "rgba(128, 128, 128, 1.0)",
          "dash": "solid",
          "shape": "linear",
          "width": 1.3
         },
         "marker": {
          "size": 2,
          "symbol": "circle"
         },
         "mode": "markers",
         "name": "C",
         "text": "",
         "type": "scatter",
         "x": [
          0.9772336509828237,
          -0.07647478318063784,
          0.7413636391750652,
          -0.15912297894377248,
          -0.15177625272150932,
          0.1199900295795598,
          0.2716635668621539,
          0.3709292464448456,
          0.5828024998577414,
          1.1233734325816407,
          0.5350414757703158,
          -0.27835449335894125,
          -0.5384981463868941,
          1.7604427122046729,
          -0.1798211998472201,
          -0.07259583442974381,
          0.6927847927489181,
          1.713753068511354,
          0.5580318332801198,
          1.8777101613687104,
          2.096919796229778,
          2.006680204819293,
          1.0358068816393418,
          -1.0471118960905113,
          0.11421243302452166,
          0.905838606468195,
          -1.3557540465958646,
          0.052203996643662834,
          1.065635124475401,
          -0.5948064543443344,
          0.5824474335176656,
          0.03769772664088032,
          -0.9295819904348213,
          0.08773160196539075,
          -1.4326929160965838,
          0.708051413119108,
          -0.07046148088440911,
          -0.14346819164193475,
          0.3763987464634078,
          1.489497426963874,
          -1.1875085365888707,
          -0.6972667620976027,
          -0.37526823498872225,
          -0.07039635195846435,
          -1.1069599873901415,
          0.351561602957237,
          1.7233931104452467,
          0.5680461134761515,
          -0.7651406350372749,
          -0.8855202646912165,
          0.24331003393244538,
          -1.9622170655863536,
          0.25109763454148615,
          -1.7649926672975669,
          -0.4234854127409118,
          -0.7143020036904693,
          0.20749639433841285,
          0.010268364756173215,
          0.0952854975447978,
          -0.5550510334752385,
          -0.4934942677949766,
          1.6175409619083556,
          0.3332748338333687,
          -0.5344727243038119,
          1.0015841881282095,
          0.10562661347557104,
          -0.1852368746866717,
          -0.07930200523712144,
          -0.9472604504862842,
          -0.6793917614321774,
          0.3478046849795794,
          -0.06819282824824709,
          -0.24348051996278372,
          0.4653730332137223,
          0.8868921917777485,
          -0.8744287471716156,
          0.8505394053147777,
          -0.7165134712897009,
          0.31470910612493974,
          2.2048428931352952,
          -0.37326042759452166,
          -0.6869832077121661,
          0.4538698980652648,
          0.3835572135228256,
          0.5864267829588884,
          0.1366552671255307,
          -0.29731483868073927,
          0.2921796384197413,
          1.204393005274402,
          0.03240134226909766,
          0.4841180429521735,
          -0.6875951590864127,
          1.320895128089415,
          -1.5772719223289127,
          1.083135276429853,
          1.5582687187488196,
          0.0402198571728886,
          0.782586581086116,
          -0.826500765488446,
          0.6466110743888642
         ],
         "xaxis": "x12",
         "y": [
          -0.3852111653161519,
          -0.7830544747937033,
          0.6375500080290681,
          -1.2935251103472951,
          -0.8504493153928624,
          0.09800862044555947,
          -1.3269601219003204,
          0.327204119642585,
          -0.690840086360732,
          0.0599524931219146,
          -0.2664804729565175,
          0.5677036432202524,
          0.44254035862817687,
          -0.534473786392977,
          -1.948328679109903,
          0.3667213673256576,
          -0.8857969564564154,
          0.000480655223030059,
          0.6901565806311147,
          0.4849220911931928,
          -0.3433584734411604,
          -0.044481892108771924,
          0.5219215703694158,
          0.6597640523271316,
          -0.815710202783354,
          0.15440045099651611,
          0.8626151498285916,
          1.2557704479510896,
          -0.8866797361107176,
          0.3116903849033211,
          -0.04586726700738958,
          -2.3210995766552003,
          -1.1141141767156846,
          -0.718790088777296,
          -1.215022691367036,
          0.15990037633325638,
          0.207339989867234,
          -0.1339251170432215,
          -0.31336335779366836,
          0.4727293268665891,
          -1.364271403162109,
          0.38485826485645513,
          -0.564525378196018,
          0.08053092875359465,
          0.8170016869020079,
          -0.16585723881699452,
          -0.7806192924820001,
          0.2757423040683799,
          -0.8052577423922532,
          0.4394975078426791,
          0.05475969001130771,
          0.13002452405704323,
          0.5504028250944053,
          -0.07172476042858046,
          -0.3103852929550721,
          0.6345882181965192,
          0.45129839073710004,
          0.24133569488877202,
          0.4660206009407888,
          0.32051436624277957,
          -1.4713410106320284,
          -0.6439436638461494,
          0.0282498419594593,
          -1.9532860898921842,
          -0.2281728072186295,
          -1.6461248416327923,
          -0.8361741257415685,
          1.103069631310339,
          1.9773169265966584,
          0.48488610606642524,
          -0.3119955389235842,
          -0.02493730005691768,
          -0.9557993486325946,
          -0.8739418396473461,
          -0.594468085245611,
          -0.12311748015716892,
          0.16163289632042396,
          0.2591893055592278,
          -0.5245824774930369,
          0.9712195427151722,
          -1.0285584635996985,
          1.3835410963227326,
          -1.1643694982378814,
          1.267446133373859,
          0.4221341686342332,
          1.1078361853210785,
          0.7270842106888753,
          0.21856045988541378,
          0.797581282367628,
          -0.6429999476331801,
          -0.8820815237633904,
          0.2584226877120125,
          -0.8029529727740128,
          1.4766089511557463,
          -0.48802675784715516,
          1.001168054874638,
          -1.0613223170663308,
          0.7350981512413484,
          1.2784722523026892,
          0.1117515228145326
         ],
         "yaxis": "y12"
        },
        {
         "line": {
          "color": "rgba(128, 128, 128, 1.0)",
          "dash": "solid",
          "shape": "linear",
          "width": 1.3
         },
         "marker": {
          "size": 2,
          "symbol": "circle"
         },
         "mode": "markers",
         "name": "D",
         "text": "",
         "type": "scatter",
         "x": [
          -2.2555933768724947,
          -0.03382340070021499,
          -0.3200478984174772,
          0.05045835842384177,
          0.2233965386018236,
          0.2536608574004414,
          -0.6692398991913475,
          -0.4786089224325477,
          0.6512291566816155,
          -0.9992360969851862,
          -0.22169793134556703,
          -1.1712641861345396,
          0.3252298075551189,
          0.8914928115672888,
          -0.0369001928301434,
          -0.12612875726858397,
          -0.6321662033550624,
          -0.7177849850115586,
          -0.7380476067025662,
          -0.6496181734346335,
          -0.7764825074228829,
          0.9825053624790435,
          0.2583656046298789,
          -0.037818224865744765,
          0.1633648933126579,
          0.09045583256205675,
          0.6019746573813641,
          0.8630717855557517,
          -0.6891220161380268,
          0.008139132913083826,
          1.4462942945255972,
          1.0974328278372718,
          1.7026391999584558,
          0.13232510434415812,
          -1.4930236346176566,
          0.5717283572309633,
          1.6027573821880863,
          -0.26316261913033745,
          0.1428706155553884,
          -1.9689781776908595,
          0.7573252641608401,
          1.2815546026772953,
          0.4347619600899514,
          -0.5353942165407267,
          0.9427327554963698,
          1.1790481704431377,
          -0.4103179505335398,
          1.467563169562042,
          1.38742208689959,
          -0.1878420460340362,
          0.9561618545448747,
          -0.6783596081109666,
          -0.7343973073358498,
          0.3220750471063588,
          0.27574581367708095,
          1.4552279064325093,
          -0.291105920009326,
          0.645407625337804,
          -1.0554341317842224,
          0.33279221486126165,
          0.7025265688025414,
          -0.6610919221931417,
          -0.1667434397585901,
          0.6232829145291728,
          -0.2529836861465784,
          -1.3053816199792052,
          -0.9162982736073634,
          -1.3142225958928595,
          -1.6120659876274441,
          -0.053151427170382286,
          1.872649441601502,
          -1.2683624163519756,
          0.30392219244159846,
          0.8663928886363615,
          -0.847758950848025,
          1.2074149868658006,
          -0.8219780807135773,
          -0.3972774418375647,
          -0.3138094858687506,
          -0.7321270120897498,
          0.19089113734580437,
          -1.467169892336397,
          -0.2704977443472076,
          1.391089216049597,
          -1.4580084882448272,
          -1.6768288954001633,
          -1.2244219128686558,
          -0.5830634268948321,
          2.596545053416106,
          0.5547182458617995,
          -0.009938487125128776,
          0.16661419271903802,
          -2.0051511664441923,
          -0.44142932606142177,
          1.4768445874934977,
          -2.2891089768253154,
          0.9969522087565932,
          -0.48862992958038,
          -0.8483077863746056,
          -0.3957040767842185
         ],
         "xaxis": "x13",
         "y": [
          0.9772336509828237,
          -0.07647478318063784,
          0.7413636391750652,
          -0.15912297894377248,
          -0.15177625272150932,
          0.1199900295795598,
          0.2716635668621539,
          0.3709292464448456,
          0.5828024998577414,
          1.1233734325816407,
          0.5350414757703158,
          -0.27835449335894125,
          -0.5384981463868941,
          1.7604427122046729,
          -0.1798211998472201,
          -0.07259583442974381,
          0.6927847927489181,
          1.713753068511354,
          0.5580318332801198,
          1.8777101613687104,
          2.096919796229778,
          2.006680204819293,
          1.0358068816393418,
          -1.0471118960905113,
          0.11421243302452166,
          0.905838606468195,
          -1.3557540465958646,
          0.052203996643662834,
          1.065635124475401,
          -0.5948064543443344,
          0.5824474335176656,
          0.03769772664088032,
          -0.9295819904348213,
          0.08773160196539075,
          -1.4326929160965838,
          0.708051413119108,
          -0.07046148088440911,
          -0.14346819164193475,
          0.3763987464634078,
          1.489497426963874,
          -1.1875085365888707,
          -0.6972667620976027,
          -0.37526823498872225,
          -0.07039635195846435,
          -1.1069599873901415,
          0.351561602957237,
          1.7233931104452467,
          0.5680461134761515,
          -0.7651406350372749,
          -0.8855202646912165,
          0.24331003393244538,
          -1.9622170655863536,
          0.25109763454148615,
          -1.7649926672975669,
          -0.4234854127409118,
          -0.7143020036904693,
          0.20749639433841285,
          0.010268364756173215,
          0.0952854975447978,
          -0.5550510334752385,
          -0.4934942677949766,
          1.6175409619083556,
          0.3332748338333687,
          -0.5344727243038119,
          1.0015841881282095,
          0.10562661347557104,
          -0.1852368746866717,
          -0.07930200523712144,
          -0.9472604504862842,
          -0.6793917614321774,
          0.3478046849795794,
          -0.06819282824824709,
          -0.24348051996278372,
          0.4653730332137223,
          0.8868921917777485,
          -0.8744287471716156,
          0.8505394053147777,
          -0.7165134712897009,
          0.31470910612493974,
          2.2048428931352952,
          -0.37326042759452166,
          -0.6869832077121661,
          0.4538698980652648,
          0.3835572135228256,
          0.5864267829588884,
          0.1366552671255307,
          -0.29731483868073927,
          0.2921796384197413,
          1.204393005274402,
          0.03240134226909766,
          0.4841180429521735,
          -0.6875951590864127,
          1.320895128089415,
          -1.5772719223289127,
          1.083135276429853,
          1.5582687187488196,
          0.0402198571728886,
          0.782586581086116,
          -0.826500765488446,
          0.6466110743888642
         ],
         "yaxis": "y13"
        },
        {
         "line": {
          "color": "rgba(128, 128, 128, 1.0)",
          "dash": "solid",
          "shape": "linear",
          "width": 1.3
         },
         "marker": {
          "size": 2,
          "symbol": "circle"
         },
         "mode": "markers",
         "name": "D",
         "text": "",
         "type": "scatter",
         "x": [
          1.3141888702618962,
          -1.1115662109910567,
          -0.257289607344004,
          -1.4036350331162621,
          -0.9562431416001994,
          0.5284258714874434,
          1.3839270580400518,
          -0.47647239611666187,
          -0.48621055726856166,
          0.21230749228133775,
          -0.4377454130191507,
          1.139461784412099,
          -0.479066908076587,
          -0.5112289603822745,
          1.0655062855344546,
          0.2532285620560627,
          -0.5080625366400148,
          -0.14940661484256632,
          -1.0552401005092436,
          1.3130463314943268,
          -0.09855391494815084,
          1.682056997549952,
          0.025030245632123346,
          -1.0314746214259058,
          -0.24440905168767216,
          -0.9640162206376627,
          1.1659827817820045,
          -0.5949615891396036,
          0.895109825347487,
          -1.1787502459426134,
          0.3606252712904561,
          -2.8874455317853673,
          0.05554922902958001,
          -0.6327253205975053,
          -0.14423079659187038,
          -0.4659585833517143,
          -0.42134027774967997,
          -0.9945211011510153,
          0.5262417418954314,
          0.6521486589933997,
          -0.3002767827572908,
          1.0961571575291982,
          0.02388240668584011,
          -0.251739361646199,
          -0.09132557319225461,
          -0.16222783106006364,
          -0.5800636263739349,
          0.6539517205968917,
          0.2676653096775852,
          -0.12788683168886808,
          0.9301801207771702,
          -0.09177425164037127,
          -1.186280702243975,
          -1.5581869431240989,
          -0.42664764573524705,
          -0.2770735434883226,
          -0.8136201732195788,
          -1.1114664557447358,
          1.6999503007281884,
          -0.7126876105880869,
          -0.0930941715055807,
          -2.3656191409182625,
          0.735568121854511,
          0.541493368025285,
          -0.6301134451738287,
          -0.05449659496425838,
          0.7566045980698098,
          -0.05331049966966534,
          0.7515301988470119,
          1.1756364535626789,
          0.6255519982890726,
          0.4994986012724347,
          -0.33739521345218193,
          0.7932359839780525,
          -0.8486742318118738,
          -0.6162281748236087,
          0.6588315502975075,
          0.47797298287983786,
          0.8313530055118066,
          -1.6412026289064061,
          -0.5091519178754833,
          1.2236901049372901,
          1.2990342992990034,
          -0.4823964312713267,
          0.8897377549146316,
          0.8330977892920045,
          1.2780894780540542,
          0.2073916928678156,
          2.1898409925479587,
          1.2450021823566144,
          0.9417074276447647,
          -0.11353886292187075,
          1.5655409294812892,
          -0.04614353427259727,
          -0.34656495757651096,
          -0.18561680250884616,
          -2.262169847144289,
          0.948170877714612,
          -1.1482499665528605,
          -0.8927910449284819
         ],
         "xaxis": "x14",
         "y": [
          0.9772336509828237,
          -0.07647478318063784,
          0.7413636391750652,
          -0.15912297894377248,
          -0.15177625272150932,
          0.1199900295795598,
          0.2716635668621539,
          0.3709292464448456,
          0.5828024998577414,
          1.1233734325816407,
          0.5350414757703158,
          -0.27835449335894125,
          -0.5384981463868941,
          1.7604427122046729,
          -0.1798211998472201,
          -0.07259583442974381,
          0.6927847927489181,
          1.713753068511354,
          0.5580318332801198,
          1.8777101613687104,
          2.096919796229778,
          2.006680204819293,
          1.0358068816393418,
          -1.0471118960905113,
          0.11421243302452166,
          0.905838606468195,
          -1.3557540465958646,
          0.052203996643662834,
          1.065635124475401,
          -0.5948064543443344,
          0.5824474335176656,
          0.03769772664088032,
          -0.9295819904348213,
          0.08773160196539075,
          -1.4326929160965838,
          0.708051413119108,
          -0.07046148088440911,
          -0.14346819164193475,
          0.3763987464634078,
          1.489497426963874,
          -1.1875085365888707,
          -0.6972667620976027,
          -0.37526823498872225,
          -0.07039635195846435,
          -1.1069599873901415,
          0.351561602957237,
          1.7233931104452467,
          0.5680461134761515,
          -0.7651406350372749,
          -0.8855202646912165,
          0.24331003393244538,
          -1.9622170655863536,
          0.25109763454148615,
          -1.7649926672975669,
          -0.4234854127409118,
          -0.7143020036904693,
          0.20749639433841285,
          0.010268364756173215,
          0.0952854975447978,
          -0.5550510334752385,
          -0.4934942677949766,
          1.6175409619083556,
          0.3332748338333687,
          -0.5344727243038119,
          1.0015841881282095,
          0.10562661347557104,
          -0.1852368746866717,
          -0.07930200523712144,
          -0.9472604504862842,
          -0.6793917614321774,
          0.3478046849795794,
          -0.06819282824824709,
          -0.24348051996278372,
          0.4653730332137223,
          0.8868921917777485,
          -0.8744287471716156,
          0.8505394053147777,
          -0.7165134712897009,
          0.31470910612493974,
          2.2048428931352952,
          -0.37326042759452166,
          -0.6869832077121661,
          0.4538698980652648,
          0.3835572135228256,
          0.5864267829588884,
          0.1366552671255307,
          -0.29731483868073927,
          0.2921796384197413,
          1.204393005274402,
          0.03240134226909766,
          0.4841180429521735,
          -0.6875951590864127,
          1.320895128089415,
          -1.5772719223289127,
          1.083135276429853,
          1.5582687187488196,
          0.0402198571728886,
          0.782586581086116,
          -0.826500765488446,
          0.6466110743888642
         ],
         "yaxis": "y14"
        },
        {
         "line": {
          "color": "rgba(128, 128, 128, 1.0)",
          "dash": "solid",
          "shape": "linear",
          "width": 1.3
         },
         "marker": {
          "size": 2,
          "symbol": "circle"
         },
         "mode": "markers",
         "name": "D",
         "text": "",
         "type": "scatter",
         "x": [
          -0.3852111653161519,
          -0.7830544747937033,
          0.6375500080290681,
          -1.2935251103472951,
          -0.8504493153928624,
          0.09800862044555947,
          -1.3269601219003204,
          0.327204119642585,
          -0.690840086360732,
          0.0599524931219146,
          -0.2664804729565175,
          0.5677036432202524,
          0.44254035862817687,
          -0.534473786392977,
          -1.948328679109903,
          0.3667213673256576,
          -0.8857969564564154,
          0.000480655223030059,
          0.6901565806311147,
          0.4849220911931928,
          -0.3433584734411604,
          -0.044481892108771924,
          0.5219215703694158,
          0.6597640523271316,
          -0.815710202783354,
          0.15440045099651611,
          0.8626151498285916,
          1.2557704479510896,
          -0.8866797361107176,
          0.3116903849033211,
          -0.04586726700738958,
          -2.3210995766552003,
          -1.1141141767156846,
          -0.718790088777296,
          -1.215022691367036,
          0.15990037633325638,
          0.207339989867234,
          -0.1339251170432215,
          -0.31336335779366836,
          0.4727293268665891,
          -1.364271403162109,
          0.38485826485645513,
          -0.564525378196018,
          0.08053092875359465,
          0.8170016869020079,
          -0.16585723881699452,
          -0.7806192924820001,
          0.2757423040683799,
          -0.8052577423922532,
          0.4394975078426791,
          0.05475969001130771,
          0.13002452405704323,
          0.5504028250944053,
          -0.07172476042858046,
          -0.3103852929550721,
          0.6345882181965192,
          0.45129839073710004,
          0.24133569488877202,
          0.4660206009407888,
          0.32051436624277957,
          -1.4713410106320284,
          -0.6439436638461494,
          0.0282498419594593,
          -1.9532860898921842,
          -0.2281728072186295,
          -1.6461248416327923,
          -0.8361741257415685,
          1.103069631310339,
          1.9773169265966584,
          0.48488610606642524,
          -0.3119955389235842,
          -0.02493730005691768,
          -0.9557993486325946,
          -0.8739418396473461,
          -0.594468085245611,
          -0.12311748015716892,
          0.16163289632042396,
          0.2591893055592278,
          -0.5245824774930369,
          0.9712195427151722,
          -1.0285584635996985,
          1.3835410963227326,
          -1.1643694982378814,
          1.267446133373859,
          0.4221341686342332,
          1.1078361853210785,
          0.7270842106888753,
          0.21856045988541378,
          0.797581282367628,
          -0.6429999476331801,
          -0.8820815237633904,
          0.2584226877120125,
          -0.8029529727740128,
          1.4766089511557463,
          -0.48802675784715516,
          1.001168054874638,
          -1.0613223170663308,
          0.7350981512413484,
          1.2784722523026892,
          0.1117515228145326
         ],
         "xaxis": "x15",
         "y": [
          0.9772336509828237,
          -0.07647478318063784,
          0.7413636391750652,
          -0.15912297894377248,
          -0.15177625272150932,
          0.1199900295795598,
          0.2716635668621539,
          0.3709292464448456,
          0.5828024998577414,
          1.1233734325816407,
          0.5350414757703158,
          -0.27835449335894125,
          -0.5384981463868941,
          1.7604427122046729,
          -0.1798211998472201,
          -0.07259583442974381,
          0.6927847927489181,
          1.713753068511354,
          0.5580318332801198,
          1.8777101613687104,
          2.096919796229778,
          2.006680204819293,
          1.0358068816393418,
          -1.0471118960905113,
          0.11421243302452166,
          0.905838606468195,
          -1.3557540465958646,
          0.052203996643662834,
          1.065635124475401,
          -0.5948064543443344,
          0.5824474335176656,
          0.03769772664088032,
          -0.9295819904348213,
          0.08773160196539075,
          -1.4326929160965838,
          0.708051413119108,
          -0.07046148088440911,
          -0.14346819164193475,
          0.3763987464634078,
          1.489497426963874,
          -1.1875085365888707,
          -0.6972667620976027,
          -0.37526823498872225,
          -0.07039635195846435,
          -1.1069599873901415,
          0.351561602957237,
          1.7233931104452467,
          0.5680461134761515,
          -0.7651406350372749,
          -0.8855202646912165,
          0.24331003393244538,
          -1.9622170655863536,
          0.25109763454148615,
          -1.7649926672975669,
          -0.4234854127409118,
          -0.7143020036904693,
          0.20749639433841285,
          0.010268364756173215,
          0.0952854975447978,
          -0.5550510334752385,
          -0.4934942677949766,
          1.6175409619083556,
          0.3332748338333687,
          -0.5344727243038119,
          1.0015841881282095,
          0.10562661347557104,
          -0.1852368746866717,
          -0.07930200523712144,
          -0.9472604504862842,
          -0.6793917614321774,
          0.3478046849795794,
          -0.06819282824824709,
          -0.24348051996278372,
          0.4653730332137223,
          0.8868921917777485,
          -0.8744287471716156,
          0.8505394053147777,
          -0.7165134712897009,
          0.31470910612493974,
          2.2048428931352952,
          -0.37326042759452166,
          -0.6869832077121661,
          0.4538698980652648,
          0.3835572135228256,
          0.5864267829588884,
          0.1366552671255307,
          -0.29731483868073927,
          0.2921796384197413,
          1.204393005274402,
          0.03240134226909766,
          0.4841180429521735,
          -0.6875951590864127,
          1.320895128089415,
          -1.5772719223289127,
          1.083135276429853,
          1.5582687187488196,
          0.0402198571728886,
          0.782586581086116,
          -0.826500765488446,
          0.6466110743888642
         ],
         "yaxis": "y15"
        },
        {
         "histfunc": "count",
         "histnorm": "",
         "marker": {
          "color": "rgba(128, 0, 128, 1.0)",
          "line": {
           "color": "#4D5663",
           "width": 1.3
          }
         },
         "name": "D",
         "nbinsx": 10,
         "opacity": 0.8,
         "orientation": "v",
         "type": "histogram",
         "x": [
          0.9772336509828237,
          -0.07647478318063784,
          0.7413636391750652,
          -0.15912297894377248,
          -0.15177625272150932,
          0.1199900295795598,
          0.2716635668621539,
          0.3709292464448456,
          0.5828024998577414,
          1.1233734325816407,
          0.5350414757703158,
          -0.27835449335894125,
          -0.5384981463868941,
          1.7604427122046729,
          -0.1798211998472201,
          -0.07259583442974381,
          0.6927847927489181,
          1.713753068511354,
          0.5580318332801198,
          1.8777101613687104,
          2.096919796229778,
          2.006680204819293,
          1.0358068816393418,
          -1.0471118960905113,
          0.11421243302452166,
          0.905838606468195,
          -1.3557540465958646,
          0.052203996643662834,
          1.065635124475401,
          -0.5948064543443344,
          0.5824474335176656,
          0.03769772664088032,
          -0.9295819904348213,
          0.08773160196539075,
          -1.4326929160965838,
          0.708051413119108,
          -0.07046148088440911,
          -0.14346819164193475,
          0.3763987464634078,
          1.489497426963874,
          -1.1875085365888707,
          -0.6972667620976027,
          -0.37526823498872225,
          -0.07039635195846435,
          -1.1069599873901415,
          0.351561602957237,
          1.7233931104452467,
          0.5680461134761515,
          -0.7651406350372749,
          -0.8855202646912165,
          0.24331003393244538,
          -1.9622170655863536,
          0.25109763454148615,
          -1.7649926672975669,
          -0.4234854127409118,
          -0.7143020036904693,
          0.20749639433841285,
          0.010268364756173215,
          0.0952854975447978,
          -0.5550510334752385,
          -0.4934942677949766,
          1.6175409619083556,
          0.3332748338333687,
          -0.5344727243038119,
          1.0015841881282095,
          0.10562661347557104,
          -0.1852368746866717,
          -0.07930200523712144,
          -0.9472604504862842,
          -0.6793917614321774,
          0.3478046849795794,
          -0.06819282824824709,
          -0.24348051996278372,
          0.4653730332137223,
          0.8868921917777485,
          -0.8744287471716156,
          0.8505394053147777,
          -0.7165134712897009,
          0.31470910612493974,
          2.2048428931352952,
          -0.37326042759452166,
          -0.6869832077121661,
          0.4538698980652648,
          0.3835572135228256,
          0.5864267829588884,
          0.1366552671255307,
          -0.29731483868073927,
          0.2921796384197413,
          1.204393005274402,
          0.03240134226909766,
          0.4841180429521735,
          -0.6875951590864127,
          1.320895128089415,
          -1.5772719223289127,
          1.083135276429853,
          1.5582687187488196,
          0.0402198571728886,
          0.782586581086116,
          -0.826500765488446,
          0.6466110743888642
         ],
         "xaxis": "x16",
         "yaxis": "y16"
        }
       ],
       "layout": {
        "bargap": 0.02,
        "legend": {
         "bgcolor": "#F5F6F9",
         "font": {
          "color": "#4D5663"
         }
        },
        "paper_bgcolor": "#F5F6F9",
        "plot_bgcolor": "#F5F6F9",
        "showlegend": false,
        "template": {
         "data": {
          "bar": [
           {
            "error_x": {
             "color": "#2a3f5f"
            },
            "error_y": {
             "color": "#2a3f5f"
            },
            "marker": {
             "line": {
              "color": "#E5ECF6",
              "width": 0.5
             }
            },
            "type": "bar"
           }
          ],
          "barpolar": [
           {
            "marker": {
             "line": {
              "color": "#E5ECF6",
              "width": 0.5
             }
            },
            "type": "barpolar"
           }
          ],
          "carpet": [
           {
            "aaxis": {
             "endlinecolor": "#2a3f5f",
             "gridcolor": "white",
             "linecolor": "white",
             "minorgridcolor": "white",
             "startlinecolor": "#2a3f5f"
            },
            "baxis": {
             "endlinecolor": "#2a3f5f",
             "gridcolor": "white",
             "linecolor": "white",
             "minorgridcolor": "white",
             "startlinecolor": "#2a3f5f"
            },
            "type": "carpet"
           }
          ],
          "choropleth": [
           {
            "colorbar": {
             "outlinewidth": 0,
             "ticks": ""
            },
            "type": "choropleth"
           }
          ],
          "contour": [
           {
            "colorbar": {
             "outlinewidth": 0,
             "ticks": ""
            },
            "colorscale": [
             [
              0,
              "#0d0887"
             ],
             [
              0.1111111111111111,
              "#46039f"
             ],
             [
              0.2222222222222222,
              "#7201a8"
             ],
             [
              0.3333333333333333,
              "#9c179e"
             ],
             [
              0.4444444444444444,
              "#bd3786"
             ],
             [
              0.5555555555555556,
              "#d8576b"
             ],
             [
              0.6666666666666666,
              "#ed7953"
             ],
             [
              0.7777777777777778,
              "#fb9f3a"
             ],
             [
              0.8888888888888888,
              "#fdca26"
             ],
             [
              1,
              "#f0f921"
             ]
            ],
            "type": "contour"
           }
          ],
          "contourcarpet": [
           {
            "colorbar": {
             "outlinewidth": 0,
             "ticks": ""
            },
            "type": "contourcarpet"
           }
          ],
          "heatmap": [
           {
            "colorbar": {
             "outlinewidth": 0,
             "ticks": ""
            },
            "colorscale": [
             [
              0,
              "#0d0887"
             ],
             [
              0.1111111111111111,
              "#46039f"
             ],
             [
              0.2222222222222222,
              "#7201a8"
             ],
             [
              0.3333333333333333,
              "#9c179e"
             ],
             [
              0.4444444444444444,
              "#bd3786"
             ],
             [
              0.5555555555555556,
              "#d8576b"
             ],
             [
              0.6666666666666666,
              "#ed7953"
             ],
             [
              0.7777777777777778,
              "#fb9f3a"
             ],
             [
              0.8888888888888888,
              "#fdca26"
             ],
             [
              1,
              "#f0f921"
             ]
            ],
            "type": "heatmap"
           }
          ],
          "heatmapgl": [
           {
            "colorbar": {
             "outlinewidth": 0,
             "ticks": ""
            },
            "colorscale": [
             [
              0,
              "#0d0887"
             ],
             [
              0.1111111111111111,
              "#46039f"
             ],
             [
              0.2222222222222222,
              "#7201a8"
             ],
             [
              0.3333333333333333,
              "#9c179e"
             ],
             [
              0.4444444444444444,
              "#bd3786"
             ],
             [
              0.5555555555555556,
              "#d8576b"
             ],
             [
              0.6666666666666666,
              "#ed7953"
             ],
             [
              0.7777777777777778,
              "#fb9f3a"
             ],
             [
              0.8888888888888888,
              "#fdca26"
             ],
             [
              1,
              "#f0f921"
             ]
            ],
            "type": "heatmapgl"
           }
          ],
          "histogram": [
           {
            "marker": {
             "colorbar": {
              "outlinewidth": 0,
              "ticks": ""
             }
            },
            "type": "histogram"
           }
          ],
          "histogram2d": [
           {
            "colorbar": {
             "outlinewidth": 0,
             "ticks": ""
            },
            "colorscale": [
             [
              0,
              "#0d0887"
             ],
             [
              0.1111111111111111,
              "#46039f"
             ],
             [
              0.2222222222222222,
              "#7201a8"
             ],
             [
              0.3333333333333333,
              "#9c179e"
             ],
             [
              0.4444444444444444,
              "#bd3786"
             ],
             [
              0.5555555555555556,
              "#d8576b"
             ],
             [
              0.6666666666666666,
              "#ed7953"
             ],
             [
              0.7777777777777778,
              "#fb9f3a"
             ],
             [
              0.8888888888888888,
              "#fdca26"
             ],
             [
              1,
              "#f0f921"
             ]
            ],
            "type": "histogram2d"
           }
          ],
          "histogram2dcontour": [
           {
            "colorbar": {
             "outlinewidth": 0,
             "ticks": ""
            },
            "colorscale": [
             [
              0,
              "#0d0887"
             ],
             [
              0.1111111111111111,
              "#46039f"
             ],
             [
              0.2222222222222222,
              "#7201a8"
             ],
             [
              0.3333333333333333,
              "#9c179e"
             ],
             [
              0.4444444444444444,
              "#bd3786"
             ],
             [
              0.5555555555555556,
              "#d8576b"
             ],
             [
              0.6666666666666666,
              "#ed7953"
             ],
             [
              0.7777777777777778,
              "#fb9f3a"
             ],
             [
              0.8888888888888888,
              "#fdca26"
             ],
             [
              1,
              "#f0f921"
             ]
            ],
            "type": "histogram2dcontour"
           }
          ],
          "mesh3d": [
           {
            "colorbar": {
             "outlinewidth": 0,
             "ticks": ""
            },
            "type": "mesh3d"
           }
          ],
          "parcoords": [
           {
            "line": {
             "colorbar": {
              "outlinewidth": 0,
              "ticks": ""
             }
            },
            "type": "parcoords"
           }
          ],
          "pie": [
           {
            "automargin": true,
            "type": "pie"
           }
          ],
          "scatter": [
           {
            "marker": {
             "colorbar": {
              "outlinewidth": 0,
              "ticks": ""
             }
            },
            "type": "scatter"
           }
          ],
          "scatter3d": [
           {
            "line": {
             "colorbar": {
              "outlinewidth": 0,
              "ticks": ""
             }
            },
            "marker": {
             "colorbar": {
              "outlinewidth": 0,
              "ticks": ""
             }
            },
            "type": "scatter3d"
           }
          ],
          "scattercarpet": [
           {
            "marker": {
             "colorbar": {
              "outlinewidth": 0,
              "ticks": ""
             }
            },
            "type": "scattercarpet"
           }
          ],
          "scattergeo": [
           {
            "marker": {
             "colorbar": {
              "outlinewidth": 0,
              "ticks": ""
             }
            },
            "type": "scattergeo"
           }
          ],
          "scattergl": [
           {
            "marker": {
             "colorbar": {
              "outlinewidth": 0,
              "ticks": ""
             }
            },
            "type": "scattergl"
           }
          ],
          "scattermapbox": [
           {
            "marker": {
             "colorbar": {
              "outlinewidth": 0,
              "ticks": ""
             }
            },
            "type": "scattermapbox"
           }
          ],
          "scatterpolar": [
           {
            "marker": {
             "colorbar": {
              "outlinewidth": 0,
              "ticks": ""
             }
            },
            "type": "scatterpolar"
           }
          ],
          "scatterpolargl": [
           {
            "marker": {
             "colorbar": {
              "outlinewidth": 0,
              "ticks": ""
             }
            },
            "type": "scatterpolargl"
           }
          ],
          "scatterternary": [
           {
            "marker": {
             "colorbar": {
              "outlinewidth": 0,
              "ticks": ""
             }
            },
            "type": "scatterternary"
           }
          ],
          "surface": [
           {
            "colorbar": {
             "outlinewidth": 0,
             "ticks": ""
            },
            "colorscale": [
             [
              0,
              "#0d0887"
             ],
             [
              0.1111111111111111,
              "#46039f"
             ],
             [
              0.2222222222222222,
              "#7201a8"
             ],
             [
              0.3333333333333333,
              "#9c179e"
             ],
             [
              0.4444444444444444,
              "#bd3786"
             ],
             [
              0.5555555555555556,
              "#d8576b"
             ],
             [
              0.6666666666666666,
              "#ed7953"
             ],
             [
              0.7777777777777778,
              "#fb9f3a"
             ],
             [
              0.8888888888888888,
              "#fdca26"
             ],
             [
              1,
              "#f0f921"
             ]
            ],
            "type": "surface"
           }
          ],
          "table": [
           {
            "cells": {
             "fill": {
              "color": "#EBF0F8"
             },
             "line": {
              "color": "white"
             }
            },
            "header": {
             "fill": {
              "color": "#C8D4E3"
             },
             "line": {
              "color": "white"
             }
            },
            "type": "table"
           }
          ]
         },
         "layout": {
          "annotationdefaults": {
           "arrowcolor": "#2a3f5f",
           "arrowhead": 0,
           "arrowwidth": 1
          },
          "coloraxis": {
           "colorbar": {
            "outlinewidth": 0,
            "ticks": ""
           }
          },
          "colorscale": {
           "diverging": [
            [
             0,
             "#8e0152"
            ],
            [
             0.1,
             "#c51b7d"
            ],
            [
             0.2,
             "#de77ae"
            ],
            [
             0.3,
             "#f1b6da"
            ],
            [
             0.4,
             "#fde0ef"
            ],
            [
             0.5,
             "#f7f7f7"
            ],
            [
             0.6,
             "#e6f5d0"
            ],
            [
             0.7,
             "#b8e186"
            ],
            [
             0.8,
             "#7fbc41"
            ],
            [
             0.9,
             "#4d9221"
            ],
            [
             1,
             "#276419"
            ]
           ],
           "sequential": [
            [
             0,
             "#0d0887"
            ],
            [
             0.1111111111111111,
             "#46039f"
            ],
            [
             0.2222222222222222,
             "#7201a8"
            ],
            [
             0.3333333333333333,
             "#9c179e"
            ],
            [
             0.4444444444444444,
             "#bd3786"
            ],
            [
             0.5555555555555556,
             "#d8576b"
            ],
            [
             0.6666666666666666,
             "#ed7953"
            ],
            [
             0.7777777777777778,
             "#fb9f3a"
            ],
            [
             0.8888888888888888,
             "#fdca26"
            ],
            [
             1,
             "#f0f921"
            ]
           ],
           "sequentialminus": [
            [
             0,
             "#0d0887"
            ],
            [
             0.1111111111111111,
             "#46039f"
            ],
            [
             0.2222222222222222,
             "#7201a8"
            ],
            [
             0.3333333333333333,
             "#9c179e"
            ],
            [
             0.4444444444444444,
             "#bd3786"
            ],
            [
             0.5555555555555556,
             "#d8576b"
            ],
            [
             0.6666666666666666,
             "#ed7953"
            ],
            [
             0.7777777777777778,
             "#fb9f3a"
            ],
            [
             0.8888888888888888,
             "#fdca26"
            ],
            [
             1,
             "#f0f921"
            ]
           ]
          },
          "colorway": [
           "#636efa",
           "#EF553B",
           "#00cc96",
           "#ab63fa",
           "#FFA15A",
           "#19d3f3",
           "#FF6692",
           "#B6E880",
           "#FF97FF",
           "#FECB52"
          ],
          "font": {
           "color": "#2a3f5f"
          },
          "geo": {
           "bgcolor": "white",
           "lakecolor": "white",
           "landcolor": "#E5ECF6",
           "showlakes": true,
           "showland": true,
           "subunitcolor": "white"
          },
          "hoverlabel": {
           "align": "left"
          },
          "hovermode": "closest",
          "mapbox": {
           "style": "light"
          },
          "paper_bgcolor": "white",
          "plot_bgcolor": "#E5ECF6",
          "polar": {
           "angularaxis": {
            "gridcolor": "white",
            "linecolor": "white",
            "ticks": ""
           },
           "bgcolor": "#E5ECF6",
           "radialaxis": {
            "gridcolor": "white",
            "linecolor": "white",
            "ticks": ""
           }
          },
          "scene": {
           "xaxis": {
            "backgroundcolor": "#E5ECF6",
            "gridcolor": "white",
            "gridwidth": 2,
            "linecolor": "white",
            "showbackground": true,
            "ticks": "",
            "zerolinecolor": "white"
           },
           "yaxis": {
            "backgroundcolor": "#E5ECF6",
            "gridcolor": "white",
            "gridwidth": 2,
            "linecolor": "white",
            "showbackground": true,
            "ticks": "",
            "zerolinecolor": "white"
           },
           "zaxis": {
            "backgroundcolor": "#E5ECF6",
            "gridcolor": "white",
            "gridwidth": 2,
            "linecolor": "white",
            "showbackground": true,
            "ticks": "",
            "zerolinecolor": "white"
           }
          },
          "shapedefaults": {
           "line": {
            "color": "#2a3f5f"
           }
          },
          "ternary": {
           "aaxis": {
            "gridcolor": "white",
            "linecolor": "white",
            "ticks": ""
           },
           "baxis": {
            "gridcolor": "white",
            "linecolor": "white",
            "ticks": ""
           },
           "bgcolor": "#E5ECF6",
           "caxis": {
            "gridcolor": "white",
            "linecolor": "white",
            "ticks": ""
           }
          },
          "title": {
           "x": 0.05
          },
          "xaxis": {
           "automargin": true,
           "gridcolor": "white",
           "linecolor": "white",
           "ticks": "",
           "title": {
            "standoff": 15
           },
           "zerolinecolor": "white",
           "zerolinewidth": 2
          },
          "yaxis": {
           "automargin": true,
           "gridcolor": "white",
           "linecolor": "white",
           "ticks": "",
           "title": {
            "standoff": 15
           },
           "zerolinecolor": "white",
           "zerolinewidth": 2
          }
         }
        },
        "title": {
         "font": {
          "color": "#4D5663"
         }
        },
        "xaxis": {
         "anchor": "y",
         "domain": [
          0,
          0.2125
         ],
         "gridcolor": "#E1E5ED",
         "showgrid": false,
         "tickfont": {
          "color": "#4D5663"
         },
         "title": {
          "font": {
           "color": "#4D5663"
          },
          "text": ""
         },
         "zerolinecolor": "#E1E5ED"
        },
        "xaxis10": {
         "anchor": "y10",
         "domain": [
          0.2625,
          0.475
         ],
         "gridcolor": "#E1E5ED",
         "showgrid": false,
         "tickfont": {
          "color": "#4D5663"
         },
         "title": {
          "font": {
           "color": "#4D5663"
          },
          "text": ""
         },
         "zerolinecolor": "#E1E5ED"
        },
        "xaxis11": {
         "anchor": "y11",
         "domain": [
          0.525,
          0.7375
         ],
         "gridcolor": "#E1E5ED",
         "showgrid": false,
         "tickfont": {
          "color": "#4D5663"
         },
         "title": {
          "font": {
           "color": "#4D5663"
          },
          "text": ""
         },
         "zerolinecolor": "#E1E5ED"
        },
        "xaxis12": {
         "anchor": "y12",
         "domain": [
          0.7875,
          1
         ],
         "gridcolor": "#E1E5ED",
         "showgrid": false,
         "tickfont": {
          "color": "#4D5663"
         },
         "title": {
          "font": {
           "color": "#4D5663"
          },
          "text": ""
         },
         "zerolinecolor": "#E1E5ED"
        },
        "xaxis13": {
         "anchor": "y13",
         "domain": [
          0,
          0.2125
         ],
         "gridcolor": "#E1E5ED",
         "showgrid": false,
         "tickfont": {
          "color": "#4D5663"
         },
         "title": {
          "font": {
           "color": "#4D5663"
          },
          "text": ""
         },
         "zerolinecolor": "#E1E5ED"
        },
        "xaxis14": {
         "anchor": "y14",
         "domain": [
          0.2625,
          0.475
         ],
         "gridcolor": "#E1E5ED",
         "showgrid": false,
         "tickfont": {
          "color": "#4D5663"
         },
         "title": {
          "font": {
           "color": "#4D5663"
          },
          "text": ""
         },
         "zerolinecolor": "#E1E5ED"
        },
        "xaxis15": {
         "anchor": "y15",
         "domain": [
          0.525,
          0.7375
         ],
         "gridcolor": "#E1E5ED",
         "showgrid": false,
         "tickfont": {
          "color": "#4D5663"
         },
         "title": {
          "font": {
           "color": "#4D5663"
          },
          "text": ""
         },
         "zerolinecolor": "#E1E5ED"
        },
        "xaxis16": {
         "anchor": "y16",
         "domain": [
          0.7875,
          1
         ],
         "gridcolor": "#E1E5ED",
         "showgrid": false,
         "tickfont": {
          "color": "#4D5663"
         },
         "title": {
          "font": {
           "color": "#4D5663"
          },
          "text": ""
         },
         "zerolinecolor": "#E1E5ED"
        },
        "xaxis2": {
         "anchor": "y2",
         "domain": [
          0.2625,
          0.475
         ],
         "gridcolor": "#E1E5ED",
         "showgrid": false,
         "tickfont": {
          "color": "#4D5663"
         },
         "title": {
          "font": {
           "color": "#4D5663"
          },
          "text": ""
         },
         "zerolinecolor": "#E1E5ED"
        },
        "xaxis3": {
         "anchor": "y3",
         "domain": [
          0.525,
          0.7375
         ],
         "gridcolor": "#E1E5ED",
         "showgrid": false,
         "tickfont": {
          "color": "#4D5663"
         },
         "title": {
          "font": {
           "color": "#4D5663"
          },
          "text": ""
         },
         "zerolinecolor": "#E1E5ED"
        },
        "xaxis4": {
         "anchor": "y4",
         "domain": [
          0.7875,
          1
         ],
         "gridcolor": "#E1E5ED",
         "showgrid": false,
         "tickfont": {
          "color": "#4D5663"
         },
         "title": {
          "font": {
           "color": "#4D5663"
          },
          "text": ""
         },
         "zerolinecolor": "#E1E5ED"
        },
        "xaxis5": {
         "anchor": "y5",
         "domain": [
          0,
          0.2125
         ],
         "gridcolor": "#E1E5ED",
         "showgrid": false,
         "tickfont": {
          "color": "#4D5663"
         },
         "title": {
          "font": {
           "color": "#4D5663"
          },
          "text": ""
         },
         "zerolinecolor": "#E1E5ED"
        },
        "xaxis6": {
         "anchor": "y6",
         "domain": [
          0.2625,
          0.475
         ],
         "gridcolor": "#E1E5ED",
         "showgrid": false,
         "tickfont": {
          "color": "#4D5663"
         },
         "title": {
          "font": {
           "color": "#4D5663"
          },
          "text": ""
         },
         "zerolinecolor": "#E1E5ED"
        },
        "xaxis7": {
         "anchor": "y7",
         "domain": [
          0.525,
          0.7375
         ],
         "gridcolor": "#E1E5ED",
         "showgrid": false,
         "tickfont": {
          "color": "#4D5663"
         },
         "title": {
          "font": {
           "color": "#4D5663"
          },
          "text": ""
         },
         "zerolinecolor": "#E1E5ED"
        },
        "xaxis8": {
         "anchor": "y8",
         "domain": [
          0.7875,
          1
         ],
         "gridcolor": "#E1E5ED",
         "showgrid": false,
         "tickfont": {
          "color": "#4D5663"
         },
         "title": {
          "font": {
           "color": "#4D5663"
          },
          "text": ""
         },
         "zerolinecolor": "#E1E5ED"
        },
        "xaxis9": {
         "anchor": "y9",
         "domain": [
          0,
          0.2125
         ],
         "gridcolor": "#E1E5ED",
         "showgrid": false,
         "tickfont": {
          "color": "#4D5663"
         },
         "title": {
          "font": {
           "color": "#4D5663"
          },
          "text": ""
         },
         "zerolinecolor": "#E1E5ED"
        },
        "yaxis": {
         "anchor": "x",
         "domain": [
          0.8025,
          1
         ],
         "gridcolor": "#E1E5ED",
         "showgrid": false,
         "tickfont": {
          "color": "#4D5663"
         },
         "title": {
          "font": {
           "color": "#4D5663"
          },
          "text": ""
         },
         "zerolinecolor": "#E1E5ED"
        },
        "yaxis10": {
         "anchor": "x10",
         "domain": [
          0.2675,
          0.465
         ],
         "gridcolor": "#E1E5ED",
         "showgrid": false,
         "tickfont": {
          "color": "#4D5663"
         },
         "title": {
          "font": {
           "color": "#4D5663"
          },
          "text": ""
         },
         "zerolinecolor": "#E1E5ED"
        },
        "yaxis11": {
         "anchor": "x11",
         "domain": [
          0.2675,
          0.465
         ],
         "gridcolor": "#E1E5ED",
         "showgrid": false,
         "tickfont": {
          "color": "#4D5663"
         },
         "title": {
          "font": {
           "color": "#4D5663"
          },
          "text": ""
         },
         "zerolinecolor": "#E1E5ED"
        },
        "yaxis12": {
         "anchor": "x12",
         "domain": [
          0.2675,
          0.465
         ],
         "gridcolor": "#E1E5ED",
         "showgrid": false,
         "tickfont": {
          "color": "#4D5663"
         },
         "title": {
          "font": {
           "color": "#4D5663"
          },
          "text": ""
         },
         "zerolinecolor": "#E1E5ED"
        },
        "yaxis13": {
         "anchor": "x13",
         "domain": [
          0,
          0.1975
         ],
         "gridcolor": "#E1E5ED",
         "showgrid": false,
         "tickfont": {
          "color": "#4D5663"
         },
         "title": {
          "font": {
           "color": "#4D5663"
          },
          "text": ""
         },
         "zerolinecolor": "#E1E5ED"
        },
        "yaxis14": {
         "anchor": "x14",
         "domain": [
          0,
          0.1975
         ],
         "gridcolor": "#E1E5ED",
         "showgrid": false,
         "tickfont": {
          "color": "#4D5663"
         },
         "title": {
          "font": {
           "color": "#4D5663"
          },
          "text": ""
         },
         "zerolinecolor": "#E1E5ED"
        },
        "yaxis15": {
         "anchor": "x15",
         "domain": [
          0,
          0.1975
         ],
         "gridcolor": "#E1E5ED",
         "showgrid": false,
         "tickfont": {
          "color": "#4D5663"
         },
         "title": {
          "font": {
           "color": "#4D5663"
          },
          "text": ""
         },
         "zerolinecolor": "#E1E5ED"
        },
        "yaxis16": {
         "anchor": "x16",
         "domain": [
          0,
          0.1975
         ],
         "gridcolor": "#E1E5ED",
         "showgrid": false,
         "tickfont": {
          "color": "#4D5663"
         },
         "title": {
          "font": {
           "color": "#4D5663"
          },
          "text": ""
         },
         "zerolinecolor": "#E1E5ED"
        },
        "yaxis2": {
         "anchor": "x2",
         "domain": [
          0.8025,
          1
         ],
         "gridcolor": "#E1E5ED",
         "showgrid": false,
         "tickfont": {
          "color": "#4D5663"
         },
         "title": {
          "font": {
           "color": "#4D5663"
          },
          "text": ""
         },
         "zerolinecolor": "#E1E5ED"
        },
        "yaxis3": {
         "anchor": "x3",
         "domain": [
          0.8025,
          1
         ],
         "gridcolor": "#E1E5ED",
         "showgrid": false,
         "tickfont": {
          "color": "#4D5663"
         },
         "title": {
          "font": {
           "color": "#4D5663"
          },
          "text": ""
         },
         "zerolinecolor": "#E1E5ED"
        },
        "yaxis4": {
         "anchor": "x4",
         "domain": [
          0.8025,
          1
         ],
         "gridcolor": "#E1E5ED",
         "showgrid": false,
         "tickfont": {
          "color": "#4D5663"
         },
         "title": {
          "font": {
           "color": "#4D5663"
          },
          "text": ""
         },
         "zerolinecolor": "#E1E5ED"
        },
        "yaxis5": {
         "anchor": "x5",
         "domain": [
          0.535,
          0.7325
         ],
         "gridcolor": "#E1E5ED",
         "showgrid": false,
         "tickfont": {
          "color": "#4D5663"
         },
         "title": {
          "font": {
           "color": "#4D5663"
          },
          "text": ""
         },
         "zerolinecolor": "#E1E5ED"
        },
        "yaxis6": {
         "anchor": "x6",
         "domain": [
          0.535,
          0.7325
         ],
         "gridcolor": "#E1E5ED",
         "showgrid": false,
         "tickfont": {
          "color": "#4D5663"
         },
         "title": {
          "font": {
           "color": "#4D5663"
          },
          "text": ""
         },
         "zerolinecolor": "#E1E5ED"
        },
        "yaxis7": {
         "anchor": "x7",
         "domain": [
          0.535,
          0.7325
         ],
         "gridcolor": "#E1E5ED",
         "showgrid": false,
         "tickfont": {
          "color": "#4D5663"
         },
         "title": {
          "font": {
           "color": "#4D5663"
          },
          "text": ""
         },
         "zerolinecolor": "#E1E5ED"
        },
        "yaxis8": {
         "anchor": "x8",
         "domain": [
          0.535,
          0.7325
         ],
         "gridcolor": "#E1E5ED",
         "showgrid": false,
         "tickfont": {
          "color": "#4D5663"
         },
         "title": {
          "font": {
           "color": "#4D5663"
          },
          "text": ""
         },
         "zerolinecolor": "#E1E5ED"
        },
        "yaxis9": {
         "anchor": "x9",
         "domain": [
          0.2675,
          0.465
         ],
         "gridcolor": "#E1E5ED",
         "showgrid": false,
         "tickfont": {
          "color": "#4D5663"
         },
         "title": {
          "font": {
           "color": "#4D5663"
          },
          "text": ""
         },
         "zerolinecolor": "#E1E5ED"
        }
       }
      },
      "text/html": [
       "<div>\n",
       "        \n",
       "        \n",
       "            <div id=\"ab2e66f0-0810-445d-bf82-657ac98a58e1\" class=\"plotly-graph-div\" style=\"height:525px; width:100%;\"></div>\n",
       "            <script type=\"text/javascript\">\n",
       "                require([\"plotly\"], function(Plotly) {\n",
       "                    window.PLOTLYENV=window.PLOTLYENV || {};\n",
       "                    window.PLOTLYENV.BASE_URL='https://plot.ly';\n",
       "                    \n",
       "                if (document.getElementById(\"ab2e66f0-0810-445d-bf82-657ac98a58e1\")) {\n",
       "                    Plotly.newPlot(\n",
       "                        'ab2e66f0-0810-445d-bf82-657ac98a58e1',\n",
       "                        [{\"histfunc\": \"count\", \"histnorm\": \"\", \"marker\": {\"color\": \"rgba(255, 153, 51, 1.0)\", \"line\": {\"color\": \"#4D5663\", \"width\": 1.3}}, \"name\": \"A\", \"nbinsx\": 10, \"opacity\": 0.8, \"orientation\": \"v\", \"type\": \"histogram\", \"x\": [-2.2555933768724947, -0.03382340070021499, -0.3200478984174772, 0.05045835842384177, 0.2233965386018236, 0.2536608574004414, -0.6692398991913475, -0.4786089224325477, 0.6512291566816155, -0.9992360969851862, -0.22169793134556703, -1.1712641861345396, 0.3252298075551189, 0.8914928115672888, -0.0369001928301434, -0.12612875726858397, -0.6321662033550624, -0.7177849850115586, -0.7380476067025662, -0.6496181734346335, -0.7764825074228829, 0.9825053624790435, 0.2583656046298789, -0.037818224865744765, 0.1633648933126579, 0.09045583256205675, 0.6019746573813641, 0.8630717855557517, -0.6891220161380268, 0.008139132913083826, 1.4462942945255972, 1.0974328278372718, 1.7026391999584558, 0.13232510434415812, -1.4930236346176566, 0.5717283572309633, 1.6027573821880863, -0.26316261913033745, 0.1428706155553884, -1.9689781776908595, 0.7573252641608401, 1.2815546026772953, 0.4347619600899514, -0.5353942165407267, 0.9427327554963698, 1.1790481704431377, -0.4103179505335398, 1.467563169562042, 1.38742208689959, -0.1878420460340362, 0.9561618545448747, -0.6783596081109666, -0.7343973073358498, 0.3220750471063588, 0.27574581367708095, 1.4552279064325093, -0.291105920009326, 0.645407625337804, -1.0554341317842224, 0.33279221486126165, 0.7025265688025414, -0.6610919221931417, -0.1667434397585901, 0.6232829145291728, -0.2529836861465784, -1.3053816199792052, -0.9162982736073634, -1.3142225958928595, -1.6120659876274441, -0.053151427170382286, 1.872649441601502, -1.2683624163519756, 0.30392219244159846, 0.8663928886363615, -0.847758950848025, 1.2074149868658006, -0.8219780807135773, -0.3972774418375647, -0.3138094858687506, -0.7321270120897498, 0.19089113734580437, -1.467169892336397, -0.2704977443472076, 1.391089216049597, -1.4580084882448272, -1.6768288954001633, -1.2244219128686558, -0.5830634268948321, 2.596545053416106, 0.5547182458617995, -0.009938487125128776, 0.16661419271903802, -2.0051511664441923, -0.44142932606142177, 1.4768445874934977, -2.2891089768253154, 0.9969522087565932, -0.48862992958038, -0.8483077863746056, -0.3957040767842185], \"xaxis\": \"x\", \"yaxis\": \"y\"}, {\"line\": {\"color\": \"rgba(128, 128, 128, 1.0)\", \"dash\": \"solid\", \"shape\": \"linear\", \"width\": 1.3}, \"marker\": {\"size\": 2, \"symbol\": \"circle\"}, \"mode\": \"markers\", \"name\": \"A\", \"text\": \"\", \"type\": \"scatter\", \"x\": [1.3141888702618962, -1.1115662109910567, -0.257289607344004, -1.4036350331162621, -0.9562431416001994, 0.5284258714874434, 1.3839270580400518, -0.47647239611666187, -0.48621055726856166, 0.21230749228133775, -0.4377454130191507, 1.139461784412099, -0.479066908076587, -0.5112289603822745, 1.0655062855344546, 0.2532285620560627, -0.5080625366400148, -0.14940661484256632, -1.0552401005092436, 1.3130463314943268, -0.09855391494815084, 1.682056997549952, 0.025030245632123346, -1.0314746214259058, -0.24440905168767216, -0.9640162206376627, 1.1659827817820045, -0.5949615891396036, 0.895109825347487, -1.1787502459426134, 0.3606252712904561, -2.8874455317853673, 0.05554922902958001, -0.6327253205975053, -0.14423079659187038, -0.4659585833517143, -0.42134027774967997, -0.9945211011510153, 0.5262417418954314, 0.6521486589933997, -0.3002767827572908, 1.0961571575291982, 0.02388240668584011, -0.251739361646199, -0.09132557319225461, -0.16222783106006364, -0.5800636263739349, 0.6539517205968917, 0.2676653096775852, -0.12788683168886808, 0.9301801207771702, -0.09177425164037127, -1.186280702243975, -1.5581869431240989, -0.42664764573524705, -0.2770735434883226, -0.8136201732195788, -1.1114664557447358, 1.6999503007281884, -0.7126876105880869, -0.0930941715055807, -2.3656191409182625, 0.735568121854511, 0.541493368025285, -0.6301134451738287, -0.05449659496425838, 0.7566045980698098, -0.05331049966966534, 0.7515301988470119, 1.1756364535626789, 0.6255519982890726, 0.4994986012724347, -0.33739521345218193, 0.7932359839780525, -0.8486742318118738, -0.6162281748236087, 0.6588315502975075, 0.47797298287983786, 0.8313530055118066, -1.6412026289064061, -0.5091519178754833, 1.2236901049372901, 1.2990342992990034, -0.4823964312713267, 0.8897377549146316, 0.8330977892920045, 1.2780894780540542, 0.2073916928678156, 2.1898409925479587, 1.2450021823566144, 0.9417074276447647, -0.11353886292187075, 1.5655409294812892, -0.04614353427259727, -0.34656495757651096, -0.18561680250884616, -2.262169847144289, 0.948170877714612, -1.1482499665528605, -0.8927910449284819], \"xaxis\": \"x2\", \"y\": [-2.2555933768724947, -0.03382340070021499, -0.3200478984174772, 0.05045835842384177, 0.2233965386018236, 0.2536608574004414, -0.6692398991913475, -0.4786089224325477, 0.6512291566816155, -0.9992360969851862, -0.22169793134556703, -1.1712641861345396, 0.3252298075551189, 0.8914928115672888, -0.0369001928301434, -0.12612875726858397, -0.6321662033550624, -0.7177849850115586, -0.7380476067025662, -0.6496181734346335, -0.7764825074228829, 0.9825053624790435, 0.2583656046298789, -0.037818224865744765, 0.1633648933126579, 0.09045583256205675, 0.6019746573813641, 0.8630717855557517, -0.6891220161380268, 0.008139132913083826, 1.4462942945255972, 1.0974328278372718, 1.7026391999584558, 0.13232510434415812, -1.4930236346176566, 0.5717283572309633, 1.6027573821880863, -0.26316261913033745, 0.1428706155553884, -1.9689781776908595, 0.7573252641608401, 1.2815546026772953, 0.4347619600899514, -0.5353942165407267, 0.9427327554963698, 1.1790481704431377, -0.4103179505335398, 1.467563169562042, 1.38742208689959, -0.1878420460340362, 0.9561618545448747, -0.6783596081109666, -0.7343973073358498, 0.3220750471063588, 0.27574581367708095, 1.4552279064325093, -0.291105920009326, 0.645407625337804, -1.0554341317842224, 0.33279221486126165, 0.7025265688025414, -0.6610919221931417, -0.1667434397585901, 0.6232829145291728, -0.2529836861465784, -1.3053816199792052, -0.9162982736073634, -1.3142225958928595, -1.6120659876274441, -0.053151427170382286, 1.872649441601502, -1.2683624163519756, 0.30392219244159846, 0.8663928886363615, -0.847758950848025, 1.2074149868658006, -0.8219780807135773, -0.3972774418375647, -0.3138094858687506, -0.7321270120897498, 0.19089113734580437, -1.467169892336397, -0.2704977443472076, 1.391089216049597, -1.4580084882448272, -1.6768288954001633, -1.2244219128686558, -0.5830634268948321, 2.596545053416106, 0.5547182458617995, -0.009938487125128776, 0.16661419271903802, -2.0051511664441923, -0.44142932606142177, 1.4768445874934977, -2.2891089768253154, 0.9969522087565932, -0.48862992958038, -0.8483077863746056, -0.3957040767842185], \"yaxis\": \"y2\"}, {\"line\": {\"color\": \"rgba(128, 128, 128, 1.0)\", \"dash\": \"solid\", \"shape\": \"linear\", \"width\": 1.3}, \"marker\": {\"size\": 2, \"symbol\": \"circle\"}, \"mode\": \"markers\", \"name\": \"A\", \"text\": \"\", \"type\": \"scatter\", \"x\": [-0.3852111653161519, -0.7830544747937033, 0.6375500080290681, -1.2935251103472951, -0.8504493153928624, 0.09800862044555947, -1.3269601219003204, 0.327204119642585, -0.690840086360732, 0.0599524931219146, -0.2664804729565175, 0.5677036432202524, 0.44254035862817687, -0.534473786392977, -1.948328679109903, 0.3667213673256576, -0.8857969564564154, 0.000480655223030059, 0.6901565806311147, 0.4849220911931928, -0.3433584734411604, -0.044481892108771924, 0.5219215703694158, 0.6597640523271316, -0.815710202783354, 0.15440045099651611, 0.8626151498285916, 1.2557704479510896, -0.8866797361107176, 0.3116903849033211, -0.04586726700738958, -2.3210995766552003, -1.1141141767156846, -0.718790088777296, -1.215022691367036, 0.15990037633325638, 0.207339989867234, -0.1339251170432215, -0.31336335779366836, 0.4727293268665891, -1.364271403162109, 0.38485826485645513, -0.564525378196018, 0.08053092875359465, 0.8170016869020079, -0.16585723881699452, -0.7806192924820001, 0.2757423040683799, -0.8052577423922532, 0.4394975078426791, 0.05475969001130771, 0.13002452405704323, 0.5504028250944053, -0.07172476042858046, -0.3103852929550721, 0.6345882181965192, 0.45129839073710004, 0.24133569488877202, 0.4660206009407888, 0.32051436624277957, -1.4713410106320284, -0.6439436638461494, 0.0282498419594593, -1.9532860898921842, -0.2281728072186295, -1.6461248416327923, -0.8361741257415685, 1.103069631310339, 1.9773169265966584, 0.48488610606642524, -0.3119955389235842, -0.02493730005691768, -0.9557993486325946, -0.8739418396473461, -0.594468085245611, -0.12311748015716892, 0.16163289632042396, 0.2591893055592278, -0.5245824774930369, 0.9712195427151722, -1.0285584635996985, 1.3835410963227326, -1.1643694982378814, 1.267446133373859, 0.4221341686342332, 1.1078361853210785, 0.7270842106888753, 0.21856045988541378, 0.797581282367628, -0.6429999476331801, -0.8820815237633904, 0.2584226877120125, -0.8029529727740128, 1.4766089511557463, -0.48802675784715516, 1.001168054874638, -1.0613223170663308, 0.7350981512413484, 1.2784722523026892, 0.1117515228145326], \"xaxis\": \"x3\", \"y\": [-2.2555933768724947, -0.03382340070021499, -0.3200478984174772, 0.05045835842384177, 0.2233965386018236, 0.2536608574004414, -0.6692398991913475, -0.4786089224325477, 0.6512291566816155, -0.9992360969851862, -0.22169793134556703, -1.1712641861345396, 0.3252298075551189, 0.8914928115672888, -0.0369001928301434, -0.12612875726858397, -0.6321662033550624, -0.7177849850115586, -0.7380476067025662, -0.6496181734346335, -0.7764825074228829, 0.9825053624790435, 0.2583656046298789, -0.037818224865744765, 0.1633648933126579, 0.09045583256205675, 0.6019746573813641, 0.8630717855557517, -0.6891220161380268, 0.008139132913083826, 1.4462942945255972, 1.0974328278372718, 1.7026391999584558, 0.13232510434415812, -1.4930236346176566, 0.5717283572309633, 1.6027573821880863, -0.26316261913033745, 0.1428706155553884, -1.9689781776908595, 0.7573252641608401, 1.2815546026772953, 0.4347619600899514, -0.5353942165407267, 0.9427327554963698, 1.1790481704431377, -0.4103179505335398, 1.467563169562042, 1.38742208689959, -0.1878420460340362, 0.9561618545448747, -0.6783596081109666, -0.7343973073358498, 0.3220750471063588, 0.27574581367708095, 1.4552279064325093, -0.291105920009326, 0.645407625337804, -1.0554341317842224, 0.33279221486126165, 0.7025265688025414, -0.6610919221931417, -0.1667434397585901, 0.6232829145291728, -0.2529836861465784, -1.3053816199792052, -0.9162982736073634, -1.3142225958928595, -1.6120659876274441, -0.053151427170382286, 1.872649441601502, -1.2683624163519756, 0.30392219244159846, 0.8663928886363615, -0.847758950848025, 1.2074149868658006, -0.8219780807135773, -0.3972774418375647, -0.3138094858687506, -0.7321270120897498, 0.19089113734580437, -1.467169892336397, -0.2704977443472076, 1.391089216049597, -1.4580084882448272, -1.6768288954001633, -1.2244219128686558, -0.5830634268948321, 2.596545053416106, 0.5547182458617995, -0.009938487125128776, 0.16661419271903802, -2.0051511664441923, -0.44142932606142177, 1.4768445874934977, -2.2891089768253154, 0.9969522087565932, -0.48862992958038, -0.8483077863746056, -0.3957040767842185], \"yaxis\": \"y3\"}, {\"line\": {\"color\": \"rgba(128, 128, 128, 1.0)\", \"dash\": \"solid\", \"shape\": \"linear\", \"width\": 1.3}, \"marker\": {\"size\": 2, \"symbol\": \"circle\"}, \"mode\": \"markers\", \"name\": \"A\", \"text\": \"\", \"type\": \"scatter\", \"x\": [0.9772336509828237, -0.07647478318063784, 0.7413636391750652, -0.15912297894377248, -0.15177625272150932, 0.1199900295795598, 0.2716635668621539, 0.3709292464448456, 0.5828024998577414, 1.1233734325816407, 0.5350414757703158, -0.27835449335894125, -0.5384981463868941, 1.7604427122046729, -0.1798211998472201, -0.07259583442974381, 0.6927847927489181, 1.713753068511354, 0.5580318332801198, 1.8777101613687104, 2.096919796229778, 2.006680204819293, 1.0358068816393418, -1.0471118960905113, 0.11421243302452166, 0.905838606468195, -1.3557540465958646, 0.052203996643662834, 1.065635124475401, -0.5948064543443344, 0.5824474335176656, 0.03769772664088032, -0.9295819904348213, 0.08773160196539075, -1.4326929160965838, 0.708051413119108, -0.07046148088440911, -0.14346819164193475, 0.3763987464634078, 1.489497426963874, -1.1875085365888707, -0.6972667620976027, -0.37526823498872225, -0.07039635195846435, -1.1069599873901415, 0.351561602957237, 1.7233931104452467, 0.5680461134761515, -0.7651406350372749, -0.8855202646912165, 0.24331003393244538, -1.9622170655863536, 0.25109763454148615, -1.7649926672975669, -0.4234854127409118, -0.7143020036904693, 0.20749639433841285, 0.010268364756173215, 0.0952854975447978, -0.5550510334752385, -0.4934942677949766, 1.6175409619083556, 0.3332748338333687, -0.5344727243038119, 1.0015841881282095, 0.10562661347557104, -0.1852368746866717, -0.07930200523712144, -0.9472604504862842, -0.6793917614321774, 0.3478046849795794, -0.06819282824824709, -0.24348051996278372, 0.4653730332137223, 0.8868921917777485, -0.8744287471716156, 0.8505394053147777, -0.7165134712897009, 0.31470910612493974, 2.2048428931352952, -0.37326042759452166, -0.6869832077121661, 0.4538698980652648, 0.3835572135228256, 0.5864267829588884, 0.1366552671255307, -0.29731483868073927, 0.2921796384197413, 1.204393005274402, 0.03240134226909766, 0.4841180429521735, -0.6875951590864127, 1.320895128089415, -1.5772719223289127, 1.083135276429853, 1.5582687187488196, 0.0402198571728886, 0.782586581086116, -0.826500765488446, 0.6466110743888642], \"xaxis\": \"x4\", \"y\": [-2.2555933768724947, -0.03382340070021499, -0.3200478984174772, 0.05045835842384177, 0.2233965386018236, 0.2536608574004414, -0.6692398991913475, -0.4786089224325477, 0.6512291566816155, -0.9992360969851862, -0.22169793134556703, -1.1712641861345396, 0.3252298075551189, 0.8914928115672888, -0.0369001928301434, -0.12612875726858397, -0.6321662033550624, -0.7177849850115586, -0.7380476067025662, -0.6496181734346335, -0.7764825074228829, 0.9825053624790435, 0.2583656046298789, -0.037818224865744765, 0.1633648933126579, 0.09045583256205675, 0.6019746573813641, 0.8630717855557517, -0.6891220161380268, 0.008139132913083826, 1.4462942945255972, 1.0974328278372718, 1.7026391999584558, 0.13232510434415812, -1.4930236346176566, 0.5717283572309633, 1.6027573821880863, -0.26316261913033745, 0.1428706155553884, -1.9689781776908595, 0.7573252641608401, 1.2815546026772953, 0.4347619600899514, -0.5353942165407267, 0.9427327554963698, 1.1790481704431377, -0.4103179505335398, 1.467563169562042, 1.38742208689959, -0.1878420460340362, 0.9561618545448747, -0.6783596081109666, -0.7343973073358498, 0.3220750471063588, 0.27574581367708095, 1.4552279064325093, -0.291105920009326, 0.645407625337804, -1.0554341317842224, 0.33279221486126165, 0.7025265688025414, -0.6610919221931417, -0.1667434397585901, 0.6232829145291728, -0.2529836861465784, -1.3053816199792052, -0.9162982736073634, -1.3142225958928595, -1.6120659876274441, -0.053151427170382286, 1.872649441601502, -1.2683624163519756, 0.30392219244159846, 0.8663928886363615, -0.847758950848025, 1.2074149868658006, -0.8219780807135773, -0.3972774418375647, -0.3138094858687506, -0.7321270120897498, 0.19089113734580437, -1.467169892336397, -0.2704977443472076, 1.391089216049597, -1.4580084882448272, -1.6768288954001633, -1.2244219128686558, -0.5830634268948321, 2.596545053416106, 0.5547182458617995, -0.009938487125128776, 0.16661419271903802, -2.0051511664441923, -0.44142932606142177, 1.4768445874934977, -2.2891089768253154, 0.9969522087565932, -0.48862992958038, -0.8483077863746056, -0.3957040767842185], \"yaxis\": \"y4\"}, {\"line\": {\"color\": \"rgba(128, 128, 128, 1.0)\", \"dash\": \"solid\", \"shape\": \"linear\", \"width\": 1.3}, \"marker\": {\"size\": 2, \"symbol\": \"circle\"}, \"mode\": \"markers\", \"name\": \"B\", \"text\": \"\", \"type\": \"scatter\", \"x\": [-2.2555933768724947, -0.03382340070021499, -0.3200478984174772, 0.05045835842384177, 0.2233965386018236, 0.2536608574004414, -0.6692398991913475, -0.4786089224325477, 0.6512291566816155, -0.9992360969851862, -0.22169793134556703, -1.1712641861345396, 0.3252298075551189, 0.8914928115672888, -0.0369001928301434, -0.12612875726858397, -0.6321662033550624, -0.7177849850115586, -0.7380476067025662, -0.6496181734346335, -0.7764825074228829, 0.9825053624790435, 0.2583656046298789, -0.037818224865744765, 0.1633648933126579, 0.09045583256205675, 0.6019746573813641, 0.8630717855557517, -0.6891220161380268, 0.008139132913083826, 1.4462942945255972, 1.0974328278372718, 1.7026391999584558, 0.13232510434415812, -1.4930236346176566, 0.5717283572309633, 1.6027573821880863, -0.26316261913033745, 0.1428706155553884, -1.9689781776908595, 0.7573252641608401, 1.2815546026772953, 0.4347619600899514, -0.5353942165407267, 0.9427327554963698, 1.1790481704431377, -0.4103179505335398, 1.467563169562042, 1.38742208689959, -0.1878420460340362, 0.9561618545448747, -0.6783596081109666, -0.7343973073358498, 0.3220750471063588, 0.27574581367708095, 1.4552279064325093, -0.291105920009326, 0.645407625337804, -1.0554341317842224, 0.33279221486126165, 0.7025265688025414, -0.6610919221931417, -0.1667434397585901, 0.6232829145291728, -0.2529836861465784, -1.3053816199792052, -0.9162982736073634, -1.3142225958928595, -1.6120659876274441, -0.053151427170382286, 1.872649441601502, -1.2683624163519756, 0.30392219244159846, 0.8663928886363615, -0.847758950848025, 1.2074149868658006, -0.8219780807135773, -0.3972774418375647, -0.3138094858687506, -0.7321270120897498, 0.19089113734580437, -1.467169892336397, -0.2704977443472076, 1.391089216049597, -1.4580084882448272, -1.6768288954001633, -1.2244219128686558, -0.5830634268948321, 2.596545053416106, 0.5547182458617995, -0.009938487125128776, 0.16661419271903802, -2.0051511664441923, -0.44142932606142177, 1.4768445874934977, -2.2891089768253154, 0.9969522087565932, -0.48862992958038, -0.8483077863746056, -0.3957040767842185], \"xaxis\": \"x5\", \"y\": [1.3141888702618962, -1.1115662109910567, -0.257289607344004, -1.4036350331162621, -0.9562431416001994, 0.5284258714874434, 1.3839270580400518, -0.47647239611666187, -0.48621055726856166, 0.21230749228133775, -0.4377454130191507, 1.139461784412099, -0.479066908076587, -0.5112289603822745, 1.0655062855344546, 0.2532285620560627, -0.5080625366400148, -0.14940661484256632, -1.0552401005092436, 1.3130463314943268, -0.09855391494815084, 1.682056997549952, 0.025030245632123346, -1.0314746214259058, -0.24440905168767216, -0.9640162206376627, 1.1659827817820045, -0.5949615891396036, 0.895109825347487, -1.1787502459426134, 0.3606252712904561, -2.8874455317853673, 0.05554922902958001, -0.6327253205975053, -0.14423079659187038, -0.4659585833517143, -0.42134027774967997, -0.9945211011510153, 0.5262417418954314, 0.6521486589933997, -0.3002767827572908, 1.0961571575291982, 0.02388240668584011, -0.251739361646199, -0.09132557319225461, -0.16222783106006364, -0.5800636263739349, 0.6539517205968917, 0.2676653096775852, -0.12788683168886808, 0.9301801207771702, -0.09177425164037127, -1.186280702243975, -1.5581869431240989, -0.42664764573524705, -0.2770735434883226, -0.8136201732195788, -1.1114664557447358, 1.6999503007281884, -0.7126876105880869, -0.0930941715055807, -2.3656191409182625, 0.735568121854511, 0.541493368025285, -0.6301134451738287, -0.05449659496425838, 0.7566045980698098, -0.05331049966966534, 0.7515301988470119, 1.1756364535626789, 0.6255519982890726, 0.4994986012724347, -0.33739521345218193, 0.7932359839780525, -0.8486742318118738, -0.6162281748236087, 0.6588315502975075, 0.47797298287983786, 0.8313530055118066, -1.6412026289064061, -0.5091519178754833, 1.2236901049372901, 1.2990342992990034, -0.4823964312713267, 0.8897377549146316, 0.8330977892920045, 1.2780894780540542, 0.2073916928678156, 2.1898409925479587, 1.2450021823566144, 0.9417074276447647, -0.11353886292187075, 1.5655409294812892, -0.04614353427259727, -0.34656495757651096, -0.18561680250884616, -2.262169847144289, 0.948170877714612, -1.1482499665528605, -0.8927910449284819], \"yaxis\": \"y5\"}, {\"histfunc\": \"count\", \"histnorm\": \"\", \"marker\": {\"color\": \"rgba(55, 128, 191, 1.0)\", \"line\": {\"color\": \"#4D5663\", \"width\": 1.3}}, \"name\": \"B\", \"nbinsx\": 10, \"opacity\": 0.8, \"orientation\": \"v\", \"type\": \"histogram\", \"x\": [1.3141888702618962, -1.1115662109910567, -0.257289607344004, -1.4036350331162621, -0.9562431416001994, 0.5284258714874434, 1.3839270580400518, -0.47647239611666187, -0.48621055726856166, 0.21230749228133775, -0.4377454130191507, 1.139461784412099, -0.479066908076587, -0.5112289603822745, 1.0655062855344546, 0.2532285620560627, -0.5080625366400148, -0.14940661484256632, -1.0552401005092436, 1.3130463314943268, -0.09855391494815084, 1.682056997549952, 0.025030245632123346, -1.0314746214259058, -0.24440905168767216, -0.9640162206376627, 1.1659827817820045, -0.5949615891396036, 0.895109825347487, -1.1787502459426134, 0.3606252712904561, -2.8874455317853673, 0.05554922902958001, -0.6327253205975053, -0.14423079659187038, -0.4659585833517143, -0.42134027774967997, -0.9945211011510153, 0.5262417418954314, 0.6521486589933997, -0.3002767827572908, 1.0961571575291982, 0.02388240668584011, -0.251739361646199, -0.09132557319225461, -0.16222783106006364, -0.5800636263739349, 0.6539517205968917, 0.2676653096775852, -0.12788683168886808, 0.9301801207771702, -0.09177425164037127, -1.186280702243975, -1.5581869431240989, -0.42664764573524705, -0.2770735434883226, -0.8136201732195788, -1.1114664557447358, 1.6999503007281884, -0.7126876105880869, -0.0930941715055807, -2.3656191409182625, 0.735568121854511, 0.541493368025285, -0.6301134451738287, -0.05449659496425838, 0.7566045980698098, -0.05331049966966534, 0.7515301988470119, 1.1756364535626789, 0.6255519982890726, 0.4994986012724347, -0.33739521345218193, 0.7932359839780525, -0.8486742318118738, -0.6162281748236087, 0.6588315502975075, 0.47797298287983786, 0.8313530055118066, -1.6412026289064061, -0.5091519178754833, 1.2236901049372901, 1.2990342992990034, -0.4823964312713267, 0.8897377549146316, 0.8330977892920045, 1.2780894780540542, 0.2073916928678156, 2.1898409925479587, 1.2450021823566144, 0.9417074276447647, -0.11353886292187075, 1.5655409294812892, -0.04614353427259727, -0.34656495757651096, -0.18561680250884616, -2.262169847144289, 0.948170877714612, -1.1482499665528605, -0.8927910449284819], \"xaxis\": \"x6\", \"yaxis\": \"y6\"}, {\"line\": {\"color\": \"rgba(128, 128, 128, 1.0)\", \"dash\": \"solid\", \"shape\": \"linear\", \"width\": 1.3}, \"marker\": {\"size\": 2, \"symbol\": \"circle\"}, \"mode\": \"markers\", \"name\": \"B\", \"text\": \"\", \"type\": \"scatter\", \"x\": [-0.3852111653161519, -0.7830544747937033, 0.6375500080290681, -1.2935251103472951, -0.8504493153928624, 0.09800862044555947, -1.3269601219003204, 0.327204119642585, -0.690840086360732, 0.0599524931219146, -0.2664804729565175, 0.5677036432202524, 0.44254035862817687, -0.534473786392977, -1.948328679109903, 0.3667213673256576, -0.8857969564564154, 0.000480655223030059, 0.6901565806311147, 0.4849220911931928, -0.3433584734411604, -0.044481892108771924, 0.5219215703694158, 0.6597640523271316, -0.815710202783354, 0.15440045099651611, 0.8626151498285916, 1.2557704479510896, -0.8866797361107176, 0.3116903849033211, -0.04586726700738958, -2.3210995766552003, -1.1141141767156846, -0.718790088777296, -1.215022691367036, 0.15990037633325638, 0.207339989867234, -0.1339251170432215, -0.31336335779366836, 0.4727293268665891, -1.364271403162109, 0.38485826485645513, -0.564525378196018, 0.08053092875359465, 0.8170016869020079, -0.16585723881699452, -0.7806192924820001, 0.2757423040683799, -0.8052577423922532, 0.4394975078426791, 0.05475969001130771, 0.13002452405704323, 0.5504028250944053, -0.07172476042858046, -0.3103852929550721, 0.6345882181965192, 0.45129839073710004, 0.24133569488877202, 0.4660206009407888, 0.32051436624277957, -1.4713410106320284, -0.6439436638461494, 0.0282498419594593, -1.9532860898921842, -0.2281728072186295, -1.6461248416327923, -0.8361741257415685, 1.103069631310339, 1.9773169265966584, 0.48488610606642524, -0.3119955389235842, -0.02493730005691768, -0.9557993486325946, -0.8739418396473461, -0.594468085245611, -0.12311748015716892, 0.16163289632042396, 0.2591893055592278, -0.5245824774930369, 0.9712195427151722, -1.0285584635996985, 1.3835410963227326, -1.1643694982378814, 1.267446133373859, 0.4221341686342332, 1.1078361853210785, 0.7270842106888753, 0.21856045988541378, 0.797581282367628, -0.6429999476331801, -0.8820815237633904, 0.2584226877120125, -0.8029529727740128, 1.4766089511557463, -0.48802675784715516, 1.001168054874638, -1.0613223170663308, 0.7350981512413484, 1.2784722523026892, 0.1117515228145326], \"xaxis\": \"x7\", \"y\": [1.3141888702618962, -1.1115662109910567, -0.257289607344004, -1.4036350331162621, -0.9562431416001994, 0.5284258714874434, 1.3839270580400518, -0.47647239611666187, -0.48621055726856166, 0.21230749228133775, -0.4377454130191507, 1.139461784412099, -0.479066908076587, -0.5112289603822745, 1.0655062855344546, 0.2532285620560627, -0.5080625366400148, -0.14940661484256632, -1.0552401005092436, 1.3130463314943268, -0.09855391494815084, 1.682056997549952, 0.025030245632123346, -1.0314746214259058, -0.24440905168767216, -0.9640162206376627, 1.1659827817820045, -0.5949615891396036, 0.895109825347487, -1.1787502459426134, 0.3606252712904561, -2.8874455317853673, 0.05554922902958001, -0.6327253205975053, -0.14423079659187038, -0.4659585833517143, -0.42134027774967997, -0.9945211011510153, 0.5262417418954314, 0.6521486589933997, -0.3002767827572908, 1.0961571575291982, 0.02388240668584011, -0.251739361646199, -0.09132557319225461, -0.16222783106006364, -0.5800636263739349, 0.6539517205968917, 0.2676653096775852, -0.12788683168886808, 0.9301801207771702, -0.09177425164037127, -1.186280702243975, -1.5581869431240989, -0.42664764573524705, -0.2770735434883226, -0.8136201732195788, -1.1114664557447358, 1.6999503007281884, -0.7126876105880869, -0.0930941715055807, -2.3656191409182625, 0.735568121854511, 0.541493368025285, -0.6301134451738287, -0.05449659496425838, 0.7566045980698098, -0.05331049966966534, 0.7515301988470119, 1.1756364535626789, 0.6255519982890726, 0.4994986012724347, -0.33739521345218193, 0.7932359839780525, -0.8486742318118738, -0.6162281748236087, 0.6588315502975075, 0.47797298287983786, 0.8313530055118066, -1.6412026289064061, -0.5091519178754833, 1.2236901049372901, 1.2990342992990034, -0.4823964312713267, 0.8897377549146316, 0.8330977892920045, 1.2780894780540542, 0.2073916928678156, 2.1898409925479587, 1.2450021823566144, 0.9417074276447647, -0.11353886292187075, 1.5655409294812892, -0.04614353427259727, -0.34656495757651096, -0.18561680250884616, -2.262169847144289, 0.948170877714612, -1.1482499665528605, -0.8927910449284819], \"yaxis\": \"y7\"}, {\"line\": {\"color\": \"rgba(128, 128, 128, 1.0)\", \"dash\": \"solid\", \"shape\": \"linear\", \"width\": 1.3}, \"marker\": {\"size\": 2, \"symbol\": \"circle\"}, \"mode\": \"markers\", \"name\": \"B\", \"text\": \"\", \"type\": \"scatter\", \"x\": [0.9772336509828237, -0.07647478318063784, 0.7413636391750652, -0.15912297894377248, -0.15177625272150932, 0.1199900295795598, 0.2716635668621539, 0.3709292464448456, 0.5828024998577414, 1.1233734325816407, 0.5350414757703158, -0.27835449335894125, -0.5384981463868941, 1.7604427122046729, -0.1798211998472201, -0.07259583442974381, 0.6927847927489181, 1.713753068511354, 0.5580318332801198, 1.8777101613687104, 2.096919796229778, 2.006680204819293, 1.0358068816393418, -1.0471118960905113, 0.11421243302452166, 0.905838606468195, -1.3557540465958646, 0.052203996643662834, 1.065635124475401, -0.5948064543443344, 0.5824474335176656, 0.03769772664088032, -0.9295819904348213, 0.08773160196539075, -1.4326929160965838, 0.708051413119108, -0.07046148088440911, -0.14346819164193475, 0.3763987464634078, 1.489497426963874, -1.1875085365888707, -0.6972667620976027, -0.37526823498872225, -0.07039635195846435, -1.1069599873901415, 0.351561602957237, 1.7233931104452467, 0.5680461134761515, -0.7651406350372749, -0.8855202646912165, 0.24331003393244538, -1.9622170655863536, 0.25109763454148615, -1.7649926672975669, -0.4234854127409118, -0.7143020036904693, 0.20749639433841285, 0.010268364756173215, 0.0952854975447978, -0.5550510334752385, -0.4934942677949766, 1.6175409619083556, 0.3332748338333687, -0.5344727243038119, 1.0015841881282095, 0.10562661347557104, -0.1852368746866717, -0.07930200523712144, -0.9472604504862842, -0.6793917614321774, 0.3478046849795794, -0.06819282824824709, -0.24348051996278372, 0.4653730332137223, 0.8868921917777485, -0.8744287471716156, 0.8505394053147777, -0.7165134712897009, 0.31470910612493974, 2.2048428931352952, -0.37326042759452166, -0.6869832077121661, 0.4538698980652648, 0.3835572135228256, 0.5864267829588884, 0.1366552671255307, -0.29731483868073927, 0.2921796384197413, 1.204393005274402, 0.03240134226909766, 0.4841180429521735, -0.6875951590864127, 1.320895128089415, -1.5772719223289127, 1.083135276429853, 1.5582687187488196, 0.0402198571728886, 0.782586581086116, -0.826500765488446, 0.6466110743888642], \"xaxis\": \"x8\", \"y\": [1.3141888702618962, -1.1115662109910567, -0.257289607344004, -1.4036350331162621, -0.9562431416001994, 0.5284258714874434, 1.3839270580400518, -0.47647239611666187, -0.48621055726856166, 0.21230749228133775, -0.4377454130191507, 1.139461784412099, -0.479066908076587, -0.5112289603822745, 1.0655062855344546, 0.2532285620560627, -0.5080625366400148, -0.14940661484256632, -1.0552401005092436, 1.3130463314943268, -0.09855391494815084, 1.682056997549952, 0.025030245632123346, -1.0314746214259058, -0.24440905168767216, -0.9640162206376627, 1.1659827817820045, -0.5949615891396036, 0.895109825347487, -1.1787502459426134, 0.3606252712904561, -2.8874455317853673, 0.05554922902958001, -0.6327253205975053, -0.14423079659187038, -0.4659585833517143, -0.42134027774967997, -0.9945211011510153, 0.5262417418954314, 0.6521486589933997, -0.3002767827572908, 1.0961571575291982, 0.02388240668584011, -0.251739361646199, -0.09132557319225461, -0.16222783106006364, -0.5800636263739349, 0.6539517205968917, 0.2676653096775852, -0.12788683168886808, 0.9301801207771702, -0.09177425164037127, -1.186280702243975, -1.5581869431240989, -0.42664764573524705, -0.2770735434883226, -0.8136201732195788, -1.1114664557447358, 1.6999503007281884, -0.7126876105880869, -0.0930941715055807, -2.3656191409182625, 0.735568121854511, 0.541493368025285, -0.6301134451738287, -0.05449659496425838, 0.7566045980698098, -0.05331049966966534, 0.7515301988470119, 1.1756364535626789, 0.6255519982890726, 0.4994986012724347, -0.33739521345218193, 0.7932359839780525, -0.8486742318118738, -0.6162281748236087, 0.6588315502975075, 0.47797298287983786, 0.8313530055118066, -1.6412026289064061, -0.5091519178754833, 1.2236901049372901, 1.2990342992990034, -0.4823964312713267, 0.8897377549146316, 0.8330977892920045, 1.2780894780540542, 0.2073916928678156, 2.1898409925479587, 1.2450021823566144, 0.9417074276447647, -0.11353886292187075, 1.5655409294812892, -0.04614353427259727, -0.34656495757651096, -0.18561680250884616, -2.262169847144289, 0.948170877714612, -1.1482499665528605, -0.8927910449284819], \"yaxis\": \"y8\"}, {\"line\": {\"color\": \"rgba(128, 128, 128, 1.0)\", \"dash\": \"solid\", \"shape\": \"linear\", \"width\": 1.3}, \"marker\": {\"size\": 2, \"symbol\": \"circle\"}, \"mode\": \"markers\", \"name\": \"C\", \"text\": \"\", \"type\": \"scatter\", \"x\": [-2.2555933768724947, -0.03382340070021499, -0.3200478984174772, 0.05045835842384177, 0.2233965386018236, 0.2536608574004414, -0.6692398991913475, -0.4786089224325477, 0.6512291566816155, -0.9992360969851862, -0.22169793134556703, -1.1712641861345396, 0.3252298075551189, 0.8914928115672888, -0.0369001928301434, -0.12612875726858397, -0.6321662033550624, -0.7177849850115586, -0.7380476067025662, -0.6496181734346335, -0.7764825074228829, 0.9825053624790435, 0.2583656046298789, -0.037818224865744765, 0.1633648933126579, 0.09045583256205675, 0.6019746573813641, 0.8630717855557517, -0.6891220161380268, 0.008139132913083826, 1.4462942945255972, 1.0974328278372718, 1.7026391999584558, 0.13232510434415812, -1.4930236346176566, 0.5717283572309633, 1.6027573821880863, -0.26316261913033745, 0.1428706155553884, -1.9689781776908595, 0.7573252641608401, 1.2815546026772953, 0.4347619600899514, -0.5353942165407267, 0.9427327554963698, 1.1790481704431377, -0.4103179505335398, 1.467563169562042, 1.38742208689959, -0.1878420460340362, 0.9561618545448747, -0.6783596081109666, -0.7343973073358498, 0.3220750471063588, 0.27574581367708095, 1.4552279064325093, -0.291105920009326, 0.645407625337804, -1.0554341317842224, 0.33279221486126165, 0.7025265688025414, -0.6610919221931417, -0.1667434397585901, 0.6232829145291728, -0.2529836861465784, -1.3053816199792052, -0.9162982736073634, -1.3142225958928595, -1.6120659876274441, -0.053151427170382286, 1.872649441601502, -1.2683624163519756, 0.30392219244159846, 0.8663928886363615, -0.847758950848025, 1.2074149868658006, -0.8219780807135773, -0.3972774418375647, -0.3138094858687506, -0.7321270120897498, 0.19089113734580437, -1.467169892336397, -0.2704977443472076, 1.391089216049597, -1.4580084882448272, -1.6768288954001633, -1.2244219128686558, -0.5830634268948321, 2.596545053416106, 0.5547182458617995, -0.009938487125128776, 0.16661419271903802, -2.0051511664441923, -0.44142932606142177, 1.4768445874934977, -2.2891089768253154, 0.9969522087565932, -0.48862992958038, -0.8483077863746056, -0.3957040767842185], \"xaxis\": \"x9\", \"y\": [-0.3852111653161519, -0.7830544747937033, 0.6375500080290681, -1.2935251103472951, -0.8504493153928624, 0.09800862044555947, -1.3269601219003204, 0.327204119642585, -0.690840086360732, 0.0599524931219146, -0.2664804729565175, 0.5677036432202524, 0.44254035862817687, -0.534473786392977, -1.948328679109903, 0.3667213673256576, -0.8857969564564154, 0.000480655223030059, 0.6901565806311147, 0.4849220911931928, -0.3433584734411604, -0.044481892108771924, 0.5219215703694158, 0.6597640523271316, -0.815710202783354, 0.15440045099651611, 0.8626151498285916, 1.2557704479510896, -0.8866797361107176, 0.3116903849033211, -0.04586726700738958, -2.3210995766552003, -1.1141141767156846, -0.718790088777296, -1.215022691367036, 0.15990037633325638, 0.207339989867234, -0.1339251170432215, -0.31336335779366836, 0.4727293268665891, -1.364271403162109, 0.38485826485645513, -0.564525378196018, 0.08053092875359465, 0.8170016869020079, -0.16585723881699452, -0.7806192924820001, 0.2757423040683799, -0.8052577423922532, 0.4394975078426791, 0.05475969001130771, 0.13002452405704323, 0.5504028250944053, -0.07172476042858046, -0.3103852929550721, 0.6345882181965192, 0.45129839073710004, 0.24133569488877202, 0.4660206009407888, 0.32051436624277957, -1.4713410106320284, -0.6439436638461494, 0.0282498419594593, -1.9532860898921842, -0.2281728072186295, -1.6461248416327923, -0.8361741257415685, 1.103069631310339, 1.9773169265966584, 0.48488610606642524, -0.3119955389235842, -0.02493730005691768, -0.9557993486325946, -0.8739418396473461, -0.594468085245611, -0.12311748015716892, 0.16163289632042396, 0.2591893055592278, -0.5245824774930369, 0.9712195427151722, -1.0285584635996985, 1.3835410963227326, -1.1643694982378814, 1.267446133373859, 0.4221341686342332, 1.1078361853210785, 0.7270842106888753, 0.21856045988541378, 0.797581282367628, -0.6429999476331801, -0.8820815237633904, 0.2584226877120125, -0.8029529727740128, 1.4766089511557463, -0.48802675784715516, 1.001168054874638, -1.0613223170663308, 0.7350981512413484, 1.2784722523026892, 0.1117515228145326], \"yaxis\": \"y9\"}, {\"line\": {\"color\": \"rgba(128, 128, 128, 1.0)\", \"dash\": \"solid\", \"shape\": \"linear\", \"width\": 1.3}, \"marker\": {\"size\": 2, \"symbol\": \"circle\"}, \"mode\": \"markers\", \"name\": \"C\", \"text\": \"\", \"type\": \"scatter\", \"x\": [1.3141888702618962, -1.1115662109910567, -0.257289607344004, -1.4036350331162621, -0.9562431416001994, 0.5284258714874434, 1.3839270580400518, -0.47647239611666187, -0.48621055726856166, 0.21230749228133775, -0.4377454130191507, 1.139461784412099, -0.479066908076587, -0.5112289603822745, 1.0655062855344546, 0.2532285620560627, -0.5080625366400148, -0.14940661484256632, -1.0552401005092436, 1.3130463314943268, -0.09855391494815084, 1.682056997549952, 0.025030245632123346, -1.0314746214259058, -0.24440905168767216, -0.9640162206376627, 1.1659827817820045, -0.5949615891396036, 0.895109825347487, -1.1787502459426134, 0.3606252712904561, -2.8874455317853673, 0.05554922902958001, -0.6327253205975053, -0.14423079659187038, -0.4659585833517143, -0.42134027774967997, -0.9945211011510153, 0.5262417418954314, 0.6521486589933997, -0.3002767827572908, 1.0961571575291982, 0.02388240668584011, -0.251739361646199, -0.09132557319225461, -0.16222783106006364, -0.5800636263739349, 0.6539517205968917, 0.2676653096775852, -0.12788683168886808, 0.9301801207771702, -0.09177425164037127, -1.186280702243975, -1.5581869431240989, -0.42664764573524705, -0.2770735434883226, -0.8136201732195788, -1.1114664557447358, 1.6999503007281884, -0.7126876105880869, -0.0930941715055807, -2.3656191409182625, 0.735568121854511, 0.541493368025285, -0.6301134451738287, -0.05449659496425838, 0.7566045980698098, -0.05331049966966534, 0.7515301988470119, 1.1756364535626789, 0.6255519982890726, 0.4994986012724347, -0.33739521345218193, 0.7932359839780525, -0.8486742318118738, -0.6162281748236087, 0.6588315502975075, 0.47797298287983786, 0.8313530055118066, -1.6412026289064061, -0.5091519178754833, 1.2236901049372901, 1.2990342992990034, -0.4823964312713267, 0.8897377549146316, 0.8330977892920045, 1.2780894780540542, 0.2073916928678156, 2.1898409925479587, 1.2450021823566144, 0.9417074276447647, -0.11353886292187075, 1.5655409294812892, -0.04614353427259727, -0.34656495757651096, -0.18561680250884616, -2.262169847144289, 0.948170877714612, -1.1482499665528605, -0.8927910449284819], \"xaxis\": \"x10\", \"y\": [-0.3852111653161519, -0.7830544747937033, 0.6375500080290681, -1.2935251103472951, -0.8504493153928624, 0.09800862044555947, -1.3269601219003204, 0.327204119642585, -0.690840086360732, 0.0599524931219146, -0.2664804729565175, 0.5677036432202524, 0.44254035862817687, -0.534473786392977, -1.948328679109903, 0.3667213673256576, -0.8857969564564154, 0.000480655223030059, 0.6901565806311147, 0.4849220911931928, -0.3433584734411604, -0.044481892108771924, 0.5219215703694158, 0.6597640523271316, -0.815710202783354, 0.15440045099651611, 0.8626151498285916, 1.2557704479510896, -0.8866797361107176, 0.3116903849033211, -0.04586726700738958, -2.3210995766552003, -1.1141141767156846, -0.718790088777296, -1.215022691367036, 0.15990037633325638, 0.207339989867234, -0.1339251170432215, -0.31336335779366836, 0.4727293268665891, -1.364271403162109, 0.38485826485645513, -0.564525378196018, 0.08053092875359465, 0.8170016869020079, -0.16585723881699452, -0.7806192924820001, 0.2757423040683799, -0.8052577423922532, 0.4394975078426791, 0.05475969001130771, 0.13002452405704323, 0.5504028250944053, -0.07172476042858046, -0.3103852929550721, 0.6345882181965192, 0.45129839073710004, 0.24133569488877202, 0.4660206009407888, 0.32051436624277957, -1.4713410106320284, -0.6439436638461494, 0.0282498419594593, -1.9532860898921842, -0.2281728072186295, -1.6461248416327923, -0.8361741257415685, 1.103069631310339, 1.9773169265966584, 0.48488610606642524, -0.3119955389235842, -0.02493730005691768, -0.9557993486325946, -0.8739418396473461, -0.594468085245611, -0.12311748015716892, 0.16163289632042396, 0.2591893055592278, -0.5245824774930369, 0.9712195427151722, -1.0285584635996985, 1.3835410963227326, -1.1643694982378814, 1.267446133373859, 0.4221341686342332, 1.1078361853210785, 0.7270842106888753, 0.21856045988541378, 0.797581282367628, -0.6429999476331801, -0.8820815237633904, 0.2584226877120125, -0.8029529727740128, 1.4766089511557463, -0.48802675784715516, 1.001168054874638, -1.0613223170663308, 0.7350981512413484, 1.2784722523026892, 0.1117515228145326], \"yaxis\": \"y10\"}, {\"histfunc\": \"count\", \"histnorm\": \"\", \"marker\": {\"color\": \"rgba(50, 171, 96, 1.0)\", \"line\": {\"color\": \"#4D5663\", \"width\": 1.3}}, \"name\": \"C\", \"nbinsx\": 10, \"opacity\": 0.8, \"orientation\": \"v\", \"type\": \"histogram\", \"x\": [-0.3852111653161519, -0.7830544747937033, 0.6375500080290681, -1.2935251103472951, -0.8504493153928624, 0.09800862044555947, -1.3269601219003204, 0.327204119642585, -0.690840086360732, 0.0599524931219146, -0.2664804729565175, 0.5677036432202524, 0.44254035862817687, -0.534473786392977, -1.948328679109903, 0.3667213673256576, -0.8857969564564154, 0.000480655223030059, 0.6901565806311147, 0.4849220911931928, -0.3433584734411604, -0.044481892108771924, 0.5219215703694158, 0.6597640523271316, -0.815710202783354, 0.15440045099651611, 0.8626151498285916, 1.2557704479510896, -0.8866797361107176, 0.3116903849033211, -0.04586726700738958, -2.3210995766552003, -1.1141141767156846, -0.718790088777296, -1.215022691367036, 0.15990037633325638, 0.207339989867234, -0.1339251170432215, -0.31336335779366836, 0.4727293268665891, -1.364271403162109, 0.38485826485645513, -0.564525378196018, 0.08053092875359465, 0.8170016869020079, -0.16585723881699452, -0.7806192924820001, 0.2757423040683799, -0.8052577423922532, 0.4394975078426791, 0.05475969001130771, 0.13002452405704323, 0.5504028250944053, -0.07172476042858046, -0.3103852929550721, 0.6345882181965192, 0.45129839073710004, 0.24133569488877202, 0.4660206009407888, 0.32051436624277957, -1.4713410106320284, -0.6439436638461494, 0.0282498419594593, -1.9532860898921842, -0.2281728072186295, -1.6461248416327923, -0.8361741257415685, 1.103069631310339, 1.9773169265966584, 0.48488610606642524, -0.3119955389235842, -0.02493730005691768, -0.9557993486325946, -0.8739418396473461, -0.594468085245611, -0.12311748015716892, 0.16163289632042396, 0.2591893055592278, -0.5245824774930369, 0.9712195427151722, -1.0285584635996985, 1.3835410963227326, -1.1643694982378814, 1.267446133373859, 0.4221341686342332, 1.1078361853210785, 0.7270842106888753, 0.21856045988541378, 0.797581282367628, -0.6429999476331801, -0.8820815237633904, 0.2584226877120125, -0.8029529727740128, 1.4766089511557463, -0.48802675784715516, 1.001168054874638, -1.0613223170663308, 0.7350981512413484, 1.2784722523026892, 0.1117515228145326], \"xaxis\": \"x11\", \"yaxis\": \"y11\"}, {\"line\": {\"color\": \"rgba(128, 128, 128, 1.0)\", \"dash\": \"solid\", \"shape\": \"linear\", \"width\": 1.3}, \"marker\": {\"size\": 2, \"symbol\": \"circle\"}, \"mode\": \"markers\", \"name\": \"C\", \"text\": \"\", \"type\": \"scatter\", \"x\": [0.9772336509828237, -0.07647478318063784, 0.7413636391750652, -0.15912297894377248, -0.15177625272150932, 0.1199900295795598, 0.2716635668621539, 0.3709292464448456, 0.5828024998577414, 1.1233734325816407, 0.5350414757703158, -0.27835449335894125, -0.5384981463868941, 1.7604427122046729, -0.1798211998472201, -0.07259583442974381, 0.6927847927489181, 1.713753068511354, 0.5580318332801198, 1.8777101613687104, 2.096919796229778, 2.006680204819293, 1.0358068816393418, -1.0471118960905113, 0.11421243302452166, 0.905838606468195, -1.3557540465958646, 0.052203996643662834, 1.065635124475401, -0.5948064543443344, 0.5824474335176656, 0.03769772664088032, -0.9295819904348213, 0.08773160196539075, -1.4326929160965838, 0.708051413119108, -0.07046148088440911, -0.14346819164193475, 0.3763987464634078, 1.489497426963874, -1.1875085365888707, -0.6972667620976027, -0.37526823498872225, -0.07039635195846435, -1.1069599873901415, 0.351561602957237, 1.7233931104452467, 0.5680461134761515, -0.7651406350372749, -0.8855202646912165, 0.24331003393244538, -1.9622170655863536, 0.25109763454148615, -1.7649926672975669, -0.4234854127409118, -0.7143020036904693, 0.20749639433841285, 0.010268364756173215, 0.0952854975447978, -0.5550510334752385, -0.4934942677949766, 1.6175409619083556, 0.3332748338333687, -0.5344727243038119, 1.0015841881282095, 0.10562661347557104, -0.1852368746866717, -0.07930200523712144, -0.9472604504862842, -0.6793917614321774, 0.3478046849795794, -0.06819282824824709, -0.24348051996278372, 0.4653730332137223, 0.8868921917777485, -0.8744287471716156, 0.8505394053147777, -0.7165134712897009, 0.31470910612493974, 2.2048428931352952, -0.37326042759452166, -0.6869832077121661, 0.4538698980652648, 0.3835572135228256, 0.5864267829588884, 0.1366552671255307, -0.29731483868073927, 0.2921796384197413, 1.204393005274402, 0.03240134226909766, 0.4841180429521735, -0.6875951590864127, 1.320895128089415, -1.5772719223289127, 1.083135276429853, 1.5582687187488196, 0.0402198571728886, 0.782586581086116, -0.826500765488446, 0.6466110743888642], \"xaxis\": \"x12\", \"y\": [-0.3852111653161519, -0.7830544747937033, 0.6375500080290681, -1.2935251103472951, -0.8504493153928624, 0.09800862044555947, -1.3269601219003204, 0.327204119642585, -0.690840086360732, 0.0599524931219146, -0.2664804729565175, 0.5677036432202524, 0.44254035862817687, -0.534473786392977, -1.948328679109903, 0.3667213673256576, -0.8857969564564154, 0.000480655223030059, 0.6901565806311147, 0.4849220911931928, -0.3433584734411604, -0.044481892108771924, 0.5219215703694158, 0.6597640523271316, -0.815710202783354, 0.15440045099651611, 0.8626151498285916, 1.2557704479510896, -0.8866797361107176, 0.3116903849033211, -0.04586726700738958, -2.3210995766552003, -1.1141141767156846, -0.718790088777296, -1.215022691367036, 0.15990037633325638, 0.207339989867234, -0.1339251170432215, -0.31336335779366836, 0.4727293268665891, -1.364271403162109, 0.38485826485645513, -0.564525378196018, 0.08053092875359465, 0.8170016869020079, -0.16585723881699452, -0.7806192924820001, 0.2757423040683799, -0.8052577423922532, 0.4394975078426791, 0.05475969001130771, 0.13002452405704323, 0.5504028250944053, -0.07172476042858046, -0.3103852929550721, 0.6345882181965192, 0.45129839073710004, 0.24133569488877202, 0.4660206009407888, 0.32051436624277957, -1.4713410106320284, -0.6439436638461494, 0.0282498419594593, -1.9532860898921842, -0.2281728072186295, -1.6461248416327923, -0.8361741257415685, 1.103069631310339, 1.9773169265966584, 0.48488610606642524, -0.3119955389235842, -0.02493730005691768, -0.9557993486325946, -0.8739418396473461, -0.594468085245611, -0.12311748015716892, 0.16163289632042396, 0.2591893055592278, -0.5245824774930369, 0.9712195427151722, -1.0285584635996985, 1.3835410963227326, -1.1643694982378814, 1.267446133373859, 0.4221341686342332, 1.1078361853210785, 0.7270842106888753, 0.21856045988541378, 0.797581282367628, -0.6429999476331801, -0.8820815237633904, 0.2584226877120125, -0.8029529727740128, 1.4766089511557463, -0.48802675784715516, 1.001168054874638, -1.0613223170663308, 0.7350981512413484, 1.2784722523026892, 0.1117515228145326], \"yaxis\": \"y12\"}, {\"line\": {\"color\": \"rgba(128, 128, 128, 1.0)\", \"dash\": \"solid\", \"shape\": \"linear\", \"width\": 1.3}, \"marker\": {\"size\": 2, \"symbol\": \"circle\"}, \"mode\": \"markers\", \"name\": \"D\", \"text\": \"\", \"type\": \"scatter\", \"x\": [-2.2555933768724947, -0.03382340070021499, -0.3200478984174772, 0.05045835842384177, 0.2233965386018236, 0.2536608574004414, -0.6692398991913475, -0.4786089224325477, 0.6512291566816155, -0.9992360969851862, -0.22169793134556703, -1.1712641861345396, 0.3252298075551189, 0.8914928115672888, -0.0369001928301434, -0.12612875726858397, -0.6321662033550624, -0.7177849850115586, -0.7380476067025662, -0.6496181734346335, -0.7764825074228829, 0.9825053624790435, 0.2583656046298789, -0.037818224865744765, 0.1633648933126579, 0.09045583256205675, 0.6019746573813641, 0.8630717855557517, -0.6891220161380268, 0.008139132913083826, 1.4462942945255972, 1.0974328278372718, 1.7026391999584558, 0.13232510434415812, -1.4930236346176566, 0.5717283572309633, 1.6027573821880863, -0.26316261913033745, 0.1428706155553884, -1.9689781776908595, 0.7573252641608401, 1.2815546026772953, 0.4347619600899514, -0.5353942165407267, 0.9427327554963698, 1.1790481704431377, -0.4103179505335398, 1.467563169562042, 1.38742208689959, -0.1878420460340362, 0.9561618545448747, -0.6783596081109666, -0.7343973073358498, 0.3220750471063588, 0.27574581367708095, 1.4552279064325093, -0.291105920009326, 0.645407625337804, -1.0554341317842224, 0.33279221486126165, 0.7025265688025414, -0.6610919221931417, -0.1667434397585901, 0.6232829145291728, -0.2529836861465784, -1.3053816199792052, -0.9162982736073634, -1.3142225958928595, -1.6120659876274441, -0.053151427170382286, 1.872649441601502, -1.2683624163519756, 0.30392219244159846, 0.8663928886363615, -0.847758950848025, 1.2074149868658006, -0.8219780807135773, -0.3972774418375647, -0.3138094858687506, -0.7321270120897498, 0.19089113734580437, -1.467169892336397, -0.2704977443472076, 1.391089216049597, -1.4580084882448272, -1.6768288954001633, -1.2244219128686558, -0.5830634268948321, 2.596545053416106, 0.5547182458617995, -0.009938487125128776, 0.16661419271903802, -2.0051511664441923, -0.44142932606142177, 1.4768445874934977, -2.2891089768253154, 0.9969522087565932, -0.48862992958038, -0.8483077863746056, -0.3957040767842185], \"xaxis\": \"x13\", \"y\": [0.9772336509828237, -0.07647478318063784, 0.7413636391750652, -0.15912297894377248, -0.15177625272150932, 0.1199900295795598, 0.2716635668621539, 0.3709292464448456, 0.5828024998577414, 1.1233734325816407, 0.5350414757703158, -0.27835449335894125, -0.5384981463868941, 1.7604427122046729, -0.1798211998472201, -0.07259583442974381, 0.6927847927489181, 1.713753068511354, 0.5580318332801198, 1.8777101613687104, 2.096919796229778, 2.006680204819293, 1.0358068816393418, -1.0471118960905113, 0.11421243302452166, 0.905838606468195, -1.3557540465958646, 0.052203996643662834, 1.065635124475401, -0.5948064543443344, 0.5824474335176656, 0.03769772664088032, -0.9295819904348213, 0.08773160196539075, -1.4326929160965838, 0.708051413119108, -0.07046148088440911, -0.14346819164193475, 0.3763987464634078, 1.489497426963874, -1.1875085365888707, -0.6972667620976027, -0.37526823498872225, -0.07039635195846435, -1.1069599873901415, 0.351561602957237, 1.7233931104452467, 0.5680461134761515, -0.7651406350372749, -0.8855202646912165, 0.24331003393244538, -1.9622170655863536, 0.25109763454148615, -1.7649926672975669, -0.4234854127409118, -0.7143020036904693, 0.20749639433841285, 0.010268364756173215, 0.0952854975447978, -0.5550510334752385, -0.4934942677949766, 1.6175409619083556, 0.3332748338333687, -0.5344727243038119, 1.0015841881282095, 0.10562661347557104, -0.1852368746866717, -0.07930200523712144, -0.9472604504862842, -0.6793917614321774, 0.3478046849795794, -0.06819282824824709, -0.24348051996278372, 0.4653730332137223, 0.8868921917777485, -0.8744287471716156, 0.8505394053147777, -0.7165134712897009, 0.31470910612493974, 2.2048428931352952, -0.37326042759452166, -0.6869832077121661, 0.4538698980652648, 0.3835572135228256, 0.5864267829588884, 0.1366552671255307, -0.29731483868073927, 0.2921796384197413, 1.204393005274402, 0.03240134226909766, 0.4841180429521735, -0.6875951590864127, 1.320895128089415, -1.5772719223289127, 1.083135276429853, 1.5582687187488196, 0.0402198571728886, 0.782586581086116, -0.826500765488446, 0.6466110743888642], \"yaxis\": \"y13\"}, {\"line\": {\"color\": \"rgba(128, 128, 128, 1.0)\", \"dash\": \"solid\", \"shape\": \"linear\", \"width\": 1.3}, \"marker\": {\"size\": 2, \"symbol\": \"circle\"}, \"mode\": \"markers\", \"name\": \"D\", \"text\": \"\", \"type\": \"scatter\", \"x\": [1.3141888702618962, -1.1115662109910567, -0.257289607344004, -1.4036350331162621, -0.9562431416001994, 0.5284258714874434, 1.3839270580400518, -0.47647239611666187, -0.48621055726856166, 0.21230749228133775, -0.4377454130191507, 1.139461784412099, -0.479066908076587, -0.5112289603822745, 1.0655062855344546, 0.2532285620560627, -0.5080625366400148, -0.14940661484256632, -1.0552401005092436, 1.3130463314943268, -0.09855391494815084, 1.682056997549952, 0.025030245632123346, -1.0314746214259058, -0.24440905168767216, -0.9640162206376627, 1.1659827817820045, -0.5949615891396036, 0.895109825347487, -1.1787502459426134, 0.3606252712904561, -2.8874455317853673, 0.05554922902958001, -0.6327253205975053, -0.14423079659187038, -0.4659585833517143, -0.42134027774967997, -0.9945211011510153, 0.5262417418954314, 0.6521486589933997, -0.3002767827572908, 1.0961571575291982, 0.02388240668584011, -0.251739361646199, -0.09132557319225461, -0.16222783106006364, -0.5800636263739349, 0.6539517205968917, 0.2676653096775852, -0.12788683168886808, 0.9301801207771702, -0.09177425164037127, -1.186280702243975, -1.5581869431240989, -0.42664764573524705, -0.2770735434883226, -0.8136201732195788, -1.1114664557447358, 1.6999503007281884, -0.7126876105880869, -0.0930941715055807, -2.3656191409182625, 0.735568121854511, 0.541493368025285, -0.6301134451738287, -0.05449659496425838, 0.7566045980698098, -0.05331049966966534, 0.7515301988470119, 1.1756364535626789, 0.6255519982890726, 0.4994986012724347, -0.33739521345218193, 0.7932359839780525, -0.8486742318118738, -0.6162281748236087, 0.6588315502975075, 0.47797298287983786, 0.8313530055118066, -1.6412026289064061, -0.5091519178754833, 1.2236901049372901, 1.2990342992990034, -0.4823964312713267, 0.8897377549146316, 0.8330977892920045, 1.2780894780540542, 0.2073916928678156, 2.1898409925479587, 1.2450021823566144, 0.9417074276447647, -0.11353886292187075, 1.5655409294812892, -0.04614353427259727, -0.34656495757651096, -0.18561680250884616, -2.262169847144289, 0.948170877714612, -1.1482499665528605, -0.8927910449284819], \"xaxis\": \"x14\", \"y\": [0.9772336509828237, -0.07647478318063784, 0.7413636391750652, -0.15912297894377248, -0.15177625272150932, 0.1199900295795598, 0.2716635668621539, 0.3709292464448456, 0.5828024998577414, 1.1233734325816407, 0.5350414757703158, -0.27835449335894125, -0.5384981463868941, 1.7604427122046729, -0.1798211998472201, -0.07259583442974381, 0.6927847927489181, 1.713753068511354, 0.5580318332801198, 1.8777101613687104, 2.096919796229778, 2.006680204819293, 1.0358068816393418, -1.0471118960905113, 0.11421243302452166, 0.905838606468195, -1.3557540465958646, 0.052203996643662834, 1.065635124475401, -0.5948064543443344, 0.5824474335176656, 0.03769772664088032, -0.9295819904348213, 0.08773160196539075, -1.4326929160965838, 0.708051413119108, -0.07046148088440911, -0.14346819164193475, 0.3763987464634078, 1.489497426963874, -1.1875085365888707, -0.6972667620976027, -0.37526823498872225, -0.07039635195846435, -1.1069599873901415, 0.351561602957237, 1.7233931104452467, 0.5680461134761515, -0.7651406350372749, -0.8855202646912165, 0.24331003393244538, -1.9622170655863536, 0.25109763454148615, -1.7649926672975669, -0.4234854127409118, -0.7143020036904693, 0.20749639433841285, 0.010268364756173215, 0.0952854975447978, -0.5550510334752385, -0.4934942677949766, 1.6175409619083556, 0.3332748338333687, -0.5344727243038119, 1.0015841881282095, 0.10562661347557104, -0.1852368746866717, -0.07930200523712144, -0.9472604504862842, -0.6793917614321774, 0.3478046849795794, -0.06819282824824709, -0.24348051996278372, 0.4653730332137223, 0.8868921917777485, -0.8744287471716156, 0.8505394053147777, -0.7165134712897009, 0.31470910612493974, 2.2048428931352952, -0.37326042759452166, -0.6869832077121661, 0.4538698980652648, 0.3835572135228256, 0.5864267829588884, 0.1366552671255307, -0.29731483868073927, 0.2921796384197413, 1.204393005274402, 0.03240134226909766, 0.4841180429521735, -0.6875951590864127, 1.320895128089415, -1.5772719223289127, 1.083135276429853, 1.5582687187488196, 0.0402198571728886, 0.782586581086116, -0.826500765488446, 0.6466110743888642], \"yaxis\": \"y14\"}, {\"line\": {\"color\": \"rgba(128, 128, 128, 1.0)\", \"dash\": \"solid\", \"shape\": \"linear\", \"width\": 1.3}, \"marker\": {\"size\": 2, \"symbol\": \"circle\"}, \"mode\": \"markers\", \"name\": \"D\", \"text\": \"\", \"type\": \"scatter\", \"x\": [-0.3852111653161519, -0.7830544747937033, 0.6375500080290681, -1.2935251103472951, -0.8504493153928624, 0.09800862044555947, -1.3269601219003204, 0.327204119642585, -0.690840086360732, 0.0599524931219146, -0.2664804729565175, 0.5677036432202524, 0.44254035862817687, -0.534473786392977, -1.948328679109903, 0.3667213673256576, -0.8857969564564154, 0.000480655223030059, 0.6901565806311147, 0.4849220911931928, -0.3433584734411604, -0.044481892108771924, 0.5219215703694158, 0.6597640523271316, -0.815710202783354, 0.15440045099651611, 0.8626151498285916, 1.2557704479510896, -0.8866797361107176, 0.3116903849033211, -0.04586726700738958, -2.3210995766552003, -1.1141141767156846, -0.718790088777296, -1.215022691367036, 0.15990037633325638, 0.207339989867234, -0.1339251170432215, -0.31336335779366836, 0.4727293268665891, -1.364271403162109, 0.38485826485645513, -0.564525378196018, 0.08053092875359465, 0.8170016869020079, -0.16585723881699452, -0.7806192924820001, 0.2757423040683799, -0.8052577423922532, 0.4394975078426791, 0.05475969001130771, 0.13002452405704323, 0.5504028250944053, -0.07172476042858046, -0.3103852929550721, 0.6345882181965192, 0.45129839073710004, 0.24133569488877202, 0.4660206009407888, 0.32051436624277957, -1.4713410106320284, -0.6439436638461494, 0.0282498419594593, -1.9532860898921842, -0.2281728072186295, -1.6461248416327923, -0.8361741257415685, 1.103069631310339, 1.9773169265966584, 0.48488610606642524, -0.3119955389235842, -0.02493730005691768, -0.9557993486325946, -0.8739418396473461, -0.594468085245611, -0.12311748015716892, 0.16163289632042396, 0.2591893055592278, -0.5245824774930369, 0.9712195427151722, -1.0285584635996985, 1.3835410963227326, -1.1643694982378814, 1.267446133373859, 0.4221341686342332, 1.1078361853210785, 0.7270842106888753, 0.21856045988541378, 0.797581282367628, -0.6429999476331801, -0.8820815237633904, 0.2584226877120125, -0.8029529727740128, 1.4766089511557463, -0.48802675784715516, 1.001168054874638, -1.0613223170663308, 0.7350981512413484, 1.2784722523026892, 0.1117515228145326], \"xaxis\": \"x15\", \"y\": [0.9772336509828237, -0.07647478318063784, 0.7413636391750652, -0.15912297894377248, -0.15177625272150932, 0.1199900295795598, 0.2716635668621539, 0.3709292464448456, 0.5828024998577414, 1.1233734325816407, 0.5350414757703158, -0.27835449335894125, -0.5384981463868941, 1.7604427122046729, -0.1798211998472201, -0.07259583442974381, 0.6927847927489181, 1.713753068511354, 0.5580318332801198, 1.8777101613687104, 2.096919796229778, 2.006680204819293, 1.0358068816393418, -1.0471118960905113, 0.11421243302452166, 0.905838606468195, -1.3557540465958646, 0.052203996643662834, 1.065635124475401, -0.5948064543443344, 0.5824474335176656, 0.03769772664088032, -0.9295819904348213, 0.08773160196539075, -1.4326929160965838, 0.708051413119108, -0.07046148088440911, -0.14346819164193475, 0.3763987464634078, 1.489497426963874, -1.1875085365888707, -0.6972667620976027, -0.37526823498872225, -0.07039635195846435, -1.1069599873901415, 0.351561602957237, 1.7233931104452467, 0.5680461134761515, -0.7651406350372749, -0.8855202646912165, 0.24331003393244538, -1.9622170655863536, 0.25109763454148615, -1.7649926672975669, -0.4234854127409118, -0.7143020036904693, 0.20749639433841285, 0.010268364756173215, 0.0952854975447978, -0.5550510334752385, -0.4934942677949766, 1.6175409619083556, 0.3332748338333687, -0.5344727243038119, 1.0015841881282095, 0.10562661347557104, -0.1852368746866717, -0.07930200523712144, -0.9472604504862842, -0.6793917614321774, 0.3478046849795794, -0.06819282824824709, -0.24348051996278372, 0.4653730332137223, 0.8868921917777485, -0.8744287471716156, 0.8505394053147777, -0.7165134712897009, 0.31470910612493974, 2.2048428931352952, -0.37326042759452166, -0.6869832077121661, 0.4538698980652648, 0.3835572135228256, 0.5864267829588884, 0.1366552671255307, -0.29731483868073927, 0.2921796384197413, 1.204393005274402, 0.03240134226909766, 0.4841180429521735, -0.6875951590864127, 1.320895128089415, -1.5772719223289127, 1.083135276429853, 1.5582687187488196, 0.0402198571728886, 0.782586581086116, -0.826500765488446, 0.6466110743888642], \"yaxis\": \"y15\"}, {\"histfunc\": \"count\", \"histnorm\": \"\", \"marker\": {\"color\": \"rgba(128, 0, 128, 1.0)\", \"line\": {\"color\": \"#4D5663\", \"width\": 1.3}}, \"name\": \"D\", \"nbinsx\": 10, \"opacity\": 0.8, \"orientation\": \"v\", \"type\": \"histogram\", \"x\": [0.9772336509828237, -0.07647478318063784, 0.7413636391750652, -0.15912297894377248, -0.15177625272150932, 0.1199900295795598, 0.2716635668621539, 0.3709292464448456, 0.5828024998577414, 1.1233734325816407, 0.5350414757703158, -0.27835449335894125, -0.5384981463868941, 1.7604427122046729, -0.1798211998472201, -0.07259583442974381, 0.6927847927489181, 1.713753068511354, 0.5580318332801198, 1.8777101613687104, 2.096919796229778, 2.006680204819293, 1.0358068816393418, -1.0471118960905113, 0.11421243302452166, 0.905838606468195, -1.3557540465958646, 0.052203996643662834, 1.065635124475401, -0.5948064543443344, 0.5824474335176656, 0.03769772664088032, -0.9295819904348213, 0.08773160196539075, -1.4326929160965838, 0.708051413119108, -0.07046148088440911, -0.14346819164193475, 0.3763987464634078, 1.489497426963874, -1.1875085365888707, -0.6972667620976027, -0.37526823498872225, -0.07039635195846435, -1.1069599873901415, 0.351561602957237, 1.7233931104452467, 0.5680461134761515, -0.7651406350372749, -0.8855202646912165, 0.24331003393244538, -1.9622170655863536, 0.25109763454148615, -1.7649926672975669, -0.4234854127409118, -0.7143020036904693, 0.20749639433841285, 0.010268364756173215, 0.0952854975447978, -0.5550510334752385, -0.4934942677949766, 1.6175409619083556, 0.3332748338333687, -0.5344727243038119, 1.0015841881282095, 0.10562661347557104, -0.1852368746866717, -0.07930200523712144, -0.9472604504862842, -0.6793917614321774, 0.3478046849795794, -0.06819282824824709, -0.24348051996278372, 0.4653730332137223, 0.8868921917777485, -0.8744287471716156, 0.8505394053147777, -0.7165134712897009, 0.31470910612493974, 2.2048428931352952, -0.37326042759452166, -0.6869832077121661, 0.4538698980652648, 0.3835572135228256, 0.5864267829588884, 0.1366552671255307, -0.29731483868073927, 0.2921796384197413, 1.204393005274402, 0.03240134226909766, 0.4841180429521735, -0.6875951590864127, 1.320895128089415, -1.5772719223289127, 1.083135276429853, 1.5582687187488196, 0.0402198571728886, 0.782586581086116, -0.826500765488446, 0.6466110743888642], \"xaxis\": \"x16\", \"yaxis\": \"y16\"}],\n",
       "                        {\"bargap\": 0.02, \"legend\": {\"bgcolor\": \"#F5F6F9\", \"font\": {\"color\": \"#4D5663\"}}, \"paper_bgcolor\": \"#F5F6F9\", \"plot_bgcolor\": \"#F5F6F9\", \"showlegend\": false, \"template\": {\"data\": {\"bar\": [{\"error_x\": {\"color\": \"#2a3f5f\"}, \"error_y\": {\"color\": \"#2a3f5f\"}, \"marker\": {\"line\": {\"color\": \"#E5ECF6\", \"width\": 0.5}}, \"type\": \"bar\"}], \"barpolar\": [{\"marker\": {\"line\": {\"color\": \"#E5ECF6\", \"width\": 0.5}}, \"type\": \"barpolar\"}], \"carpet\": [{\"aaxis\": {\"endlinecolor\": \"#2a3f5f\", \"gridcolor\": \"white\", \"linecolor\": \"white\", \"minorgridcolor\": \"white\", \"startlinecolor\": \"#2a3f5f\"}, \"baxis\": {\"endlinecolor\": \"#2a3f5f\", \"gridcolor\": \"white\", \"linecolor\": \"white\", \"minorgridcolor\": \"white\", \"startlinecolor\": \"#2a3f5f\"}, \"type\": \"carpet\"}], \"choropleth\": [{\"colorbar\": {\"outlinewidth\": 0, \"ticks\": \"\"}, \"type\": \"choropleth\"}], \"contour\": [{\"colorbar\": {\"outlinewidth\": 0, \"ticks\": \"\"}, \"colorscale\": [[0.0, \"#0d0887\"], [0.1111111111111111, \"#46039f\"], [0.2222222222222222, \"#7201a8\"], [0.3333333333333333, \"#9c179e\"], [0.4444444444444444, \"#bd3786\"], [0.5555555555555556, \"#d8576b\"], [0.6666666666666666, \"#ed7953\"], [0.7777777777777778, \"#fb9f3a\"], [0.8888888888888888, \"#fdca26\"], [1.0, \"#f0f921\"]], \"type\": \"contour\"}], \"contourcarpet\": [{\"colorbar\": {\"outlinewidth\": 0, \"ticks\": \"\"}, \"type\": \"contourcarpet\"}], \"heatmap\": [{\"colorbar\": {\"outlinewidth\": 0, \"ticks\": \"\"}, \"colorscale\": [[0.0, \"#0d0887\"], [0.1111111111111111, \"#46039f\"], [0.2222222222222222, \"#7201a8\"], [0.3333333333333333, \"#9c179e\"], [0.4444444444444444, \"#bd3786\"], [0.5555555555555556, \"#d8576b\"], [0.6666666666666666, \"#ed7953\"], [0.7777777777777778, \"#fb9f3a\"], [0.8888888888888888, \"#fdca26\"], [1.0, \"#f0f921\"]], \"type\": \"heatmap\"}], \"heatmapgl\": [{\"colorbar\": {\"outlinewidth\": 0, \"ticks\": \"\"}, \"colorscale\": [[0.0, \"#0d0887\"], [0.1111111111111111, \"#46039f\"], [0.2222222222222222, \"#7201a8\"], [0.3333333333333333, \"#9c179e\"], [0.4444444444444444, \"#bd3786\"], [0.5555555555555556, \"#d8576b\"], [0.6666666666666666, \"#ed7953\"], [0.7777777777777778, \"#fb9f3a\"], [0.8888888888888888, \"#fdca26\"], [1.0, \"#f0f921\"]], \"type\": \"heatmapgl\"}], \"histogram\": [{\"marker\": {\"colorbar\": {\"outlinewidth\": 0, \"ticks\": \"\"}}, \"type\": \"histogram\"}], \"histogram2d\": [{\"colorbar\": {\"outlinewidth\": 0, \"ticks\": \"\"}, \"colorscale\": [[0.0, \"#0d0887\"], [0.1111111111111111, \"#46039f\"], [0.2222222222222222, \"#7201a8\"], [0.3333333333333333, \"#9c179e\"], [0.4444444444444444, \"#bd3786\"], [0.5555555555555556, \"#d8576b\"], [0.6666666666666666, \"#ed7953\"], [0.7777777777777778, \"#fb9f3a\"], [0.8888888888888888, \"#fdca26\"], [1.0, \"#f0f921\"]], \"type\": \"histogram2d\"}], \"histogram2dcontour\": [{\"colorbar\": {\"outlinewidth\": 0, \"ticks\": \"\"}, \"colorscale\": [[0.0, \"#0d0887\"], [0.1111111111111111, \"#46039f\"], [0.2222222222222222, \"#7201a8\"], [0.3333333333333333, \"#9c179e\"], [0.4444444444444444, \"#bd3786\"], [0.5555555555555556, \"#d8576b\"], [0.6666666666666666, \"#ed7953\"], [0.7777777777777778, \"#fb9f3a\"], [0.8888888888888888, \"#fdca26\"], [1.0, \"#f0f921\"]], \"type\": \"histogram2dcontour\"}], \"mesh3d\": [{\"colorbar\": {\"outlinewidth\": 0, \"ticks\": \"\"}, \"type\": \"mesh3d\"}], \"parcoords\": [{\"line\": {\"colorbar\": {\"outlinewidth\": 0, \"ticks\": \"\"}}, \"type\": \"parcoords\"}], \"pie\": [{\"automargin\": true, \"type\": \"pie\"}], \"scatter\": [{\"marker\": {\"colorbar\": {\"outlinewidth\": 0, \"ticks\": \"\"}}, \"type\": \"scatter\"}], \"scatter3d\": [{\"line\": {\"colorbar\": {\"outlinewidth\": 0, \"ticks\": \"\"}}, \"marker\": {\"colorbar\": {\"outlinewidth\": 0, \"ticks\": \"\"}}, \"type\": \"scatter3d\"}], \"scattercarpet\": [{\"marker\": {\"colorbar\": {\"outlinewidth\": 0, \"ticks\": \"\"}}, \"type\": \"scattercarpet\"}], \"scattergeo\": [{\"marker\": {\"colorbar\": {\"outlinewidth\": 0, \"ticks\": \"\"}}, \"type\": \"scattergeo\"}], \"scattergl\": [{\"marker\": {\"colorbar\": {\"outlinewidth\": 0, \"ticks\": \"\"}}, \"type\": \"scattergl\"}], \"scattermapbox\": [{\"marker\": {\"colorbar\": {\"outlinewidth\": 0, \"ticks\": \"\"}}, \"type\": \"scattermapbox\"}], \"scatterpolar\": [{\"marker\": {\"colorbar\": {\"outlinewidth\": 0, \"ticks\": \"\"}}, \"type\": \"scatterpolar\"}], \"scatterpolargl\": [{\"marker\": {\"colorbar\": {\"outlinewidth\": 0, \"ticks\": \"\"}}, \"type\": \"scatterpolargl\"}], \"scatterternary\": [{\"marker\": {\"colorbar\": {\"outlinewidth\": 0, \"ticks\": \"\"}}, \"type\": \"scatterternary\"}], \"surface\": [{\"colorbar\": {\"outlinewidth\": 0, \"ticks\": \"\"}, \"colorscale\": [[0.0, \"#0d0887\"], [0.1111111111111111, \"#46039f\"], [0.2222222222222222, \"#7201a8\"], [0.3333333333333333, \"#9c179e\"], [0.4444444444444444, \"#bd3786\"], [0.5555555555555556, \"#d8576b\"], [0.6666666666666666, \"#ed7953\"], [0.7777777777777778, \"#fb9f3a\"], [0.8888888888888888, \"#fdca26\"], [1.0, \"#f0f921\"]], \"type\": \"surface\"}], \"table\": [{\"cells\": {\"fill\": {\"color\": \"#EBF0F8\"}, \"line\": {\"color\": \"white\"}}, \"header\": {\"fill\": {\"color\": \"#C8D4E3\"}, \"line\": {\"color\": \"white\"}}, \"type\": \"table\"}]}, \"layout\": {\"annotationdefaults\": {\"arrowcolor\": \"#2a3f5f\", \"arrowhead\": 0, \"arrowwidth\": 1}, \"coloraxis\": {\"colorbar\": {\"outlinewidth\": 0, \"ticks\": \"\"}}, \"colorscale\": {\"diverging\": [[0, \"#8e0152\"], [0.1, \"#c51b7d\"], [0.2, \"#de77ae\"], [0.3, \"#f1b6da\"], [0.4, \"#fde0ef\"], [0.5, \"#f7f7f7\"], [0.6, \"#e6f5d0\"], [0.7, \"#b8e186\"], [0.8, \"#7fbc41\"], [0.9, \"#4d9221\"], [1, \"#276419\"]], \"sequential\": [[0.0, \"#0d0887\"], [0.1111111111111111, \"#46039f\"], [0.2222222222222222, \"#7201a8\"], [0.3333333333333333, \"#9c179e\"], [0.4444444444444444, \"#bd3786\"], [0.5555555555555556, \"#d8576b\"], [0.6666666666666666, \"#ed7953\"], [0.7777777777777778, \"#fb9f3a\"], [0.8888888888888888, \"#fdca26\"], [1.0, \"#f0f921\"]], \"sequentialminus\": [[0.0, \"#0d0887\"], [0.1111111111111111, \"#46039f\"], [0.2222222222222222, \"#7201a8\"], [0.3333333333333333, \"#9c179e\"], [0.4444444444444444, \"#bd3786\"], [0.5555555555555556, \"#d8576b\"], [0.6666666666666666, \"#ed7953\"], [0.7777777777777778, \"#fb9f3a\"], [0.8888888888888888, \"#fdca26\"], [1.0, \"#f0f921\"]]}, \"colorway\": [\"#636efa\", \"#EF553B\", \"#00cc96\", \"#ab63fa\", \"#FFA15A\", \"#19d3f3\", \"#FF6692\", \"#B6E880\", \"#FF97FF\", \"#FECB52\"], \"font\": {\"color\": \"#2a3f5f\"}, \"geo\": {\"bgcolor\": \"white\", \"lakecolor\": \"white\", \"landcolor\": \"#E5ECF6\", \"showlakes\": true, \"showland\": true, \"subunitcolor\": \"white\"}, \"hoverlabel\": {\"align\": \"left\"}, \"hovermode\": \"closest\", \"mapbox\": {\"style\": \"light\"}, \"paper_bgcolor\": \"white\", \"plot_bgcolor\": \"#E5ECF6\", \"polar\": {\"angularaxis\": {\"gridcolor\": \"white\", \"linecolor\": \"white\", \"ticks\": \"\"}, \"bgcolor\": \"#E5ECF6\", \"radialaxis\": {\"gridcolor\": \"white\", \"linecolor\": \"white\", \"ticks\": \"\"}}, \"scene\": {\"xaxis\": {\"backgroundcolor\": \"#E5ECF6\", \"gridcolor\": \"white\", \"gridwidth\": 2, \"linecolor\": \"white\", \"showbackground\": true, \"ticks\": \"\", \"zerolinecolor\": \"white\"}, \"yaxis\": {\"backgroundcolor\": \"#E5ECF6\", \"gridcolor\": \"white\", \"gridwidth\": 2, \"linecolor\": \"white\", \"showbackground\": true, \"ticks\": \"\", \"zerolinecolor\": \"white\"}, \"zaxis\": {\"backgroundcolor\": \"#E5ECF6\", \"gridcolor\": \"white\", \"gridwidth\": 2, \"linecolor\": \"white\", \"showbackground\": true, \"ticks\": \"\", \"zerolinecolor\": \"white\"}}, \"shapedefaults\": {\"line\": {\"color\": \"#2a3f5f\"}}, \"ternary\": {\"aaxis\": {\"gridcolor\": \"white\", \"linecolor\": \"white\", \"ticks\": \"\"}, \"baxis\": {\"gridcolor\": \"white\", \"linecolor\": \"white\", \"ticks\": \"\"}, \"bgcolor\": \"#E5ECF6\", \"caxis\": {\"gridcolor\": \"white\", \"linecolor\": \"white\", \"ticks\": \"\"}}, \"title\": {\"x\": 0.05}, \"xaxis\": {\"automargin\": true, \"gridcolor\": \"white\", \"linecolor\": \"white\", \"ticks\": \"\", \"title\": {\"standoff\": 15}, \"zerolinecolor\": \"white\", \"zerolinewidth\": 2}, \"yaxis\": {\"automargin\": true, \"gridcolor\": \"white\", \"linecolor\": \"white\", \"ticks\": \"\", \"title\": {\"standoff\": 15}, \"zerolinecolor\": \"white\", \"zerolinewidth\": 2}}}, \"title\": {\"font\": {\"color\": \"#4D5663\"}}, \"xaxis\": {\"anchor\": \"y\", \"domain\": [0.0, 0.2125], \"gridcolor\": \"#E1E5ED\", \"showgrid\": false, \"tickfont\": {\"color\": \"#4D5663\"}, \"title\": {\"font\": {\"color\": \"#4D5663\"}, \"text\": \"\"}, \"zerolinecolor\": \"#E1E5ED\"}, \"xaxis10\": {\"anchor\": \"y10\", \"domain\": [0.2625, 0.475], \"gridcolor\": \"#E1E5ED\", \"showgrid\": false, \"tickfont\": {\"color\": \"#4D5663\"}, \"title\": {\"font\": {\"color\": \"#4D5663\"}, \"text\": \"\"}, \"zerolinecolor\": \"#E1E5ED\"}, \"xaxis11\": {\"anchor\": \"y11\", \"domain\": [0.525, 0.7375], \"gridcolor\": \"#E1E5ED\", \"showgrid\": false, \"tickfont\": {\"color\": \"#4D5663\"}, \"title\": {\"font\": {\"color\": \"#4D5663\"}, \"text\": \"\"}, \"zerolinecolor\": \"#E1E5ED\"}, \"xaxis12\": {\"anchor\": \"y12\", \"domain\": [0.7875, 1.0], \"gridcolor\": \"#E1E5ED\", \"showgrid\": false, \"tickfont\": {\"color\": \"#4D5663\"}, \"title\": {\"font\": {\"color\": \"#4D5663\"}, \"text\": \"\"}, \"zerolinecolor\": \"#E1E5ED\"}, \"xaxis13\": {\"anchor\": \"y13\", \"domain\": [0.0, 0.2125], \"gridcolor\": \"#E1E5ED\", \"showgrid\": false, \"tickfont\": {\"color\": \"#4D5663\"}, \"title\": {\"font\": {\"color\": \"#4D5663\"}, \"text\": \"\"}, \"zerolinecolor\": \"#E1E5ED\"}, \"xaxis14\": {\"anchor\": \"y14\", \"domain\": [0.2625, 0.475], \"gridcolor\": \"#E1E5ED\", \"showgrid\": false, \"tickfont\": {\"color\": \"#4D5663\"}, \"title\": {\"font\": {\"color\": \"#4D5663\"}, \"text\": \"\"}, \"zerolinecolor\": \"#E1E5ED\"}, \"xaxis15\": {\"anchor\": \"y15\", \"domain\": [0.525, 0.7375], \"gridcolor\": \"#E1E5ED\", \"showgrid\": false, \"tickfont\": {\"color\": \"#4D5663\"}, \"title\": {\"font\": {\"color\": \"#4D5663\"}, \"text\": \"\"}, \"zerolinecolor\": \"#E1E5ED\"}, \"xaxis16\": {\"anchor\": \"y16\", \"domain\": [0.7875, 1.0], \"gridcolor\": \"#E1E5ED\", \"showgrid\": false, \"tickfont\": {\"color\": \"#4D5663\"}, \"title\": {\"font\": {\"color\": \"#4D5663\"}, \"text\": \"\"}, \"zerolinecolor\": \"#E1E5ED\"}, \"xaxis2\": {\"anchor\": \"y2\", \"domain\": [0.2625, 0.475], \"gridcolor\": \"#E1E5ED\", \"showgrid\": false, \"tickfont\": {\"color\": \"#4D5663\"}, \"title\": {\"font\": {\"color\": \"#4D5663\"}, \"text\": \"\"}, \"zerolinecolor\": \"#E1E5ED\"}, \"xaxis3\": {\"anchor\": \"y3\", \"domain\": [0.525, 0.7375], \"gridcolor\": \"#E1E5ED\", \"showgrid\": false, \"tickfont\": {\"color\": \"#4D5663\"}, \"title\": {\"font\": {\"color\": \"#4D5663\"}, \"text\": \"\"}, \"zerolinecolor\": \"#E1E5ED\"}, \"xaxis4\": {\"anchor\": \"y4\", \"domain\": [0.7875, 1.0], \"gridcolor\": \"#E1E5ED\", \"showgrid\": false, \"tickfont\": {\"color\": \"#4D5663\"}, \"title\": {\"font\": {\"color\": \"#4D5663\"}, \"text\": \"\"}, \"zerolinecolor\": \"#E1E5ED\"}, \"xaxis5\": {\"anchor\": \"y5\", \"domain\": [0.0, 0.2125], \"gridcolor\": \"#E1E5ED\", \"showgrid\": false, \"tickfont\": {\"color\": \"#4D5663\"}, \"title\": {\"font\": {\"color\": \"#4D5663\"}, \"text\": \"\"}, \"zerolinecolor\": \"#E1E5ED\"}, \"xaxis6\": {\"anchor\": \"y6\", \"domain\": [0.2625, 0.475], \"gridcolor\": \"#E1E5ED\", \"showgrid\": false, \"tickfont\": {\"color\": \"#4D5663\"}, \"title\": {\"font\": {\"color\": \"#4D5663\"}, \"text\": \"\"}, \"zerolinecolor\": \"#E1E5ED\"}, \"xaxis7\": {\"anchor\": \"y7\", \"domain\": [0.525, 0.7375], \"gridcolor\": \"#E1E5ED\", \"showgrid\": false, \"tickfont\": {\"color\": \"#4D5663\"}, \"title\": {\"font\": {\"color\": \"#4D5663\"}, \"text\": \"\"}, \"zerolinecolor\": \"#E1E5ED\"}, \"xaxis8\": {\"anchor\": \"y8\", \"domain\": [0.7875, 1.0], \"gridcolor\": \"#E1E5ED\", \"showgrid\": false, \"tickfont\": {\"color\": \"#4D5663\"}, \"title\": {\"font\": {\"color\": \"#4D5663\"}, \"text\": \"\"}, \"zerolinecolor\": \"#E1E5ED\"}, \"xaxis9\": {\"anchor\": \"y9\", \"domain\": [0.0, 0.2125], \"gridcolor\": \"#E1E5ED\", \"showgrid\": false, \"tickfont\": {\"color\": \"#4D5663\"}, \"title\": {\"font\": {\"color\": \"#4D5663\"}, \"text\": \"\"}, \"zerolinecolor\": \"#E1E5ED\"}, \"yaxis\": {\"anchor\": \"x\", \"domain\": [0.8025, 1.0], \"gridcolor\": \"#E1E5ED\", \"showgrid\": false, \"tickfont\": {\"color\": \"#4D5663\"}, \"title\": {\"font\": {\"color\": \"#4D5663\"}, \"text\": \"\"}, \"zerolinecolor\": \"#E1E5ED\"}, \"yaxis10\": {\"anchor\": \"x10\", \"domain\": [0.2675, 0.465], \"gridcolor\": \"#E1E5ED\", \"showgrid\": false, \"tickfont\": {\"color\": \"#4D5663\"}, \"title\": {\"font\": {\"color\": \"#4D5663\"}, \"text\": \"\"}, \"zerolinecolor\": \"#E1E5ED\"}, \"yaxis11\": {\"anchor\": \"x11\", \"domain\": [0.2675, 0.465], \"gridcolor\": \"#E1E5ED\", \"showgrid\": false, \"tickfont\": {\"color\": \"#4D5663\"}, \"title\": {\"font\": {\"color\": \"#4D5663\"}, \"text\": \"\"}, \"zerolinecolor\": \"#E1E5ED\"}, \"yaxis12\": {\"anchor\": \"x12\", \"domain\": [0.2675, 0.465], \"gridcolor\": \"#E1E5ED\", \"showgrid\": false, \"tickfont\": {\"color\": \"#4D5663\"}, \"title\": {\"font\": {\"color\": \"#4D5663\"}, \"text\": \"\"}, \"zerolinecolor\": \"#E1E5ED\"}, \"yaxis13\": {\"anchor\": \"x13\", \"domain\": [0.0, 0.1975], \"gridcolor\": \"#E1E5ED\", \"showgrid\": false, \"tickfont\": {\"color\": \"#4D5663\"}, \"title\": {\"font\": {\"color\": \"#4D5663\"}, \"text\": \"\"}, \"zerolinecolor\": \"#E1E5ED\"}, \"yaxis14\": {\"anchor\": \"x14\", \"domain\": [0.0, 0.1975], \"gridcolor\": \"#E1E5ED\", \"showgrid\": false, \"tickfont\": {\"color\": \"#4D5663\"}, \"title\": {\"font\": {\"color\": \"#4D5663\"}, \"text\": \"\"}, \"zerolinecolor\": \"#E1E5ED\"}, \"yaxis15\": {\"anchor\": \"x15\", \"domain\": [0.0, 0.1975], \"gridcolor\": \"#E1E5ED\", \"showgrid\": false, \"tickfont\": {\"color\": \"#4D5663\"}, \"title\": {\"font\": {\"color\": \"#4D5663\"}, \"text\": \"\"}, \"zerolinecolor\": \"#E1E5ED\"}, \"yaxis16\": {\"anchor\": \"x16\", \"domain\": [0.0, 0.1975], \"gridcolor\": \"#E1E5ED\", \"showgrid\": false, \"tickfont\": {\"color\": \"#4D5663\"}, \"title\": {\"font\": {\"color\": \"#4D5663\"}, \"text\": \"\"}, \"zerolinecolor\": \"#E1E5ED\"}, \"yaxis2\": {\"anchor\": \"x2\", \"domain\": [0.8025, 1.0], \"gridcolor\": \"#E1E5ED\", \"showgrid\": false, \"tickfont\": {\"color\": \"#4D5663\"}, \"title\": {\"font\": {\"color\": \"#4D5663\"}, \"text\": \"\"}, \"zerolinecolor\": \"#E1E5ED\"}, \"yaxis3\": {\"anchor\": \"x3\", \"domain\": [0.8025, 1.0], \"gridcolor\": \"#E1E5ED\", \"showgrid\": false, \"tickfont\": {\"color\": \"#4D5663\"}, \"title\": {\"font\": {\"color\": \"#4D5663\"}, \"text\": \"\"}, \"zerolinecolor\": \"#E1E5ED\"}, \"yaxis4\": {\"anchor\": \"x4\", \"domain\": [0.8025, 1.0], \"gridcolor\": \"#E1E5ED\", \"showgrid\": false, \"tickfont\": {\"color\": \"#4D5663\"}, \"title\": {\"font\": {\"color\": \"#4D5663\"}, \"text\": \"\"}, \"zerolinecolor\": \"#E1E5ED\"}, \"yaxis5\": {\"anchor\": \"x5\", \"domain\": [0.535, 0.7325], \"gridcolor\": \"#E1E5ED\", \"showgrid\": false, \"tickfont\": {\"color\": \"#4D5663\"}, \"title\": {\"font\": {\"color\": \"#4D5663\"}, \"text\": \"\"}, \"zerolinecolor\": \"#E1E5ED\"}, \"yaxis6\": {\"anchor\": \"x6\", \"domain\": [0.535, 0.7325], \"gridcolor\": \"#E1E5ED\", \"showgrid\": false, \"tickfont\": {\"color\": \"#4D5663\"}, \"title\": {\"font\": {\"color\": \"#4D5663\"}, \"text\": \"\"}, \"zerolinecolor\": \"#E1E5ED\"}, \"yaxis7\": {\"anchor\": \"x7\", \"domain\": [0.535, 0.7325], \"gridcolor\": \"#E1E5ED\", \"showgrid\": false, \"tickfont\": {\"color\": \"#4D5663\"}, \"title\": {\"font\": {\"color\": \"#4D5663\"}, \"text\": \"\"}, \"zerolinecolor\": \"#E1E5ED\"}, \"yaxis8\": {\"anchor\": \"x8\", \"domain\": [0.535, 0.7325], \"gridcolor\": \"#E1E5ED\", \"showgrid\": false, \"tickfont\": {\"color\": \"#4D5663\"}, \"title\": {\"font\": {\"color\": \"#4D5663\"}, \"text\": \"\"}, \"zerolinecolor\": \"#E1E5ED\"}, \"yaxis9\": {\"anchor\": \"x9\", \"domain\": [0.2675, 0.465], \"gridcolor\": \"#E1E5ED\", \"showgrid\": false, \"tickfont\": {\"color\": \"#4D5663\"}, \"title\": {\"font\": {\"color\": \"#4D5663\"}, \"text\": \"\"}, \"zerolinecolor\": \"#E1E5ED\"}},\n",
       "                        {\"showLink\": true, \"linkText\": \"Export to plot.ly\", \"plotlyServerURL\": \"https://plot.ly\", \"responsive\": true}\n",
       "                    ).then(function(){\n",
       "                            \n",
       "var gd = document.getElementById('ab2e66f0-0810-445d-bf82-657ac98a58e1');\n",
       "var x = new MutationObserver(function (mutations, observer) {{\n",
       "        var display = window.getComputedStyle(gd).display;\n",
       "        if (!display || display === 'none') {{\n",
       "            console.log([gd, 'removed!']);\n",
       "            Plotly.purge(gd);\n",
       "            observer.disconnect();\n",
       "        }}\n",
       "}});\n",
       "\n",
       "// Listen for the removal of the full notebook cells\n",
       "var notebookContainer = gd.closest('#notebook-container');\n",
       "if (notebookContainer) {{\n",
       "    x.observe(notebookContainer, {childList: true});\n",
       "}}\n",
       "\n",
       "// Listen for the clearing of the current output cell\n",
       "var outputEl = gd.closest('.output');\n",
       "if (outputEl) {{\n",
       "    x.observe(outputEl, {childList: true});\n",
       "}}\n",
       "\n",
       "                        })\n",
       "                };\n",
       "                });\n",
       "            </script>\n",
       "        </div>"
      ]
     },
     "metadata": {},
     "output_type": "display_data"
    }
   ],
   "source": [
    "df.scatter_matrix()"
   ]
  },
  {
   "cell_type": "code",
   "execution_count": null,
   "metadata": {},
   "outputs": [],
   "source": []
  }
 ],
 "metadata": {
  "kernelspec": {
   "display_name": "Python 3",
   "language": "python",
   "name": "python3"
  },
  "language_info": {
   "codemirror_mode": {
    "name": "ipython",
    "version": 3
   },
   "file_extension": ".py",
   "mimetype": "text/x-python",
   "name": "python",
   "nbconvert_exporter": "python",
   "pygments_lexer": "ipython3",
   "version": "3.7.3"
  }
 },
 "nbformat": 4,
 "nbformat_minor": 2
}
