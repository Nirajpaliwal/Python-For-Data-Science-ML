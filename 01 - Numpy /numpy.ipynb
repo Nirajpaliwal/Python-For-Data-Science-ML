{
 "cells": [
  {
   "cell_type": "code",
   "execution_count": 1,
   "metadata": {},
   "outputs": [],
   "source": [
    "import numpy as np"
   ]
  },
  {
   "cell_type": "markdown",
   "metadata": {},
   "source": [
    "# 18... Numpy arrays"
   ]
  },
  {
   "cell_type": "markdown",
   "metadata": {},
   "source": [
    "## 1. array Function "
   ]
  },
  {
   "cell_type": "code",
   "execution_count": 2,
   "metadata": {},
   "outputs": [
    {
     "name": "stdout",
     "output_type": "stream",
     "text": [
      "[1, 2, 3, 4, 5]\n"
     ]
    }
   ],
   "source": [
    "my_list = [1,2,3,4,5]\n",
    "print(my_list)"
   ]
  },
  {
   "cell_type": "code",
   "execution_count": 3,
   "metadata": {},
   "outputs": [
    {
     "name": "stdout",
     "output_type": "stream",
     "text": [
      "[1 2 3 4 5]\n"
     ]
    }
   ],
   "source": [
    "arr1 = np.array(my_list)\n",
    "print(arr1)"
   ]
  },
  {
   "cell_type": "code",
   "execution_count": 4,
   "metadata": {
    "scrolled": true
   },
   "outputs": [
    {
     "name": "stdout",
     "output_type": "stream",
     "text": [
      "[[1, 2, 3], [4, 5, 6], [7, 8, 9]]\n",
      "\n",
      "[[1 2 3]\n",
      " [4 5 6]\n",
      " [7 8 9]]\n"
     ]
    }
   ],
   "source": [
    "my_matrix = [[1,2,3], [4,5,6], [7,8,9]]\n",
    "print(my_matrix)\n",
    "print()\n",
    "\n",
    "matrix = np.array(my_matrix)\n",
    "print(matrix) # it will print 2D array"
   ]
  },
  {
   "cell_type": "markdown",
   "metadata": {},
   "source": [
    "## 2. arange function"
   ]
  },
  {
   "cell_type": "code",
   "execution_count": 5,
   "metadata": {},
   "outputs": [
    {
     "name": "stdout",
     "output_type": "stream",
     "text": [
      "[0 1 2 3 4 5]\n"
     ]
    }
   ],
   "source": [
    "arr1 = np.arange(0,6)\n",
    "print(arr1)"
   ]
  },
  {
   "cell_type": "code",
   "execution_count": 6,
   "metadata": {},
   "outputs": [
    {
     "name": "stdout",
     "output_type": "stream",
     "text": [
      "[ 0  2  4  6  8 10]\n"
     ]
    }
   ],
   "source": [
    "arr2 = np.arange(0,11,2)\n",
    "print(arr2)"
   ]
  },
  {
   "cell_type": "markdown",
   "metadata": {},
   "source": [
    "## 3. ndim Function"
   ]
  },
  {
   "cell_type": "code",
   "execution_count": 7,
   "metadata": {},
   "outputs": [
    {
     "name": "stdout",
     "output_type": "stream",
     "text": [
      "[ 0  1  2  3  4  5  6  7  8  9 10]\n",
      "...\n",
      "1 Dimensional\n"
     ]
    }
   ],
   "source": [
    "arr1 = np.arange(0,11)\n",
    "print(arr1)\n",
    "print(\"...\")\n",
    "dim = np.ndim(arr1)\n",
    "print(f\"{dim} Dimensional\")"
   ]
  },
  {
   "cell_type": "markdown",
   "metadata": {},
   "source": [
    "## 4. zeros function "
   ]
  },
  {
   "cell_type": "code",
   "execution_count": 8,
   "metadata": {},
   "outputs": [
    {
     "name": "stdout",
     "output_type": "stream",
     "text": [
      "[0. 0. 0. 0. 0.]\n"
     ]
    }
   ],
   "source": [
    "arr1 = np.zeros(5)\n",
    "print(arr1)"
   ]
  },
  {
   "cell_type": "code",
   "execution_count": 9,
   "metadata": {},
   "outputs": [
    {
     "name": "stdout",
     "output_type": "stream",
     "text": [
      "[[0. 0.]\n",
      " [0. 0.]]\n"
     ]
    }
   ],
   "source": [
    "arr2 = np.zeros((2,2))\n",
    "print(arr2)"
   ]
  },
  {
   "cell_type": "code",
   "execution_count": 10,
   "metadata": {},
   "outputs": [
    {
     "name": "stdout",
     "output_type": "stream",
     "text": [
      "[[0 0 0]\n",
      " [0 0 0]\n",
      " [0 0 0]]\n"
     ]
    }
   ],
   "source": [
    "arr3 = np.zeros((3,3), dtype = int)\n",
    "print(arr3)"
   ]
  },
  {
   "cell_type": "markdown",
   "metadata": {},
   "source": [
    "## 5. ones function"
   ]
  },
  {
   "cell_type": "code",
   "execution_count": 11,
   "metadata": {},
   "outputs": [
    {
     "name": "stdout",
     "output_type": "stream",
     "text": [
      "[1. 1. 1.]\n"
     ]
    }
   ],
   "source": [
    "arr1 = np.ones(3)\n",
    "print(arr1)"
   ]
  },
  {
   "cell_type": "code",
   "execution_count": 12,
   "metadata": {},
   "outputs": [
    {
     "name": "stdout",
     "output_type": "stream",
     "text": [
      "[1 1 1]\n"
     ]
    }
   ],
   "source": [
    "arr2 = np.ones(3, dtype = int)\n",
    "print(arr2)"
   ]
  },
  {
   "cell_type": "code",
   "execution_count": 13,
   "metadata": {},
   "outputs": [
    {
     "name": "stdout",
     "output_type": "stream",
     "text": [
      "[[1 1]\n",
      " [1 1]]\n"
     ]
    }
   ],
   "source": [
    "arr3 = np.ones((2,2), dtype = int)\n",
    "print(arr3)"
   ]
  },
  {
   "cell_type": "markdown",
   "metadata": {},
   "source": [
    "## 6. linspace method "
   ]
  },
  {
   "cell_type": "code",
   "execution_count": 14,
   "metadata": {},
   "outputs": [
    {
     "name": "stdout",
     "output_type": "stream",
     "text": [
      "[1.         1.44444444 1.88888889 2.33333333 2.77777778 3.22222222\n",
      " 3.66666667 4.11111111 4.55555556 5.        ]\n"
     ]
    }
   ],
   "source": [
    "arr1 = np.linspace(1,5,10)\n",
    "print(arr1)"
   ]
  },
  {
   "cell_type": "code",
   "execution_count": 15,
   "metadata": {},
   "outputs": [
    {
     "name": "stdout",
     "output_type": "stream",
     "text": [
      "[ 1.  2.  3.  4.  5.  6.  7.  8.  9. 10. 11. 12. 13. 14. 15. 16. 17. 18.\n",
      " 19. 20. 21. 22. 23. 24. 25. 26. 27. 28. 29. 30. 31. 32. 33. 34. 35. 36.\n",
      " 37. 38. 39. 40. 41. 42. 43. 44. 45. 46. 47. 48. 49. 50.]\n"
     ]
    }
   ],
   "source": [
    "arr2 = np.linspace(1,50,50)\n",
    "print(arr2)"
   ]
  },
  {
   "cell_type": "code",
   "execution_count": 16,
   "metadata": {},
   "outputs": [
    {
     "name": "stdout",
     "output_type": "stream",
     "text": [
      "[ 1  2  3  4  5  6  7  8  9 10 11 12 13 14 15 16 17 18 19 20 21 22 23 24\n",
      " 25 26 27 28 29 30 31 32 33 34 35 36 37 38 39 40 41 42 43 44 45 46 47 48\n",
      " 49 50]\n"
     ]
    }
   ],
   "source": [
    "arr3 = np.linspace(1,50,50, dtype = int)\n",
    "print(arr3)"
   ]
  },
  {
   "cell_type": "markdown",
   "metadata": {},
   "source": [
    "## 7. eye function"
   ]
  },
  {
   "cell_type": "code",
   "execution_count": 17,
   "metadata": {},
   "outputs": [
    {
     "name": "stdout",
     "output_type": "stream",
     "text": [
      "[[1. 0. 0.]\n",
      " [0. 1. 0.]\n",
      " [0. 0. 1.]]\n"
     ]
    }
   ],
   "source": [
    "arr1 = np.eye(3)\n",
    "print(arr1)"
   ]
  },
  {
   "cell_type": "code",
   "execution_count": 18,
   "metadata": {},
   "outputs": [
    {
     "name": "stdout",
     "output_type": "stream",
     "text": [
      "[[1 0 0]\n",
      " [0 1 0]\n",
      " [0 0 1]]\n"
     ]
    }
   ],
   "source": [
    "arr2 = np.eye(3, dtype = int)\n",
    "print(arr2)"
   ]
  },
  {
   "cell_type": "markdown",
   "metadata": {},
   "source": [
    "## 8. randn function"
   ]
  },
  {
   "cell_type": "code",
   "execution_count": 19,
   "metadata": {},
   "outputs": [
    {
     "name": "stdout",
     "output_type": "stream",
     "text": [
      "[-0.02686124 -0.22252224]\n"
     ]
    }
   ],
   "source": [
    "rand1 = np.random.randn(2)\n",
    "print(rand1)"
   ]
  },
  {
   "cell_type": "code",
   "execution_count": 20,
   "metadata": {},
   "outputs": [
    {
     "name": "stdout",
     "output_type": "stream",
     "text": [
      "[[ 0.66345386 -0.60016254]\n",
      " [-0.79966858  1.14152739]]\n"
     ]
    }
   ],
   "source": [
    "rand2 = np.random.randn(2,2)\n",
    "print(rand2)"
   ]
  },
  {
   "cell_type": "markdown",
   "metadata": {},
   "source": [
    "## 9. randint function"
   ]
  },
  {
   "cell_type": "code",
   "execution_count": 21,
   "metadata": {},
   "outputs": [
    {
     "name": "stdout",
     "output_type": "stream",
     "text": [
      "79\n"
     ]
    }
   ],
   "source": [
    "rand1 = np.random.randint(1,100)\n",
    "print(rand1)"
   ]
  },
  {
   "cell_type": "code",
   "execution_count": 22,
   "metadata": {},
   "outputs": [
    {
     "name": "stdout",
     "output_type": "stream",
     "text": [
      "[64 24 98 19 21  8 39 32 98 10]\n"
     ]
    }
   ],
   "source": [
    "rand2 = np.random.randint(1,100,10)\n",
    "print(rand2)"
   ]
  },
  {
   "cell_type": "code",
   "execution_count": 23,
   "metadata": {},
   "outputs": [
    {
     "name": "stdout",
     "output_type": "stream",
     "text": [
      "[[4 3 5 7]\n",
      " [2 2 7 0]]\n"
     ]
    }
   ],
   "source": [
    "rand3 = np.random.randint(10, size = (2,4))\n",
    "print(rand3)"
   ]
  },
  {
   "cell_type": "markdown",
   "metadata": {},
   "source": [
    "## 10. reshape method"
   ]
  },
  {
   "cell_type": "code",
   "execution_count": 24,
   "metadata": {},
   "outputs": [
    {
     "name": "stdout",
     "output_type": "stream",
     "text": [
      "[ 0  1  2  3  4  5  6  7  8  9 10 11]\n",
      "[[ 0  1  2  3]\n",
      " [ 4  5  6  7]\n",
      " [ 8  9 10 11]]\n"
     ]
    }
   ],
   "source": [
    "arr1 = np.arange(12)\n",
    "print(arr1)\n",
    "\n",
    "reshaped_arr = arr1.reshape(3,4)\n",
    "print(reshaped_arr)"
   ]
  },
  {
   "cell_type": "markdown",
   "metadata": {},
   "source": [
    "## 11. max method"
   ]
  },
  {
   "cell_type": "code",
   "execution_count": 25,
   "metadata": {},
   "outputs": [
    {
     "name": "stdout",
     "output_type": "stream",
     "text": [
      "[951 289 123 924 625 922 882 527 675 193]\n",
      "max element is : 951\n"
     ]
    }
   ],
   "source": [
    "elements = np.random.randint(1,1000, size = 10)\n",
    "print(elements)\n",
    "\n",
    "max_element = elements.max()\n",
    "print(f\"max element is : {max_element}\")"
   ]
  },
  {
   "cell_type": "markdown",
   "metadata": {},
   "source": [
    "##  12. min method"
   ]
  },
  {
   "cell_type": "code",
   "execution_count": 26,
   "metadata": {},
   "outputs": [
    {
     "name": "stdout",
     "output_type": "stream",
     "text": [
      "[13 22 40 43 25 41 96 50 67 17]\n",
      "min element is : 13\n"
     ]
    }
   ],
   "source": [
    "elements = np.random.randint(1,100, size = 10)\n",
    "print(elements)\n",
    "\n",
    "min_ele = elements.min()\n",
    "print(f\"min element is : {min_ele}\")"
   ]
  },
  {
   "cell_type": "markdown",
   "metadata": {},
   "source": [
    "## 12. argmax method"
   ]
  },
  {
   "cell_type": "code",
   "execution_count": 27,
   "metadata": {},
   "outputs": [
    {
     "name": "stdout",
     "output_type": "stream",
     "text": [
      "[766 157 650 644 883 777 320 128 171 683]\n",
      "max element is : 883\n",
      "index of max element is : 4\n"
     ]
    }
   ],
   "source": [
    "elements = np.random.randint(1,1000, size = 10)\n",
    "print(elements)\n",
    "\n",
    "max_element = elements.max()\n",
    "print(f\"max element is : {max_element}\")\n",
    "\n",
    "index_of_max = elements.argmax()\n",
    "print(f\"index of max element is : {index_of_max}\")"
   ]
  },
  {
   "cell_type": "markdown",
   "metadata": {},
   "source": [
    "## 13. argmin method"
   ]
  },
  {
   "cell_type": "code",
   "execution_count": 28,
   "metadata": {},
   "outputs": [
    {
     "name": "stdout",
     "output_type": "stream",
     "text": [
      "[454 841 231 764 922  99 332 922 520 887]\n",
      "min element is : 99\n",
      "index of min element is : 5\n"
     ]
    }
   ],
   "source": [
    "elements = np.random.randint(1,1000, size = 10)\n",
    "print(elements)\n",
    "\n",
    "min_element = elements.min()\n",
    "print(f\"min element is : {min_element}\")\n",
    "\n",
    "index_of_min = elements.argmin()\n",
    "print(f\"index of min element is : {index_of_min}\")"
   ]
  },
  {
   "cell_type": "markdown",
   "metadata": {},
   "source": [
    "## 14. shape method"
   ]
  },
  {
   "cell_type": "code",
   "execution_count": 29,
   "metadata": {},
   "outputs": [
    {
     "name": "stdout",
     "output_type": "stream",
     "text": [
      "[30 55 33 45 38]\n",
      "(5,)\n"
     ]
    }
   ],
   "source": [
    "x = np.random.randint(1,100, size = 5)\n",
    "print(x)\n",
    "\n",
    "shape_of_x = x.shape\n",
    "print(shape_of_x)"
   ]
  },
  {
   "cell_type": "markdown",
   "metadata": {},
   "source": [
    "# 19... Numpy array indexing and selection"
   ]
  },
  {
   "cell_type": "markdown",
   "metadata": {},
   "source": [
    "## 1. indexing and slicing"
   ]
  },
  {
   "cell_type": "code",
   "execution_count": 30,
   "metadata": {},
   "outputs": [
    {
     "name": "stdout",
     "output_type": "stream",
     "text": [
      "[ 0  1  2  3  4  5  6  7  8  9 10]\n",
      "3\n"
     ]
    }
   ],
   "source": [
    "arr = np.arange(0,11)\n",
    "print(arr)\n",
    "\n",
    "print(arr[3])"
   ]
  },
  {
   "cell_type": "code",
   "execution_count": 31,
   "metadata": {},
   "outputs": [
    {
     "name": "stdout",
     "output_type": "stream",
     "text": [
      "[ 0  1  2  3  4  5  6  7  8  9 10]\n",
      "[1 2 3 4]\n"
     ]
    }
   ],
   "source": [
    "arr = np.arange(0,11)\n",
    "print(arr)\n",
    "\n",
    "print(arr[1:5])"
   ]
  },
  {
   "cell_type": "code",
   "execution_count": 32,
   "metadata": {},
   "outputs": [
    {
     "name": "stdout",
     "output_type": "stream",
     "text": [
      "[ 0  1  2  3  4  5  6  7  8  9 10]\n",
      "[0 1 2 3 4 5]\n"
     ]
    }
   ],
   "source": [
    "arr = np.arange(0,11)\n",
    "print(arr)\n",
    "\n",
    "print(arr[:6])"
   ]
  },
  {
   "cell_type": "code",
   "execution_count": 33,
   "metadata": {},
   "outputs": [
    {
     "name": "stdout",
     "output_type": "stream",
     "text": [
      "[ 0  1  2  3  4  5  6  7  8  9 10]\n",
      "[100 100 100   3   4   5   6   7   8   9  10]\n"
     ]
    }
   ],
   "source": [
    "arr = np.arange(0,11)\n",
    "print(arr)\n",
    "\n",
    "arr[0:3] = 100\n",
    "print(arr)"
   ]
  },
  {
   "cell_type": "code",
   "execution_count": 34,
   "metadata": {},
   "outputs": [
    {
     "name": "stdout",
     "output_type": "stream",
     "text": [
      "[ 0  1  2  3  4  5  6  7  8  9 10]\n",
      "[0 1 2 3 4]\n"
     ]
    }
   ],
   "source": [
    "arr = np.arange(0,11)\n",
    "print(arr)\n",
    "\n",
    "slice_of_arr = arr[0:5]\n",
    "print(slice_of_arr)"
   ]
  },
  {
   "cell_type": "code",
   "execution_count": 35,
   "metadata": {},
   "outputs": [
    {
     "name": "stdout",
     "output_type": "stream",
     "text": [
      "[ 0  1  2  3  4  5  6  7  8  9 10]\n",
      "[0 1 2 3 4]\n",
      "[99 99 99 99 99]\n",
      "[99 99 99 99 99  5  6  7  8  9 10]\n"
     ]
    }
   ],
   "source": [
    "arr1 = np.arange(0,11)\n",
    "print(arr1)\n",
    "\n",
    "slice_of_arr1 = arr1[0:5]\n",
    "print(slice_of_arr1)\n",
    "\n",
    "slice_of_arr1[:] = 99\n",
    "\n",
    "print(slice_of_arr1)\n",
    "print(arr1)\n"
   ]
  },
  {
   "cell_type": "markdown",
   "metadata": {},
   "source": [
    "## 2. copy method"
   ]
  },
  {
   "cell_type": "code",
   "execution_count": 36,
   "metadata": {},
   "outputs": [
    {
     "name": "stdout",
     "output_type": "stream",
     "text": [
      "[ 0  1  2  3  4  5  6  7  8  9 10]\n",
      "[ 0  1  2  3  4  5  6  7  8  9 10]\n",
      "[99 99 99 99  4  5  6  7  8  9 10]\n",
      "[ 0  1  2  3  4  5  6  7  8  9 10]\n"
     ]
    }
   ],
   "source": [
    "arr2 = np.arange(0,11)\n",
    "print(arr2)\n",
    "\n",
    "arr2_copy = arr2.copy()\n",
    "print(arr2_copy)\n",
    "\n",
    "arr2_copy[0:4] = 99\n",
    "\n",
    "print(arr2_copy)\n",
    "print(arr2)"
   ]
  },
  {
   "cell_type": "markdown",
   "metadata": {},
   "source": [
    "## 3. Indexing on 2D array"
   ]
  },
  {
   "cell_type": "code",
   "execution_count": 37,
   "metadata": {},
   "outputs": [
    {
     "name": "stdout",
     "output_type": "stream",
     "text": [
      "[[ 5 10 15]\n",
      " [20 25 30]\n",
      " [35 40 45]]\n",
      "5\n"
     ]
    }
   ],
   "source": [
    "array_2d = np.array([[5,10,15], [20,25,30], [35,40,45]])\n",
    "print(array_2d)\n",
    "\n",
    "print(array_2d[0][0])"
   ]
  },
  {
   "cell_type": "code",
   "execution_count": 38,
   "metadata": {},
   "outputs": [
    {
     "name": "stdout",
     "output_type": "stream",
     "text": [
      "[[ 5 10 15]\n",
      " [20 25 30]\n",
      " [35 40 45]]\n",
      "...............\n",
      "[ 5 10 15]\n"
     ]
    }
   ],
   "source": [
    "array_2d = np.array([[5,10,15], [20,25,30], [35,40,45]])\n",
    "print(array_2d)\n",
    "\n",
    "print(\"...............\")\n",
    "\n",
    "print(array_2d[0])"
   ]
  },
  {
   "cell_type": "code",
   "execution_count": 39,
   "metadata": {},
   "outputs": [
    {
     "name": "stdout",
     "output_type": "stream",
     "text": [
      "[[ 5 10 15]\n",
      " [20 25 30]\n",
      " [35 40 45]]\n",
      "..............\n",
      "25\n"
     ]
    }
   ],
   "source": [
    "array_2d = np.array([[5,10,15], [20,25,30], [35,40,45]])\n",
    "print(array_2d)\n",
    "\n",
    "print(\"..............\")\n",
    "\n",
    "print(array_2d[1][1])"
   ]
  },
  {
   "cell_type": "code",
   "execution_count": 40,
   "metadata": {},
   "outputs": [
    {
     "name": "stdout",
     "output_type": "stream",
     "text": [
      "[[ 5 10 15]\n",
      " [20 25 30]\n",
      " [35 40 45]]\n",
      "...................\n",
      "25\n"
     ]
    }
   ],
   "source": [
    "array_2d = np.array([[5,10,15], [20,25,30], [35,40,45]])\n",
    "print(array_2d)\n",
    "\n",
    "print(\"...................\")\n",
    "\n",
    "print(array_2d[1,1])"
   ]
  },
  {
   "cell_type": "code",
   "execution_count": 41,
   "metadata": {},
   "outputs": [
    {
     "name": "stdout",
     "output_type": "stream",
     "text": [
      "[[ 5 10 15]\n",
      " [20 25 30]\n",
      " [35 40 45]]\n",
      "...................\n",
      "40\n"
     ]
    }
   ],
   "source": [
    "array_2d = np.array([[5,10,15], [20,25,30], [35,40,45]])\n",
    "print(array_2d)\n",
    "\n",
    "print(\"...................\")\n",
    "\n",
    "print(array_2d[2,1])"
   ]
  },
  {
   "cell_type": "code",
   "execution_count": 42,
   "metadata": {},
   "outputs": [
    {
     "name": "stdout",
     "output_type": "stream",
     "text": [
      "[[ 5 10 15]\n",
      " [20 25 30]\n",
      " [35 40 45]]\n",
      ".........................\n",
      "[[ 5 10]\n",
      " [20 25]]\n"
     ]
    }
   ],
   "source": [
    "array_2d = np.array([[5,10,15], [20,25,30], [35,40,45]])\n",
    "print(array_2d)\n",
    "\n",
    "print(\".........................\")\n",
    "\n",
    "print(array_2d[:2, :2])"
   ]
  },
  {
   "cell_type": "code",
   "execution_count": 43,
   "metadata": {},
   "outputs": [
    {
     "name": "stdout",
     "output_type": "stream",
     "text": [
      "[[ 5 10 15]\n",
      " [20 25 30]\n",
      " [35 40 45]]\n",
      ".........................\n",
      "[[25 30]\n",
      " [40 45]]\n"
     ]
    }
   ],
   "source": [
    "array_2d = np.array([[5,10,15], [20,25,30], [35,40,45]])\n",
    "print(array_2d)\n",
    "\n",
    "print(\".........................\")\n",
    "\n",
    "print(array_2d[1:3, 1:3])"
   ]
  },
  {
   "cell_type": "markdown",
   "metadata": {},
   "source": [
    "## 4. conditional selection"
   ]
  },
  {
   "cell_type": "code",
   "execution_count": 44,
   "metadata": {},
   "outputs": [
    {
     "name": "stdout",
     "output_type": "stream",
     "text": [
      "[1 2 3 4 5]\n",
      "[False False  True  True  True]\n",
      "[3 4 5]\n",
      "[3 4 5]\n"
     ]
    }
   ],
   "source": [
    "arr = np.arange(1,6)\n",
    "print(arr)\n",
    "\n",
    "bool_arr = arr > 2\n",
    "print(bool_arr)\n",
    "\n",
    "print(arr[bool_arr])\n",
    "\n",
    "print(arr[arr > 2])"
   ]
  },
  {
   "cell_type": "markdown",
   "metadata": {},
   "source": [
    "# 21. Numpy Operations"
   ]
  },
  {
   "cell_type": "markdown",
   "metadata": {},
   "source": [
    "## 1. array with array "
   ]
  },
  {
   "cell_type": "code",
   "execution_count": 45,
   "metadata": {},
   "outputs": [
    {
     "name": "stdout",
     "output_type": "stream",
     "text": [
      "[1 2 3 4 5]\n",
      "[ 2  4  6  8 10]\n",
      "[ 1  4  9 16 25]\n"
     ]
    }
   ],
   "source": [
    "arr = np.arange(1,6)\n",
    "print(arr)\n",
    "\n",
    "sum = arr + arr\n",
    "print(sum)\n",
    "\n",
    "multiply = arr * arr\n",
    "print(multiply)"
   ]
  },
  {
   "cell_type": "markdown",
   "metadata": {},
   "source": [
    "## 2. arrsy with scalers"
   ]
  },
  {
   "cell_type": "code",
   "execution_count": 46,
   "metadata": {},
   "outputs": [
    {
     "name": "stdout",
     "output_type": "stream",
     "text": [
      "[1 2 3 4 5]\n",
      "[101 102 103 104 105]\n",
      "[100 200 300 400 500]\n",
      "[ 1  4  9 16 25]\n"
     ]
    }
   ],
   "source": [
    "arr = np.arange(1,6)\n",
    "print(arr)\n",
    "\n",
    "a = arr + 100\n",
    "print(a)\n",
    "\n",
    "b = arr * 100\n",
    "print(b)\n",
    "\n",
    "power = arr ** 2\n",
    "print(power)"
   ]
  },
  {
   "cell_type": "markdown",
   "metadata": {},
   "source": [
    "## 3. universal array function"
   ]
  },
  {
   "cell_type": "markdown",
   "metadata": {},
   "source": [
    "### a. sqrt function"
   ]
  },
  {
   "cell_type": "code",
   "execution_count": 47,
   "metadata": {},
   "outputs": [
    {
     "name": "stdout",
     "output_type": "stream",
     "text": [
      "[1 2 3 4 5]\n",
      "[1.         1.41421356 1.73205081 2.         2.23606798]\n"
     ]
    }
   ],
   "source": [
    "arr = np.arange(1,6)\n",
    "print(arr)\n",
    "\n",
    "square_root = np.sqrt(arr)\n",
    "print(square_root)"
   ]
  },
  {
   "cell_type": "markdown",
   "metadata": {},
   "source": [
    "### b. exp function"
   ]
  },
  {
   "cell_type": "code",
   "execution_count": 48,
   "metadata": {},
   "outputs": [
    {
     "name": "stdout",
     "output_type": "stream",
     "text": [
      "[1 2 3 4 5]\n",
      "[  2.71828183   7.3890561   20.08553692  54.59815003 148.4131591 ]\n"
     ]
    }
   ],
   "source": [
    "arr = np.arange(1,6)\n",
    "print(arr)\n",
    "\n",
    "exponent = np.exp(arr)\n",
    "print(exponent)"
   ]
  },
  {
   "cell_type": "markdown",
   "metadata": {},
   "source": [
    "### c. sin function"
   ]
  },
  {
   "cell_type": "code",
   "execution_count": 49,
   "metadata": {},
   "outputs": [
    {
     "name": "stdout",
     "output_type": "stream",
     "text": [
      "[1 2 3 4 5]\n",
      "[ 0.84147098  0.90929743  0.14112001 -0.7568025  -0.95892427]\n"
     ]
    }
   ],
   "source": [
    "arr = np.arange(1,6)\n",
    "print(arr)\n",
    "\n",
    "s = np.sin(arr)\n",
    "print(s)"
   ]
  },
  {
   "cell_type": "markdown",
   "metadata": {},
   "source": [
    "### d. log function"
   ]
  },
  {
   "cell_type": "code",
   "execution_count": 50,
   "metadata": {},
   "outputs": [
    {
     "name": "stdout",
     "output_type": "stream",
     "text": [
      "[1 2 3 4 5]\n",
      "[0.         0.69314718 1.09861229 1.38629436 1.60943791]\n"
     ]
    }
   ],
   "source": [
    "arr = np.arange(1,6)\n",
    "print(arr)\n",
    "\n",
    "l = np.log(arr)\n",
    "print(l)"
   ]
  },
  {
   "cell_type": "markdown",
   "metadata": {},
   "source": [
    "### e. size function"
   ]
  },
  {
   "cell_type": "code",
   "execution_count": 51,
   "metadata": {},
   "outputs": [
    {
     "name": "stdout",
     "output_type": "stream",
     "text": [
      "[1 2 3 4 5]\n",
      "5\n"
     ]
    }
   ],
   "source": [
    "arr = np.arange(1,6)\n",
    "print(arr)\n",
    "\n",
    "size_of_arr = np.size(arr)\n",
    "print(size_of_arr)"
   ]
  },
  {
   "cell_type": "markdown",
   "metadata": {},
   "source": [
    "### f. empty function"
   ]
  },
  {
   "cell_type": "code",
   "execution_count": 52,
   "metadata": {},
   "outputs": [
    {
     "name": "stdout",
     "output_type": "stream",
     "text": [
      "[[0.69314718 1.09861229]\n",
      " [1.38629436 1.60943791]]\n"
     ]
    }
   ],
   "source": [
    "empty_matrix = np.empty((2,2))\n",
    "print(empty_matrix)"
   ]
  },
  {
   "cell_type": "markdown",
   "metadata": {},
   "source": [
    "# Numpy Other Functions"
   ]
  },
  {
   "cell_type": "markdown",
   "metadata": {},
   "source": [
    "## 1. ravel function"
   ]
  },
  {
   "cell_type": "code",
   "execution_count": 53,
   "metadata": {},
   "outputs": [
    {
     "name": "stdout",
     "output_type": "stream",
     "text": [
      "[[ 1  2  3  4]\n",
      " [ 5  6  7  8]\n",
      " [ 9 10 11 12]]\n",
      "[ 1  2  3  4  5  6  7  8  9 10 11 12]\n"
     ]
    }
   ],
   "source": [
    "arr1 = np.arange(1,13).reshape(3,4)\n",
    "print(arr1)\n",
    "\n",
    "arr_1d = np.ravel(arr1)\n",
    "print(arr_1d)\n",
    "\n",
    "# print(\".......................\")\n",
    "# # below code will also make changes in orignal matrix\n",
    "# arr_1d[0] = 99\n",
    "\n",
    "# print(arr1)\n",
    "# print(arr_1d)"
   ]
  },
  {
   "cell_type": "markdown",
   "metadata": {},
   "source": [
    "## 2. flatten function"
   ]
  },
  {
   "cell_type": "code",
   "execution_count": 54,
   "metadata": {},
   "outputs": [
    {
     "name": "stdout",
     "output_type": "stream",
     "text": [
      "[[ 1  2  3  4]\n",
      " [ 5  6  7  8]\n",
      " [ 9 10 11 12]]\n",
      "[ 1  2  3  4  5  6  7  8  9 10 11 12]\n"
     ]
    }
   ],
   "source": [
    "arr2 = np.arange(1,13).reshape(3,4)\n",
    "print(arr2)\n",
    "\n",
    "arr_1d = arr2.flatten()\n",
    "print(arr_1d)\n",
    "\n",
    "# # below code will not make changes in orignal matrix...it will only change value in 1D array\n",
    "# print(\"..................................\")\n",
    "# arr_1d[1] = 88\n",
    "\n",
    "# print(arr2)\n",
    "# print(arr_1d)"
   ]
  },
  {
   "cell_type": "markdown",
   "metadata": {},
   "source": [
    "## 3. transpose function "
   ]
  },
  {
   "cell_type": "code",
   "execution_count": 55,
   "metadata": {},
   "outputs": [
    {
     "name": "stdout",
     "output_type": "stream",
     "text": [
      "[[1 2 3]\n",
      " [4 5 6]\n",
      " [7 8 9]]\n",
      "[[1 4 7]\n",
      " [2 5 8]\n",
      " [3 6 9]]\n",
      "[[1 4 7]\n",
      " [2 5 8]\n",
      " [3 6 9]]\n"
     ]
    }
   ],
   "source": [
    "matrix = np.arange(1,10).reshape(3,3)\n",
    "print(matrix)\n",
    "\n",
    "# Both trans1 and trans 2 does the same task\n",
    "trans1 = np.transpose(matrix)\n",
    "trans2 = matrix.T\n",
    "\n",
    "print(trans1)\n",
    "print(trans2)"
   ]
  },
  {
   "cell_type": "markdown",
   "metadata": {},
   "source": [
    "## 4. matrix multiplication using @ or dot funcrion"
   ]
  },
  {
   "cell_type": "code",
   "execution_count": 56,
   "metadata": {},
   "outputs": [
    {
     "name": "stdout",
     "output_type": "stream",
     "text": [
      "[[1 2 3]\n",
      " [4 5 6]\n",
      " [7 8 9]]\n",
      "[[10 11 12]\n",
      " [13 14 15]\n",
      " [16 17 18]]\n",
      "[[ 84  90  96]\n",
      " [201 216 231]\n",
      " [318 342 366]]\n",
      "[[ 84  90  96]\n",
      " [201 216 231]\n",
      " [318 342 366]]\n"
     ]
    }
   ],
   "source": [
    "matrix1 = np.arange(1,10).reshape(3,3)\n",
    "matrix2 = np.arange(10,19).reshape(3,3)\n",
    "\n",
    "print(matrix1)\n",
    "print(matrix2)\n",
    "\n",
    "# below both the code does same task\n",
    "multiplication1 = matrix1 @ matrix2\n",
    "print(multiplication1)\n",
    "\n",
    "multiplication2 = matrix1.dot(matrix2)\n",
    "print(multiplication2)"
   ]
  },
  {
   "cell_type": "markdown",
   "metadata": {},
   "source": [
    "## 5. max function"
   ]
  },
  {
   "cell_type": "code",
   "execution_count": 57,
   "metadata": {},
   "outputs": [
    {
     "name": "stdout",
     "output_type": "stream",
     "text": [
      "[[ 1  2  3  4  5]\n",
      " [ 6  7  8  9 10]\n",
      " [11 12 13 14 15]\n",
      " [16 17 18 19 20]\n",
      " [21 22 23 24 25]]\n",
      "[ 5 10 15 20 25]\n",
      "[21 22 23 24 25]\n"
     ]
    }
   ],
   "source": [
    "matrix = np.arange(1,26).reshape(5,5)\n",
    "print(matrix)\n",
    "\n",
    "# finding max value in each row\n",
    "max1 = np.max(matrix, axis = 1)\n",
    "print(max1)\n",
    "\n",
    "# finding max values in each column\n",
    "max2 = np.max(matrix, axis = 0)\n",
    "print(max2)"
   ]
  },
  {
   "cell_type": "markdown",
   "metadata": {},
   "source": [
    "## 6. min function"
   ]
  },
  {
   "cell_type": "code",
   "execution_count": 58,
   "metadata": {},
   "outputs": [
    {
     "name": "stdout",
     "output_type": "stream",
     "text": [
      "[[ 1  2  3  4  5]\n",
      " [ 6  7  8  9 10]\n",
      " [11 12 13 14 15]\n",
      " [16 17 18 19 20]\n",
      " [21 22 23 24 25]\n",
      " [26 27 28 29 30]\n",
      " [31 32 33 34 35]\n",
      " [36 37 38 39 40]\n",
      " [41 42 43 44 45]\n",
      " [46 47 48 49 50]]\n",
      "[ 1  6 11 16 21 26 31 36 41 46]\n",
      "[1 2 3 4 5]\n"
     ]
    }
   ],
   "source": [
    "matrix = np.arange(1,51).reshape(10,5)\n",
    "print(matrix)\n",
    "\n",
    "# finding min value in each row\n",
    "min1 = np.min(matrix, axis = 1)\n",
    "print(min1)\n",
    "\n",
    "# finding min value in each column\n",
    "min2 = np.min(matrix, axis = 0)\n",
    "print(min2)"
   ]
  },
  {
   "cell_type": "markdown",
   "metadata": {},
   "source": [
    "## 7. sum function"
   ]
  },
  {
   "cell_type": "code",
   "execution_count": 59,
   "metadata": {},
   "outputs": [
    {
     "name": "stdout",
     "output_type": "stream",
     "text": [
      "[[1 2 3]\n",
      " [4 5 6]\n",
      " [7 8 9]]\n",
      "45\n",
      "[ 6 15 24]\n",
      "[12 15 18]\n"
     ]
    }
   ],
   "source": [
    "matrix = np.arange(1,10).reshape(3,3)\n",
    "print(matrix)\n",
    "\n",
    "# finding the sum of all the elements in matrix\n",
    "total = np.sum(matrix)\n",
    "print(total)\n",
    "\n",
    "# sum of all the rows\n",
    "sum_of_rows = np.sum(matrix, axis = 1)\n",
    "print(sum_of_rows)\n",
    "\n",
    "# sum of all the columns\n",
    "sum_of_columns = np.sum(matrix, axis = 0)\n",
    "print(sum_of_columns)"
   ]
  },
  {
   "cell_type": "markdown",
   "metadata": {},
   "source": [
    "## 8. mean function"
   ]
  },
  {
   "cell_type": "code",
   "execution_count": 60,
   "metadata": {},
   "outputs": [
    {
     "name": "stdout",
     "output_type": "stream",
     "text": [
      "[[1 2 3]\n",
      " [4 5 6]\n",
      " [7 8 9]]\n",
      "5.0\n"
     ]
    }
   ],
   "source": [
    "matrix = np.arange(1,10).reshape(3,3)\n",
    "print(matrix)\n",
    "\n",
    "# average of matrix\n",
    "avg = np.average(matrix)\n",
    "print(avg)"
   ]
  },
  {
   "cell_type": "markdown",
   "metadata": {},
   "source": [
    "## 10. itemsize method"
   ]
  },
  {
   "cell_type": "code",
   "execution_count": 61,
   "metadata": {},
   "outputs": [
    {
     "name": "stdout",
     "output_type": "stream",
     "text": [
      "[ 1  2  3  4  5  6  7  8  9 10 11 12 13 14 15 16 17 18 19 20]\n",
      "8\n"
     ]
    },
    {
     "data": {
      "text/plain": [
       "dtype('int64')"
      ]
     },
     "execution_count": 61,
     "metadata": {},
     "output_type": "execute_result"
    }
   ],
   "source": [
    "arr = np.arange(1,21)\n",
    "print(arr)\n",
    "\n",
    "size_of_element = arr.itemsize\n",
    "print(size_of_element)\n",
    "\n",
    "arr.dtype"
   ]
  },
  {
   "cell_type": "markdown",
   "metadata": {},
   "source": [
    "## 11. concatenate function"
   ]
  },
  {
   "cell_type": "code",
   "execution_count": 62,
   "metadata": {},
   "outputs": [
    {
     "name": "stdout",
     "output_type": "stream",
     "text": [
      "[[1 2 3]\n",
      " [4 5 6]\n",
      " [7 8 9]]\n",
      "[[10 11 12]\n",
      " [13 14 15]\n",
      " [16 17 18]]\n",
      "[[ 1  2  3]\n",
      " [ 4  5  6]\n",
      " [ 7  8  9]\n",
      " [10 11 12]\n",
      " [13 14 15]\n",
      " [16 17 18]]\n",
      "[[ 1  2  3 10 11 12]\n",
      " [ 4  5  6 13 14 15]\n",
      " [ 7  8  9 16 17 18]]\n"
     ]
    }
   ],
   "source": [
    "arr1 = np.arange(1,10).reshape(3,3)\n",
    "arr2 = np.arange(10,19).reshape(3,3)\n",
    "\n",
    "print(arr1)\n",
    "print(arr2)\n",
    "\n",
    "# colum wise concatenation\n",
    "concat1 = np.concatenate((arr1,arr2))\n",
    "print(concat1)\n",
    "\n",
    "# row wise concatenation\n",
    "concat2 = np.concatenate((arr1,arr2),axis = 1)\n",
    "print(concat2)"
   ]
  },
  {
   "cell_type": "markdown",
   "metadata": {},
   "source": [
    "## 12. vstack (column wise concatenation) "
   ]
  },
  {
   "cell_type": "code",
   "execution_count": 63,
   "metadata": {},
   "outputs": [
    {
     "name": "stdout",
     "output_type": "stream",
     "text": [
      "[[ 1  2  3]\n",
      " [ 4  5  6]\n",
      " [ 7  8  9]\n",
      " [10 11 12]\n",
      " [13 14 15]\n",
      " [16 17 18]]\n"
     ]
    }
   ],
   "source": [
    "arr1 = np.arange(1,10).reshape(3,3)\n",
    "arr2 = np.arange(10,19).reshape(3,3)\n",
    "\n",
    "concat = np.vstack((arr1,arr2))\n",
    "print(concat)"
   ]
  },
  {
   "cell_type": "markdown",
   "metadata": {},
   "source": [
    "## 13. hstack (row wise concatenation)"
   ]
  },
  {
   "cell_type": "code",
   "execution_count": 64,
   "metadata": {},
   "outputs": [
    {
     "name": "stdout",
     "output_type": "stream",
     "text": [
      "[[ 1  2  3 10 11 12]\n",
      " [ 4  5  6 13 14 15]\n",
      " [ 7  8  9 16 17 18]]\n"
     ]
    }
   ],
   "source": [
    "arr1 = np.arange(1,10).reshape(3,3)\n",
    "arr2 = np.arange(10,19).reshape(3,3)\n",
    "\n",
    "concat = np.hstack((arr1,arr2))\n",
    "print(concat)"
   ]
  },
  {
   "cell_type": "markdown",
   "metadata": {},
   "source": [
    "## 14. split function"
   ]
  },
  {
   "cell_type": "code",
   "execution_count": 65,
   "metadata": {},
   "outputs": [
    {
     "name": "stdout",
     "output_type": "stream",
     "text": [
      "[[ 1  2  3  4]\n",
      " [ 5  6  7  8]\n",
      " [ 9 10 11 12]\n",
      " [13 14 15 16]]\n",
      "[array([[1, 2, 3, 4],\n",
      "       [5, 6, 7, 8]]), array([[ 9, 10, 11, 12],\n",
      "       [13, 14, 15, 16]])]\n",
      "<class 'list'>\n",
      "[array([[ 1,  2],\n",
      "       [ 5,  6],\n",
      "       [ 9, 10],\n",
      "       [13, 14]]), array([[ 3,  4],\n",
      "       [ 7,  8],\n",
      "       [11, 12],\n",
      "       [15, 16]])]\n"
     ]
    }
   ],
   "source": [
    "matrix = np.arange(1,17).reshape(4,4)\n",
    "print(matrix)\n",
    "\n",
    "# column wise split\n",
    "splitted_matrix1 = np.split(matrix, 2)\n",
    "print(splitted_matrix1)\n",
    "\n",
    "print(type(splitted_matrix1))\n",
    "\n",
    "# row wise split\n",
    "splitted_matrix2 = np.split(matrix, 2, axis = 1)\n",
    "print(splitted_matrix2)"
   ]
  },
  {
   "cell_type": "markdown",
   "metadata": {},
   "source": [
    "### split on 1D array"
   ]
  },
  {
   "cell_type": "code",
   "execution_count": 66,
   "metadata": {},
   "outputs": [
    {
     "name": "stdout",
     "output_type": "stream",
     "text": [
      "[1 2 3 4 5 6 7 8 9]\n",
      "[array([1, 2]), array([3, 4]), array([5, 6, 7, 8, 9])]\n"
     ]
    }
   ],
   "source": [
    "arr = np.array([1,2,3,4,5,6,7,8,9])\n",
    "print(arr)\n",
    "\n",
    "splitted_1d = np.split(arr, [2,4])\n",
    "print(splitted_1d)"
   ]
  },
  {
   "cell_type": "markdown",
   "metadata": {},
   "source": [
    "## 15. randint function"
   ]
  },
  {
   "cell_type": "code",
   "execution_count": 67,
   "metadata": {},
   "outputs": [
    {
     "name": "stdout",
     "output_type": "stream",
     "text": [
      "[[8 7 1 8]\n",
      " [3 3 9 8]\n",
      " [4 3 3 8]]\n"
     ]
    }
   ],
   "source": [
    "out = np.random.randint(1,10,(3,4))\n",
    "print(out)"
   ]
  },
  {
   "cell_type": "markdown",
   "metadata": {},
   "source": [
    "## 16. seed function"
   ]
  },
  {
   "cell_type": "code",
   "execution_count": 68,
   "metadata": {},
   "outputs": [
    {
     "name": "stdout",
     "output_type": "stream",
     "text": [
      "[[10 37]\n",
      " [16  1]]\n",
      "[[29 26]\n",
      " [30 49]]\n",
      "[[10 37]\n",
      " [16  1]]\n"
     ]
    }
   ],
   "source": [
    "np.random.seed(10)\n",
    "first = np.random.randint(1,50,(2,2))\n",
    "print(first)\n",
    "\n",
    "second = np.random.randint(1,50,(2,2))\n",
    "print(second)\n",
    "\n",
    "np.random.seed(10)\n",
    "first_again = np.random.randint(1,50,(2,2))\n",
    "print(first_again)"
   ]
  },
  {
   "cell_type": "markdown",
   "metadata": {},
   "source": [
    "## 17. rand function "
   ]
  },
  {
   "cell_type": "code",
   "execution_count": 69,
   "metadata": {},
   "outputs": [
    {
     "name": "stdout",
     "output_type": "stream",
     "text": [
      "[0.44301495 0.83191136 0.58332174 0.02517173 0.70920801]\n"
     ]
    }
   ],
   "source": [
    "elements = np.random.rand(5)\n",
    "print(elements)"
   ]
  },
  {
   "cell_type": "markdown",
   "metadata": {},
   "source": [
    "## 18. choice function"
   ]
  },
  {
   "cell_type": "code",
   "execution_count": 70,
   "metadata": {},
   "outputs": [
    {
     "name": "stdout",
     "output_type": "stream",
     "text": [
      "[10  1 43 41 37 17 37 48 12 25]\n",
      "1\n",
      "[12 37  1]\n"
     ]
    }
   ],
   "source": [
    "arr = np.random.randint(1,50,10)\n",
    "print(arr)\n",
    "\n",
    "choosed = np.random.choice(arr)\n",
    "print(choosed)\n",
    "\n",
    "choosed2 = np.random.choice(arr, size = 3)\n",
    "print(choosed2)"
   ]
  },
  {
   "cell_type": "markdown",
   "metadata": {},
   "source": [
    "## 19. shuffle and permutation function"
   ]
  },
  {
   "cell_type": "code",
   "execution_count": 71,
   "metadata": {},
   "outputs": [
    {
     "name": "stdout",
     "output_type": "stream",
     "text": [
      "[14  6 14 26 14 29 23 31 31 26]\n",
      "[26 23 31 31 14 29 14 26 14  6]\n"
     ]
    }
   ],
   "source": [
    "arr = np.random.randint(1,50,10)\n",
    "print(arr)\n",
    "\n",
    "shuffled_arr1 = np.random.permutation(arr)\n",
    "print(shuffled_arr1)\n",
    "\n",
    "# shuffled_arr2 = np.random.shuffle(arr)\n",
    "# print(shuffled_arr2)"
   ]
  },
  {
   "cell_type": "markdown",
   "metadata": {},
   "source": [
    "## 20. add method "
   ]
  },
  {
   "cell_type": "code",
   "execution_count": 72,
   "metadata": {},
   "outputs": [
    {
     "name": "stdout",
     "output_type": "stream",
     "text": [
      "NeerajPaliwal\n"
     ]
    }
   ],
   "source": [
    "first = \"Neeraj\"\n",
    "second = \"Paliwal\"\n",
    "\n",
    "full_name = np.char.add(first,second)\n",
    "print(full_name)"
   ]
  },
  {
   "cell_type": "markdown",
   "metadata": {},
   "source": [
    "## 21. split method of char"
   ]
  },
  {
   "cell_type": "code",
   "execution_count": 82,
   "metadata": {},
   "outputs": [
    {
     "name": "stdout",
     "output_type": "stream",
     "text": [
      "['Neeraj', 'kumar', 'paliwal']\n"
     ]
    },
    {
     "data": {
      "text/plain": [
       "numpy.ndarray"
      ]
     },
     "execution_count": 82,
     "metadata": {},
     "output_type": "execute_result"
    }
   ],
   "source": [
    "string = \"Neeraj kumar paliwal\"\n",
    "splitted_string = np.char.split(string)\n",
    "\n",
    "print(splitted_string)\n",
    "\n",
    "type(splitted_string)\n"
   ]
  },
  {
   "cell_type": "markdown",
   "metadata": {},
   "source": [
    "## 22. splitlines method"
   ]
  },
  {
   "cell_type": "code",
   "execution_count": 86,
   "metadata": {},
   "outputs": [
    {
     "name": "stdout",
     "output_type": "stream",
     "text": [
      "['Neeraj', 'Kumar', 'Paliwal']\n"
     ]
    },
    {
     "data": {
      "text/plain": [
       "numpy.ndarray"
      ]
     },
     "execution_count": 86,
     "metadata": {},
     "output_type": "execute_result"
    }
   ],
   "source": [
    "string = \"Neeraj\\nKumar\\nPaliwal\"\n",
    "splitted1 = np.char.splitlines(string)\n",
    "\n",
    "print(splitted1)\n",
    "\n",
    "type(splitted1)"
   ]
  },
  {
   "cell_type": "markdown",
   "metadata": {},
   "source": [
    "## 23. join method"
   ]
  },
  {
   "cell_type": "code",
   "execution_count": 89,
   "metadata": {},
   "outputs": [
    {
     "name": "stdout",
     "output_type": "stream",
     "text": [
      "['d:m:y' 'd-m-y']\n"
     ]
    }
   ],
   "source": [
    "str1 = \"dmy\"\n",
    "str2 = \"dmy\"\n",
    "\n",
    "joined = np.char.join([\":\",\"-\"],[str1,str2])\n",
    "print(joined)"
   ]
  },
  {
   "cell_type": "markdown",
   "metadata": {},
   "source": [
    "## 24. replace method"
   ]
  },
  {
   "cell_type": "code",
   "execution_count": 91,
   "metadata": {},
   "outputs": [
    {
     "name": "stdout",
     "output_type": "stream",
     "text": [
      "Neeraj kumar paliwal\n"
     ]
    }
   ],
   "source": [
    "name = \"Neeraj ji paliwal\"\n",
    "\n",
    "out = np.char.replace(name,\"ji\",\"kumar\")\n",
    "print(out)"
   ]
  },
  {
   "cell_type": "markdown",
   "metadata": {},
   "source": [
    "## 25. equal method"
   ]
  },
  {
   "cell_type": "code",
   "execution_count": 95,
   "metadata": {},
   "outputs": [
    {
     "name": "stdout",
     "output_type": "stream",
     "text": [
      "True\n",
      "False\n"
     ]
    }
   ],
   "source": [
    "str1 = \"Neeraj\"\n",
    "str2 = \"Neeraj\"\n",
    "\n",
    "str3 = \"kumar\"\n",
    "str4 = \"paliwal\"\n",
    "\n",
    "out1 = np.char.equal(str1,str2)\n",
    "print(out1)\n",
    "\n",
    "out2 = np.char.equal(str3,str4)\n",
    "print(out2)"
   ]
  },
  {
   "cell_type": "markdown",
   "metadata": {},
   "source": [
    "## 26. count method"
   ]
  },
  {
   "cell_type": "code",
   "execution_count": 96,
   "metadata": {},
   "outputs": [
    {
     "name": "stdout",
     "output_type": "stream",
     "text": [
      "4\n"
     ]
    }
   ],
   "source": [
    "str = \"Neeraj kumar paliwal\"\n",
    "\n",
    "count = np.char.count(str, \"a\")\n",
    "print(count)"
   ]
  },
  {
   "cell_type": "markdown",
   "metadata": {},
   "source": [
    "## 27. find method"
   ]
  },
  {
   "cell_type": "code",
   "execution_count": 98,
   "metadata": {},
   "outputs": [
    {
     "name": "stdout",
     "output_type": "stream",
     "text": [
      "4\n"
     ]
    }
   ],
   "source": [
    "string = \"Neeraj Kumar Paliwal\"\n",
    "\n",
    "out = np.char.find(string, \"a\")\n",
    "print(out)"
   ]
  },
  {
   "cell_type": "code",
   "execution_count": null,
   "metadata": {},
   "outputs": [],
   "source": []
  }
 ],
 "metadata": {
  "kernelspec": {
   "display_name": "Python 3",
   "language": "python",
   "name": "python3"
  },
  "language_info": {
   "codemirror_mode": {
    "name": "ipython",
    "version": 3
   },
   "file_extension": ".py",
   "mimetype": "text/x-python",
   "name": "python",
   "nbconvert_exporter": "python",
   "pygments_lexer": "ipython3",
   "version": "3.7.3"
  }
 },
 "nbformat": 4,
 "nbformat_minor": 2
}
